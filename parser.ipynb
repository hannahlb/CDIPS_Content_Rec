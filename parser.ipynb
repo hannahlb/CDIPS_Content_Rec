{
 "cells": [
  {
   "cell_type": "code",
   "execution_count": 1,
   "metadata": {
    "collapsed": true
   },
   "outputs": [],
   "source": [
    "import pandas as pd\n",
    "import numpy as np\n",
    "import os\n",
    "os.chdir('data')"
   ]
  },
  {
   "cell_type": "code",
   "execution_count": 2,
   "metadata": {
    "collapsed": true
   },
   "outputs": [],
   "source": [
    "xmlfile='Wikipedia-20170717213140.xml'\n",
    "outfile=xmlfile.replace(\"xml\",\"csv\")\n",
    "data=[]"
   ]
  },
  {
   "cell_type": "markdown",
   "metadata": {},
   "source": [
    "# Parse file\n",
    "\n",
    "Loop over lines in the XML file and look for appearances of:\n",
    "* title\n",
    "* id\n",
    "* text\n",
    "\n",
    "At each step, save the variables into a dictionary.\n",
    "\n",
    "After reading the file, the dictionary \"data\" is saved into a \"csv\" file.\n"
   ]
  },
  {
   "cell_type": "code",
   "execution_count": 3,
   "metadata": {
    "collapsed": true
   },
   "outputs": [],
   "source": [
    "f = open(xmlfile,\"r\")\n",
    "\n",
    "state=0\n",
    "page={}\n",
    "for line in f.readlines():\n",
    "    if(state==0):\n",
    "        # Look for keywork \"page\" and jump to state=1\n",
    "        if \"page\" in line:\n",
    "            state=1\n",
    "    elif(state==1):\n",
    "        # Look for keyword \"title\" and jump to state=2\n",
    "        # store \"title\"\n",
    "        if \"title\" in line:\n",
    "            ll=line.replace(\"<title>\",\"\")\n",
    "            title=ll.replace(\"</title>\",\"\").strip()\n",
    "            page['title']=title\n",
    "            #print(title)\n",
    "            state=2\n",
    "    elif(state==2):\n",
    "        # Look for keywork \"id\" and jump to state=3\n",
    "        # store \"id\"\n",
    "        if \"id\" in line:\n",
    "            ll=line.replace(\"<id>\",\"\")\n",
    "            aid=ll.replace(\"</id>\",\"\").strip()\n",
    "            page['id']=aid\n",
    "            #print(aid)\n",
    "            state=3\n",
    "    elif state==3:\n",
    "        # Look for keywork \"<text\"\n",
    "        if (\"<text\" in line):\n",
    "            line=line.replace(\"<text\",\"\").strip()\n",
    "            ll=line.split(\">\")\n",
    "            text=ll[1]\n",
    "            if \"</text>\" in text:\n",
    "                # If found </text> then jump to state=5, and store text\n",
    "                text=text.replace(\"</text>\",\"\")\n",
    "                state=5\n",
    "            else:\n",
    "                state=4\n",
    "    elif state==4:\n",
    "        # If found </text> then jump to state=5, and store text\n",
    "        if \"</text>\" in line:\n",
    "            ll=line.replace(\"</text>\",\"\").strip()\n",
    "            text=text+ll\n",
    "            state=5\n",
    "        else:\n",
    "            text=text+line.strip()\n",
    "    elif(state==5):\n",
    "        # \"</page>\" return to the top (state=0)\n",
    "        # add current page dictionary into the list.\n",
    "        if \"</page>\" in line:\n",
    "            page['text']=text\n",
    "            #print(text)\n",
    "            data.append(page)\n",
    "            page={}\n",
    "            state=0\n",
    "            \n",
    "f.close()"
   ]
  },
  {
   "cell_type": "code",
   "execution_count": 4,
   "metadata": {},
   "outputs": [
    {
     "data": {
      "text/html": [
       "<div>\n",
       "<style>\n",
       "    .dataframe thead tr:only-child th {\n",
       "        text-align: right;\n",
       "    }\n",
       "\n",
       "    .dataframe thead th {\n",
       "        text-align: left;\n",
       "    }\n",
       "\n",
       "    .dataframe tbody tr th {\n",
       "        vertical-align: top;\n",
       "    }\n",
       "</style>\n",
       "<table border=\"1\" class=\"dataframe\">\n",
       "  <thead>\n",
       "    <tr style=\"text-align: right;\">\n",
       "      <th></th>\n",
       "      <th>id</th>\n",
       "      <th>text</th>\n",
       "      <th>title</th>\n",
       "    </tr>\n",
       "  </thead>\n",
       "  <tbody>\n",
       "    <tr>\n",
       "      <th>0</th>\n",
       "      <td>970284</td>\n",
       "      <td>{{Cat main|Conformation show|Show dog}}{{porta...</td>\n",
       "      <td>Category:Dog shows and showing</td>\n",
       "    </tr>\n",
       "    <tr>\n",
       "      <th>1</th>\n",
       "      <td>972913</td>\n",
       "      <td>This is a collection of articles about the hea...</td>\n",
       "      <td>Category:Dog health</td>\n",
       "    </tr>\n",
       "    <tr>\n",
       "      <th>2</th>\n",
       "      <td>970251</td>\n",
       "      <td>This is an automatically collected list of art...</td>\n",
       "      <td>Category:Dog organizations</td>\n",
       "    </tr>\n",
       "    <tr>\n",
       "      <th>3</th>\n",
       "      <td>729436</td>\n",
       "      <td>This is an automatically accumulated list of a...</td>\n",
       "      <td>Category:Dog sports</td>\n",
       "    </tr>\n",
       "    <tr>\n",
       "      <th>4</th>\n",
       "      <td>978163</td>\n",
       "      <td>[[Category:Dogs|Pets]][[Category:Mammals as pe...</td>\n",
       "      <td>Category:Dogs as pets</td>\n",
       "    </tr>\n",
       "  </tbody>\n",
       "</table>\n",
       "</div>"
      ],
      "text/plain": [
       "       id                                               text  \\\n",
       "0  970284  {{Cat main|Conformation show|Show dog}}{{porta...   \n",
       "1  972913  This is a collection of articles about the hea...   \n",
       "2  970251  This is an automatically collected list of art...   \n",
       "3  729436  This is an automatically accumulated list of a...   \n",
       "4  978163  [[Category:Dogs|Pets]][[Category:Mammals as pe...   \n",
       "\n",
       "                            title  \n",
       "0  Category:Dog shows and showing  \n",
       "1             Category:Dog health  \n",
       "2      Category:Dog organizations  \n",
       "3             Category:Dog sports  \n",
       "4           Category:Dogs as pets  "
      ]
     },
     "execution_count": 4,
     "metadata": {},
     "output_type": "execute_result"
    }
   ],
   "source": [
    "# Convert list of dictionaries to dataframe\n",
    "df=pd.DataFrame(data)\n",
    "\n",
    "df.to_csv(outfile)\n",
    "df.head()"
   ]
  },
  {
   "cell_type": "markdown",
   "metadata": {},
   "source": [
    "# Parsing xml using ElementTree\n",
    "\n",
    "For a short tutorial, see: https://docs.python.org/3/library/xml.etree.elementtree.html#module-xml.etree.ElementTree"
   ]
  },
  {
   "cell_type": "code",
   "execution_count": 5,
   "metadata": {
    "collapsed": true
   },
   "outputs": [],
   "source": [
    "import xml.etree.ElementTree as ET"
   ]
  },
  {
   "cell_type": "code",
   "execution_count": 6,
   "metadata": {
    "collapsed": true
   },
   "outputs": [],
   "source": [
    "tree = ET.parse(xmlfile)\n",
    "root = tree.getroot()"
   ]
  },
  {
   "cell_type": "code",
   "execution_count": 7,
   "metadata": {},
   "outputs": [
    {
     "name": "stdout",
     "output_type": "stream",
     "text": [
      "{http://www.mediawiki.org/xml/export-0.10/}mediawiki\n",
      "{'{http://www.w3.org/2001/XMLSchema-instance}schemaLocation': 'http://www.mediawiki.org/xml/export-0.10/ http://www.mediawiki.org/xml/export-0.10.xsd', 'version': '0.10', '{http://www.w3.org/XML/1998/namespace}lang': 'en'}\n"
     ]
    }
   ],
   "source": [
    "# as an Element, root has a tag and a dictionary of attributes\n",
    "print(root.tag)\n",
    "print(root.attrib)"
   ]
  },
  {
   "cell_type": "code",
   "execution_count": 8,
   "metadata": {},
   "outputs": [
    {
     "name": "stdout",
     "output_type": "stream",
     "text": [
      "{http://www.mediawiki.org/xml/export-0.10/}siteinfo\n",
      "{http://www.mediawiki.org/xml/export-0.10/}page\n",
      "{http://www.mediawiki.org/xml/export-0.10/}page\n",
      "{http://www.mediawiki.org/xml/export-0.10/}page\n",
      "{http://www.mediawiki.org/xml/export-0.10/}page\n",
      "{http://www.mediawiki.org/xml/export-0.10/}page\n",
      "{http://www.mediawiki.org/xml/export-0.10/}page\n",
      "{http://www.mediawiki.org/xml/export-0.10/}page\n",
      "{http://www.mediawiki.org/xml/export-0.10/}page\n",
      "{http://www.mediawiki.org/xml/export-0.10/}page\n"
     ]
    }
   ],
   "source": [
    "# root also has children nodes over which we can iterate\n",
    "# examine first 10 entries\n",
    "for child in root[:10]:\n",
    "     print(child.tag)"
   ]
  },
  {
   "cell_type": "code",
   "execution_count": 9,
   "metadata": {},
   "outputs": [
    {
     "name": "stdout",
     "output_type": "stream",
     "text": [
      "[<Element '{http://www.mediawiki.org/xml/export-0.10/}siteinfo' at 0x1173221d8>, <Element '{http://www.mediawiki.org/xml/export-0.10/}page' at 0x117465d18>, <Element '{http://www.mediawiki.org/xml/export-0.10/}page' at 0x1174015e8>, <Element '{http://www.mediawiki.org/xml/export-0.10/}page' at 0x117401c28>, <Element '{http://www.mediawiki.org/xml/export-0.10/}page' at 0x117404278>, <Element '{http://www.mediawiki.org/xml/export-0.10/}page' at 0x117404908>, <Element '{http://www.mediawiki.org/xml/export-0.10/}page' at 0x117404ef8>, <Element '{http://www.mediawiki.org/xml/export-0.10/}page' at 0x1174085e8>, <Element '{http://www.mediawiki.org/xml/export-0.10/}page' at 0x117408958>, <Element '{http://www.mediawiki.org/xml/export-0.10/}page' at 0x11740c048>]\n"
     ]
    }
   ],
   "source": [
    "# alternate way to get all children from root\n",
    "root_children = root.getchildren()\n",
    "print(root_children[:10])"
   ]
  },
  {
   "cell_type": "code",
   "execution_count": 10,
   "metadata": {},
   "outputs": [
    {
     "name": "stdout",
     "output_type": "stream",
     "text": [
      "{http://www.mediawiki.org/xml/export-0.10/}siteinfo \n",
      "\n",
      "<Element '{http://www.mediawiki.org/xml/export-0.10/}siteinfo' at 0x1173221d8> \n",
      "\n",
      "Wikipedia\n",
      "enwiki\n",
      "https://en.wikipedia.org/wiki/Main_Page\n",
      "MediaWiki 1.30.0-wmf.9\n",
      "first-letter\n",
      "\n",
      "      \n"
     ]
    }
   ],
   "source": [
    "# Children are nested, and we can access specific child nodes by index\n",
    "test_entry = 0\n",
    "\n",
    "print(root.getchildren()[test_entry].tag, '\\n')\n",
    "\n",
    "print(root[test_entry],'\\n')\n",
    "\n",
    "for i in range(len(root[test_entry])):\n",
    "    print(root[test_entry][i].text)"
   ]
  },
  {
   "cell_type": "code",
   "execution_count": 11,
   "metadata": {
    "collapsed": true
   },
   "outputs": [],
   "source": [
    "def get_child_type(child):\n",
    "    '''returns type of child, e.g. siteinfo, page'''\n",
    "    return child.tag.split('}')[1]\n",
    "\n",
    "def strip_root(root):\n",
    "    '''\n",
    "    Input\n",
    "    root : xml.etree.ElementTree.Element\n",
    "    \n",
    "    Output\n",
    "    list of strings on which root can be parsed\n",
    "    '''\n",
    "    assert ET.iselement(root)\n",
    "    children = root.getchildren()\n",
    "    child_types = np.unique([get_child_type(child) for child in root.getchildren()])"
   ]
  },
  {
   "cell_type": "code",
   "execution_count": 12,
   "metadata": {},
   "outputs": [
    {
     "name": "stdout",
     "output_type": "stream",
     "text": [
      "['page' 'siteinfo']\n"
     ]
    }
   ],
   "source": [
    "child_types = np.unique([get_child_type(child) for child in root.getchildren()])\n",
    "print(child_types)"
   ]
  },
  {
   "cell_type": "code",
   "execution_count": null,
   "metadata": {
    "collapsed": true
   },
   "outputs": [],
   "source": []
  }
 ],
 "metadata": {
  "kernelspec": {
   "display_name": "Python 3",
   "language": "python",
   "name": "python3"
  },
  "language_info": {
   "codemirror_mode": {
    "name": "ipython",
    "version": 3
   },
   "file_extension": ".py",
   "mimetype": "text/x-python",
   "name": "python",
   "nbconvert_exporter": "python",
   "pygments_lexer": "ipython3",
   "version": "3.6.1"
  }
 },
 "nbformat": 4,
 "nbformat_minor": 2
}
