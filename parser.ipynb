{
 "cells": [
  {
   "cell_type": "code",
   "execution_count": 1,
   "metadata": {
    "collapsed": true
   },
   "outputs": [],
   "source": [
    "import os, sys\n",
    "import pandas as pd\n",
    "import numpy as np\n",
    "import xml.etree.ElementTree as ET\n",
    "sys.path.insert(0, 'scripts')\n",
    "from WikiPage import WikiPage"
   ]
  },
  {
   "cell_type": "code",
   "execution_count": 2,
   "metadata": {
    "collapsed": true
   },
   "outputs": [],
   "source": [
    "os.chdir('data')\n",
    "#xmlfile = 'Wikipedia-20170717213140.xml'\n",
    "xmlfile='Wikipedia-fish.xml'"
   ]
  },
  {
   "cell_type": "markdown",
   "metadata": {},
   "source": [
    "# Parse file\n",
    "\n",
    "Loop over lines in the XML file and look for appearances of:\n",
    "* title\n",
    "* id\n",
    "* text\n",
    "\n",
    "At each step, save the variables into a dictionary.\n",
    "\n",
    "After reading the file, the dictionary \"data\" is saved into a \"csv\" file.\n"
   ]
  },
  {
   "cell_type": "code",
   "execution_count": 3,
   "metadata": {
    "collapsed": true
   },
   "outputs": [],
   "source": [
    "outfile = xmlfile.replace(\"xml\",\"csv\")\n",
    "data = []"
   ]
  },
  {
   "cell_type": "raw",
   "metadata": {
    "collapsed": true
   },
   "source": [
    "f = open(xmlfile,\"r\")\n",
    "\n",
    "state=0\n",
    "page={}\n",
    "for line in f.readlines():\n",
    "    if(state==0):\n",
    "        # Look for keywork \"page\" and jump to state=1\n",
    "        if \"page\" in line:\n",
    "            state=1\n",
    "    elif(state==1):\n",
    "        # Look for keyword \"title\" and jump to state=2\n",
    "        # store \"title\"\n",
    "        if \"title\" in line:\n",
    "            ll=line.replace(\"<title>\",\"\")\n",
    "            title=ll.replace(\"</title>\",\"\").strip()\n",
    "            page['title']=title\n",
    "            #print(title)\n",
    "            state=2\n",
    "    elif(state==2):\n",
    "        # Look for keywork \"id\" and jump to state=3\n",
    "        # store \"id\"\n",
    "        if \"id\" in line:\n",
    "            ll=line.replace(\"<id>\",\"\")\n",
    "            aid=ll.replace(\"</id>\",\"\").strip()\n",
    "            page['id']=aid\n",
    "            #print(aid)\n",
    "            state=3\n",
    "    elif state==3:\n",
    "        # Look for keywork \"<text\"\n",
    "        if (\"<text\" in line):\n",
    "            line=line.replace(\"<text\",\"\").strip()\n",
    "            ll=line.split(\">\")\n",
    "            text=ll[1]\n",
    "            if \"</text>\" in text:\n",
    "                # If found </text> then jump to state=5, and store text\n",
    "                text=text.replace(\"</text>\",\"\")\n",
    "                state=5\n",
    "            else:\n",
    "                state=4\n",
    "    elif state==4:\n",
    "        # If found </text> then jump to state=5, and store text\n",
    "        if \"</text>\" in line:\n",
    "            ll=line.replace(\"</text>\",\"\").strip()\n",
    "            text=text+ll\n",
    "            state=5\n",
    "        else:\n",
    "            text=text+line.strip()\n",
    "    elif(state==5):\n",
    "        # \"</page>\" return to the top (state=0)\n",
    "        # add current page dictionary into the list.\n",
    "        if \"</page>\" in line:\n",
    "            page['text']=text\n",
    "            #print(text)\n",
    "            data.append(page)\n",
    "            page={}\n",
    "            state=0\n",
    "            \n",
    "f.close()"
   ]
  },
  {
   "cell_type": "markdown",
   "metadata": {},
   "source": [
    "# Parsing xml using ElementTree\n",
    "\n",
    "For a short tutorial, see: https://docs.python.org/3/library/xml.etree.elementtree.html#module-xml.etree.ElementTree"
   ]
  },
  {
   "cell_type": "code",
   "execution_count": 4,
   "metadata": {
    "collapsed": true
   },
   "outputs": [],
   "source": [
    "def get_xml_field(xml_data):\n",
    "    '''Returns field from xml'''\n",
    "    return xml_data.tag.split('}')[1]"
   ]
  },
  {
   "cell_type": "code",
   "execution_count": 5,
   "metadata": {
    "collapsed": true
   },
   "outputs": [],
   "source": [
    "tree = ET.parse(xmlfile)\n",
    "root = tree.getroot()"
   ]
  },
  {
   "cell_type": "code",
   "execution_count": 6,
   "metadata": {},
   "outputs": [
    {
     "name": "stdout",
     "output_type": "stream",
     "text": [
      "{http://www.mediawiki.org/xml/export-0.10/}mediawiki\n",
      "{'{http://www.w3.org/2001/XMLSchema-instance}schemaLocation': 'http://www.mediawiki.org/xml/export-0.10/ http://www.mediawiki.org/xml/export-0.10.xsd', 'version': '0.10', '{http://www.w3.org/XML/1998/namespace}lang': 'en'}\n"
     ]
    }
   ],
   "source": [
    "# As an Element, root has a tag and a dictionary of attributes\n",
    "print(root.tag)\n",
    "print(root.attrib)"
   ]
  },
  {
   "cell_type": "code",
   "execution_count": 7,
   "metadata": {},
   "outputs": [
    {
     "name": "stdout",
     "output_type": "stream",
     "text": [
      "{http://www.mediawiki.org/xml/export-0.10/}siteinfo\n",
      "{http://www.mediawiki.org/xml/export-0.10/}page\n",
      "{http://www.mediawiki.org/xml/export-0.10/}page\n",
      "{http://www.mediawiki.org/xml/export-0.10/}page\n",
      "{http://www.mediawiki.org/xml/export-0.10/}page\n",
      "{http://www.mediawiki.org/xml/export-0.10/}page\n",
      "{http://www.mediawiki.org/xml/export-0.10/}page\n",
      "{http://www.mediawiki.org/xml/export-0.10/}page\n",
      "{http://www.mediawiki.org/xml/export-0.10/}page\n",
      "{http://www.mediawiki.org/xml/export-0.10/}page\n"
     ]
    }
   ],
   "source": [
    "# Root also has children nodes over which we can iterate\n",
    "# examine first 10 entries\n",
    "for child in root[:10]:\n",
    "     print(child.tag)"
   ]
  },
  {
   "cell_type": "code",
   "execution_count": 8,
   "metadata": {},
   "outputs": [
    {
     "name": "stdout",
     "output_type": "stream",
     "text": [
      "[<Element '{http://www.mediawiki.org/xml/export-0.10/}siteinfo' at 0x11539b2c8>, <Element '{http://www.mediawiki.org/xml/export-0.10/}page' at 0x1153a5138>, <Element '{http://www.mediawiki.org/xml/export-0.10/}page' at 0x1153a58b8>, <Element '{http://www.mediawiki.org/xml/export-0.10/}page' at 0x1153adb88>, <Element '{http://www.mediawiki.org/xml/export-0.10/}page' at 0x1153c21d8>, <Element '{http://www.mediawiki.org/xml/export-0.10/}page' at 0x1153c27c8>, <Element '{http://www.mediawiki.org/xml/export-0.10/}page' at 0x1153c2e08>, <Element '{http://www.mediawiki.org/xml/export-0.10/}page' at 0x1153c7458>, <Element '{http://www.mediawiki.org/xml/export-0.10/}page' at 0x1153c7a98>, <Element '{http://www.mediawiki.org/xml/export-0.10/}page' at 0x1153c7b88>]\n"
     ]
    }
   ],
   "source": [
    "# Alternate way to get all children from root\n",
    "# view first 10 children of root\n",
    "root_children = root.getchildren()\n",
    "print(root_children[:10])"
   ]
  },
  {
   "cell_type": "code",
   "execution_count": 9,
   "metadata": {},
   "outputs": [
    {
     "name": "stdout",
     "output_type": "stream",
     "text": [
      "<Element '{http://www.mediawiki.org/xml/export-0.10/}mediawiki' at 0x11539b278> \n",
      "\n",
      "{http://www.mediawiki.org/xml/export-0.10/}siteinfo\n",
      "{http://www.mediawiki.org/xml/export-0.10/}sitename \n",
      " Wikipedia\n",
      "{http://www.mediawiki.org/xml/export-0.10/}dbname \n",
      " enwiki\n",
      "{http://www.mediawiki.org/xml/export-0.10/}base \n",
      " https://en.wikipedia.org/wiki/Main_Page\n",
      "{http://www.mediawiki.org/xml/export-0.10/}generator \n",
      " MediaWiki 1.30.0-wmf.10\n",
      "{http://www.mediawiki.org/xml/export-0.10/}case \n",
      " first-letter\n",
      "{http://www.mediawiki.org/xml/export-0.10/}namespaces \n",
      " \n",
      "      \n",
      "{http://www.mediawiki.org/xml/export-0.10/}page\n",
      "{http://www.mediawiki.org/xml/export-0.10/}title \n",
      " Category:Lists of fishes\n",
      "{http://www.mediawiki.org/xml/export-0.10/}ns \n",
      " 14\n",
      "{http://www.mediawiki.org/xml/export-0.10/}id \n",
      " 12161313\n",
      "{http://www.mediawiki.org/xml/export-0.10/}revision \n",
      " \n",
      "      \n",
      "{http://www.mediawiki.org/xml/export-0.10/}page\n",
      "{http://www.mediawiki.org/xml/export-0.10/}title \n",
      " Fish\n",
      "{http://www.mediawiki.org/xml/export-0.10/}ns \n",
      " 0\n",
      "{http://www.mediawiki.org/xml/export-0.10/}id \n",
      " 4699587\n",
      "{http://www.mediawiki.org/xml/export-0.10/}revision \n",
      " \n",
      "      \n",
      "{http://www.mediawiki.org/xml/export-0.10/}page\n",
      "{http://www.mediawiki.org/xml/export-0.10/}title \n",
      " Category:Fish stubs\n",
      "{http://www.mediawiki.org/xml/export-0.10/}ns \n",
      " 14\n",
      "{http://www.mediawiki.org/xml/export-0.10/}id \n",
      " 1834140\n",
      "{http://www.mediawiki.org/xml/export-0.10/}revision \n",
      " \n",
      "      \n"
     ]
    }
   ],
   "source": [
    "# Explore a subset of root (i.e. children of root)\n",
    "print(root,'\\n')\n",
    "for child in root.getchildren()[:4]:\n",
    "    if len(child) > 0:\n",
    "        print(child.tag)\n",
    "        for gchild in child.getchildren():\n",
    "            print(gchild.tag, '\\n', gchild.text)"
   ]
  },
  {
   "cell_type": "code",
   "execution_count": 10,
   "metadata": {},
   "outputs": [
    {
     "name": "stdout",
     "output_type": "stream",
     "text": [
      "<Element '{http://www.mediawiki.org/xml/export-0.10/}page' at 0x115427728> \n",
      "\n",
      "Branches of {http://www.mediawiki.org/xml/export-0.10/}page:\n",
      "\n",
      "{http://www.mediawiki.org/xml/export-0.10/}revision\n",
      "{http://www.mediawiki.org/xml/export-0.10/}id \n",
      " 684775879\n",
      "{http://www.mediawiki.org/xml/export-0.10/}parentid \n",
      " 684775504\n",
      "{http://www.mediawiki.org/xml/export-0.10/}timestamp \n",
      " 2015-10-08T17:48:46Z\n",
      "{http://www.mediawiki.org/xml/export-0.10/}contributor \n",
      " \n",
      "        \n",
      "{http://www.mediawiki.org/xml/export-0.10/}minor \n",
      " None\n",
      "{http://www.mediawiki.org/xml/export-0.10/}comment \n",
      " Reverted edits by [[Special:Contribs/208.190.90.125|208.190.90.125]] ([[User talk:208.190.90.125|talk]]) to last version by Addbot\n",
      "{http://www.mediawiki.org/xml/export-0.10/}model \n",
      " wikitext\n",
      "{http://www.mediawiki.org/xml/export-0.10/}format \n",
      " text/x-wiki\n",
      "{http://www.mediawiki.org/xml/export-0.10/}text \n",
      " [[Category:Animal products]]\n",
      "[[Category:Whaling|Products]]\n",
      "[[Category:Whales]]\n",
      "{http://www.mediawiki.org/xml/export-0.10/}sha1 \n",
      " bbm4f4es1it50c5znnuti2cr69hwg7x\n"
     ]
    }
   ],
   "source": [
    "# Dive deeper into the tree by exploring a page from root (i.e. grandchildren of root)\n",
    "child_index = 30\n",
    "print(root[child_index],'\\n')\n",
    "# Children are nested, and we can access specific child nodes by index\n",
    "# Fully explore branches of a page\n",
    "print('Branches of %s:\\n' % (root.getchildren()[child_index].tag))\n",
    "for child in root[child_index].getchildren():\n",
    "    if len(child) > 0:\n",
    "        print(child.tag)\n",
    "        for gchild in child.getchildren():\n",
    "            print(gchild.tag, '\\n', gchild.text)"
   ]
  },
  {
   "cell_type": "markdown",
   "metadata": {},
   "source": [
    "## Explore findall()"
   ]
  },
  {
   "cell_type": "code",
   "execution_count": 11,
   "metadata": {},
   "outputs": [
    {
     "name": "stdout",
     "output_type": "stream",
     "text": [
      "# of hits: 48 \n",
      "\n",
      "[[Category:Lists of vertebrates|Fishes]]\n",
      "[[Category:Fish]]\n",
      "{{pp|small=yes}} \n",
      "{{for2|fish as eaten by humans|[[Fish as food]]|other uses|[[Fish (disambiguation)]]}}\n",
      "{{sprotect2}}\n",
      "{{Use dmy dates|date=October 2014}}\n",
      "{{Paraphyletic group\n",
      "|name=Fish\n",
      "|fossil_range={{fossilrange|Mid Cambrian|Recent|latest=0}}\n",
      "|image=Georgia Aquarium - Giant Grouper edit.jpg\n",
      "|image_caption=[[Giant grouper]] swimming among [[Shoaling and schooling|schools]] of other fish\n",
      "|image_width=250px\n",
      "|image2=Pterois volitans Manado-e edit.jpg\n",
      "|image2_caption= Head-on view of a [[red lionf\n",
      "{{WPSS-cat}}\n",
      "{{Stub Category|article=[[fish]]|newstub=fish-stub|category=Fish}}\n",
      "{{Category TOC|numerals=no}}\n",
      "\n",
      "[[Category:Chordate stubs| Fish]]\n",
      "[[Category:WikiProject Fishes|μ]]\n",
      "[[Category:Animal health]]\n",
      "[[Category:Fish|Health]]\n",
      "{{Commons cat|Fish anatomy}}\n",
      "\n",
      "[[Category:Fish|Anatomy]]\n",
      "[[Category:Vertebrate anatomy]]\n"
     ]
    }
   ],
   "source": [
    "base = '{http://www.mediawiki.org/xml/export-0.10/}'\n",
    "print('# of hits:', len(root.findall('*/%srevision/%stext' % (base, base))), '\\n')\n",
    "for rev_text in root.findall('*/%srevision/%stext' % (base, base))[:5]:\n",
    "    print(rev_text.text[:500])"
   ]
  },
  {
   "cell_type": "markdown",
   "metadata": {},
   "source": [
    "## Test WikiPage Class"
   ]
  },
  {
   "cell_type": "code",
   "execution_count": 12,
   "metadata": {},
   "outputs": [],
   "source": [
    "test_index = 40\n",
    "test = WikiPage(root[test_index])"
   ]
  },
  {
   "cell_type": "code",
   "execution_count": 13,
   "metadata": {},
   "outputs": [
    {
     "name": "stdout",
     "output_type": "stream",
     "text": [
      "https://en.wikipedia.org/wiki/Big_Miracle_(book)\n",
      "44137874\n",
      "{{Infobox book | \n",
      "| name         = Big Miracle\n",
      "| author       = Tom Rose\n",
      "| country      = [[United States]]\n",
      "| language     = [[English language|English]]\n",
      "| genre        = [[Nonfiction]]\n",
      "| publisher    = St. Martin's Press\n",
      "| release_date = 20 December 2011\n",
      "| pages        = 336 pp\n",
      "| media_type   = Print (Paperback)\n",
      "| isbn         = 978-0-312-62519-1\n",
      "}}\n",
      "'''''Big Miracle''''' tells the true story of three gray whales trapped beneath [[Arctic]] ice in the fall of 1988, and of [[Operation Breakthrough]], the collaborative efforts to free them by oil company executives, activists, [[Inupiat]] people, the U.S. military, and [[Soviet]] [[ice-breaker|ice-breakers]].<ref name=\"pw\">{{cite web|title=Big Miracle|url=http://www.publishersweekly.com/978-0-312-62519-1|website=[[Publishers Weekly]]|accessdate=17 October 2014}}</ref><ref name=\"free\">{{cite news | last1=Dorfman | first1=Andrea | last2=Postman | first2=David | url=http://www.time.com/time/magazine/article/0,9171,968853,00.html | title=Environment: Free At Last! Bon Voyage! | work=[[Time (magazine)|Time]] | date=November 7, 1988 }}</ref> Written by journalist Tom Rose (who covered the event for a Japanese news channel at the time), the book was originally published in 1989, titled ''Freeing the Whales: How the Media Created the World's Greatest Non-Event''.<ref>{{cite news|last1=Hennessee|first1=Judith Adler|title=Mammalmania|url=https://www.nytimes.com/1989/11/26/books/mammalmania.html|accessdate=17 October 2014|publisher=New York Times|date=November 26, 1989}}</ref> It was re-released under its current title by St. Martin’s Press in 2011.<ref name=\"pw\"/>\n",
      "\n",
      "A film adaption of ''[[Big Miracle]]'' directed by [[Ken Kwapis]], starring [[Drew Barrymore]], [[Ted Danson]], [[Kristen Bell]], among other stars, was released in 2012.<ref>{{cite web|last1=Murphy|first1=Kim|title=Big Miracle': True story behind film about 3 ice-stranded whales|url=http://latimesblogs.latimes.com/nationnow/2012/02/big-miracle-barrow-whales-rescue-true-story.html|website=The Los Angeles Times Blog|accessdate=17 October 2014}}</ref>\n",
      "\n",
      "==References==\n",
      "{{Reflist}}\n",
      "\n",
      "[[Category:2011 books]]\n",
      "[[Category:American history books]]\n",
      "[[Category:Whales]]\n",
      "[[Category:1989 books]]\n",
      "[[Category:St. Martin's Press books]]\n",
      "[[Category:Books adapted into films]]\n",
      "\n",
      "\n",
      "{{US-hist-book-stub}}\n",
      "763932463\n"
     ]
    }
   ],
   "source": [
    "print(test.website)\n",
    "print(test.id)\n",
    "print(test.text_raw)\n",
    "print(test.text_parentid)"
   ]
  },
  {
   "cell_type": "code",
   "execution_count": 14,
   "metadata": {},
   "outputs": [
    {
     "data": {
      "text/plain": [
       "[<Element '{http://www.mediawiki.org/xml/export-0.10/}title' at 0x1154593b8>,\n",
       " <Element '{http://www.mediawiki.org/xml/export-0.10/}ns' at 0x115459408>,\n",
       " <Element '{http://www.mediawiki.org/xml/export-0.10/}id' at 0x115459458>,\n",
       " <Element '{http://www.mediawiki.org/xml/export-0.10/}revision' at 0x1154594a8>]"
      ]
     },
     "execution_count": 14,
     "metadata": {},
     "output_type": "execute_result"
    }
   ],
   "source": [
    "test.children"
   ]
  },
  {
   "cell_type": "code",
   "execution_count": 15,
   "metadata": {},
   "outputs": [
    {
     "data": {
      "text/plain": [
       "xml.etree.ElementTree.Element"
      ]
     },
     "execution_count": 15,
     "metadata": {},
     "output_type": "execute_result"
    }
   ],
   "source": [
    "type(test.children[0])"
   ]
  },
  {
   "cell_type": "code",
   "execution_count": 16,
   "metadata": {},
   "outputs": [
    {
     "data": {
      "text/html": [
       "<div>\n",
       "<style>\n",
       "    .dataframe thead tr:only-child th {\n",
       "        text-align: right;\n",
       "    }\n",
       "\n",
       "    .dataframe thead th {\n",
       "        text-align: left;\n",
       "    }\n",
       "\n",
       "    .dataframe tbody tr th {\n",
       "        vertical-align: top;\n",
       "    }\n",
       "</style>\n",
       "<table border=\"1\" class=\"dataframe\">\n",
       "  <thead>\n",
       "    <tr style=\"text-align: right;\">\n",
       "      <th></th>\n",
       "      <th>website</th>\n",
       "      <th>title</th>\n",
       "      <th>page_type</th>\n",
       "      <th>text_raw</th>\n",
       "    </tr>\n",
       "  </thead>\n",
       "  <tbody>\n",
       "    <tr>\n",
       "      <th>44137874</th>\n",
       "      <td>https://en.wikipedia.org/wiki/Big_Miracle_(book)</td>\n",
       "      <td>Big Miracle (book)</td>\n",
       "      <td>article</td>\n",
       "      <td>{{Infobox book | \\n| name         = Big Miracl...</td>\n",
       "    </tr>\n",
       "  </tbody>\n",
       "</table>\n",
       "</div>"
      ],
      "text/plain": [
       "                                                   website  \\\n",
       "44137874  https://en.wikipedia.org/wiki/Big_Miracle_(book)   \n",
       "\n",
       "                       title page_type  \\\n",
       "44137874  Big Miracle (book)   article   \n",
       "\n",
       "                                                   text_raw  \n",
       "44137874  {{Infobox book | \\n| name         = Big Miracl...  "
      ]
     },
     "execution_count": 16,
     "metadata": {},
     "output_type": "execute_result"
    }
   ],
   "source": [
    "test.data"
   ]
  },
  {
   "cell_type": "code",
   "execution_count": 17,
   "metadata": {},
   "outputs": [
    {
     "name": "stdout",
     "output_type": "stream",
     "text": [
      "https://en.wikipedia.org/wiki/Big_Miracle_(book)\n"
     ]
    }
   ],
   "source": [
    "print(test.data.website[0])"
   ]
  },
  {
   "cell_type": "code",
   "execution_count": 18,
   "metadata": {
    "scrolled": true
   },
   "outputs": [
    {
     "data": {
      "text/html": [
       "<div>\n",
       "<style>\n",
       "    .dataframe thead tr:only-child th {\n",
       "        text-align: right;\n",
       "    }\n",
       "\n",
       "    .dataframe thead th {\n",
       "        text-align: left;\n",
       "    }\n",
       "\n",
       "    .dataframe tbody tr th {\n",
       "        vertical-align: top;\n",
       "    }\n",
       "</style>\n",
       "<table border=\"1\" class=\"dataframe\">\n",
       "  <thead>\n",
       "    <tr style=\"text-align: right;\">\n",
       "      <th></th>\n",
       "      <th>website</th>\n",
       "      <th>title</th>\n",
       "      <th>page_type</th>\n",
       "      <th>text_raw</th>\n",
       "    </tr>\n",
       "  </thead>\n",
       "  <tbody>\n",
       "    <tr>\n",
       "      <th>12161313</th>\n",
       "      <td>https://en.wikipedia.org/wiki/Category:Lists_o...</td>\n",
       "      <td>Category:Lists of fishes</td>\n",
       "      <td>category</td>\n",
       "      <td>[[Category:Lists of vertebrates|Fishes]]\\n[[Ca...</td>\n",
       "    </tr>\n",
       "    <tr>\n",
       "      <th>4699587</th>\n",
       "      <td>https://en.wikipedia.org/wiki/Fish</td>\n",
       "      <td>Fish</td>\n",
       "      <td>article</td>\n",
       "      <td>{{pp|small=yes}} \\n{{for2|fish as eaten by hum...</td>\n",
       "    </tr>\n",
       "    <tr>\n",
       "      <th>1834140</th>\n",
       "      <td>https://en.wikipedia.org/wiki/Category:Fish_stubs</td>\n",
       "      <td>Category:Fish stubs</td>\n",
       "      <td>category</td>\n",
       "      <td>{{WPSS-cat}}\\n{{Stub Category|article=[[fish]]...</td>\n",
       "    </tr>\n",
       "    <tr>\n",
       "      <th>11037163</th>\n",
       "      <td>https://en.wikipedia.org/wiki/Category:Fish_he...</td>\n",
       "      <td>Category:Fish health</td>\n",
       "      <td>category</td>\n",
       "      <td>[[Category:Animal health]]\\n[[Category:Fish|He...</td>\n",
       "    </tr>\n",
       "    <tr>\n",
       "      <th>7998150</th>\n",
       "      <td>https://en.wikipedia.org/wiki/Category:Fish_an...</td>\n",
       "      <td>Category:Fish anatomy</td>\n",
       "      <td>category</td>\n",
       "      <td>{{Commons cat|Fish anatomy}}\\n\\n[[Category:Fis...</td>\n",
       "    </tr>\n",
       "  </tbody>\n",
       "</table>\n",
       "</div>"
      ],
      "text/plain": [
       "                                                    website  \\\n",
       "12161313  https://en.wikipedia.org/wiki/Category:Lists_o...   \n",
       "4699587                  https://en.wikipedia.org/wiki/Fish   \n",
       "1834140   https://en.wikipedia.org/wiki/Category:Fish_stubs   \n",
       "11037163  https://en.wikipedia.org/wiki/Category:Fish_he...   \n",
       "7998150   https://en.wikipedia.org/wiki/Category:Fish_an...   \n",
       "\n",
       "                             title page_type  \\\n",
       "12161313  Category:Lists of fishes  category   \n",
       "4699587                       Fish   article   \n",
       "1834140        Category:Fish stubs  category   \n",
       "11037163      Category:Fish health  category   \n",
       "7998150      Category:Fish anatomy  category   \n",
       "\n",
       "                                                   text_raw  \n",
       "12161313  [[Category:Lists of vertebrates|Fishes]]\\n[[Ca...  \n",
       "4699587   {{pp|small=yes}} \\n{{for2|fish as eaten by hum...  \n",
       "1834140   {{WPSS-cat}}\\n{{Stub Category|article=[[fish]]...  \n",
       "11037163  [[Category:Animal health]]\\n[[Category:Fish|He...  \n",
       "7998150   {{Commons cat|Fish anatomy}}\\n\\n[[Category:Fis...  "
      ]
     },
     "execution_count": 18,
     "metadata": {},
     "output_type": "execute_result"
    }
   ],
   "source": [
    "from tools import merge_Wiki_pages\n",
    "df=merge_Wiki_pages(root)\n",
    "df.head()"
   ]
  },
  {
   "cell_type": "code",
   "execution_count": 19,
   "metadata": {
    "collapsed": true
   },
   "outputs": [],
   "source": [
    "#Write DF to file\n",
    "df.to_csv(outfile)\n"
   ]
  },
  {
   "cell_type": "code",
   "execution_count": null,
   "metadata": {
    "collapsed": true
   },
   "outputs": [],
   "source": []
  }
 ],
 "metadata": {
  "kernelspec": {
   "display_name": "Python 3",
   "language": "python",
   "name": "python3"
  },
  "language_info": {
   "codemirror_mode": {
    "name": "ipython",
    "version": 3
   },
   "file_extension": ".py",
   "mimetype": "text/x-python",
   "name": "python",
   "nbconvert_exporter": "python",
   "pygments_lexer": "ipython3",
   "version": "3.6.1"
  }
 },
 "nbformat": 4,
 "nbformat_minor": 2
}
