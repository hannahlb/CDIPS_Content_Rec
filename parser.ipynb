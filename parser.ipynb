{
 "cells": [
  {
   "cell_type": "code",
   "execution_count": 1,
   "metadata": {
    "collapsed": true
   },
   "outputs": [],
   "source": [
    "import pandas as pd\n",
    "import numpy as np\n",
    "import os\n",
    "os.chdir('data')"
   ]
  },
  {
   "cell_type": "code",
   "execution_count": 2,
   "metadata": {
    "collapsed": true
   },
   "outputs": [],
   "source": [
    "xmlfile='Wikipedia-20170717213140.xml'\n",
    "outfile=xmlfile.replace(\"xml\",\"csv\")\n",
    "data=[]"
   ]
  },
  {
   "cell_type": "markdown",
   "metadata": {},
   "source": [
    "# Parse file\n",
    "\n",
    "Loop over lines in the XML file and look for appearances of:\n",
    "* title\n",
    "* id\n",
    "* text\n",
    "\n",
    "At each step, save the variables into a dictionary.\n",
    "\n",
    "After reading the file, the dictionary \"data\" is saved into a \"csv\" file.\n"
   ]
  },
  {
   "cell_type": "code",
   "execution_count": 3,
   "metadata": {
    "collapsed": true
   },
   "outputs": [],
   "source": [
    "f = open(xmlfile,\"r\")\n",
    "\n",
    "state=0\n",
    "page={}\n",
    "for line in f.readlines():\n",
    "    if(state==0):\n",
    "        # Look for keywork \"page\" and jump to state=1\n",
    "        if \"page\" in line:\n",
    "            state=1\n",
    "    elif(state==1):\n",
    "        # Look for keyword \"title\" and jump to state=2\n",
    "        # store \"title\"\n",
    "        if \"title\" in line:\n",
    "            ll=line.replace(\"<title>\",\"\")\n",
    "            title=ll.replace(\"</title>\",\"\").strip()\n",
    "            page['title']=title\n",
    "            #print(title)\n",
    "            state=2\n",
    "    elif(state==2):\n",
    "        # Look for keywork \"id\" and jump to state=3\n",
    "        # store \"id\"\n",
    "        if \"id\" in line:\n",
    "            ll=line.replace(\"<id>\",\"\")\n",
    "            aid=ll.replace(\"</id>\",\"\").strip()\n",
    "            page['id']=aid\n",
    "            #print(aid)\n",
    "            state=3\n",
    "    elif state==3:\n",
    "        # Look for keywork \"<text\"\n",
    "        if (\"<text\" in line):\n",
    "            line=line.replace(\"<text\",\"\").strip()\n",
    "            ll=line.split(\">\")\n",
    "            text=ll[1]\n",
    "            if \"</text>\" in text:\n",
    "                # If found </text> then jump to state=5, and store text\n",
    "                text=text.replace(\"</text>\",\"\")\n",
    "                state=5\n",
    "            else:\n",
    "                state=4\n",
    "    elif state==4:\n",
    "        # If found </text> then jump to state=5, and store text\n",
    "        if \"</text>\" in line:\n",
    "            ll=line.replace(\"</text>\",\"\").strip()\n",
    "            text=text+ll\n",
    "            state=5\n",
    "        else:\n",
    "            text=text+line.strip()\n",
    "    elif(state==5):\n",
    "        # \"</page>\" return to the top (state=0)\n",
    "        # add current page dictionary into the list.\n",
    "        if \"</page>\" in line:\n",
    "            page['text']=text\n",
    "            #print(text)\n",
    "            data.append(page)\n",
    "            page={}\n",
    "            state=0\n",
    "            \n",
    "f.close()"
   ]
  },
  {
   "cell_type": "code",
   "execution_count": 4,
   "metadata": {},
   "outputs": [
    {
     "data": {
      "text/html": [
       "<div>\n",
       "<style>\n",
       "    .dataframe thead tr:only-child th {\n",
       "        text-align: right;\n",
       "    }\n",
       "\n",
       "    .dataframe thead th {\n",
       "        text-align: left;\n",
       "    }\n",
       "\n",
       "    .dataframe tbody tr th {\n",
       "        vertical-align: top;\n",
       "    }\n",
       "</style>\n",
       "<table border=\"1\" class=\"dataframe\">\n",
       "  <thead>\n",
       "    <tr style=\"text-align: right;\">\n",
       "      <th></th>\n",
       "      <th>id</th>\n",
       "      <th>text</th>\n",
       "      <th>title</th>\n",
       "    </tr>\n",
       "  </thead>\n",
       "  <tbody>\n",
       "    <tr>\n",
       "      <th>0</th>\n",
       "      <td>970284</td>\n",
       "      <td>{{Cat main|Conformation show|Show dog}}{{porta...</td>\n",
       "      <td>Category:Dog shows and showing</td>\n",
       "    </tr>\n",
       "    <tr>\n",
       "      <th>1</th>\n",
       "      <td>972913</td>\n",
       "      <td>This is a collection of articles about the hea...</td>\n",
       "      <td>Category:Dog health</td>\n",
       "    </tr>\n",
       "    <tr>\n",
       "      <th>2</th>\n",
       "      <td>970251</td>\n",
       "      <td>This is an automatically collected list of art...</td>\n",
       "      <td>Category:Dog organizations</td>\n",
       "    </tr>\n",
       "    <tr>\n",
       "      <th>3</th>\n",
       "      <td>729436</td>\n",
       "      <td>This is an automatically accumulated list of a...</td>\n",
       "      <td>Category:Dog sports</td>\n",
       "    </tr>\n",
       "    <tr>\n",
       "      <th>4</th>\n",
       "      <td>978163</td>\n",
       "      <td>[[Category:Dogs|Pets]][[Category:Mammals as pe...</td>\n",
       "      <td>Category:Dogs as pets</td>\n",
       "    </tr>\n",
       "  </tbody>\n",
       "</table>\n",
       "</div>"
      ],
      "text/plain": [
       "       id                                               text  \\\n",
       "0  970284  {{Cat main|Conformation show|Show dog}}{{porta...   \n",
       "1  972913  This is a collection of articles about the hea...   \n",
       "2  970251  This is an automatically collected list of art...   \n",
       "3  729436  This is an automatically accumulated list of a...   \n",
       "4  978163  [[Category:Dogs|Pets]][[Category:Mammals as pe...   \n",
       "\n",
       "                            title  \n",
       "0  Category:Dog shows and showing  \n",
       "1             Category:Dog health  \n",
       "2      Category:Dog organizations  \n",
       "3             Category:Dog sports  \n",
       "4           Category:Dogs as pets  "
      ]
     },
     "execution_count": 4,
     "metadata": {},
     "output_type": "execute_result"
    }
   ],
   "source": [
    "# Convert list of dictionaries to dataframe\n",
    "df=pd.DataFrame(data)\n",
    "\n",
    "df.to_csv(outfile)\n",
    "df.head()"
   ]
  },
  {
   "cell_type": "markdown",
   "metadata": {},
   "source": [
    "# Parsing xml using ElementTree\n",
    "\n",
    "For a short tutorial, see: https://docs.python.org/3/library/xml.etree.elementtree.html#module-xml.etree.ElementTree"
   ]
  },
  {
   "cell_type": "code",
   "execution_count": 5,
   "metadata": {
    "collapsed": true
   },
   "outputs": [],
   "source": [
    "import xml.etree.ElementTree as ET"
   ]
  },
  {
   "cell_type": "code",
   "execution_count": 6,
   "metadata": {
    "collapsed": true
   },
   "outputs": [],
   "source": [
    "tree = ET.parse(xmlfile)\n",
    "root = tree.getroot()"
   ]
  },
  {
   "cell_type": "code",
   "execution_count": 7,
   "metadata": {},
   "outputs": [
    {
     "name": "stdout",
     "output_type": "stream",
     "text": [
      "{http://www.mediawiki.org/xml/export-0.10/}mediawiki\n",
      "{'{http://www.w3.org/2001/XMLSchema-instance}schemaLocation': 'http://www.mediawiki.org/xml/export-0.10/ http://www.mediawiki.org/xml/export-0.10.xsd', 'version': '0.10', '{http://www.w3.org/XML/1998/namespace}lang': 'en'}\n"
     ]
    }
   ],
   "source": [
    "# as an Element, root has a tag and a dictionary of attributes\n",
    "print(root.tag)\n",
    "print(root.attrib)"
   ]
  },
  {
   "cell_type": "code",
   "execution_count": 8,
   "metadata": {},
   "outputs": [
    {
     "name": "stdout",
     "output_type": "stream",
     "text": [
      "{http://www.mediawiki.org/xml/export-0.10/}siteinfo\n",
      "{http://www.mediawiki.org/xml/export-0.10/}page\n",
      "{http://www.mediawiki.org/xml/export-0.10/}page\n",
      "{http://www.mediawiki.org/xml/export-0.10/}page\n",
      "{http://www.mediawiki.org/xml/export-0.10/}page\n",
      "{http://www.mediawiki.org/xml/export-0.10/}page\n",
      "{http://www.mediawiki.org/xml/export-0.10/}page\n",
      "{http://www.mediawiki.org/xml/export-0.10/}page\n",
      "{http://www.mediawiki.org/xml/export-0.10/}page\n",
      "{http://www.mediawiki.org/xml/export-0.10/}page\n"
     ]
    }
   ],
   "source": [
    "# root also has children nodes over which we can iterate\n",
    "# examine first 10 entries\n",
    "for child in root[:10]:\n",
    "     print(child.tag)"
   ]
  },
  {
   "cell_type": "code",
   "execution_count": 9,
   "metadata": {},
   "outputs": [
    {
     "name": "stdout",
     "output_type": "stream",
     "text": [
      "[<Element '{http://www.mediawiki.org/xml/export-0.10/}siteinfo' at 0x10ff01a48>, <Element '{http://www.mediawiki.org/xml/export-0.10/}page' at 0x10ff0def8>, <Element '{http://www.mediawiki.org/xml/export-0.10/}page' at 0x10feaf7c8>, <Element '{http://www.mediawiki.org/xml/export-0.10/}page' at 0x10feafe08>, <Element '{http://www.mediawiki.org/xml/export-0.10/}page' at 0x10feb4458>, <Element '{http://www.mediawiki.org/xml/export-0.10/}page' at 0x10feb4ae8>, <Element '{http://www.mediawiki.org/xml/export-0.10/}page' at 0x10feb8138>, <Element '{http://www.mediawiki.org/xml/export-0.10/}page' at 0x10feb87c8>, <Element '{http://www.mediawiki.org/xml/export-0.10/}page' at 0x10feb8b38>, <Element '{http://www.mediawiki.org/xml/export-0.10/}page' at 0x10febc228>]\n"
     ]
    }
   ],
   "source": [
    "# alternate way to get all children from root\n",
    "root_children = root.getchildren()\n",
    "print(root_children[:10])"
   ]
  },
  {
   "cell_type": "code",
   "execution_count": 10,
   "metadata": {},
   "outputs": [
    {
     "name": "stdout",
     "output_type": "stream",
     "text": [
      "{http://www.mediawiki.org/xml/export-0.10/}page \n",
      "\n",
      "<Element '{http://www.mediawiki.org/xml/export-0.10/}page' at 0x10ff0def8> \n",
      "\n",
      "{http://www.mediawiki.org/xml/export-0.10/}title Category:Dog shows and showing\n",
      "{http://www.mediawiki.org/xml/export-0.10/}ns 14\n",
      "{http://www.mediawiki.org/xml/export-0.10/}id 970284\n",
      "{http://www.mediawiki.org/xml/export-0.10/}revision \n",
      "      \n"
     ]
    }
   ],
   "source": [
    "# Children are nested, and we can access specific child nodes by index\n",
    "test_entry = 1\n",
    "\n",
    "print(root.getchildren()[test_entry].tag, '\\n')\n",
    "\n",
    "print(root[test_entry],'\\n')\n",
    "\n",
    "for i in range(len(root[test_entry])):\n",
    "    print(root[test_entry][i].tag, root[test_entry][i].text)"
   ]
  },
  {
   "cell_type": "code",
   "execution_count": 11,
   "metadata": {},
   "outputs": [
    {
     "name": "stdout",
     "output_type": "stream",
     "text": [
      "child: {http://www.mediawiki.org/xml/export-0.10/}revision\n",
      "0 {http://www.mediawiki.org/xml/export-0.10/}id \n",
      " 759352260\n",
      "1 {http://www.mediawiki.org/xml/export-0.10/}parentid \n",
      " 753052214\n",
      "2 {http://www.mediawiki.org/xml/export-0.10/}timestamp \n",
      " 2017-01-10T17:44:40Z\n",
      "3 {http://www.mediawiki.org/xml/export-0.10/}contributor \n",
      " \n",
      "        \n",
      "4 {http://www.mediawiki.org/xml/export-0.10/}minor \n",
      " None\n",
      "5 {http://www.mediawiki.org/xml/export-0.10/}comment \n",
      " /* Dogs in legend */ Standardized hatnote\n",
      "6 {http://www.mediawiki.org/xml/export-0.10/}model \n",
      " wikitext\n",
      "7 {http://www.mediawiki.org/xml/export-0.10/}format \n",
      " text/x-wiki\n",
      "8 {http://www.mediawiki.org/xml/export-0.10/}text \n",
      " {{refimprove|date=December 2008}}\n",
      "{{originalresearch|date=December 2008}}\n",
      "\n",
      "'''Dogs''' (''Canis lupus familiaris''), known in [[Classical Chinese]] as ''quan'' ({{zh|c=犬|p=quǎn|w=''ch'üan''}}), played an important role in ancient Chinese society.\n",
      "\n",
      "== Domestication ==\n",
      "\n",
      "An examination of the genetic evidence by Carles Vila and others confirms that the progenitor of the domestic dog is the wolf (''Canis lupus'').<ref>J. A. Leonard, R. K. Wayne, J. Wheeler, R. Valadez, S. Guillén, C Vilà, (2002) \"Ancient DNA evidence for Old World origin of New World dogs\" ''Science'' 298: 1613-1616.</ref> The suggested date of their domestication is about 100,000 [[Before Christ|BC]]. While accepting the wolf as the ancestor, paleontologists and archaeologists believe domestication came much later. A reconstruction by a joint team of researchers from China and Sweden postulates that humans may have domesticated dogs from wolves as recently as 15,000 years ago. They found that, while most dogs share a common gene pool, genetic diversity is highest in East Asia, suggesting dogs have been domesticated there the longest. Genetic research suggests that all domestic dogs worldwide may have originated from possibly three female [[wolf|wolves]].\n",
      "\n",
      "The dog, along with the pig, were the earliest animals domesticated in China. Remains of both animals have been found in the oldest [[Neolithic]] settlements of the [[Yangshao]] (circa 4000 BC) and [[Hemudu]] (circa 5000 BC) cultures. Canine remains similar to the [[Dingo]] have been found in some early graves excavated in northern China. \n",
      "\n",
      "Tests on neolithic dog bones show similarities between dogs from this era and modern-day Japanese dogs, especially the [[shiba inu]].<ref>Nobuo Shigehara, Qi Guoqin, Hajime Komiya, Yuan Jing, \"Morphological study of the ancient dogs from three neolithic sites in China\" ''International Journal of Osteoarchaeology'' Vol. 8 Issue 1 (2008) pp. 11-22.</ref>\n",
      "\n",
      "== Dogs as ceremonial sacrifice ==\n",
      "\n",
      "According to Bruno Schindler, the origin of using dogs as sacrificial animals dates back to a primitive cult in honour of a dog-shaped god of vegetation whose worship later became amalgamated with that of [[Shang Di]], the reigning deity of the Shang [[Pantheon (gods)|pantheon]].\n",
      "\n",
      "Systematic excavation of Shang tombs around Anyang since 1928 have revealed a large number of animal and human [[sacrifices]]. There was hardly a tomb or a building consecrated without the sacrifice of a dog. At one site, Xiaotong, the bones of a total of 825 human victims, 15 horses, 10 oxen, 18 sheep and 35 dogs were unearthed. Dogs were usually buried wrapped in reed mats and sometimes in [[lacquer]] [[coffin]]s. Small bells with clappers, called ''ling'' (鈴) have sometimes been found attached to the necks of dogs or horses. The fact that alone among domestic animals dogs and horses were buried demonstrates the importance of these two animals to ancient Chinese society. It's reflected in an [[idiom]] passed down to modern times: \"to serve like a dog or a horse.\" (犬馬之勞).\n",
      "\n",
      "Shang oracle bones mention questions concerning the whereabouts of lost dogs. They also refer to the ''ning'' (寧) rite during which a dog was dismembered to placate the four winds or honour the four directions. This sacrifice was carried over into Zhou times. The ''Er ya'' records a custom to dismember a dog to \"bring the four winds to a halt.\" (止風). Other ceremonies involving dogs are mentioned in the ''Zhou li''. In the ''nan'' (難) sacrifice to drive away pestilience, a dog was dismembered and his remains buried in front of the main gates of the [[Capital (political)|capital]]. The ''ba'' (軷) sacrifice to ward off evil required the [[Emperor of China|Son of Heaven]], riding in a jade chariot, to crush a dog under the wheels of his carriage. The character ''ba'' gives a clue as to how the ceremony took place. It is written with the radical for chariot (車) and a phonetic element which originally meant an animal whose legs had been bound (发). It was the duty of a specially appointed official to supply a dog of one colour and without blemishes for the sacrifice. The [[blood]] of dogs was used for the swearing of covenants between nobles. \n",
      "\n",
      "Towards the late fifth century BC, surrogates began to be used for sacrifice in lieu of real dogs. The ''[[Dao De Jing]]'' mentions the use of [[straw dog]]s as a metaphor:\n",
      "<poem>\n",
      "     Heaven and earth are ruthless, and treat the myriad creatures as straw dogs;\n",
      "     the sage is ruthless, and treats the people as straw dogs.<ref>In Chinese: 天地不仁 以萬物為芻狗 聖人不仁 以百姓為芻狗. Chen Guying ed. ''Laozi zhu yi ji ping jie'' 老子注譯及評介 (Beijing: Zhonghua shuju, 1984) at 78. Incidentally the term \"straw dogs\" became the title of a book of philosophy by [[John N. Gray|John Gray]] (''[[Straw Dogs: Thoughts on Humans and Other Animals]]'') and a [[Straw Dogs (1971 film)|1971 film]].</ref>\n",
      "</poem>\n",
      "\n",
      "However, the practice of burying actual dogs by no means died out. One [[Zhongshan (state)|Zhongshan]] royal mausoleum, for example, included two hunting dogs with gold and silver neck rings. \n",
      "\n",
      "Later, clay figurines of dogs were buried in tombs. Large quantities of these sculptures have been unearthed from the [[Han dynasty]] onwards. Most show sickle-shaped tails not unlike the modern [[shiba inu]] or [[akita inu]].\n",
      "\n",
      "== Dogs as food ==\n",
      "\n",
      "Dogs, along with pigs, constituted the major source of animal [[protein]] in ancient China{{facts|date=October 2011}}. \"Dog butchers\" (狗屠) was a specific (and lowly-regarded) profession. They are called \"idle and untrustworthy\" by [[Fan Ye (historian)|Fan Ye]]. Dog butchers who rose to prominence include the strongman [[Zhu Hai]], the musician [[Gao Jianli]], and general [[Fan Kuai]] (all circa third century BC). \n",
      "\n",
      "The ancient word for [[dog meat]] was ''ran'' (肰). Indeed, it was so common that the [[Old Chinese]] character meaning \"to burn\" or \"to roast\" showed dog meat on top of a fire (然).\n",
      "\n",
      "The ''Zhou Li'' divides dogs into three categories: the ''tianquan'' (田犬) or watchdog, the ''feiquan'' (吠犬) or barking dog, and the ''shi-quan'' (食犬) or edible dog. With the exception of the liver every part of the animal was considered edible. \n",
      "\n",
      "At the banquests of feudal lords a dish of dog's broth and glutinous rice was considered a great delicacy. For summer, dried fish fried in pungent dog's fat was thought to be cooling. When dog's meat was prepared as sacrificial meat it had first to be marinated in vinegar and pepper.\n",
      "\n",
      "== Dogs for hunting ==\n",
      "\n",
      "Dogs were associated with hunting from very early times. Many words for hunting in the Chinese language are written with the radical for dog - for example, ''lie'' (獵: hunt), ''shou'' (狩: winter hunt), ''huo'' (獲: bird hunt).\n",
      "\n",
      "The Shang kings recognised \"Dog Officers\" (犬) who were involved in hunting in a specific area beyond the royal domain. One oracle bone records: \"If the king joins with Qin, the Dog Officer at Cheng, there will be no regrets and he will have no disasters.\" \n",
      "\n",
      "There is one reference to dogs in the ''[[Shi Jing]]'', China's earliest anthology of [[poetry]]:\n",
      "<poem>\n",
      "     Dashing about is the crafty rabbit,\n",
      "     But even a dumb dog can catch it.<ref>In Chinese: 躍躍毚兔 遇犬獲之. From Song 198, translated in Arthur Waley, ''The Book of Songs'' (New York: Grove Press, 1996) at 180.</ref>\n",
      "</poem>\n",
      "\n",
      "In the [[Warring States]] period, the kingdoms of Han and Yan were thought to produce the best hunting dogs. \n",
      "\n",
      "Because of their importance and numbers, there was at Shanglin an \"inspector of kennels\" (狗監; ''goujian'') who oversaw the raising and training of the hunting dogs for the Han court. \n",
      "\n",
      "There is pictorial evidence from early Han tomb tiles of large dogs with collars in the typical pointing position - the body in a slightly crouching position, neck extended horiontally, and one forepaw being under and raised several inches above ground - standing before a flock of geese in flight and several running deer.<ref>Thomas T. Allsen, ''The Royal Hunt in Eurasian History'' (Philadelphia, PA: University of Pennsylvania Press, 2006) at 57.</ref>\n",
      "\n",
      "== Cultural perceptions ==\n",
      "\n",
      "It is clear from the role of dogs in ceremony and as food that they were held in some esteem. \n",
      "\n",
      "[[Book of Rites]], ch.4, quotes [[Confucius]] ordering his disciple to perform the respectful burial for his dog and saying: \n",
      "{{quote|\"I have heard that it is best not to throw away old and frayed carriage curtains because one can use them to bury horses; that it is best not to throw away old and frayed carriage canopies because one can use them to bury dogs. I am poor and have no carriage canopy. So use my mat when you put the dog into his grave. Be sure not to let his head get stuck in the mud.\"<ref>仲尼之畜狗死，使子貢埋之，曰：「吾聞之也：敝帷不棄，為埋馬也；敝蓋不棄，為埋狗也。丘也貧，無蓋；於其封也，亦予之席，毋使其首陷焉。」[http://ctext.org/liji/tan-gong-ii], 203. Translation from Chin, Annping. ''Confucius: a Life of Thought and Politics''. Yale University Press, 2008:183-4.</ref>}}\n",
      " \n",
      "Nevertheless, classical literature usually qualified dogs as ''hui'' treacherous, ''jiao'' crafty and ''si'' restless{{facts|date=October 2011}}. The [[Quanrong]] （犬戎）, literally \"Dog nomad-tribe\", were enemies of the settled civilizations from the time of the [[Zhou Dynasty]] onwards. The tribe claimed descendancy from two large white dogs and worshipped a totem in their honor.\n",
      "\n",
      "The word for dog was sometimes used in human names. [[Sima Xiangru]], for example, had the nickname Quanzi (犬子), meaning \"pup\".\n",
      "\n",
      "===Dogs in legend===\n",
      "{{main article|Dog in Chinese mythology}}\n",
      "\n",
      "According to ancient folk legends, [[solar eclipse]]s take place because dogs in heaven eat the sun. In order to save the sun from demise, ancient people formed the habit of beating drums and gongs at the critical moment to drive away the dogs.\n",
      "\n",
      "== See also ==\n",
      "*[[Elephants in ancient China]]\n",
      "*[[Rhinoceroses in ancient China]]\n",
      "\n",
      "== References ==\n",
      "{{reflist|2}}\n",
      "\n",
      "{{DEFAULTSORT:Dogs In Ancient China}}\n",
      "[[Category:Dogs]]\n",
      "[[Category:History of ancient China]]\n",
      "[[Category:Dogs in art]]\n",
      "9 {http://www.mediawiki.org/xml/export-0.10/}sha1 \n",
      " 314ov7x14fourepznliyc4yhlv8cvnd\n"
     ]
    }
   ],
   "source": [
    "test = root.getchildren()[20]\n",
    "for i in range(len(test)):\n",
    "    if len(test[i]) > 0:\n",
    "        print('child:', test[i].tag)\n",
    "        for j in range(len(test[i])):\n",
    "            print(j, test[i][j].tag, '\\n', test[i][j].text)"
   ]
  },
  {
   "cell_type": "code",
   "execution_count": 12,
   "metadata": {
    "collapsed": true
   },
   "outputs": [],
   "source": [
    "class WikiPage(ET.Element):\n",
    "    '''Class to access and manipulate XML Wikipedia data'''\n",
    "    def __init__(self, page):\n",
    "        ET.Element.__init__(self, page)\n",
    "                \n",
    "        self.page = page\n",
    "        self.children = self.page.getchildren()\n",
    "        \n",
    "        def get_xml_field(xml_data):\n",
    "            '''returns field from xml'''\n",
    "            return xml_data.tag.split('}')[1]\n",
    "        \n",
    "        for child in self.children:\n",
    "            if get_xml_field(child) == 'title':\n",
    "                self.title = child.text\n",
    "            elif get_xml_field(child) == 'id':\n",
    "                self.id = child.text\n",
    "            elif get_xml_field(child) == 'revision':\n",
    "                for gchild in child.getchildren():\n",
    "                    if get_xml_field(gchild) == 'text':\n",
    "                        self.raw_text = gchild.text"
   ]
  },
  {
   "cell_type": "code",
   "execution_count": 13,
   "metadata": {
    "collapsed": true
   },
   "outputs": [],
   "source": [
    "test = WikiPage(root[1])"
   ]
  },
  {
   "cell_type": "code",
   "execution_count": 14,
   "metadata": {},
   "outputs": [
    {
     "name": "stdout",
     "output_type": "stream",
     "text": [
      "Category:Dog shows and showing\n",
      "970284\n",
      "{{Cat main|Conformation show|Show dog}}\n",
      "{{portal|Dogs}}\n",
      "This is an automatically collected list of articles related to showing dogs for their appearance in [[conformation show]]s.\n",
      "\n",
      "[[Category:Dogs|Shows and showing]]\n",
      "[[Category:Competitions]]\n",
      "[[Category:Animal shows| Dog]]\n"
     ]
    }
   ],
   "source": [
    "print(test.title)\n",
    "print(test.id)\n",
    "print(test.raw_text)"
   ]
  },
  {
   "cell_type": "code",
   "execution_count": null,
   "metadata": {
    "collapsed": true
   },
   "outputs": [],
   "source": []
  }
 ],
 "metadata": {
  "kernelspec": {
   "display_name": "Python 3",
   "language": "python",
   "name": "python3"
  },
  "language_info": {
   "codemirror_mode": {
    "name": "ipython",
    "version": 3
   },
   "file_extension": ".py",
   "mimetype": "text/x-python",
   "name": "python",
   "nbconvert_exporter": "python",
   "pygments_lexer": "ipython3",
   "version": "3.6.1"
  }
 },
 "nbformat": 4,
 "nbformat_minor": 2
}
