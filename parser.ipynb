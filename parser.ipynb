{
 "cells": [
  {
   "cell_type": "code",
   "execution_count": 1,
   "metadata": {
    "collapsed": true
   },
   "outputs": [],
   "source": [
    "import os, sys\n",
    "import pandas as pd\n",
    "import numpy as np\n",
    "import xml.etree.ElementTree as ET\n",
    "sys.path.insert(0, 'scripts')\n",
    "from WikiPage import WikiPage"
   ]
  },
  {
   "cell_type": "code",
   "execution_count": 2,
   "metadata": {
    "collapsed": true
   },
   "outputs": [],
   "source": [
    "os.chdir('data')\n",
    "xmlfile = 'Wikipedia-20170717213140.xml'"
   ]
  },
  {
   "cell_type": "markdown",
   "metadata": {},
   "source": [
    "# Parse file\n",
    "\n",
    "Loop over lines in the XML file and look for appearances of:\n",
    "* title\n",
    "* id\n",
    "* text\n",
    "\n",
    "At each step, save the variables into a dictionary.\n",
    "\n",
    "After reading the file, the dictionary \"data\" is saved into a \"csv\" file.\n"
   ]
  },
  {
   "cell_type": "code",
   "execution_count": 3,
   "metadata": {
    "collapsed": true
   },
   "outputs": [],
   "source": [
    "outfile = xmlfile.replace(\"xml\",\"csv\")\n",
    "data = []"
   ]
  },
  {
   "cell_type": "code",
   "execution_count": 4,
   "metadata": {
    "collapsed": true
   },
   "outputs": [],
   "source": [
    "f = open(xmlfile,\"r\")\n",
    "\n",
    "state=0\n",
    "page={}\n",
    "for line in f.readlines():\n",
    "    if(state==0):\n",
    "        # Look for keywork \"page\" and jump to state=1\n",
    "        if \"page\" in line:\n",
    "            state=1\n",
    "    elif(state==1):\n",
    "        # Look for keyword \"title\" and jump to state=2\n",
    "        # store \"title\"\n",
    "        if \"title\" in line:\n",
    "            ll=line.replace(\"<title>\",\"\")\n",
    "            title=ll.replace(\"</title>\",\"\").strip()\n",
    "            page['title']=title\n",
    "            #print(title)\n",
    "            state=2\n",
    "    elif(state==2):\n",
    "        # Look for keywork \"id\" and jump to state=3\n",
    "        # store \"id\"\n",
    "        if \"id\" in line:\n",
    "            ll=line.replace(\"<id>\",\"\")\n",
    "            aid=ll.replace(\"</id>\",\"\").strip()\n",
    "            page['id']=aid\n",
    "            #print(aid)\n",
    "            state=3\n",
    "    elif state==3:\n",
    "        # Look for keywork \"<text\"\n",
    "        if (\"<text\" in line):\n",
    "            line=line.replace(\"<text\",\"\").strip()\n",
    "            ll=line.split(\">\")\n",
    "            text=ll[1]\n",
    "            if \"</text>\" in text:\n",
    "                # If found </text> then jump to state=5, and store text\n",
    "                text=text.replace(\"</text>\",\"\")\n",
    "                state=5\n",
    "            else:\n",
    "                state=4\n",
    "    elif state==4:\n",
    "        # If found </text> then jump to state=5, and store text\n",
    "        if \"</text>\" in line:\n",
    "            ll=line.replace(\"</text>\",\"\").strip()\n",
    "            text=text+ll\n",
    "            state=5\n",
    "        else:\n",
    "            text=text+line.strip()\n",
    "    elif(state==5):\n",
    "        # \"</page>\" return to the top (state=0)\n",
    "        # add current page dictionary into the list.\n",
    "        if \"</page>\" in line:\n",
    "            page['text']=text\n",
    "            #print(text)\n",
    "            data.append(page)\n",
    "            page={}\n",
    "            state=0\n",
    "            \n",
    "f.close()"
   ]
  },
  {
   "cell_type": "code",
   "execution_count": 5,
   "metadata": {},
   "outputs": [
    {
     "data": {
      "text/html": [
       "<div>\n",
       "<style>\n",
       "    .dataframe thead tr:only-child th {\n",
       "        text-align: right;\n",
       "    }\n",
       "\n",
       "    .dataframe thead th {\n",
       "        text-align: left;\n",
       "    }\n",
       "\n",
       "    .dataframe tbody tr th {\n",
       "        vertical-align: top;\n",
       "    }\n",
       "</style>\n",
       "<table border=\"1\" class=\"dataframe\">\n",
       "  <thead>\n",
       "    <tr style=\"text-align: right;\">\n",
       "      <th></th>\n",
       "      <th>id</th>\n",
       "      <th>text</th>\n",
       "      <th>title</th>\n",
       "    </tr>\n",
       "  </thead>\n",
       "  <tbody>\n",
       "    <tr>\n",
       "      <th>0</th>\n",
       "      <td>970284</td>\n",
       "      <td>{{Cat main|Conformation show|Show dog}}{{porta...</td>\n",
       "      <td>Category:Dog shows and showing</td>\n",
       "    </tr>\n",
       "    <tr>\n",
       "      <th>1</th>\n",
       "      <td>972913</td>\n",
       "      <td>This is a collection of articles about the hea...</td>\n",
       "      <td>Category:Dog health</td>\n",
       "    </tr>\n",
       "    <tr>\n",
       "      <th>2</th>\n",
       "      <td>970251</td>\n",
       "      <td>This is an automatically collected list of art...</td>\n",
       "      <td>Category:Dog organizations</td>\n",
       "    </tr>\n",
       "    <tr>\n",
       "      <th>3</th>\n",
       "      <td>729436</td>\n",
       "      <td>This is an automatically accumulated list of a...</td>\n",
       "      <td>Category:Dog sports</td>\n",
       "    </tr>\n",
       "    <tr>\n",
       "      <th>4</th>\n",
       "      <td>978163</td>\n",
       "      <td>[[Category:Dogs|Pets]][[Category:Mammals as pe...</td>\n",
       "      <td>Category:Dogs as pets</td>\n",
       "    </tr>\n",
       "  </tbody>\n",
       "</table>\n",
       "</div>"
      ],
      "text/plain": [
       "       id                                               text  \\\n",
       "0  970284  {{Cat main|Conformation show|Show dog}}{{porta...   \n",
       "1  972913  This is a collection of articles about the hea...   \n",
       "2  970251  This is an automatically collected list of art...   \n",
       "3  729436  This is an automatically accumulated list of a...   \n",
       "4  978163  [[Category:Dogs|Pets]][[Category:Mammals as pe...   \n",
       "\n",
       "                            title  \n",
       "0  Category:Dog shows and showing  \n",
       "1             Category:Dog health  \n",
       "2      Category:Dog organizations  \n",
       "3             Category:Dog sports  \n",
       "4           Category:Dogs as pets  "
      ]
     },
     "execution_count": 5,
     "metadata": {},
     "output_type": "execute_result"
    }
   ],
   "source": [
    "# Convert list of dictionaries to dataframe\n",
    "df=pd.DataFrame(data)\n",
    "\n",
    "df.to_csv(outfile)\n",
    "df.head()"
   ]
  },
  {
   "cell_type": "markdown",
   "metadata": {},
   "source": [
    "# Parsing xml using ElementTree\n",
    "\n",
    "For a short tutorial, see: https://docs.python.org/3/library/xml.etree.elementtree.html#module-xml.etree.ElementTree"
   ]
  },
  {
   "cell_type": "code",
   "execution_count": 6,
   "metadata": {
    "collapsed": true
   },
   "outputs": [],
   "source": [
    "def get_xml_field(xml_data):\n",
    "    '''Returns field from xml'''\n",
    "    return xml_data.tag.split('}')[1]"
   ]
  },
  {
   "cell_type": "code",
   "execution_count": 7,
   "metadata": {
    "collapsed": true
   },
   "outputs": [],
   "source": [
    "tree = ET.parse(xmlfile)\n",
    "root = tree.getroot()"
   ]
  },
  {
   "cell_type": "code",
   "execution_count": 8,
   "metadata": {},
   "outputs": [
    {
     "name": "stdout",
     "output_type": "stream",
     "text": [
      "{http://www.mediawiki.org/xml/export-0.10/}mediawiki\n",
      "{'{http://www.w3.org/2001/XMLSchema-instance}schemaLocation': 'http://www.mediawiki.org/xml/export-0.10/ http://www.mediawiki.org/xml/export-0.10.xsd', 'version': '0.10', '{http://www.w3.org/XML/1998/namespace}lang': 'en'}\n"
     ]
    }
   ],
   "source": [
    "# As an Element, root has a tag and a dictionary of attributes\n",
    "print(root.tag)\n",
    "print(root.attrib)"
   ]
  },
  {
   "cell_type": "code",
   "execution_count": 9,
   "metadata": {},
   "outputs": [
    {
     "name": "stdout",
     "output_type": "stream",
     "text": [
      "{http://www.mediawiki.org/xml/export-0.10/}siteinfo\n",
      "{http://www.mediawiki.org/xml/export-0.10/}page\n",
      "{http://www.mediawiki.org/xml/export-0.10/}page\n",
      "{http://www.mediawiki.org/xml/export-0.10/}page\n",
      "{http://www.mediawiki.org/xml/export-0.10/}page\n",
      "{http://www.mediawiki.org/xml/export-0.10/}page\n",
      "{http://www.mediawiki.org/xml/export-0.10/}page\n",
      "{http://www.mediawiki.org/xml/export-0.10/}page\n",
      "{http://www.mediawiki.org/xml/export-0.10/}page\n",
      "{http://www.mediawiki.org/xml/export-0.10/}page\n"
     ]
    }
   ],
   "source": [
    "# Root also has children nodes over which we can iterate\n",
    "# examine first 10 entries\n",
    "for child in root[:10]:\n",
    "     print(child.tag)"
   ]
  },
  {
   "cell_type": "code",
   "execution_count": 10,
   "metadata": {},
   "outputs": [
    {
     "name": "stdout",
     "output_type": "stream",
     "text": [
      "[<Element '{http://www.mediawiki.org/xml/export-0.10/}siteinfo' at 0x115fa3e08>, <Element '{http://www.mediawiki.org/xml/export-0.10/}page' at 0x115e7c2c8>, <Element '{http://www.mediawiki.org/xml/export-0.10/}page' at 0x115fa8778>, <Element '{http://www.mediawiki.org/xml/export-0.10/}page' at 0x115fa3c28>, <Element '{http://www.mediawiki.org/xml/export-0.10/}page' at 0x115fa3098>, <Element '{http://www.mediawiki.org/xml/export-0.10/}page' at 0x115fa8f48>, <Element '{http://www.mediawiki.org/xml/export-0.10/}page' at 0x115f9f598>, <Element '{http://www.mediawiki.org/xml/export-0.10/}page' at 0x115f9fc28>, <Element '{http://www.mediawiki.org/xml/export-0.10/}page' at 0x115ea4368>, <Element '{http://www.mediawiki.org/xml/export-0.10/}page' at 0x115ea49f8>]\n"
     ]
    }
   ],
   "source": [
    "# Alternate way to get all children from root\n",
    "# view first 10 children of root\n",
    "root_children = root.getchildren()\n",
    "print(root_children[:10])"
   ]
  },
  {
   "cell_type": "code",
   "execution_count": 11,
   "metadata": {},
   "outputs": [
    {
     "name": "stdout",
     "output_type": "stream",
     "text": [
      "<Element '{http://www.mediawiki.org/xml/export-0.10/}mediawiki' at 0x115fa3688> \n",
      "\n",
      "{http://www.mediawiki.org/xml/export-0.10/}siteinfo\n",
      "{http://www.mediawiki.org/xml/export-0.10/}sitename \n",
      " Wikipedia\n",
      "{http://www.mediawiki.org/xml/export-0.10/}dbname \n",
      " enwiki\n",
      "{http://www.mediawiki.org/xml/export-0.10/}base \n",
      " https://en.wikipedia.org/wiki/Main_Page\n",
      "{http://www.mediawiki.org/xml/export-0.10/}generator \n",
      " MediaWiki 1.30.0-wmf.9\n",
      "{http://www.mediawiki.org/xml/export-0.10/}case \n",
      " first-letter\n",
      "{http://www.mediawiki.org/xml/export-0.10/}namespaces \n",
      " \n",
      "      \n",
      "{http://www.mediawiki.org/xml/export-0.10/}page\n",
      "{http://www.mediawiki.org/xml/export-0.10/}title \n",
      " Category:Dog shows and showing\n",
      "{http://www.mediawiki.org/xml/export-0.10/}ns \n",
      " 14\n",
      "{http://www.mediawiki.org/xml/export-0.10/}id \n",
      " 970284\n",
      "{http://www.mediawiki.org/xml/export-0.10/}revision \n",
      " \n",
      "      \n",
      "{http://www.mediawiki.org/xml/export-0.10/}page\n",
      "{http://www.mediawiki.org/xml/export-0.10/}title \n",
      " Category:Dog health\n",
      "{http://www.mediawiki.org/xml/export-0.10/}ns \n",
      " 14\n",
      "{http://www.mediawiki.org/xml/export-0.10/}id \n",
      " 972913\n",
      "{http://www.mediawiki.org/xml/export-0.10/}revision \n",
      " \n",
      "      \n",
      "{http://www.mediawiki.org/xml/export-0.10/}page\n",
      "{http://www.mediawiki.org/xml/export-0.10/}title \n",
      " Category:Dog organizations\n",
      "{http://www.mediawiki.org/xml/export-0.10/}ns \n",
      " 14\n",
      "{http://www.mediawiki.org/xml/export-0.10/}id \n",
      " 970251\n",
      "{http://www.mediawiki.org/xml/export-0.10/}revision \n",
      " \n",
      "      \n"
     ]
    }
   ],
   "source": [
    "# Explore a subset of root (i.e. children of root)\n",
    "print(root,'\\n')\n",
    "for child in root.getchildren()[:4]:\n",
    "    if len(child) > 0:\n",
    "        print(child.tag)\n",
    "        for gchild in child.getchildren():\n",
    "            print(gchild.tag, '\\n', gchild.text)"
   ]
  },
  {
   "cell_type": "code",
   "execution_count": 12,
   "metadata": {},
   "outputs": [
    {
     "name": "stdout",
     "output_type": "stream",
     "text": [
      "<Element '{http://www.mediawiki.org/xml/export-0.10/}page' at 0x115e7c2c8> \n",
      "\n",
      "Branches of {http://www.mediawiki.org/xml/export-0.10/}page:\n",
      "\n",
      "{http://www.mediawiki.org/xml/export-0.10/}revision\n",
      "{http://www.mediawiki.org/xml/export-0.10/}id \n",
      " 732620169\n",
      "{http://www.mediawiki.org/xml/export-0.10/}parentid \n",
      " 696498320\n",
      "{http://www.mediawiki.org/xml/export-0.10/}timestamp \n",
      " 2016-08-02T04:39:56Z\n",
      "{http://www.mediawiki.org/xml/export-0.10/}contributor \n",
      " \n",
      "        \n",
      "{http://www.mediawiki.org/xml/export-0.10/}comment \n",
      " new key for [[Category:Animal shows]]: \" Dog\" using [[WP:HC|HotCat]]\n",
      "{http://www.mediawiki.org/xml/export-0.10/}model \n",
      " wikitext\n",
      "{http://www.mediawiki.org/xml/export-0.10/}format \n",
      " text/x-wiki\n",
      "{http://www.mediawiki.org/xml/export-0.10/}text \n",
      " {{Cat main|Conformation show|Show dog}}\n",
      "{{portal|Dogs}}\n",
      "This is an automatically collected list of articles related to showing dogs for their appearance in [[conformation show]]s.\n",
      "\n",
      "[[Category:Dogs|Shows and showing]]\n",
      "[[Category:Competitions]]\n",
      "[[Category:Animal shows| Dog]]\n",
      "{http://www.mediawiki.org/xml/export-0.10/}sha1 \n",
      " ped6gig54h8aoyh4ggfzxyjwszg8sz9\n"
     ]
    }
   ],
   "source": [
    "# Dive deeper into the tree by exploring a page from root (i.e. grandchildren of root)\n",
    "child_index = 1\n",
    "print(root[child_index],'\\n')\n",
    "# Children are nested, and we can access specific child nodes by index\n",
    "# Fully explore branches of a page\n",
    "print('Branches of %s:\\n' % (root.getchildren()[child_index].tag))\n",
    "for child in root[child_index].getchildren():\n",
    "    if len(child) > 0:\n",
    "        print(child.tag)\n",
    "        for gchild in child.getchildren():\n",
    "            print(gchild.tag, '\\n', gchild.text)"
   ]
  },
  {
   "cell_type": "markdown",
   "metadata": {},
   "source": [
    "## Test WikiPage Class"
   ]
  },
  {
   "cell_type": "code",
   "execution_count": 13,
   "metadata": {
    "collapsed": true
   },
   "outputs": [],
   "source": [
    "test_index = 85\n",
    "test = WikiPage(root[test_index])"
   ]
  },
  {
   "cell_type": "code",
   "execution_count": 14,
   "metadata": {},
   "outputs": [
    {
     "name": "stdout",
     "output_type": "stream",
     "text": [
      "https://en.wikipedia.org/wiki/File:Hawaiian_Poi_Dog_from_Jack_L._Throp's_program,_c._1969.jpg\n",
      "53486800\n",
      "== Summary ==\n",
      "{{Non-free use rationale \n",
      "| Article           = Hawaiian Poi Dog\n",
      "| Description       =Female bred in Jack L. Throp's program at the Honolulu Zoo to reconstitute the early Hawaiian breed. Photo courtesy of ''The Honolulu Advertiser''. \n",
      "| Source            ={{cite journal|last1=Titcomb|first1=Margaret|last2=Pukui|first2=Mary Kawena|title=Dog and Man in the Ancient Pacific, with Special Attention to Hawaii|volume=59|year=1969|publisher=Bernice P. Bishop Museum Special Publications|location=Honolulu|oclc=925631874|page=23}}\n",
      "| Portion           = Entire\n",
      "| Low resolution    = Yes  \n",
      "| Purpose           = The photo is only being used for informational purposes. Its inclusion in the article adds significantly to the article because the photo and its historical significance are the object of discussion in the article.\n",
      "| Replaceability    = \n",
      "As the subject is deceased, and the program has discontinued, no free equivalent could reasonably be obtained or created to replace this media. \n",
      "| Other information = \n",
      "*The use of this image on Wikipedia is contended to be a fair use, since it is used solely for educational purposes in a not-for-profit encyclopedia, is necessary for cultural and historical purposes, and the material value of the possible copyright is not believed to be lessened by its use here\n",
      "*It is believed that the use of this image on the English-language Wikipedia to illustrate an article on the person in question falls under the \"Non-profit educational\" clause of the Fair Use doctrine currently upheld by United States law. ([http://www.law.cornell.edu/uscode/html/uscode17/usc_sec_17_00000107----000-.html 17 U.S.C. § 107])\n",
      "*It is a low resolution copy\n",
      "*It is only being used to illustrate the article in question\n",
      "*The image is irreplaceable; a free analogue is impossible to produce as the original will be covered by copyright for the foreseeable future\n",
      "*Owing to the limited web-resolution of the image, only a small portion of a copyrighted work is used\n",
      "*It does not limit the copyright owner's rights to sell the image in any way\n",
      "*For the same reasons, the portion of the copyrighted work used is of inherently lower quality than the original, reducing the risk of competitiveness and therefore the effects of this copy on the market for or value of versions held by the owner of the copyright\n",
      "}}\n",
      "\n",
      "== Licensing ==\n",
      "{{Non-free historic image|image has rationale=yes}}\n",
      "\n",
      "[[Category:Hawaii]]\n",
      "[[Category:Dogs]]\n",
      "781211804\n"
     ]
    }
   ],
   "source": [
    "print(test.website)\n",
    "print(test.id)\n",
    "print(test.text_raw)\n",
    "print(test.text_parentid)"
   ]
  },
  {
   "cell_type": "code",
   "execution_count": 15,
   "metadata": {},
   "outputs": [
    {
     "data": {
      "text/plain": [
       "[<Element '{http://www.mediawiki.org/xml/export-0.10/}title' at 0x11620f048>,\n",
       " <Element '{http://www.mediawiki.org/xml/export-0.10/}ns' at 0x11620f098>,\n",
       " <Element '{http://www.mediawiki.org/xml/export-0.10/}id' at 0x11620f0e8>,\n",
       " <Element '{http://www.mediawiki.org/xml/export-0.10/}revision' at 0x11620f138>]"
      ]
     },
     "execution_count": 15,
     "metadata": {},
     "output_type": "execute_result"
    }
   ],
   "source": [
    "test.children"
   ]
  },
  {
   "cell_type": "code",
   "execution_count": 16,
   "metadata": {},
   "outputs": [
    {
     "data": {
      "text/plain": [
       "xml.etree.ElementTree.Element"
      ]
     },
     "execution_count": 16,
     "metadata": {},
     "output_type": "execute_result"
    }
   ],
   "source": [
    "type(test.children[0])"
   ]
  },
  {
   "cell_type": "code",
   "execution_count": 17,
   "metadata": {},
   "outputs": [
    {
     "data": {
      "text/html": [
       "<div>\n",
       "<style>\n",
       "    .dataframe thead tr:only-child th {\n",
       "        text-align: right;\n",
       "    }\n",
       "\n",
       "    .dataframe thead th {\n",
       "        text-align: left;\n",
       "    }\n",
       "\n",
       "    .dataframe tbody tr th {\n",
       "        vertical-align: top;\n",
       "    }\n",
       "</style>\n",
       "<table border=\"1\" class=\"dataframe\">\n",
       "  <thead>\n",
       "    <tr style=\"text-align: right;\">\n",
       "      <th></th>\n",
       "      <th>id</th>\n",
       "      <th>website</th>\n",
       "      <th>text_raw</th>\n",
       "    </tr>\n",
       "  </thead>\n",
       "  <tbody>\n",
       "    <tr>\n",
       "      <th>0</th>\n",
       "      <td>53486800</td>\n",
       "      <td>https://en.wikipedia.org/wiki/File:Hawaiian_Po...</td>\n",
       "      <td>== Summary ==\\n{{Non-free use rationale \\n| Ar...</td>\n",
       "    </tr>\n",
       "  </tbody>\n",
       "</table>\n",
       "</div>"
      ],
      "text/plain": [
       "         id                                            website  \\\n",
       "0  53486800  https://en.wikipedia.org/wiki/File:Hawaiian_Po...   \n",
       "\n",
       "                                            text_raw  \n",
       "0  == Summary ==\\n{{Non-free use rationale \\n| Ar...  "
      ]
     },
     "execution_count": 17,
     "metadata": {},
     "output_type": "execute_result"
    }
   ],
   "source": [
    "test.data"
   ]
  },
  {
   "cell_type": "code",
   "execution_count": 18,
   "metadata": {},
   "outputs": [
    {
     "name": "stdout",
     "output_type": "stream",
     "text": [
      "https://en.wikipedia.org/wiki/File:Hawaiian_Poi_Dog_from_Jack_L._Throp's_program,_c._1969.jpg\n"
     ]
    }
   ],
   "source": [
    "print(test.data.website[0])"
   ]
  },
  {
   "cell_type": "code",
   "execution_count": null,
   "metadata": {
    "collapsed": true
   },
   "outputs": [],
   "source": []
  }
 ],
 "metadata": {
  "kernelspec": {
   "display_name": "Python 3",
   "language": "python",
   "name": "python3"
  },
  "language_info": {
   "codemirror_mode": {
    "name": "ipython",
    "version": 3
   },
   "file_extension": ".py",
   "mimetype": "text/x-python",
   "name": "python",
   "nbconvert_exporter": "python",
   "pygments_lexer": "ipython3",
   "version": "3.6.1"
  }
 },
 "nbformat": 4,
 "nbformat_minor": 2
}
