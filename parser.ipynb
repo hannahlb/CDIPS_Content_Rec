{
 "cells": [
  {
   "cell_type": "code",
   "execution_count": 1,
   "metadata": {
    "collapsed": true
   },
   "outputs": [],
   "source": [
    "import os, sys\n",
    "import pandas as pd\n",
    "import numpy as np\n",
    "import xml.etree.ElementTree as ET\n",
    "sys.path.insert(0, 'scripts')\n",
    "from WikiPage import WikiPage"
   ]
  },
  {
   "cell_type": "code",
   "execution_count": 2,
   "metadata": {
    "collapsed": true
   },
   "outputs": [],
   "source": [
    "os.chdir('data')\n",
    "xmlfile = 'Wikipedia-20170717213140.xml'"
   ]
  },
  {
   "cell_type": "markdown",
   "metadata": {},
   "source": [
    "# Parse file\n",
    "\n",
    "Loop over lines in the XML file and look for appearances of:\n",
    "* title\n",
    "* id\n",
    "* text\n",
    "\n",
    "At each step, save the variables into a dictionary.\n",
    "\n",
    "After reading the file, the dictionary \"data\" is saved into a \"csv\" file.\n"
   ]
  },
  {
   "cell_type": "code",
   "execution_count": 3,
   "metadata": {
    "collapsed": true
   },
   "outputs": [],
   "source": [
    "outfile = xmlfile.replace(\"xml\",\"csv\")\n",
    "data = []"
   ]
  },
  {
   "cell_type": "raw",
   "metadata": {
    "collapsed": true
   },
   "source": [
    "f = open(xmlfile,\"r\")\n",
    "\n",
    "state=0\n",
    "page={}\n",
    "for line in f.readlines():\n",
    "    if(state==0):\n",
    "        # Look for keywork \"page\" and jump to state=1\n",
    "        if \"page\" in line:\n",
    "            state=1\n",
    "    elif(state==1):\n",
    "        # Look for keyword \"title\" and jump to state=2\n",
    "        # store \"title\"\n",
    "        if \"title\" in line:\n",
    "            ll=line.replace(\"<title>\",\"\")\n",
    "            title=ll.replace(\"</title>\",\"\").strip()\n",
    "            page['title']=title\n",
    "            #print(title)\n",
    "            state=2\n",
    "    elif(state==2):\n",
    "        # Look for keywork \"id\" and jump to state=3\n",
    "        # store \"id\"\n",
    "        if \"id\" in line:\n",
    "            ll=line.replace(\"<id>\",\"\")\n",
    "            aid=ll.replace(\"</id>\",\"\").strip()\n",
    "            page['id']=aid\n",
    "            #print(aid)\n",
    "            state=3\n",
    "    elif state==3:\n",
    "        # Look for keywork \"<text\"\n",
    "        if (\"<text\" in line):\n",
    "            line=line.replace(\"<text\",\"\").strip()\n",
    "            ll=line.split(\">\")\n",
    "            text=ll[1]\n",
    "            if \"</text>\" in text:\n",
    "                # If found </text> then jump to state=5, and store text\n",
    "                text=text.replace(\"</text>\",\"\")\n",
    "                state=5\n",
    "            else:\n",
    "                state=4\n",
    "    elif state==4:\n",
    "        # If found </text> then jump to state=5, and store text\n",
    "        if \"</text>\" in line:\n",
    "            ll=line.replace(\"</text>\",\"\").strip()\n",
    "            text=text+ll\n",
    "            state=5\n",
    "        else:\n",
    "            text=text+line.strip()\n",
    "    elif(state==5):\n",
    "        # \"</page>\" return to the top (state=0)\n",
    "        # add current page dictionary into the list.\n",
    "        if \"</page>\" in line:\n",
    "            page['text']=text\n",
    "            #print(text)\n",
    "            data.append(page)\n",
    "            page={}\n",
    "            state=0\n",
    "            \n",
    "f.close()"
   ]
  },
  {
   "cell_type": "markdown",
   "metadata": {},
   "source": [
    "# Parsing xml using ElementTree\n",
    "\n",
    "For a short tutorial, see: https://docs.python.org/3/library/xml.etree.elementtree.html#module-xml.etree.ElementTree"
   ]
  },
  {
   "cell_type": "code",
   "execution_count": 4,
   "metadata": {
    "collapsed": true
   },
   "outputs": [],
   "source": [
    "def get_xml_field(xml_data):\n",
    "    '''Returns field from xml'''\n",
    "    return xml_data.tag.split('}')[1]"
   ]
  },
  {
   "cell_type": "code",
   "execution_count": 5,
   "metadata": {
    "collapsed": true
   },
   "outputs": [],
   "source": [
    "tree = ET.parse(xmlfile)\n",
    "root = tree.getroot()"
   ]
  },
  {
   "cell_type": "code",
   "execution_count": 6,
   "metadata": {},
   "outputs": [
    {
     "name": "stdout",
     "output_type": "stream",
     "text": [
      "{http://www.mediawiki.org/xml/export-0.10/}mediawiki\n",
      "{'{http://www.w3.org/2001/XMLSchema-instance}schemaLocation': 'http://www.mediawiki.org/xml/export-0.10/ http://www.mediawiki.org/xml/export-0.10.xsd', 'version': '0.10', '{http://www.w3.org/XML/1998/namespace}lang': 'en'}\n"
     ]
    }
   ],
   "source": [
    "# As an Element, root has a tag and a dictionary of attributes\n",
    "print(root.tag)\n",
    "print(root.attrib)"
   ]
  },
  {
   "cell_type": "code",
   "execution_count": 7,
   "metadata": {},
   "outputs": [
    {
     "name": "stdout",
     "output_type": "stream",
     "text": [
      "{http://www.mediawiki.org/xml/export-0.10/}siteinfo\n",
      "{http://www.mediawiki.org/xml/export-0.10/}page\n",
      "{http://www.mediawiki.org/xml/export-0.10/}page\n",
      "{http://www.mediawiki.org/xml/export-0.10/}page\n",
      "{http://www.mediawiki.org/xml/export-0.10/}page\n",
      "{http://www.mediawiki.org/xml/export-0.10/}page\n",
      "{http://www.mediawiki.org/xml/export-0.10/}page\n",
      "{http://www.mediawiki.org/xml/export-0.10/}page\n",
      "{http://www.mediawiki.org/xml/export-0.10/}page\n",
      "{http://www.mediawiki.org/xml/export-0.10/}page\n"
     ]
    }
   ],
   "source": [
    "# Root also has children nodes over which we can iterate\n",
    "# examine first 10 entries\n",
    "for child in root[:10]:\n",
    "     print(child.tag)"
   ]
  },
  {
   "cell_type": "code",
   "execution_count": 8,
   "metadata": {},
   "outputs": [
    {
     "name": "stdout",
     "output_type": "stream",
     "text": [
      "[<Element '{http://www.mediawiki.org/xml/export-0.10/}siteinfo' at 0x10d3ec2c8>, <Element '{http://www.mediawiki.org/xml/export-0.10/}page' at 0x10d3f8138>, <Element '{http://www.mediawiki.org/xml/export-0.10/}page' at 0x10d3f89a8>, <Element '{http://www.mediawiki.org/xml/export-0.10/}page' at 0x10d3fb048>, <Element '{http://www.mediawiki.org/xml/export-0.10/}page' at 0x10d3fb638>, <Element '{http://www.mediawiki.org/xml/export-0.10/}page' at 0x10d3fbcc8>, <Element '{http://www.mediawiki.org/xml/export-0.10/}page' at 0x10d3fe318>, <Element '{http://www.mediawiki.org/xml/export-0.10/}page' at 0x10d3fe9a8>, <Element '{http://www.mediawiki.org/xml/export-0.10/}page' at 0x10d3e3a98>, <Element '{http://www.mediawiki.org/xml/export-0.10/}page' at 0x10d403188>]\n"
     ]
    }
   ],
   "source": [
    "# Alternate way to get all children from root\n",
    "# view first 10 children of root\n",
    "root_children = root.getchildren()\n",
    "print(root_children[:10])"
   ]
  },
  {
   "cell_type": "code",
   "execution_count": 9,
   "metadata": {},
   "outputs": [
    {
     "name": "stdout",
     "output_type": "stream",
     "text": [
      "<Element '{http://www.mediawiki.org/xml/export-0.10/}mediawiki' at 0x10d3ec278> \n",
      "\n",
      "{http://www.mediawiki.org/xml/export-0.10/}siteinfo\n",
      "{http://www.mediawiki.org/xml/export-0.10/}sitename \n",
      " Wikipedia\n",
      "{http://www.mediawiki.org/xml/export-0.10/}dbname \n",
      " enwiki\n",
      "{http://www.mediawiki.org/xml/export-0.10/}base \n",
      " https://en.wikipedia.org/wiki/Main_Page\n",
      "{http://www.mediawiki.org/xml/export-0.10/}generator \n",
      " MediaWiki 1.30.0-wmf.9\n",
      "{http://www.mediawiki.org/xml/export-0.10/}case \n",
      " first-letter\n",
      "{http://www.mediawiki.org/xml/export-0.10/}namespaces \n",
      " \n",
      "      \n",
      "{http://www.mediawiki.org/xml/export-0.10/}page\n",
      "{http://www.mediawiki.org/xml/export-0.10/}title \n",
      " Category:Dog shows and showing\n",
      "{http://www.mediawiki.org/xml/export-0.10/}ns \n",
      " 14\n",
      "{http://www.mediawiki.org/xml/export-0.10/}id \n",
      " 970284\n",
      "{http://www.mediawiki.org/xml/export-0.10/}revision \n",
      " \n",
      "      \n",
      "{http://www.mediawiki.org/xml/export-0.10/}page\n",
      "{http://www.mediawiki.org/xml/export-0.10/}title \n",
      " Category:Dog health\n",
      "{http://www.mediawiki.org/xml/export-0.10/}ns \n",
      " 14\n",
      "{http://www.mediawiki.org/xml/export-0.10/}id \n",
      " 972913\n",
      "{http://www.mediawiki.org/xml/export-0.10/}revision \n",
      " \n",
      "      \n",
      "{http://www.mediawiki.org/xml/export-0.10/}page\n",
      "{http://www.mediawiki.org/xml/export-0.10/}title \n",
      " Category:Dog organizations\n",
      "{http://www.mediawiki.org/xml/export-0.10/}ns \n",
      " 14\n",
      "{http://www.mediawiki.org/xml/export-0.10/}id \n",
      " 970251\n",
      "{http://www.mediawiki.org/xml/export-0.10/}revision \n",
      " \n",
      "      \n"
     ]
    }
   ],
   "source": [
    "# Explore a subset of root (i.e. children of root)\n",
    "print(root,'\\n')\n",
    "for child in root.getchildren()[:4]:\n",
    "    if len(child) > 0:\n",
    "        print(child.tag)\n",
    "        for gchild in child.getchildren():\n",
    "            print(gchild.tag, '\\n', gchild.text)"
   ]
  },
  {
   "cell_type": "code",
   "execution_count": 10,
   "metadata": {},
   "outputs": [
    {
     "name": "stdout",
     "output_type": "stream",
     "text": [
      "<Element '{http://www.mediawiki.org/xml/export-0.10/}page' at 0x10d4672c8> \n",
      "\n",
      "Branches of {http://www.mediawiki.org/xml/export-0.10/}page:\n",
      "\n",
      "{http://www.mediawiki.org/xml/export-0.10/}revision\n",
      "{http://www.mediawiki.org/xml/export-0.10/}id \n",
      " 691460390\n",
      "{http://www.mediawiki.org/xml/export-0.10/}parentid \n",
      " 685069728\n",
      "{http://www.mediawiki.org/xml/export-0.10/}timestamp \n",
      " 2015-11-19T23:52:50Z\n",
      "{http://www.mediawiki.org/xml/export-0.10/}contributor \n",
      " \n",
      "        \n",
      "{http://www.mediawiki.org/xml/export-0.10/}comment \n",
      " Remove duplicate name from reference - it doesn't need one and it's causing error in the ref list\n",
      "{http://www.mediawiki.org/xml/export-0.10/}model \n",
      " wikitext\n",
      "{http://www.mediawiki.org/xml/export-0.10/}format \n",
      " text/x-wiki\n",
      "{http://www.mediawiki.org/xml/export-0.10/}text \n",
      " {{Infobox award\n",
      "| name           = PDSA Certificate for Animal Bravery or Devotion\n",
      "| current_awards = \n",
      "| image          = \n",
      "| imagesize      = 150px\n",
      "| alt            = \n",
      "| caption        = The PDSA Certificate for Animal Bravery or Devotion\n",
      "| description    = Animal gallantry and devotion to duty\n",
      "| presenter      = [[People's Dispensary for Sick Animals]]\n",
      "| country        =  United Kingdom\n",
      "| location       = \n",
      "| year           = 2001\n",
      "| year2          = \n",
      "| holder         = \n",
      "| website        = \n",
      "}}\n",
      "\n",
      "The '''PDSA Certificate for Animal Bravery or Devotion''' is an animal bravery award that acknowledges the extraordinary bravery and devotion to duty of animals.<ref>{{cite web|title=PDSA Report and Accounts 2009|url=http://www.charity-commission.gov.uk/ScannedAccounts/Ends17/0000208217_ac_20091231_e_c.pdf|publisher=Charity Commission|accessdate=8 April 2011|format=PDF}}</ref>   It was created by the [[People's Dispensary for Sick Animals]] (PDSA) in 2001.<ref name=dottypdsa/> So far all of the recipients have been [[dog]]s except for Dotty, a [[donkey]].<ref name=dottypdsa/>\n",
      "\n",
      "==Recipients==\n",
      "{| class=\"wikitable\"\n",
      "|-\n",
      "|style=\"background:#FFDDCC;\"|*\n",
      "|Awarded posthumously\n",
      "|}\n",
      "\n",
      "{| class=\"sortable wikitable\"\n",
      "! Date<br />of award\n",
      "! Recipient\n",
      "! class=\"unsortable\"| Notes\n",
      "! Date<br />of incident\n",
      "! class=\"unsortable\" align=center |Ref(s)\n",
      "|-\n",
      "| {{sort|200904|April 2009}}\n",
      "| [[Toby (dog)|Toby]]\n",
      "| A black [[Labrador Retriever]] from [[Lancashire]] who was stabbed four times in the chest and legs by an armed [[burglar]], but still successfully chased him from the property. \n",
      "| {{sort|200706|June 2007}}\n",
      "| align=center |<ref name=tobybbc>{{cite news|title=Dog honoured for tackling burglar|url=http://news.bbc.co.uk/1/hi/england/lancashire/8005669.stm|newspaper=BBC News|date=18 April 2009}}</ref> \n",
      "|-\n",
      "| {{sort|200905|May 2009}}\n",
      "| [[Wicker (dog)|Wicker]]\n",
      "| A pet [[German Shepherd Dog|German Shepherd]]-cross who aided his owner's son when he had an [[Epilepsy|epileptic]] fit and fetched help.\n",
      "| {{sort|200602|February 2006}}\n",
      "| align=center |<ref name=wickerpdsa>{{cite news|title=Brave dog Wicker receives a PDSA Certificate for her life-saving action|url=http://www.pdsa.org.uk/about-us/media-pr-centre/news/1050_brave-dog-wicker-receives-a-pdsa-certificate-for-her-life_saving-action|newspaper=PDSA|date=20 May 2009}}</ref> \n",
      "|-\n",
      "| {{sort|201011|November 2010}}\n",
      "| [[Orlando (dog)|Orlando]]\n",
      "| A [[Miniature Schnauzer]] who attracted attention to his elderly owner when she slipped and fell in her garden late one evening.\n",
      "| {{sort|200801|October 2007}}\n",
      "| align=center |<ref name=orlandopdsa>{{cite news|title=Hero dog Orlando is honoured for his life-saving devotion|url=http://www.pdsa.org.uk/about-us/media-pr-centre/news/1209_hero-dog-orlando-is-honoured-for-his-life_saving-devotion|newspaper=PDSA|date=18 November 2010}}</ref> \n",
      "|-\n",
      "| {{sort|201104|April 2011}}\n",
      "| [[Dotty (donkey)|Dotty]]\n",
      "| A [[donkey]] that came to her stablemate's aid, a [[sheep]], when it was attacked by a [[Pit Bull]].\n",
      "| {{sort|200904|April 2009}}\n",
      "| align=center |<ref name=dottypdsa>{{cite news|title=Brave donkey honoured for saving sheep from dog attack|url=http://www.pdsa.org.uk/about-us/media-pr-centre/news/1233_brave-donkey-honoured-for-saving-sheep-from-dog-attack|newspaper=PDSA|date=18 November 2010}}</ref><ref name=donkeydailymail>{{cite news|title=Kick ass! How Dotty the donkey saved her friend Stanley the sheep from mauling by a pitbull|url=http://www.dailymail.co.uk/news/article-1373683/How-Dotty-Donkey-saved-Stanley-Sheep-mauling-pitbull.html|newspaper=Daily Mail|date=6 April 2011}}</ref>\n",
      "|-\n",
      "| style=\"background:#FFDDCC;\"|{{sort|201104|April 2011*}}\n",
      "| [[Smoky (dog)|Smoky]]\n",
      "| A [[Yorkshire Terrier]] army mascot from [[World War II]] that was the first [[therapy dog]] on record, and pulled communication cables through a seventy foot long drainage culvert under a recently captured airstrip.\n",
      "| {{sort|194501|January 1945}}\n",
      "| align=center |<ref name=smoky>{{cite web|title=Bill Wynne & Smoky|url=http://www.yorkshireterrier.no/Bill_Wynne_Smoky.html|work=PDSA|publisher=YorkshireTerrier.no|accessdate=8 May 2011}}</ref>\n",
      "|-\n",
      "| {{sort|201011|June 2011}}\n",
      "| [[Brin (dog)|Brin]]\n",
      "| A [[Stray Dog]] from [[Helmand Province]] [[Afghanistan]] who accompanied [[United Kingdom|British]] troops on patrol for [[Improvised explosive device|IED]] devices.\n",
      "| {{sort|200801|May 2010}}\n",
      "| align=center |<ref name=brinmetro>{{cite news|title=Brin the Afghanistan Bomb Dog Gets New Life|url=http://www.metro.co.uk/news/842435-afghanistan-bomb-dogs-new-life|newspaper=PDSA|date=18 May 2011}}</ref> \n",
      "|-\n",
      "| {{sort|201105|May 2011}}\n",
      "| [[Piper (dog)|Piper]]\n",
      "| A [[Labrador Retriever]] [[guide dog]] that defended his blind owner when she was attacked, before walking her home while injured.\n",
      "| {{sort|200801|June 2010}}\n",
      "| align=center |<ref>{{cite news|title=Hero dog Orlando is honoured for his life-saving devotion|url=http://www.metro.co.uk/news/842435-afghanistan-bomb-dogs-new-life|newspaper=PDSA|date=29 September 2010}}</ref> \n",
      "|-\n",
      "| {{sort|201112|December 2011}}\n",
      "| [[Peggy (dog)|Peggy]]\n",
      "| A Border Collie cross who barked to wake up her owner to alert her to a house fire.\n",
      "| March 2011\n",
      "| align=center |<ref name=Peggypdsa>{{cite news|title=Faithful dog Peggy is honoured by PDSA for her bravery in a house fire|url=http://www.pdsa.org.uk/about-us/media-pr-centre/news/1257_faithful-dog-peggy-is-honoured-by-pdsa-for-her-bravery-in-a-house-fire|newspaper=PDSA|date=8 December 2011}}</ref>\n",
      "|-\n",
      "|}\n",
      "\n",
      "==See also==\n",
      "*The [[Dickin Medal]], a separate award also administered by the PDSA, which was established by [[Maria Dickin]], founder of the PDSA, in 1943, to acknowledge acts of outstanding bravery by animals serving with military forces in theatres of war, and is considered the animal equivalent of the [[Victoria Cross]].<ref name=\"pdsa\">{{Cite web | url = http://www.pdsa.org.uk/about-us/animal-bravery-awards/pdsa-dickin-medal|title = PDSA Dickin Medal|publisher = [[People's Dispensary for Sick Animals]]|accessdate=7 October 2010}}</ref><ref>{{Cite web | url = http://www.bbc.co.uk/radio4/history/animals_vc.shtml |publisher = [[BBC Radio 4]] | title = The Animals' VC | accessdate=7 October 2010}}</ref>\n",
      "\n",
      "==References==\n",
      "{{reflist|2}}\n",
      "\n",
      "==External links==\n",
      "*{{cite web|url=http://www.pdsa.org.uk|title=PDSA &ndash; Home Page| publisher=[[People's Dispensary for Sick Animals]]|accessdate=8 April 2011}}\n",
      "\n",
      "{{DEFAULTSORT:Pdsa Certificate for Animal Bravery or Devotion}}\n",
      "[[Category:Dogs]]\n",
      "[[Category:Domesticated animals]]\n",
      "[[Category:Awards established in 2001]]\n",
      "[[Category:Awards to animals]]\n",
      "{http://www.mediawiki.org/xml/export-0.10/}sha1 \n",
      " ld0y08f5xmegnube92xawkzzgdzgcg4\n"
     ]
    }
   ],
   "source": [
    "# Dive deeper into the tree by exploring a page from root (i.e. grandchildren of root)\n",
    "child_index = 30\n",
    "print(root[child_index],'\\n')\n",
    "# Children are nested, and we can access specific child nodes by index\n",
    "# Fully explore branches of a page\n",
    "print('Branches of %s:\\n' % (root.getchildren()[child_index].tag))\n",
    "for child in root[child_index].getchildren():\n",
    "    if len(child) > 0:\n",
    "        print(child.tag)\n",
    "        for gchild in child.getchildren():\n",
    "            print(gchild.tag, '\\n', gchild.text)"
   ]
  },
  {
   "cell_type": "markdown",
   "metadata": {},
   "source": [
    "## Explore findall()"
   ]
  },
  {
   "cell_type": "code",
   "execution_count": 11,
   "metadata": {},
   "outputs": [
    {
     "name": "stdout",
     "output_type": "stream",
     "text": [
      "# of hits: 147 \n",
      "\n",
      "{{Cat main|Conformation show|Show dog}}\n",
      "{{portal|Dogs}}\n",
      "This is an automatically collected list of articles related to showing dogs for their appearance in [[conformation show]]s.\n",
      "\n",
      "[[Category:Dogs|Shows and showing]]\n",
      "[[Category:Competitions]]\n",
      "[[Category:Animal shows| Dog]]\n",
      "This is a collection of articles about the health and care of dogs, primarily domestic dogs. This includes medical conditions, health issues, parasites, surgical procedures, and similar topics.\n",
      "\n",
      "{{Cat main|Dog health}}\n",
      "{{Commons cat|Dog health}}\n",
      "\n",
      "[[Category:Dogs|Health]]\n",
      "[[Category:Mammal health]]\n",
      "This is an automatically collected list of articles about organizations related to [[dog]]s.\n",
      "\n",
      "[[Category:Dogs|Organizations]]\n",
      "[[Category:Animal organizations]]\n",
      "This is an automatically accumulated list of articles about sports involving dogs.\n",
      "\n",
      "{{Cat main|Dog sports}}\n",
      "{{Commons category|Dog sports}}\n",
      "\n",
      "[[Category:Dogs|Sports for dogs]]\n",
      "[[Category:Animals in sport]]\n",
      "[[Category:Dogs|Pets]]\n",
      "[[Category:Mammals as pets]]\n"
     ]
    }
   ],
   "source": [
    "base = '{http://www.mediawiki.org/xml/export-0.10/}'\n",
    "print('# of hits:', len(root.findall('*/%srevision/%stext' % (base, base))), '\\n')\n",
    "for rev_text in root.findall('*/%srevision/%stext' % (base, base))[:5]:\n",
    "    print(rev_text.text[:500])"
   ]
  },
  {
   "cell_type": "markdown",
   "metadata": {},
   "source": [
    "## Test WikiPage Class"
   ]
  },
  {
   "cell_type": "code",
   "execution_count": 12,
   "metadata": {
    "collapsed": true
   },
   "outputs": [],
   "source": [
    "test_index = 85\n",
    "test = WikiPage(root[test_index])"
   ]
  },
  {
   "cell_type": "code",
   "execution_count": 13,
   "metadata": {},
   "outputs": [
    {
     "name": "stdout",
     "output_type": "stream",
     "text": [
      "https://en.wikipedia.org/wiki/File:Hawaiian_Poi_Dog_from_Jack_L._Throp's_program,_c._1969.jpg\n",
      "53486800\n",
      "== Summary ==\n",
      "{{Non-free use rationale \n",
      "| Article           = Hawaiian Poi Dog\n",
      "| Description       =Female bred in Jack L. Throp's program at the Honolulu Zoo to reconstitute the early Hawaiian breed. Photo courtesy of ''The Honolulu Advertiser''. \n",
      "| Source            ={{cite journal|last1=Titcomb|first1=Margaret|last2=Pukui|first2=Mary Kawena|title=Dog and Man in the Ancient Pacific, with Special Attention to Hawaii|volume=59|year=1969|publisher=Bernice P. Bishop Museum Special Publications|location=Honolulu|oclc=925631874|page=23}}\n",
      "| Portion           = Entire\n",
      "| Low resolution    = Yes  \n",
      "| Purpose           = The photo is only being used for informational purposes. Its inclusion in the article adds significantly to the article because the photo and its historical significance are the object of discussion in the article.\n",
      "| Replaceability    = \n",
      "As the subject is deceased, and the program has discontinued, no free equivalent could reasonably be obtained or created to replace this media. \n",
      "| Other information = \n",
      "*The use of this image on Wikipedia is contended to be a fair use, since it is used solely for educational purposes in a not-for-profit encyclopedia, is necessary for cultural and historical purposes, and the material value of the possible copyright is not believed to be lessened by its use here\n",
      "*It is believed that the use of this image on the English-language Wikipedia to illustrate an article on the person in question falls under the \"Non-profit educational\" clause of the Fair Use doctrine currently upheld by United States law. ([http://www.law.cornell.edu/uscode/html/uscode17/usc_sec_17_00000107----000-.html 17 U.S.C. § 107])\n",
      "*It is a low resolution copy\n",
      "*It is only being used to illustrate the article in question\n",
      "*The image is irreplaceable; a free analogue is impossible to produce as the original will be covered by copyright for the foreseeable future\n",
      "*Owing to the limited web-resolution of the image, only a small portion of a copyrighted work is used\n",
      "*It does not limit the copyright owner's rights to sell the image in any way\n",
      "*For the same reasons, the portion of the copyrighted work used is of inherently lower quality than the original, reducing the risk of competitiveness and therefore the effects of this copy on the market for or value of versions held by the owner of the copyright\n",
      "}}\n",
      "\n",
      "== Licensing ==\n",
      "{{Non-free historic image|image has rationale=yes}}\n",
      "\n",
      "[[Category:Hawaii]]\n",
      "[[Category:Dogs]]\n",
      "781211804\n"
     ]
    }
   ],
   "source": [
    "print(test.website)\n",
    "print(test.id)\n",
    "print(test.text_raw)\n",
    "print(test.text_parentid)"
   ]
  },
  {
   "cell_type": "code",
   "execution_count": 14,
   "metadata": {},
   "outputs": [
    {
     "data": {
      "text/plain": [
       "[<Element '{http://www.mediawiki.org/xml/export-0.10/}title' at 0x10d5da778>,\n",
       " <Element '{http://www.mediawiki.org/xml/export-0.10/}ns' at 0x10d5da7c8>,\n",
       " <Element '{http://www.mediawiki.org/xml/export-0.10/}id' at 0x10d5da818>,\n",
       " <Element '{http://www.mediawiki.org/xml/export-0.10/}revision' at 0x10d5da868>]"
      ]
     },
     "execution_count": 14,
     "metadata": {},
     "output_type": "execute_result"
    }
   ],
   "source": [
    "test.children"
   ]
  },
  {
   "cell_type": "code",
   "execution_count": 15,
   "metadata": {},
   "outputs": [
    {
     "data": {
      "text/plain": [
       "xml.etree.ElementTree.Element"
      ]
     },
     "execution_count": 15,
     "metadata": {},
     "output_type": "execute_result"
    }
   ],
   "source": [
    "type(test.children[0])"
   ]
  },
  {
   "cell_type": "code",
   "execution_count": 16,
   "metadata": {},
   "outputs": [
    {
     "data": {
      "text/html": [
       "<div>\n",
       "<style>\n",
       "    .dataframe thead tr:only-child th {\n",
       "        text-align: right;\n",
       "    }\n",
       "\n",
       "    .dataframe thead th {\n",
       "        text-align: left;\n",
       "    }\n",
       "\n",
       "    .dataframe tbody tr th {\n",
       "        vertical-align: top;\n",
       "    }\n",
       "</style>\n",
       "<table border=\"1\" class=\"dataframe\">\n",
       "  <thead>\n",
       "    <tr style=\"text-align: right;\">\n",
       "      <th></th>\n",
       "      <th>website</th>\n",
       "      <th>page_type</th>\n",
       "      <th>text_raw</th>\n",
       "    </tr>\n",
       "  </thead>\n",
       "  <tbody>\n",
       "    <tr>\n",
       "      <th>53486800</th>\n",
       "      <td>https://en.wikipedia.org/wiki/File:Hawaiian_Po...</td>\n",
       "      <td>file</td>\n",
       "      <td>== Summary ==\\n{{Non-free use rationale \\n| Ar...</td>\n",
       "    </tr>\n",
       "  </tbody>\n",
       "</table>\n",
       "</div>"
      ],
      "text/plain": [
       "                                                    website page_type  \\\n",
       "53486800  https://en.wikipedia.org/wiki/File:Hawaiian_Po...      file   \n",
       "\n",
       "                                                   text_raw  \n",
       "53486800  == Summary ==\\n{{Non-free use rationale \\n| Ar...  "
      ]
     },
     "execution_count": 16,
     "metadata": {},
     "output_type": "execute_result"
    }
   ],
   "source": [
    "test.data"
   ]
  },
  {
   "cell_type": "code",
   "execution_count": 17,
   "metadata": {},
   "outputs": [
    {
     "name": "stdout",
     "output_type": "stream",
     "text": [
      "https://en.wikipedia.org/wiki/File:Hawaiian_Poi_Dog_from_Jack_L._Throp's_program,_c._1969.jpg\n"
     ]
    }
   ],
   "source": [
    "print(test.data.website[0])"
   ]
  },
  {
   "cell_type": "code",
   "execution_count": 18,
   "metadata": {},
   "outputs": [
    {
     "data": {
      "text/html": [
       "<div>\n",
       "<style>\n",
       "    .dataframe thead tr:only-child th {\n",
       "        text-align: right;\n",
       "    }\n",
       "\n",
       "    .dataframe thead th {\n",
       "        text-align: left;\n",
       "    }\n",
       "\n",
       "    .dataframe tbody tr th {\n",
       "        vertical-align: top;\n",
       "    }\n",
       "</style>\n",
       "<table border=\"1\" class=\"dataframe\">\n",
       "  <thead>\n",
       "    <tr style=\"text-align: right;\">\n",
       "      <th></th>\n",
       "      <th>website</th>\n",
       "      <th>page_type</th>\n",
       "      <th>text_raw</th>\n",
       "    </tr>\n",
       "  </thead>\n",
       "  <tbody>\n",
       "    <tr>\n",
       "      <th>970284</th>\n",
       "      <td>https://en.wikipedia.org/wiki/Category:Dog_sho...</td>\n",
       "      <td>category</td>\n",
       "      <td>{{Cat main|Conformation show|Show dog}}\\n{{por...</td>\n",
       "    </tr>\n",
       "    <tr>\n",
       "      <th>972913</th>\n",
       "      <td>https://en.wikipedia.org/wiki/Category:Dog_health</td>\n",
       "      <td>category</td>\n",
       "      <td>This is a collection of articles about the hea...</td>\n",
       "    </tr>\n",
       "    <tr>\n",
       "      <th>970251</th>\n",
       "      <td>https://en.wikipedia.org/wiki/Category:Dog_org...</td>\n",
       "      <td>category</td>\n",
       "      <td>This is an automatically collected list of art...</td>\n",
       "    </tr>\n",
       "    <tr>\n",
       "      <th>729436</th>\n",
       "      <td>https://en.wikipedia.org/wiki/Category:Dog_sports</td>\n",
       "      <td>category</td>\n",
       "      <td>This is an automatically accumulated list of a...</td>\n",
       "    </tr>\n",
       "    <tr>\n",
       "      <th>978163</th>\n",
       "      <td>https://en.wikipedia.org/wiki/Category:Dogs_as...</td>\n",
       "      <td>category</td>\n",
       "      <td>[[Category:Dogs|Pets]]\\n[[Category:Mammals as ...</td>\n",
       "    </tr>\n",
       "  </tbody>\n",
       "</table>\n",
       "</div>"
      ],
      "text/plain": [
       "                                                  website page_type  \\\n",
       "970284  https://en.wikipedia.org/wiki/Category:Dog_sho...  category   \n",
       "972913  https://en.wikipedia.org/wiki/Category:Dog_health  category   \n",
       "970251  https://en.wikipedia.org/wiki/Category:Dog_org...  category   \n",
       "729436  https://en.wikipedia.org/wiki/Category:Dog_sports  category   \n",
       "978163  https://en.wikipedia.org/wiki/Category:Dogs_as...  category   \n",
       "\n",
       "                                                 text_raw  \n",
       "970284  {{Cat main|Conformation show|Show dog}}\\n{{por...  \n",
       "972913  This is a collection of articles about the hea...  \n",
       "970251  This is an automatically collected list of art...  \n",
       "729436  This is an automatically accumulated list of a...  \n",
       "978163  [[Category:Dogs|Pets]]\\n[[Category:Mammals as ...  "
      ]
     },
     "execution_count": 18,
     "metadata": {},
     "output_type": "execute_result"
    }
   ],
   "source": [
    "from tools import merge_Wiki_pages\n",
    "df=merge_Wiki_pages(root)\n",
    "df.head()"
   ]
  },
  {
   "cell_type": "code",
   "execution_count": 19,
   "metadata": {
    "collapsed": true
   },
   "outputs": [],
   "source": [
    "#Write DF to file\n",
    "df.to_csv(outfile)\n"
   ]
  },
  {
   "cell_type": "code",
   "execution_count": null,
   "metadata": {
    "collapsed": true
   },
   "outputs": [],
   "source": []
  }
 ],
 "metadata": {
  "kernelspec": {
   "display_name": "Python 3",
   "language": "python",
   "name": "python3"
  },
  "language_info": {
   "codemirror_mode": {
    "name": "ipython",
    "version": 3
   },
   "file_extension": ".py",
   "mimetype": "text/x-python",
   "name": "python",
   "nbconvert_exporter": "python",
   "pygments_lexer": "ipython3",
   "version": "3.6.1"
  }
 },
 "nbformat": 4,
 "nbformat_minor": 2
}
