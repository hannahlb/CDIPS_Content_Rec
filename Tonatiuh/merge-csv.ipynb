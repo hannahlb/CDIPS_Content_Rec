{
 "cells": [
  {
   "cell_type": "markdown",
   "metadata": {
    "collapsed": true
   },
   "source": [
    "1. Read *Wikipedia.csv* as written via Wikipedia class.\n",
    "2. Tokenize the text, and save tokens into *df_token*.\n",
    "3. Build similarity matrix and write this to file *Wikipedia-sims.csv* with columns:  \n",
    "    id : *article id*  \n",
    "    similar_articles : *list of article ids*\n"
   ]
  },
  {
   "cell_type": "code",
   "execution_count": 1,
   "metadata": {
    "collapsed": true
   },
   "outputs": [],
   "source": [
    "import sys, os\n",
    "import pandas as pd"
   ]
  },
  {
   "cell_type": "markdown",
   "metadata": {},
   "source": [
    "# Read data\n",
    "\n",
    "Read .csv files and make a pandas dataframe."
   ]
  },
  {
   "cell_type": "code",
   "execution_count": 2,
   "metadata": {},
   "outputs": [
    {
     "data": {
      "text/html": [
       "<div>\n",
       "<style>\n",
       "    .dataframe thead tr:only-child th {\n",
       "        text-align: right;\n",
       "    }\n",
       "\n",
       "    .dataframe thead th {\n",
       "        text-align: left;\n",
       "    }\n",
       "\n",
       "    .dataframe tbody tr th {\n",
       "        vertical-align: top;\n",
       "    }\n",
       "</style>\n",
       "<table border=\"1\" class=\"dataframe\">\n",
       "  <thead>\n",
       "    <tr style=\"text-align: right;\">\n",
       "      <th></th>\n",
       "      <th>website</th>\n",
       "      <th>title</th>\n",
       "      <th>page_type</th>\n",
       "      <th>text_raw</th>\n",
       "    </tr>\n",
       "  </thead>\n",
       "  <tbody>\n",
       "    <tr>\n",
       "      <th>43590845</th>\n",
       "      <td>https://en.wikipedia.org/wiki/Whale_feces</td>\n",
       "      <td>Whale feces</td>\n",
       "      <td>article</td>\n",
       "      <td>[[File:WhalePump.jpg|thumb|400px|right|\"Whale ...</td>\n",
       "    </tr>\n",
       "    <tr>\n",
       "      <th>42614454</th>\n",
       "      <td>https://en.wikipedia.org/wiki/Whale_watching_i...</td>\n",
       "      <td>Whale watching in New Zealand</td>\n",
       "      <td>article</td>\n",
       "      <td>{{Use dmy dates|date=May 2017}}\\n[[File:Whale ...</td>\n",
       "    </tr>\n",
       "    <tr>\n",
       "      <th>49735416</th>\n",
       "      <td>https://en.wikipedia.org/wiki/Tail_sailing</td>\n",
       "      <td>Tail sailing</td>\n",
       "      <td>article</td>\n",
       "      <td>[[File:Southern right whale4.jpg|thumb|upright...</td>\n",
       "    </tr>\n",
       "    <tr>\n",
       "      <th>52243894</th>\n",
       "      <td>https://en.wikipedia.org/wiki/Bubble_net_feeding</td>\n",
       "      <td>Bubble net feeding</td>\n",
       "      <td>article</td>\n",
       "      <td>{{main|Cetacean surfacing behaviour}}\\n'''Bubb...</td>\n",
       "    </tr>\n",
       "    <tr>\n",
       "      <th>53720250</th>\n",
       "      <td>https://en.wikipedia.org/wiki/Ethelbert_(whale)</td>\n",
       "      <td>Ethelbert (whale)</td>\n",
       "      <td>article</td>\n",
       "      <td>{{no footnotes|date=June 2017}}\\n\\n'''Ethelber...</td>\n",
       "    </tr>\n",
       "  </tbody>\n",
       "</table>\n",
       "</div>"
      ],
      "text/plain": [
       "                                                    website  \\\n",
       "43590845          https://en.wikipedia.org/wiki/Whale_feces   \n",
       "42614454  https://en.wikipedia.org/wiki/Whale_watching_i...   \n",
       "49735416         https://en.wikipedia.org/wiki/Tail_sailing   \n",
       "52243894   https://en.wikipedia.org/wiki/Bubble_net_feeding   \n",
       "53720250    https://en.wikipedia.org/wiki/Ethelbert_(whale)   \n",
       "\n",
       "                                  title page_type  \\\n",
       "43590845                    Whale feces   article   \n",
       "42614454  Whale watching in New Zealand   article   \n",
       "49735416                   Tail sailing   article   \n",
       "52243894             Bubble net feeding   article   \n",
       "53720250              Ethelbert (whale)   article   \n",
       "\n",
       "                                                   text_raw  \n",
       "43590845  [[File:WhalePump.jpg|thumb|400px|right|\"Whale ...  \n",
       "42614454  {{Use dmy dates|date=May 2017}}\\n[[File:Whale ...  \n",
       "49735416  [[File:Southern right whale4.jpg|thumb|upright...  \n",
       "52243894  {{main|Cetacean surfacing behaviour}}\\n'''Bubb...  \n",
       "53720250  {{no footnotes|date=June 2017}}\\n\\n'''Ethelber...  "
      ]
     },
     "execution_count": 2,
     "metadata": {},
     "output_type": "execute_result"
    }
   ],
   "source": [
    "actual_dir=os.getcwd()\n",
    "os.chdir('../data')\n",
    "csvfile1 = 'Wikipedia-dog.csv'\n",
    "csvfile2 = 'Wikipedia-fish.csv'\n",
    "\n",
    "df=pd.read_csv(csvfile1,index_col=0)\n",
    "df2=pd.read_csv(csvfile2,index_col=0)\n",
    "df=df.append(df2)\n",
    "del df2\n",
    "\n",
    "df=df[df['page_type']=='article']\n",
    "\n",
    "df.tail(5)\n"
   ]
  },
  {
   "cell_type": "raw",
   "metadata": {
    "collapsed": true
   },
   "source": [
    "\n",
    "# LDA\n",
    "df_similarity=pd.DataFrame.from_dict(similarity_matrix_lda, orient='index')\n",
    "df_similarity.columns=['similar_articles','scores']\n",
    "df_similarity.to_csv('Wikipedia-sims-lda.csv')\n",
    "\n",
    "# HDP\n",
    "df_similarity=pd.DataFrame.from_dict(similarity_matrix_lda, orient='index')\n",
    "df_similarity.columns=['similar_articles','scores']\n",
    "df_similarity.to_csv('Wikipedia-sims-hdp.csv')"
   ]
  },
  {
   "cell_type": "code",
   "execution_count": null,
   "metadata": {
    "collapsed": true
   },
   "outputs": [],
   "source": []
  }
 ],
 "metadata": {
  "kernelspec": {
   "display_name": "Python 3",
   "language": "python",
   "name": "python3"
  },
  "language_info": {
   "codemirror_mode": {
    "name": "ipython",
    "version": 3
   },
   "file_extension": ".py",
   "mimetype": "text/x-python",
   "name": "python",
   "nbconvert_exporter": "python",
   "pygments_lexer": "ipython3",
   "version": "3.6.1"
  }
 },
 "nbformat": 4,
 "nbformat_minor": 2
}
