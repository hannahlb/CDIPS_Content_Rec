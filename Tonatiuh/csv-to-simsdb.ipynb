{
 "cells": [
  {
   "cell_type": "markdown",
   "metadata": {
    "collapsed": true
   },
   "source": [
    "1. Read *Wikipedia.csv* as written via Wikipedia class.\n",
    "2. Tokenize the text, and save tokens into *df_token*.\n",
    "3. Build similarity matrix and write this to file *Wikipedia-sims.csv* with columns:  \n",
    "    id : *article id*  \n",
    "    similar_articles : *list of article ids*\n"
   ]
  },
  {
   "cell_type": "code",
   "execution_count": 1,
   "metadata": {
    "collapsed": true
   },
   "outputs": [],
   "source": [
    "import sys, os\n",
    "import pandas as pd"
   ]
  },
  {
   "cell_type": "code",
   "execution_count": 2,
   "metadata": {},
   "outputs": [
    {
     "data": {
      "text/html": [
       "<div>\n",
       "<style>\n",
       "    .dataframe thead tr:only-child th {\n",
       "        text-align: right;\n",
       "    }\n",
       "\n",
       "    .dataframe thead th {\n",
       "        text-align: left;\n",
       "    }\n",
       "\n",
       "    .dataframe tbody tr th {\n",
       "        vertical-align: top;\n",
       "    }\n",
       "</style>\n",
       "<table border=\"1\" class=\"dataframe\">\n",
       "  <thead>\n",
       "    <tr style=\"text-align: right;\">\n",
       "      <th></th>\n",
       "      <th>website</th>\n",
       "      <th>title</th>\n",
       "      <th>page_type</th>\n",
       "      <th>text_raw</th>\n",
       "    </tr>\n",
       "  </thead>\n",
       "  <tbody>\n",
       "    <tr>\n",
       "      <th>970284</th>\n",
       "      <td>https://en.wikipedia.org/wiki/Category:Dog_sho...</td>\n",
       "      <td>Category:Dog shows and showing</td>\n",
       "      <td>category</td>\n",
       "      <td>{{Cat main|Conformation show|Show dog}}\\n{{por...</td>\n",
       "    </tr>\n",
       "    <tr>\n",
       "      <th>972913</th>\n",
       "      <td>https://en.wikipedia.org/wiki/Category:Dog_health</td>\n",
       "      <td>Category:Dog health</td>\n",
       "      <td>category</td>\n",
       "      <td>This is a collection of articles about the hea...</td>\n",
       "    </tr>\n",
       "    <tr>\n",
       "      <th>970251</th>\n",
       "      <td>https://en.wikipedia.org/wiki/Category:Dog_org...</td>\n",
       "      <td>Category:Dog organizations</td>\n",
       "      <td>category</td>\n",
       "      <td>This is an automatically collected list of art...</td>\n",
       "    </tr>\n",
       "    <tr>\n",
       "      <th>729436</th>\n",
       "      <td>https://en.wikipedia.org/wiki/Category:Dog_sports</td>\n",
       "      <td>Category:Dog sports</td>\n",
       "      <td>category</td>\n",
       "      <td>This is an automatically accumulated list of a...</td>\n",
       "    </tr>\n",
       "    <tr>\n",
       "      <th>978163</th>\n",
       "      <td>https://en.wikipedia.org/wiki/Category:Dogs_as...</td>\n",
       "      <td>Category:Dogs as pets</td>\n",
       "      <td>category</td>\n",
       "      <td>[[Category:Dogs|Pets]]\\n[[Category:Mammals as ...</td>\n",
       "    </tr>\n",
       "  </tbody>\n",
       "</table>\n",
       "</div>"
      ],
      "text/plain": [
       "                                                  website  \\\n",
       "970284  https://en.wikipedia.org/wiki/Category:Dog_sho...   \n",
       "972913  https://en.wikipedia.org/wiki/Category:Dog_health   \n",
       "970251  https://en.wikipedia.org/wiki/Category:Dog_org...   \n",
       "729436  https://en.wikipedia.org/wiki/Category:Dog_sports   \n",
       "978163  https://en.wikipedia.org/wiki/Category:Dogs_as...   \n",
       "\n",
       "                                 title page_type  \\\n",
       "970284  Category:Dog shows and showing  category   \n",
       "972913             Category:Dog health  category   \n",
       "970251      Category:Dog organizations  category   \n",
       "729436             Category:Dog sports  category   \n",
       "978163           Category:Dogs as pets  category   \n",
       "\n",
       "                                                 text_raw  \n",
       "970284  {{Cat main|Conformation show|Show dog}}\\n{{por...  \n",
       "972913  This is a collection of articles about the hea...  \n",
       "970251  This is an automatically collected list of art...  \n",
       "729436  This is an automatically accumulated list of a...  \n",
       "978163  [[Category:Dogs|Pets]]\\n[[Category:Mammals as ...  "
      ]
     },
     "execution_count": 2,
     "metadata": {},
     "output_type": "execute_result"
    }
   ],
   "source": [
    "os.chdir('../data')\n",
    "csvfile = 'Wikipedia.csv'\n",
    "\n",
    "df=pd.read_csv(csvfile,index_col=0)\n",
    "df.head(5)"
   ]
  },
  {
   "cell_type": "markdown",
   "metadata": {
    "collapsed": true
   },
   "source": [
    "Now let's use nltk to tokenize and clean up the text"
   ]
  },
  {
   "cell_type": "code",
   "execution_count": 3,
   "metadata": {
    "collapsed": true
   },
   "outputs": [],
   "source": [
    "import nltk"
   ]
  },
  {
   "cell_type": "code",
   "execution_count": 4,
   "metadata": {},
   "outputs": [
    {
     "data": {
      "text/plain": [
       "970284    [cat, main, conformation, show, show, dog, por...\n",
       "972913    [this, is, a, collection, of, articles, about,...\n",
       "970251    [this, is, an, automatically, collected, list,...\n",
       "729436    [this, is, an, automatically, accumulated, lis...\n",
       "978163    [category, dogs, pets, category, mammals, as, ...\n",
       "Name: text_raw, dtype: object"
      ]
     },
     "execution_count": 4,
     "metadata": {},
     "output_type": "execute_result"
    }
   ],
   "source": [
    "tokenizer = nltk.RegexpTokenizer(r'\\w+')\n",
    "\n",
    "df_token=df['text_raw']\n",
    "\n",
    "# Convert to lower case:\n",
    "for index in df_token.index:\n",
    "    text=df_token[index]\n",
    "    df_token[index]=text.lower()\n",
    "\n",
    "# Tokenize\n",
    "df_token=df_token.apply(tokenizer.tokenize)\n",
    "df_token.head()"
   ]
  },
  {
   "cell_type": "code",
   "execution_count": 5,
   "metadata": {
    "collapsed": true
   },
   "outputs": [],
   "source": [
    "from collections import defaultdict\n",
    "from gensim import corpora, models, similarities"
   ]
  },
  {
   "cell_type": "markdown",
   "metadata": {},
   "source": [
    "# gensim dictionary\n",
    "https://radimrehurek.com/gensim/corpora/dictionary.html\n",
    "\n",
    "* compactify()\n",
    "\n",
    "\n",
    "Assign new word ids to all words.\n",
    "\n",
    "This is done to make the ids more compact, e.g. after some tokens have been removed via filter_tokens() and there are gaps in the id series. Calling this method will remove the gaps.\n",
    "\n",
    "* self.dfs()\n",
    "\n",
    "token frequency\n",
    "\n",
    "* Download stop words running:\n",
    "\n",
    "nltk.download()"
   ]
  },
  {
   "cell_type": "code",
   "execution_count": 6,
   "metadata": {},
   "outputs": [
    {
     "name": "stdout",
     "output_type": "stream",
     "text": [
      "Stop words: ['i', 'me', 'my', 'myself', 'we']\n",
      "\n",
      "Dictionary after filtering:\n",
      "[(1, 'main'), (2, 'conformation'), (3, 'show'), (4, 'dog')]\n"
     ]
    }
   ],
   "source": [
    "# make gensim dictionary\n",
    "\n",
    "line_list = df_token.values\n",
    "dictionary = corpora.Dictionary(line_list)\n",
    "# dictionary: 0: \"about\", 1:\"shelter\",...\n",
    "\n",
    "# filter dictionary to remove stopwords and words occurring < min_count times\n",
    "# need to run nltk.download() -> 3 GB downloaded into C:\\Users\\melanie\\AppData\\Roaming\\nltk_data\n",
    "stop_words = nltk.corpus.stopwords.words('english') \n",
    "print(\"Stop words: {}\\n\".format(stop_words[:5]))\n",
    "\n",
    "stop_ids = [dictionary.token2id[word] for word in stop_words\n",
    "            if word in dictionary.token2id]\n",
    "min_count = 2\n",
    "rare_ids = [id for id, freq in dictionary.dfs.items()\n",
    "            if freq < min_count]\n",
    "dictionary.filter_tokens(stop_ids + rare_ids)\n",
    "print(\"Dictionary after filtering:\")\n",
    "print([(key,dictionary[key]) for key in dictionary.keys()[1:5]])\n",
    "dictionary.compactify()\n"
   ]
  },
  {
   "cell_type": "markdown",
   "metadata": {},
   "source": [
    "## doc2bow()\n",
    "\n",
    "1. counts the number of occurrences of each distinct word\n",
    "2. converts the word to its integer word id \n",
    "3. returns the result as a sparse vector. \n",
    "\n",
    "The sparse vector [(0, 1), (1, 1)] therefore reads: in the document “Human computer interaction”, the words computer (id 0) and human (id 1) appear once; the other ten dictionary words appear (implicitly) zero times."
   ]
  },
  {
   "cell_type": "markdown",
   "metadata": {},
   "source": [
    "https://radimrehurek.com/gensim/models/tfidfmodel.html\n",
    "\n",
    "**TF-IDF model**\n",
    "\n",
    "https://en.wikipedia.org/wiki/Tf%E2%80%93idf\n",
    "\n",
    "*TF-IDF* model, **term frequency–inverse document frequency**, is a numerical statistic that is intended to reflect how important a word is to a document in a collection or corpus. It is often used as a weighting factor in information retrieval, text mining, and user modeling. The tf-idf value increases proportionally to the number of times a word appears in the document, but is often offset by the frequency of the word in the corpus, which helps to adjust for the fact that some words appear more frequently in general. Nowadays, tf-idf is one of the most popular term-weighting schemes. For instance, 83% of text-based recommender systems in the domain of digital libraries use tf-idf.\n",
    "\n",
    "**Term frequency**. \n",
    "The number of times a term occurs in a document is called its term frequency\n",
    "\n",
    "The first form of term weighting is due to Hans Peter Luhn (1957) and is based on the Luhn Assumption:\n",
    "The weight of a term that occurs in a document is simply proportional to the term frequency.[3]\n",
    "\n",
    "**Inverse document frequency**. An inverse document frequency factor is incorporated which diminishes the weight of terms that occur very frequently in the document set and increases the weight of terms that occur rarely, e.g. \"the\", \"a\", etc.\n",
    "\n",
    "Karen Spärck Jones (1972) conceived a statistical interpretation of term specificity called Inverse Document Frequency (IDF), which became a cornerstone of term weighting:\n",
    "The specificity of a term can be quantified as an inverse function of the number of documents in which it occurs.\n",
    "\n",
    "tf–idf is the product of two statistics, term frequency and inverse document frequency.\n",
    "\n",
    "A high weight in tf–idf is reached by a high term frequency (in the given document) and a low document frequency of the term in the whole collection of documents; the weights hence tend to filter out common terms. Since the ratio inside the idf's log function is always greater than or equal to 1, the value of idf (and tf-idf) is greater than or equal to 0. As a term appears in more documents, the ratio inside the logarithm approaches 1, bringing the idf and tf-idf closer to 0.\n",
    "\n",
    "\n",
    "\n",
    "\n",
    "\n"
   ]
  },
  {
   "cell_type": "code",
   "execution_count": 7,
   "metadata": {},
   "outputs": [
    {
     "name": "stdout",
     "output_type": "stream",
     "text": [
      "Corpus: [(1, 1), (4, 2), (6, 3), (10, 1)]\n"
     ]
    }
   ],
   "source": [
    "corpus = [dictionary.doc2bow(words) for words in line_list]\n",
    "print(\"Corpus: {}\".format(corpus[1][1:5]))\n",
    "tfidf = models.TfidfModel(corpus)\n"
   ]
  },
  {
   "cell_type": "code",
   "execution_count": 12,
   "metadata": {},
   "outputs": [
    {
     "name": "stdout",
     "output_type": "stream",
     "text": [
      "Topic: 0\n",
      "(0, '0.309*\"ref\"\n",
      "0.266*\"cat\"\n",
      "0.227*\"cats\"\n",
      "0.200*\"dog\"\n",
      "0.168*\"name\"\n",
      "0.156*\"journal\"\n",
      "0.127*\"cite\"\n",
      "0.123*\"title\"\n",
      "0.102*\"meat\"\n",
      "0.099*\"url\"')\n",
      "\n",
      "Topic: 1\n",
      "(1, '-0.632*\"bailys\"\n",
      "-0.277*\"hunt\"\n",
      "-0.258*\"foxhounds\"\n",
      "-0.241*\"england\"\n",
      "-0.228*\"directory\"\n",
      "-0.171*\"harriers\"\n",
      "-0.167*\"name\"\n",
      "-0.166*\"beagles\"\n",
      "-0.156*\"hunting\"\n",
      "-0.152*\"packs\"')\n",
      "\n",
      "Topic: 2\n",
      "(2, '0.384*\"breeds\"\n",
      "0.243*\"breed\"\n",
      "0.241*\"list\"\n",
      "0.194*\"fictional\"\n",
      "0.171*\"pets\"\n",
      "0.155*\"types\"\n",
      "0.151*\"dog\"\n",
      "0.149*\"dogs\"\n",
      "0.145*\"commons\"\n",
      "0.135*\"individual\"')\n",
      "\n",
      "Topic: 3\n",
      "(3, '0.421*\"cats\"\n",
      "-0.357*\"dog\"\n",
      "0.349*\"cat\"\n",
      "0.216*\"pets\"\n",
      "-0.201*\"breeds\"\n",
      "-0.159*\"breed\"\n",
      "0.155*\"mammals\"\n",
      "0.131*\"country\"\n",
      "0.113*\"equipment\"\n",
      "0.112*\"cafe\"')\n",
      "\n",
      "Topic: 4\n",
      "(4, '-0.420*\"pets\"\n",
      "0.359*\"fictional\"\n",
      "-0.304*\"mammals\"\n",
      "0.202*\"individual\"\n",
      "0.201*\"popular\"\n",
      "0.187*\"culture\"\n",
      "0.186*\"meat\"\n",
      "-0.185*\"lists\"\n",
      "0.181*\"canines\"\n",
      "-0.175*\"country\"')\n",
      "\n"
     ]
    }
   ],
   "source": [
    "model=models.LsiModel\n",
    "max_posts=len(df_token.values)\n",
    "\n",
    "topic_model = model(tfidf[corpus], id2word=dictionary, num_topics=5)\n",
    "for topic in topic_model.print_topics(5):\n",
    "    print('Topic: {}'.format(topic[0]))\n",
    "    print(str(topic).replace(' + ', '\\n')) \n",
    "    print('') \n",
    "    #print ('\\n' + str(topic))\n",
    "\n",
    "\n",
    "        \n"
   ]
  },
  {
   "cell_type": "code",
   "execution_count": 14,
   "metadata": {
    "collapsed": true
   },
   "outputs": [],
   "source": [
    "matsim=similarities.MatrixSimilarity(topic_model[tfidf[corpus]],num_best=max_posts+1)"
   ]
  },
  {
   "cell_type": "code",
   "execution_count": 22,
   "metadata": {},
   "outputs": [
    {
     "name": "stdout",
     "output_type": "stream",
     "text": [
      "\u001b[1mCategory:Dog shows and showing\u001b[0m\n",
      "\t Category:Dog-related professions and professionals   0.987384080887\n",
      "\t Rolfi   0.986163973808\n",
      "\t Bog Dog   0.980988621712\n",
      "\t Category:Dog law   0.974566400051\n",
      "\t Category:Dog sports   0.96657794714\n",
      "\t Category:Dog training and behavior   0.964447975159\n",
      "\t Category:Dog organizations   0.96400731802\n",
      "\t Lists of dogs   0.953864693642\n",
      "\t Category:Dog breeds   0.952302157879\n",
      "\u001b[1mCategory:Dog health\u001b[0m\n",
      "\t Category:Cat behavior   0.932681262493\n",
      "\t Category:Cat health   0.93171864748\n",
      "\t Category:Cat breeds   0.914559006691\n",
      "\t Category:Cat fancy   0.900419652462\n",
      "\t Portal:Cats   0.886702656746\n",
      "\t Portal:Dogs   0.878064990044\n",
      "\t Category:Dog breeding   0.876295745373\n",
      "\t Category:Dog training and behavior   0.861733615398\n",
      "\t Cattery   0.860115885735\n",
      "\u001b[1mCategory:Dog organizations\u001b[0m\n",
      "\t Category:Dog sports   0.965003609657\n",
      "\t Category:Dog shows and showing   0.96400731802\n",
      "\t Lists of dogs   0.962345182896\n",
      "\t Category:Dog-related professions and professionals   0.960405230522\n",
      "\t Category:Dog breeds   0.950146555901\n",
      "\t Category:Dog training and behavior   0.944760203362\n",
      "\t Rolfi   0.936775863171\n",
      "\t Category:Dog landraces   0.930251598358\n",
      "\t Category:Dog types   0.92569476366\n",
      "\u001b[1mCategory:Dog sports\u001b[0m\n",
      "\t Category:Dog monuments   0.971806049347\n",
      "\t Category:Dog training and behavior   0.970648407936\n",
      "\t Rolfi   0.966710448265\n",
      "\t Category:Dog shows and showing   0.96657794714\n",
      "\t Category:Dog organizations   0.965003609657\n",
      "\t Category:Robotic dogs   0.944578409195\n",
      "\t Category:Dog law   0.933906793594\n",
      "\t Category:Dog-related professions and professionals   0.931530058384\n",
      "\t Bog Dog   0.930114209652\n",
      "\u001b[1mCategory:Dogs as pets\u001b[0m\n",
      "\t Category:Cats as pets   0.990317523479\n",
      "\t Category:Lists of dogs   0.990191459656\n",
      "\t Category:Lists of cats   0.971378326416\n",
      "\t Category:Dogs by country   0.951165318489\n",
      "\t Category:Cats by country   0.903807282448\n",
      "\t Category:Saber-toothed cats   0.65177744627\n",
      "\t Portal:Cats   0.648549675941\n",
      "\t Category:Cat organizations   0.648233413696\n",
      "\t Portal:Dogs   0.623591244221\n",
      "\u001b[1mCategory:Dog equipment\u001b[0m\n",
      "\t Category:Cats in popular culture   0.993736028671\n",
      "\t Category:Individual cats   0.985666573048\n",
      "\t Category:Cat equipment   0.971711456776\n",
      "\t Category:Cat behavior   0.927102863789\n",
      "\t Category:Individual dogs   0.887624979019\n",
      "\t Category:Fictional dogs   0.878503143787\n",
      "\t Category:Dogs in popular culture   0.867353916168\n",
      "\t Category:Cat health   0.85033506155\n",
      "\t Category:Dog health   0.833848595619\n",
      "\u001b[1mCategory:Dog breeding\u001b[0m\n",
      "\t Category:Cat types   0.993874788284\n",
      "\t Category:Cat breeds   0.978724896908\n",
      "\t Portal:Dogs   0.973898231983\n",
      "\t Portal:Cats   0.940368890762\n",
      "\t Category:Cat fancy   0.937677621841\n",
      "\t Category:Dog organizations   0.923291504383\n",
      "\t Category:Dog training and behavior   0.896876811981\n",
      "\t Category:Dog health   0.876295745373\n",
      "\t Category:Dog landraces   0.869045555592\n",
      "\u001b[1mCategory:Dog monuments\u001b[0m\n",
      "\t Category:Robotic dogs   0.989800035954\n",
      "\t Category:Dog sports   0.971806049347\n",
      "\t Rolfi   0.956620872021\n",
      "\t Category:Dog training and behavior   0.95329785347\n",
      "\t Category:Dog shows and showing   0.927555918694\n",
      "\t Category:Dog organizations   0.919439971447\n",
      "\t Category:Dog law   0.907765388489\n",
      "\t Category:Mythological dogs   0.895220160484\n",
      "\t Bog Dog   0.878883063793\n",
      "\u001b[1mKennel\u001b[0m\n",
      "\t File:Oldenglishterrier6.JPG   0.982494592667\n",
      "\t Category:Wikipedia books on dogs   0.977409780025\n",
      "\t Indian National Kennel Club   0.962160229683\n",
      "\t Drafting dog   0.957538425922\n",
      "\t Breed type (dog)   0.949732840061\n",
      "\t Cynology   0.935311675072\n",
      "\t Category:Dog law   0.931700706482\n",
      "\t Rare breed (dog)   0.928770720959\n",
      "\t Mastiff   0.921951234341\n",
      "\u001b[1mCynology\u001b[0m\n",
      "\t Chiengora   0.994062662125\n",
      "\t Dog World (newspaper)   0.993339180946\n",
      "\t Canine Efficiency   0.987222671509\n",
      "\t Dogs in Mesoamerica   0.984784305096\n",
      "\t My Life in Dog Years   0.977957010269\n",
      "\t Pet Check Technology   0.972840249538\n",
      "\t Indian National Kennel Club   0.965771734715\n",
      "\t Puppy   0.960262596607\n",
      "\t Drafting dog   0.956041157246\n",
      "Similar pages for article Category:Dog health\n",
      "2558456                  Category:Cat behavior\n",
      "977022                     Category:Cat health\n",
      "710421                     Category:Cat breeds\n",
      "16566346                    Category:Cat fancy\n",
      "7672194                            Portal:Cats\n",
      "4135811                            Portal:Dogs\n",
      "1765233                  Category:Dog breeding\n",
      "970360      Category:Dog training and behavior\n",
      "8886648                                Cattery\n",
      "50899941                     Category:Dog meat\n",
      "Name: title, dtype: object\n"
     ]
    }
   ],
   "source": [
    "article_ids=df_token.index\n",
    "titles=df['title'].values\n",
    "similarity=defaultdict(list)\n",
    "#Save only top ten more similar articles\n",
    "sim_top=10\n",
    "\n",
    "# This is from Melanie, to debug and check if article similarities make sense.\n",
    "for sims in list(matsim)[:sim_top]:\n",
    "    article_id = sims[0][0]\n",
    "    print('\\033[1m'+titles[article_id]+'\\033[0m') \n",
    "    for other_id, score in sims[1:sim_top]:\n",
    "        print('\\t', titles[other_id], ' ', score) \n",
    "\n",
    "# This produces the same output as above, \n",
    "# the output is saved now in the \"similarity\" array\n",
    "for article_id, sims in zip(article_ids, matsim):\n",
    "    similarity[article_id].append([])\n",
    "    for other_id, score in sims[1:sim_top+1]:\n",
    "        similarity[article_id][0].append(article_ids[other_id])\n",
    "\n",
    "# This is a debug to check if this is making sense\n",
    "# Now take a random article\n",
    "titles=df['title']\n",
    "index=1\n",
    "article_id=article_ids[index]\n",
    "title=titles[article_id]\n",
    "print(\"Similar pages for article {}\".format(title))\n",
    "for other_id in similarity[article_id]:\n",
    "    print(\"{}\".format(titles[other_id]))"
   ]
  },
  {
   "cell_type": "code",
   "execution_count": 10,
   "metadata": {},
   "outputs": [
    {
     "data": {
      "text/html": [
       "<div>\n",
       "<style>\n",
       "    .dataframe thead tr:only-child th {\n",
       "        text-align: right;\n",
       "    }\n",
       "\n",
       "    .dataframe thead th {\n",
       "        text-align: left;\n",
       "    }\n",
       "\n",
       "    .dataframe tbody tr th {\n",
       "        vertical-align: top;\n",
       "    }\n",
       "</style>\n",
       "<table border=\"1\" class=\"dataframe\">\n",
       "  <thead>\n",
       "    <tr style=\"text-align: right;\">\n",
       "      <th></th>\n",
       "      <th>similar_articles</th>\n",
       "    </tr>\n",
       "  </thead>\n",
       "  <tbody>\n",
       "    <tr>\n",
       "      <th>970284</th>\n",
       "      <td>[1777080, 42498898, 53824388, 1968414, 729436,...</td>\n",
       "    </tr>\n",
       "    <tr>\n",
       "      <th>972913</th>\n",
       "      <td>[977022, 2558456, 710421, 16566346, 1765233, 7...</td>\n",
       "    </tr>\n",
       "    <tr>\n",
       "      <th>970251</th>\n",
       "      <td>[37331361, 970284, 729436, 1777080, 691500, 97...</td>\n",
       "    </tr>\n",
       "    <tr>\n",
       "      <th>729436</th>\n",
       "      <td>[1765458, 970360, 970284, 970251, 32122845, 53...</td>\n",
       "    </tr>\n",
       "    <tr>\n",
       "      <th>978163</th>\n",
       "      <td>[37104213, 978165, 34561692, 43220839, 3243721...</td>\n",
       "    </tr>\n",
       "  </tbody>\n",
       "</table>\n",
       "</div>"
      ],
      "text/plain": [
       "                                         similar_articles\n",
       "970284  [1777080, 42498898, 53824388, 1968414, 729436,...\n",
       "972913  [977022, 2558456, 710421, 16566346, 1765233, 7...\n",
       "970251  [37331361, 970284, 729436, 1777080, 691500, 97...\n",
       "729436  [1765458, 970360, 970284, 970251, 32122845, 53...\n",
       "978163  [37104213, 978165, 34561692, 43220839, 3243721..."
      ]
     },
     "execution_count": 10,
     "metadata": {},
     "output_type": "execute_result"
    }
   ],
   "source": [
    "#Save similarity into file:\n",
    "df_similarity=pd.DataFrame.from_dict(similarity, orient='index')\n",
    "df_similarity.columns=['similar_articles']\n",
    "\n",
    "df_similarity.to_csv('Wikipedia-sims.csv')\n",
    "df_similarity.head()\n",
    "\n",
    "# Note that the list is printed as a string in the Wikipedia-sims.csv file.\n",
    "# use literal_eval to convert back to list \n",
    "#>>> from ast import literal_eval\n",
    "#>>> literal_eval('[1.23, 2.34]')\n",
    "#[1.23, 2.34]\n"
   ]
  },
  {
   "cell_type": "code",
   "execution_count": 11,
   "metadata": {
    "collapsed": true
   },
   "outputs": [],
   "source": [
    "# If interested into the similarity score, uncomment the next lines:\n",
    "# similarity_scores = defaultdict(list)\n",
    "# for article_id, sims in zip(article_ids, index):\n",
    "#    for id, score in sims[1:sim_top+1]:\n",
    "#        similarity_scores[article_id].append((article_ids[id], score))\n",
    "# article_id=article_ids[0]\n",
    "# print(\"Similarity score for article ID {}\".format(article_id))\n",
    "# print(similarity_scores[article_id][:5])"
   ]
  },
  {
   "cell_type": "code",
   "execution_count": null,
   "metadata": {
    "collapsed": true
   },
   "outputs": [],
   "source": []
  }
 ],
 "metadata": {
  "kernelspec": {
   "display_name": "Python 3",
   "language": "python",
   "name": "python3"
  },
  "language_info": {
   "codemirror_mode": {
    "name": "ipython",
    "version": 3
   },
   "file_extension": ".py",
   "mimetype": "text/x-python",
   "name": "python",
   "nbconvert_exporter": "python",
   "pygments_lexer": "ipython3",
   "version": "3.6.1"
  }
 },
 "nbformat": 4,
 "nbformat_minor": 2
}
