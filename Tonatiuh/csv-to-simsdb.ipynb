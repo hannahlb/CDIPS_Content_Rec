{
 "cells": [
  {
   "cell_type": "markdown",
   "metadata": {
    "collapsed": true
   },
   "source": [
    "1. Read *Wikipedia.csv* as written via Wikipedia class.\n",
    "2. Tokenize the text, and save tokens into *df_token*.\n",
    "3. Build similarity matrix and write this to file *Wikipedia-sims.csv* with columns:  \n",
    "    id : *article id*  \n",
    "    similar_articles : *list of article ids*\n"
   ]
  },
  {
   "cell_type": "code",
   "execution_count": 1,
   "metadata": {
    "collapsed": true
   },
   "outputs": [],
   "source": [
    "import sys, os\n",
    "import pandas as pd"
   ]
  },
  {
   "cell_type": "code",
   "execution_count": 2,
   "metadata": {},
   "outputs": [
    {
     "data": {
      "text/html": [
       "<div>\n",
       "<style>\n",
       "    .dataframe thead tr:only-child th {\n",
       "        text-align: right;\n",
       "    }\n",
       "\n",
       "    .dataframe thead th {\n",
       "        text-align: left;\n",
       "    }\n",
       "\n",
       "    .dataframe tbody tr th {\n",
       "        vertical-align: top;\n",
       "    }\n",
       "</style>\n",
       "<table border=\"1\" class=\"dataframe\">\n",
       "  <thead>\n",
       "    <tr style=\"text-align: right;\">\n",
       "      <th></th>\n",
       "      <th>website</th>\n",
       "      <th>page_type</th>\n",
       "      <th>text_raw</th>\n",
       "    </tr>\n",
       "  </thead>\n",
       "  <tbody>\n",
       "    <tr>\n",
       "      <th>970284</th>\n",
       "      <td>https://en.wikipedia.org/wiki/Category:Dog_sho...</td>\n",
       "      <td>category</td>\n",
       "      <td>{{Cat main|Conformation show|Show dog}}\\n{{por...</td>\n",
       "    </tr>\n",
       "    <tr>\n",
       "      <th>972913</th>\n",
       "      <td>https://en.wikipedia.org/wiki/Category:Dog_health</td>\n",
       "      <td>category</td>\n",
       "      <td>This is a collection of articles about the hea...</td>\n",
       "    </tr>\n",
       "    <tr>\n",
       "      <th>970251</th>\n",
       "      <td>https://en.wikipedia.org/wiki/Category:Dog_org...</td>\n",
       "      <td>category</td>\n",
       "      <td>This is an automatically collected list of art...</td>\n",
       "    </tr>\n",
       "    <tr>\n",
       "      <th>729436</th>\n",
       "      <td>https://en.wikipedia.org/wiki/Category:Dog_sports</td>\n",
       "      <td>category</td>\n",
       "      <td>This is an automatically accumulated list of a...</td>\n",
       "    </tr>\n",
       "    <tr>\n",
       "      <th>978163</th>\n",
       "      <td>https://en.wikipedia.org/wiki/Category:Dogs_as...</td>\n",
       "      <td>category</td>\n",
       "      <td>[[Category:Dogs|Pets]]\\n[[Category:Mammals as ...</td>\n",
       "    </tr>\n",
       "  </tbody>\n",
       "</table>\n",
       "</div>"
      ],
      "text/plain": [
       "                                                  website page_type  \\\n",
       "970284  https://en.wikipedia.org/wiki/Category:Dog_sho...  category   \n",
       "972913  https://en.wikipedia.org/wiki/Category:Dog_health  category   \n",
       "970251  https://en.wikipedia.org/wiki/Category:Dog_org...  category   \n",
       "729436  https://en.wikipedia.org/wiki/Category:Dog_sports  category   \n",
       "978163  https://en.wikipedia.org/wiki/Category:Dogs_as...  category   \n",
       "\n",
       "                                                 text_raw  \n",
       "970284  {{Cat main|Conformation show|Show dog}}\\n{{por...  \n",
       "972913  This is a collection of articles about the hea...  \n",
       "970251  This is an automatically collected list of art...  \n",
       "729436  This is an automatically accumulated list of a...  \n",
       "978163  [[Category:Dogs|Pets]]\\n[[Category:Mammals as ...  "
      ]
     },
     "execution_count": 2,
     "metadata": {},
     "output_type": "execute_result"
    }
   ],
   "source": [
    "os.chdir('../data')\n",
    "csvfile = 'Wikipedia.csv'\n",
    "\n",
    "df=pd.read_csv(csvfile,index_col=0)\n",
    "df.head(5)"
   ]
  },
  {
   "cell_type": "markdown",
   "metadata": {
    "collapsed": true
   },
   "source": [
    "Now let's use nltk to tokenize and clean up the text"
   ]
  },
  {
   "cell_type": "code",
   "execution_count": 3,
   "metadata": {
    "collapsed": true
   },
   "outputs": [],
   "source": [
    "import nltk"
   ]
  },
  {
   "cell_type": "code",
   "execution_count": 4,
   "metadata": {},
   "outputs": [
    {
     "data": {
      "text/plain": [
       "970284    [cat, main, conformation, show, show, dog, por...\n",
       "972913    [this, is, a, collection, of, articles, about,...\n",
       "970251    [this, is, an, automatically, collected, list,...\n",
       "729436    [this, is, an, automatically, accumulated, lis...\n",
       "978163    [category, dogs, pets, category, mammals, as, ...\n",
       "Name: text_raw, dtype: object"
      ]
     },
     "execution_count": 4,
     "metadata": {},
     "output_type": "execute_result"
    }
   ],
   "source": [
    "tokenizer = nltk.RegexpTokenizer(r'\\w+')\n",
    "\n",
    "df_token=df['text_raw']\n",
    "\n",
    "# Convert to lower case:\n",
    "for index in df_token.index:\n",
    "    text=df_token[index]\n",
    "    df_token[index]=text.lower()\n",
    "\n",
    "# Tokenize\n",
    "df_token=df_token.apply(tokenizer.tokenize)\n",
    "df_token.head()"
   ]
  },
  {
   "cell_type": "code",
   "execution_count": 5,
   "metadata": {
    "collapsed": true
   },
   "outputs": [],
   "source": [
    "from collections import defaultdict\n",
    "from gensim import corpora, models, similarities"
   ]
  },
  {
   "cell_type": "markdown",
   "metadata": {},
   "source": [
    "# gensim dictionary\n",
    "https://radimrehurek.com/gensim/corpora/dictionary.html\n",
    "\n",
    "* compactify()\n",
    "\n",
    "\n",
    "Assign new word ids to all words.\n",
    "\n",
    "This is done to make the ids more compact, e.g. after some tokens have been removed via filter_tokens() and there are gaps in the id series. Calling this method will remove the gaps.\n",
    "\n",
    "* self.dfs()\n",
    "\n",
    "token frequency\n",
    "\n",
    "* Download stop words running:\n",
    "\n",
    "nltk.download()"
   ]
  },
  {
   "cell_type": "code",
   "execution_count": 6,
   "metadata": {},
   "outputs": [
    {
     "name": "stdout",
     "output_type": "stream",
     "text": [
      "Stop words: ['i', 'me', 'my', 'myself', 'we']\n",
      "\n",
      "Dictionary after filtering:\n",
      "[(1, 'main'), (2, 'conformation'), (3, 'show'), (4, 'dog')]\n"
     ]
    }
   ],
   "source": [
    "# make gensim dictionary\n",
    "\n",
    "line_list = df_token.values\n",
    "dictionary = corpora.Dictionary(line_list)\n",
    "# dictionary: 0: \"about\", 1:\"shelter\",...\n",
    "\n",
    "# filter dictionary to remove stopwords and words occurring < min_count times\n",
    "# need to run nltk.download() -> 3 GB downloaded into C:\\Users\\melanie\\AppData\\Roaming\\nltk_data\n",
    "stop_words = nltk.corpus.stopwords.words('english') \n",
    "print(\"Stop words: {}\\n\".format(stop_words[:5]))\n",
    "\n",
    "stop_ids = [dictionary.token2id[word] for word in stop_words\n",
    "            if word in dictionary.token2id]\n",
    "min_count = 2\n",
    "rare_ids = [id for id, freq in dictionary.dfs.items()\n",
    "            if freq < min_count]\n",
    "dictionary.filter_tokens(stop_ids + rare_ids)\n",
    "print(\"Dictionary after filtering:\")\n",
    "print([(key,dictionary[key]) for key in dictionary.keys()[1:5]])\n",
    "dictionary.compactify()\n"
   ]
  },
  {
   "cell_type": "markdown",
   "metadata": {},
   "source": [
    "## doc2bow()\n",
    "\n",
    "1. counts the number of occurrences of each distinct word\n",
    "2. converts the word to its integer word id \n",
    "3. returns the result as a sparse vector. \n",
    "\n",
    "The sparse vector [(0, 1), (1, 1)] therefore reads: in the document “Human computer interaction”, the words computer (id 0) and human (id 1) appear once; the other ten dictionary words appear (implicitly) zero times."
   ]
  },
  {
   "cell_type": "markdown",
   "metadata": {},
   "source": [
    "https://radimrehurek.com/gensim/models/tfidfmodel.html\n",
    "\n",
    "**TF-IDF model**\n",
    "\n",
    "https://en.wikipedia.org/wiki/Tf%E2%80%93idf\n",
    "\n",
    "*TF-IDF* model, **term frequency–inverse document frequency**, is a numerical statistic that is intended to reflect how important a word is to a document in a collection or corpus. It is often used as a weighting factor in information retrieval, text mining, and user modeling. The tf-idf value increases proportionally to the number of times a word appears in the document, but is often offset by the frequency of the word in the corpus, which helps to adjust for the fact that some words appear more frequently in general. Nowadays, tf-idf is one of the most popular term-weighting schemes. For instance, 83% of text-based recommender systems in the domain of digital libraries use tf-idf.\n",
    "\n",
    "**Term frequency**. \n",
    "The number of times a term occurs in a document is called its term frequency\n",
    "\n",
    "The first form of term weighting is due to Hans Peter Luhn (1957) and is based on the Luhn Assumption:\n",
    "The weight of a term that occurs in a document is simply proportional to the term frequency.[3]\n",
    "\n",
    "**Inverse document frequency**. An inverse document frequency factor is incorporated which diminishes the weight of terms that occur very frequently in the document set and increases the weight of terms that occur rarely, e.g. \"the\", \"a\", etc.\n",
    "\n",
    "Karen Spärck Jones (1972) conceived a statistical interpretation of term specificity called Inverse Document Frequency (IDF), which became a cornerstone of term weighting:\n",
    "The specificity of a term can be quantified as an inverse function of the number of documents in which it occurs.\n",
    "\n",
    "tf–idf is the product of two statistics, term frequency and inverse document frequency.\n",
    "\n",
    "A high weight in tf–idf is reached by a high term frequency (in the given document) and a low document frequency of the term in the whole collection of documents; the weights hence tend to filter out common terms. Since the ratio inside the idf's log function is always greater than or equal to 1, the value of idf (and tf-idf) is greater than or equal to 0. As a term appears in more documents, the ratio inside the logarithm approaches 1, bringing the idf and tf-idf closer to 0.\n",
    "\n",
    "\n",
    "\n",
    "\n",
    "\n"
   ]
  },
  {
   "cell_type": "code",
   "execution_count": 7,
   "metadata": {},
   "outputs": [
    {
     "name": "stdout",
     "output_type": "stream",
     "text": [
      "Corpus: [(1, 1), (4, 2), (6, 3), (10, 1)]\n"
     ]
    }
   ],
   "source": [
    "corpus = [dictionary.doc2bow(words) for words in line_list]\n",
    "print(\"Corpus: {}\".format(corpus[1][1:5]))\n",
    "tfidf = models.TfidfModel(corpus)\n"
   ]
  },
  {
   "cell_type": "code",
   "execution_count": 8,
   "metadata": {},
   "outputs": [
    {
     "ename": "NameError",
     "evalue": "name 'i' is not defined",
     "output_type": "error",
     "traceback": [
      "\u001b[0;31m---------------------------------------------------------------------------\u001b[0m",
      "\u001b[0;31mNameError\u001b[0m                                 Traceback (most recent call last)",
      "\u001b[0;32m<ipython-input-8-0b11b29ddf16>\u001b[0m in \u001b[0;36m<module>\u001b[0;34m()\u001b[0m\n\u001b[1;32m      4\u001b[0m \u001b[0mtopic_model\u001b[0m \u001b[0;34m=\u001b[0m \u001b[0mmodel\u001b[0m\u001b[0;34m(\u001b[0m\u001b[0mtfidf\u001b[0m\u001b[0;34m[\u001b[0m\u001b[0mcorpus\u001b[0m\u001b[0;34m]\u001b[0m\u001b[0;34m,\u001b[0m \u001b[0mid2word\u001b[0m\u001b[0;34m=\u001b[0m\u001b[0mdictionary\u001b[0m\u001b[0;34m,\u001b[0m \u001b[0mnum_topics\u001b[0m\u001b[0;34m=\u001b[0m\u001b[0;36m5\u001b[0m\u001b[0;34m)\u001b[0m\u001b[0;34m\u001b[0m\u001b[0m\n\u001b[1;32m      5\u001b[0m \u001b[0;32mfor\u001b[0m \u001b[0mtopic\u001b[0m \u001b[0;32min\u001b[0m \u001b[0mtopic_model\u001b[0m\u001b[0;34m.\u001b[0m\u001b[0mprint_topics\u001b[0m\u001b[0;34m(\u001b[0m\u001b[0;36m5\u001b[0m\u001b[0;34m)\u001b[0m\u001b[0;34m:\u001b[0m\u001b[0;34m\u001b[0m\u001b[0m\n\u001b[0;32m----> 6\u001b[0;31m     \u001b[0mprint\u001b[0m\u001b[0;34m(\u001b[0m\u001b[0;34m'Topic: '\u001b[0m\u001b[0;34m,\u001b[0m \u001b[0mformat\u001b[0m\u001b[0;34m(\u001b[0m\u001b[0mi\u001b[0m\u001b[0;34m)\u001b[0m\u001b[0;34m)\u001b[0m\u001b[0;34m\u001b[0m\u001b[0m\n\u001b[0m\u001b[1;32m      7\u001b[0m     \u001b[0mprint\u001b[0m\u001b[0;34m(\u001b[0m\u001b[0mstr\u001b[0m\u001b[0;34m(\u001b[0m\u001b[0mtopic\u001b[0m\u001b[0;34m)\u001b[0m\u001b[0;34m.\u001b[0m\u001b[0mreplace\u001b[0m\u001b[0;34m(\u001b[0m\u001b[0;34m' + '\u001b[0m\u001b[0;34m,\u001b[0m \u001b[0;34m'\\n'\u001b[0m\u001b[0;34m)\u001b[0m\u001b[0;34m)\u001b[0m\u001b[0;34m\u001b[0m\u001b[0m\n\u001b[1;32m      8\u001b[0m     \u001b[0mprint\u001b[0m\u001b[0;34m(\u001b[0m\u001b[0;34m''\u001b[0m\u001b[0;34m)\u001b[0m\u001b[0;34m\u001b[0m\u001b[0m\n",
      "\u001b[0;31mNameError\u001b[0m: name 'i' is not defined"
     ]
    }
   ],
   "source": [
    "model=models.LsiModel\n",
    "max_posts=len(df_token.values)\n",
    "\n",
    "topic_model = model(tfidf[corpus], id2word=dictionary, num_topics=5)\n",
    "for topic in topic_model.print_topics(5):\n",
    "    print('Topic: ', format(i))\n",
    "    print(str(topic).replace(' + ', '\\n')) \n",
    "    print('') \n",
    "    #print ('\\n' + str(topic))\n",
    "\n",
    "\n",
    "        \n",
    "index=similarities.MatrixSimilarity(topic_model[tfidf[corpus]],num_best=max_posts+1)\n"
   ]
  },
  {
   "cell_type": "code",
   "execution_count": null,
   "metadata": {},
   "outputs": [],
   "source": [
    "article_ids=df_token.index\n",
    "titles=df['title']\n",
    "similarity=defaultdict(list)\n",
    "#Save only top ten more similar articles\n",
    "sim_top=10\n",
    "\n",
    "for article_id, sims in zip(article_ids, index):\n",
    "    similarity[article_id].append([])\n",
    "    for id, score in sims[1:sim_top+1]:\n",
    "        similarity[article_id][0].append(article_ids[id])\n",
    "\n",
    "print(\"Similar pages for article {}: {}\".format(article_ids[0],similarity[article_ids[0]]))"
   ]
  },
  {
   "cell_type": "code",
   "execution_count": null,
   "metadata": {},
   "outputs": [],
   "source": [
    "#Save similarity into file:\n",
    "df_similarity=pd.DataFrame.from_dict(similarity, orient='index')\n",
    "df_similarity.columns=['similar_articles']\n",
    "\n",
    "df_similarity.to_csv('Wikipedia-sims.csv')\n",
    "df_similarity.head()\n",
    "\n",
    "# Note that the list is printed as a string in the Wikipedia-sims.csv file.\n",
    "# use literal_eval to convert back to list \n",
    "#>>> from ast import literal_eval\n",
    "#>>> literal_eval('[1.23, 2.34]')\n",
    "#[1.23, 2.34]\n"
   ]
  },
  {
   "cell_type": "code",
   "execution_count": null,
   "metadata": {
    "collapsed": true
   },
   "outputs": [],
   "source": [
    "# If interested into the similarity score, uncomment the next lines:\n",
    "# similarity_scores = defaultdict(list)\n",
    "# for article_id, sims in zip(article_ids, index):\n",
    "#    for id, score in sims[1:sim_top+1]:\n",
    "#        similarity_scores[article_id].append((article_ids[id], score))\n",
    "# article_id=article_ids[0]\n",
    "# print(\"Similarity score for article ID {}\".format(article_id))\n",
    "# print(similarity_scores[article_id][:5])"
   ]
  },
  {
   "cell_type": "code",
   "execution_count": null,
   "metadata": {
    "collapsed": true
   },
   "outputs": [],
   "source": []
  }
 ],
 "metadata": {
  "kernelspec": {
   "display_name": "Python 3",
   "language": "python",
   "name": "python3"
  },
  "language_info": {
   "codemirror_mode": {
    "name": "ipython",
    "version": 3
   },
   "file_extension": ".py",
   "mimetype": "text/x-python",
   "name": "python",
   "nbconvert_exporter": "python",
   "pygments_lexer": "ipython3",
   "version": "3.6.1"
  }
 },
 "nbformat": 4,
 "nbformat_minor": 2
}
