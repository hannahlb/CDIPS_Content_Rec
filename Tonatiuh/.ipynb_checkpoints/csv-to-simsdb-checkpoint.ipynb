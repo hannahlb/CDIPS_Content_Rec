{
 "cells": [
  {
   "cell_type": "markdown",
   "metadata": {
    "collapsed": true
   },
   "source": [
    "1. Read *Wikipedia.csv* as written via Wikipedia class.\n",
    "2. Tokenize the text, and save tokens into *df_token*.\n",
    "3. Build similarity matrix and write this to file *Wikipedia-sims.csv* with columns:  \n",
    "    id : *article id*  \n",
    "    similar_articles : *list of article ids*\n"
   ]
  },
  {
   "cell_type": "code",
   "execution_count": 1,
   "metadata": {
    "collapsed": true
   },
   "outputs": [],
   "source": [
    "import sys, os\n",
    "import pandas as pd"
   ]
  },
  {
   "cell_type": "markdown",
   "metadata": {},
   "source": [
    "# Read data\n",
    "\n",
    "Read .csv files and make a pandas dataframe."
   ]
  },
  {
   "cell_type": "code",
   "execution_count": 2,
   "metadata": {},
   "outputs": [
    {
     "data": {
      "text/html": [
       "<div>\n",
       "<style>\n",
       "    .dataframe thead tr:only-child th {\n",
       "        text-align: right;\n",
       "    }\n",
       "\n",
       "    .dataframe thead th {\n",
       "        text-align: left;\n",
       "    }\n",
       "\n",
       "    .dataframe tbody tr th {\n",
       "        vertical-align: top;\n",
       "    }\n",
       "</style>\n",
       "<table border=\"1\" class=\"dataframe\">\n",
       "  <thead>\n",
       "    <tr style=\"text-align: right;\">\n",
       "      <th></th>\n",
       "      <th>website</th>\n",
       "      <th>title</th>\n",
       "      <th>page_type</th>\n",
       "      <th>text_raw</th>\n",
       "    </tr>\n",
       "  </thead>\n",
       "  <tbody>\n",
       "    <tr>\n",
       "      <th>49475203</th>\n",
       "      <td>https://en.wikipedia.org/wiki/Category:Whales_...</td>\n",
       "      <td>Category:Whales in fiction</td>\n",
       "      <td>category</td>\n",
       "      <td>{{popcat}}\\n[[Whale]]s in fiction\\n\\n[[Categor...</td>\n",
       "    </tr>\n",
       "    <tr>\n",
       "      <th>49735416</th>\n",
       "      <td>https://en.wikipedia.org/wiki/Tail_sailing</td>\n",
       "      <td>Tail sailing</td>\n",
       "      <td>article</td>\n",
       "      <td>[[File:Southern right whale4.jpg|thumb|upright...</td>\n",
       "    </tr>\n",
       "    <tr>\n",
       "      <th>52243894</th>\n",
       "      <td>https://en.wikipedia.org/wiki/Bubble_net_feeding</td>\n",
       "      <td>Bubble net feeding</td>\n",
       "      <td>article</td>\n",
       "      <td>{{main|Cetacean surfacing behaviour}}\\n'''Bubb...</td>\n",
       "    </tr>\n",
       "    <tr>\n",
       "      <th>31823392</th>\n",
       "      <td>https://en.wikipedia.org/wiki/Category:Individ...</td>\n",
       "      <td>Category:Individual cetaceans</td>\n",
       "      <td>category</td>\n",
       "      <td>{{commons cat|Individual cetaceans}}\\nThis cat...</td>\n",
       "    </tr>\n",
       "    <tr>\n",
       "      <th>53720250</th>\n",
       "      <td>https://en.wikipedia.org/wiki/Ethelbert_(whale)</td>\n",
       "      <td>Ethelbert (whale)</td>\n",
       "      <td>article</td>\n",
       "      <td>{{no footnotes|date=June 2017}}\\n\\n'''Ethelber...</td>\n",
       "    </tr>\n",
       "  </tbody>\n",
       "</table>\n",
       "</div>"
      ],
      "text/plain": [
       "                                                    website  \\\n",
       "49475203  https://en.wikipedia.org/wiki/Category:Whales_...   \n",
       "49735416         https://en.wikipedia.org/wiki/Tail_sailing   \n",
       "52243894   https://en.wikipedia.org/wiki/Bubble_net_feeding   \n",
       "31823392  https://en.wikipedia.org/wiki/Category:Individ...   \n",
       "53720250    https://en.wikipedia.org/wiki/Ethelbert_(whale)   \n",
       "\n",
       "                                  title page_type  \\\n",
       "49475203     Category:Whales in fiction  category   \n",
       "49735416                   Tail sailing   article   \n",
       "52243894             Bubble net feeding   article   \n",
       "31823392  Category:Individual cetaceans  category   \n",
       "53720250              Ethelbert (whale)   article   \n",
       "\n",
       "                                                   text_raw  \n",
       "49475203  {{popcat}}\\n[[Whale]]s in fiction\\n\\n[[Categor...  \n",
       "49735416  [[File:Southern right whale4.jpg|thumb|upright...  \n",
       "52243894  {{main|Cetacean surfacing behaviour}}\\n'''Bubb...  \n",
       "31823392  {{commons cat|Individual cetaceans}}\\nThis cat...  \n",
       "53720250  {{no footnotes|date=June 2017}}\\n\\n'''Ethelber...  "
      ]
     },
     "execution_count": 2,
     "metadata": {},
     "output_type": "execute_result"
    }
   ],
   "source": [
    "actual_dir=os.getcwd()\n",
    "os.chdir('../data')\n",
    "csvfile1 = 'Wikipedia-dog.csv'\n",
    "csvfile2 = 'Wikipedia-fish.csv'\n",
    "\n",
    "\n",
    "df=pd.read_csv(csvfile1,index_col=0)\n",
    "df2=pd.read_csv(csvfile2,index_col=0)\n",
    "df=df.append(df2)\n",
    "del df2\n",
    "df.tail(5)\n"
   ]
  },
  {
   "cell_type": "markdown",
   "metadata": {
    "collapsed": true
   },
   "source": [
    "Now let's use nltk to tokenize and clean up the text"
   ]
  },
  {
   "cell_type": "markdown",
   "metadata": {
    "collapsed": true
   },
   "source": [
    "# Tokenizer\n",
    "\n",
    "Find a list of tokens from raw text for each article"
   ]
  },
  {
   "cell_type": "code",
   "execution_count": 3,
   "metadata": {},
   "outputs": [
    {
     "data": {
      "text/plain": [
       "970284    [cat, main, conformation, show, show, dog, por...\n",
       "972913    [this, is, a, collection, of, articles, about,...\n",
       "970251    [this, is, an, automatically, collected, list,...\n",
       "729436    [this, is, an, automatically, accumulated, lis...\n",
       "978163    [category, dogs, pets, category, mammals, as, ...\n",
       "Name: text_raw, dtype: object"
      ]
     },
     "execution_count": 3,
     "metadata": {},
     "output_type": "execute_result"
    }
   ],
   "source": [
    "import nltk\n",
    "tokenizer = nltk.RegexpTokenizer(r'\\w+')\n",
    "\n",
    "df_token=df['text_raw']\n",
    "\n",
    "# Convert to lower case:\n",
    "for index in df_token.index:\n",
    "    text=df_token[index]\n",
    "    df_token[index]=text.lower()\n",
    "\n",
    "# Tokenize\n",
    "df_token=df_token.apply(tokenizer.tokenize)\n",
    "df_token.head()"
   ]
  },
  {
   "cell_type": "code",
   "execution_count": 4,
   "metadata": {
    "collapsed": true
   },
   "outputs": [],
   "source": [
    "from gensim import corpora, models"
   ]
  },
  {
   "cell_type": "markdown",
   "metadata": {},
   "source": [
    "# gensim dictionary\n",
    "https://radimrehurek.com/gensim/corpora/dictionary.html\n",
    "\n",
    "* compactify()\n",
    "\n",
    "\n",
    "Assign new word ids to all words.\n",
    "\n",
    "This is done to make the ids more compact, e.g. after some tokens have been removed via filter_tokens() and there are gaps in the id series. Calling this method will remove the gaps.\n",
    "\n",
    "* self.dfs()\n",
    "\n",
    "token frequency\n",
    "\n",
    "* Download stop words running:\n",
    "\n",
    "nltk.download()"
   ]
  },
  {
   "cell_type": "code",
   "execution_count": 5,
   "metadata": {},
   "outputs": [
    {
     "name": "stdout",
     "output_type": "stream",
     "text": [
      "Stop words: ['i', 'me', 'my', 'myself', 'we']\n",
      "\n",
      "Dictionary after filtering:\n",
      "[(1, 'main'), (2, 'conformation'), (3, 'show'), (4, 'dog')]\n"
     ]
    }
   ],
   "source": [
    "# make gensim dictionary\n",
    "\n",
    "line_list = df_token.values\n",
    "dictionary = corpora.Dictionary(line_list)\n",
    "# dictionary: 0: \"about\", 1:\"shelter\",...\n",
    "\n",
    "# filter dictionary to remove stopwords and words occurring < min_count times\n",
    "# need to run nltk.download() -> 3 GB downloaded into C:\\Users\\melanie\\AppData\\Roaming\\nltk_data\n",
    "stop_words = nltk.corpus.stopwords.words('english') \n",
    "print(\"Stop words: {}\\n\".format(stop_words[:5]))\n",
    "\n",
    "stop_ids = [dictionary.token2id[word] for word in stop_words\n",
    "            if word in dictionary.token2id]\n",
    "min_count = 2\n",
    "rare_ids = [id for id, freq in dictionary.dfs.items()\n",
    "            if freq < min_count]\n",
    "dictionary.filter_tokens(stop_ids + rare_ids)\n",
    "print(\"Dictionary after filtering:\")\n",
    "print([(key,dictionary[key]) for key in dictionary.keys()[1:5]])\n",
    "dictionary.compactify()\n"
   ]
  },
  {
   "cell_type": "markdown",
   "metadata": {},
   "source": [
    "## doc2bow()\n",
    "\n",
    "1. counts the number of occurrences of each distinct word\n",
    "2. converts the word to its integer word id \n",
    "3. returns the result as a sparse vector. \n",
    "\n",
    "The sparse vector [(0, 1), (1, 1)] therefore reads: in the document “Human computer interaction”, the words computer (id 0) and human (id 1) appear once; the other ten dictionary words appear (implicitly) zero times."
   ]
  },
  {
   "cell_type": "code",
   "execution_count": 6,
   "metadata": {},
   "outputs": [
    {
     "name": "stdout",
     "output_type": "stream",
     "text": [
      "Corpus contains tuples of word lists and its frequency\n",
      "Corpus: [(1, 1), (4, 2), (6, 3), (10, 1)]\n"
     ]
    }
   ],
   "source": [
    "corpus = [dictionary.doc2bow(words) for words in line_list]\n",
    "print(\"Corpus contains tuples of word lists and its frequency\")\n",
    "print(\"Corpus: {}\".format(corpus[1][1:5]))\n",
    "\n"
   ]
  },
  {
   "cell_type": "markdown",
   "metadata": {},
   "source": [
    "# TF-IDF model\n",
    "\n",
    "https://radimrehurek.com/gensim/models/tfidfmodel.html\n",
    "\n",
    "**TF-IDF model**\n",
    "\n",
    "https://en.wikipedia.org/wiki/Tf%E2%80%93idf\n",
    "\n",
    "*TF-IDF* model, **term frequency–inverse document frequency**, is a numerical statistic that is intended to reflect how important a word is to a document in a collection or corpus. It is often used as a weighting factor in information retrieval, text mining, and user modeling. The tf-idf value increases proportionally to the number of times a word appears in the document, but is often offset by the frequency of the word in the corpus, which helps to adjust for the fact that some words appear more frequently in general. Nowadays, tf-idf is one of the most popular term-weighting schemes. For instance, 83% of text-based recommender systems in the domain of digital libraries use tf-idf.\n",
    "\n",
    "**Term frequency**. \n",
    "The number of times a term occurs in a document is called its term frequency\n",
    "\n",
    "The first form of term weighting is due to Hans Peter Luhn (1957) and is based on the Luhn Assumption:\n",
    "The weight of a term that occurs in a document is simply proportional to the term frequency.[3]\n",
    "\n",
    "**Inverse document frequency**. An inverse document frequency factor is incorporated which diminishes the weight of terms that occur very frequently in the document set and increases the weight of terms that occur rarely, e.g. \"the\", \"a\", etc.\n",
    "\n",
    "Karen Spärck Jones (1972) conceived a statistical interpretation of term specificity called Inverse Document Frequency (IDF), which became a cornerstone of term weighting:\n",
    "The specificity of a term can be quantified as an inverse function of the number of documents in which it occurs.\n",
    "\n",
    "tf–idf is the product of two statistics, term frequency and inverse document frequency.\n",
    "\n",
    "A high weight in tf–idf is reached by a high term frequency (in the given document) and a low document frequency of the term in the whole collection of documents; the weights hence tend to filter out common terms. Since the ratio inside the idf's log function is always greater than or equal to 1, the value of idf (and tf-idf) is greater than or equal to 0. As a term appears in more documents, the ratio inside the logarithm approaches 1, bringing the idf and tf-idf closer to 0.\n",
    "\n",
    "\n",
    "\n"
   ]
  },
  {
   "cell_type": "code",
   "execution_count": 7,
   "metadata": {
    "collapsed": true
   },
   "outputs": [],
   "source": [
    "tfidf = models.TfidfModel(corpus)"
   ]
  },
  {
   "cell_type": "code",
   "execution_count": 8,
   "metadata": {
    "collapsed": true
   },
   "outputs": [],
   "source": [
    "os.chdir(actual_dir)\n",
    "from topic_model import get_topic_model\n",
    "\n",
    "# LSI\n",
    "num_topics=100 #dimensionality of model\n",
    "model=models.LsiModel\n",
    "topic_model=get_topic_model(tfidf,corpus,dictionary,num_topics,model)\n"
   ]
  },
  {
   "cell_type": "code",
   "execution_count": 12,
   "metadata": {},
   "outputs": [],
   "source": [
    "from similarity_matrix import get_similarity_matrix\n",
    "\n",
    "max_posts=len(df_token)\n",
    "num_best=max_posts\n",
    "#matsim=similarities.MatrixSimilarity(topic_model[tfidf[corpus]],num_best=max_posts+1)\n",
    "article_ids=df_token.index\n",
    "num_sims=5 #Save only top ten similar articles\n",
    "\n",
    "similarity_matrix,matsim=get_similarity_matrix(article_ids,topic_model[tfidf[corpus]],num_best,num_sims)"
   ]
  },
  {
   "cell_type": "code",
   "execution_count": 13,
   "metadata": {},
   "outputs": [
    {
     "name": "stdout",
     "output_type": "stream",
     "text": [
      "\u001b[1mCategory:Deaths due to dog attacks\u001b[0m\n",
      "\tDog bite\n",
      "\tBody language of dogs\n",
      "\tDog bite prevention\n",
      "\tTail wagging by dogs\n",
      "\tTail sailing\n",
      "\u001b[1mList of foxhound packs of the United Kingdom\u001b[0m\n",
      "\tList of hound packs of New Zealand\n",
      "\tList of hound packs of Australia\n",
      "\tList of minkhound packs of the United Kingdom\n",
      "\tList of hound packs of Ireland\n",
      "\tList of draghound packs of the United Kingdom\n",
      "\u001b[1mCategory:Dog breeding\u001b[0m\n",
      "\tCategory:Cat fancy\n",
      "\tCategory:Fish reproduction\n",
      "\tCategory:Dog monuments\n",
      "\tBreed type (dog)\n",
      "\tCanine reproduction\n",
      "\u001b[1mCategory:Dog training and behavior\u001b[0m\n",
      "\tCat training\n",
      "\tCategory:Cat behavior\n",
      "\tCategory:Dog-related professions and professionals\n",
      "\tCynology\n",
      "\tCategory:Dog types\n",
      "\u001b[1mCategory:Prehistoric whales\u001b[0m\n",
      "\tCategory:Saber-toothed cats\n",
      "\tCategory:Blue whales\n",
      "\tCategory:Whales in art\n",
      "\tCetacean stranding\n",
      "\tWhales in Ghanaian waters\n",
      "\u001b[1mCategory:Fish anatomy\u001b[0m\n",
      "\tCategory:Mythological dogs\n",
      "\tOutline of fish\n",
      "\tFish\n",
      "\tCategory:Fish by location\n",
      "\tCategory:Fish in heraldry\n",
      "\u001b[1mFile:Basset hound 5weeks.jpg\u001b[0m\n",
      "\tFile:Oldenglishterrier6.JPG\n",
      "\tCat coat genetics\n",
      "\tOrigin of the domestic dog\n",
      "\tPoint coloration\n",
      "\tService dog\n",
      "\u001b[1mList of draghound packs of the United Kingdom\u001b[0m\n",
      "\tList of bloodhound packs of the United Kingdom\n",
      "\tList of minkhound packs of the United Kingdom\n",
      "\tList of foxhound packs of the United Kingdom\n",
      "\tList of hound packs of New Zealand\n",
      "\tList of hound packs of Australia\n",
      "\u001b[1mCategory:Fish stubs\u001b[0m\n",
      "\tCategory:Lists of fishes\n",
      "\tOutline of fish\n",
      "\tFish\n",
      "\tCategory:Dog stubs\n",
      "\tCategory:Fish by location\n",
      "\u001b[1mRare breed (dog)\u001b[0m\n",
      "\tCategory:Dog breeds\n",
      "\tBreed type (dog)\n",
      "\tCategory:Dog types\n",
      "\tCategory:Cat breeds\n",
      "\tLists of dogs\n"
     ]
    }
   ],
   "source": [
    "# This shows the list of similar articles for a few random articles\n",
    "import random\n",
    "list_of_random_items = random.sample(list(matsim), 10)\n",
    "\n",
    "titles=df['title']\n",
    "for sims in list_of_random_items:\n",
    "    sims_id = sims[0][0]\n",
    "    article_id=article_ids[sims_id]\n",
    "    print('\\033[1m'+titles[article_id]+'\\033[0m') \n",
    "    similar_article_ids= similarity_matrix[article_id][0]\n",
    "    for other_id in similar_article_ids:\n",
    "        print(\"\\t{}\".format(titles[other_id]))\n",
    "    #for other_id, score in sims[1:sim_top]:\n",
    "    #    print('\\t', titles[other_id], ' ', score) \n",
    "        "
   ]
  },
  {
   "cell_type": "code",
   "execution_count": 11,
   "metadata": {},
   "outputs": [
    {
     "data": {
      "text/html": [
       "<div>\n",
       "<style>\n",
       "    .dataframe thead tr:only-child th {\n",
       "        text-align: right;\n",
       "    }\n",
       "\n",
       "    .dataframe thead th {\n",
       "        text-align: left;\n",
       "    }\n",
       "\n",
       "    .dataframe tbody tr th {\n",
       "        vertical-align: top;\n",
       "    }\n",
       "</style>\n",
       "<table border=\"1\" class=\"dataframe\">\n",
       "  <thead>\n",
       "    <tr style=\"text-align: right;\">\n",
       "      <th></th>\n",
       "      <th>similar_articles</th>\n",
       "      <th>scores</th>\n",
       "    </tr>\n",
       "  </thead>\n",
       "  <tbody>\n",
       "    <tr>\n",
       "      <th>970284</th>\n",
       "      <td>[22345050, 17430047, 51676708, 729436, 970251,...</td>\n",
       "      <td>[0.367689877748, 0.360884338617, 0.34451672434...</td>\n",
       "    </tr>\n",
       "    <tr>\n",
       "      <th>972913</th>\n",
       "      <td>[977022, 11037163, 50899941, 1968414, 53984662...</td>\n",
       "      <td>[0.96357101202, 0.818602263927, 0.205982163548...</td>\n",
       "    </tr>\n",
       "    <tr>\n",
       "      <th>970251</th>\n",
       "      <td>[39353382, 34921437, 970284, 704388, 970360, 3...</td>\n",
       "      <td>[0.887428402901, 0.318142652512, 0.29628589749...</td>\n",
       "    </tr>\n",
       "    <tr>\n",
       "      <th>729436</th>\n",
       "      <td>[970284, 704388, 50899941, 1968414, 970251, 97...</td>\n",
       "      <td>[0.325745344162, 0.209249347448, 0.19172243773...</td>\n",
       "    </tr>\n",
       "    <tr>\n",
       "      <th>978163</th>\n",
       "      <td>[978165, 32437215, 43220839, 51511707, 3710421...</td>\n",
       "      <td>[0.963033974171, 0.350213766098, 0.19761410355...</td>\n",
       "    </tr>\n",
       "  </tbody>\n",
       "</table>\n",
       "</div>"
      ],
      "text/plain": [
       "                                         similar_articles  \\\n",
       "970284  [22345050, 17430047, 51676708, 729436, 970251,...   \n",
       "972913  [977022, 11037163, 50899941, 1968414, 53984662...   \n",
       "970251  [39353382, 34921437, 970284, 704388, 970360, 3...   \n",
       "729436  [970284, 704388, 50899941, 1968414, 970251, 97...   \n",
       "978163  [978165, 32437215, 43220839, 51511707, 3710421...   \n",
       "\n",
       "                                                   scores  \n",
       "970284  [0.367689877748, 0.360884338617, 0.34451672434...  \n",
       "972913  [0.96357101202, 0.818602263927, 0.205982163548...  \n",
       "970251  [0.887428402901, 0.318142652512, 0.29628589749...  \n",
       "729436  [0.325745344162, 0.209249347448, 0.19172243773...  \n",
       "978163  [0.963033974171, 0.350213766098, 0.19761410355...  "
      ]
     },
     "execution_count": 11,
     "metadata": {},
     "output_type": "execute_result"
    }
   ],
   "source": [
    "os.chdir('../data')\n",
    "\n",
    "#Save similarity into file:\n",
    "df_similarity=pd.DataFrame.from_dict(similarity_matrix, orient='index')\n",
    "df_similarity.columns=['similar_articles','scores']\n",
    "\n",
    "df_similarity.to_csv('Wikipedia-sims.csv')\n",
    "df_similarity.head()\n",
    "\n",
    "# Note that the list is printed as a string in the Wikipedia-sims.csv file.\n",
    "# use literal_eval to convert back to list \n",
    "#>>> from ast import literal_eval\n",
    "#>>> literal_eval('[1.23, 2.34]')\n",
    "#[1.23, 2.34]\n"
   ]
  },
  {
   "cell_type": "code",
   "execution_count": null,
   "metadata": {
    "collapsed": true
   },
   "outputs": [],
   "source": []
  }
 ],
 "metadata": {
  "kernelspec": {
   "display_name": "Python 3",
   "language": "python",
   "name": "python3"
  },
  "language_info": {
   "codemirror_mode": {
    "name": "ipython",
    "version": 3
   },
   "file_extension": ".py",
   "mimetype": "text/x-python",
   "name": "python",
   "nbconvert_exporter": "python",
   "pygments_lexer": "ipython3",
   "version": "3.6.1"
  }
 },
 "nbformat": 4,
 "nbformat_minor": 2
}
