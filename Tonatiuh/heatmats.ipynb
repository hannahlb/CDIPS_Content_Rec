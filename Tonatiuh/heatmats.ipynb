{
 "cells": [
  {
   "cell_type": "code",
   "execution_count": 1,
   "metadata": {
    "collapsed": true
   },
   "outputs": [],
   "source": [
    "import sys, os\n",
    "import numpy as np"
   ]
  },
  {
   "cell_type": "code",
   "execution_count": 2,
   "metadata": {
    "collapsed": true
   },
   "outputs": [],
   "source": [
    "def standarize_matrix(matrix):\n",
    "    #Standarize from 0 to 1?\n",
    "    max_val=np.max(matrix)\n",
    "    min_val=np.min(matrix)\n",
    "    range_val=max_val-min_val\n",
    "    mid_val=(range_val)/2.0+min_val\n",
    "    matrix=(matrix-mid_val)/range_val+0.5\n",
    "    return matrix"
   ]
  },
  {
   "cell_type": "code",
   "execution_count": 3,
   "metadata": {},
   "outputs": [],
   "source": [
    "actual_dir=os.getcwd()\n",
    "npmatrix=np.load('sim_matrix_lsi.pickle')\n",
    "sub_matrix=npmatrix[30:41,30:41]\n",
    "matrix_lsi=standarize_matrix(sub_matrix)\n",
    "\n",
    "npmatrix=np.load('sim_matrix_rp.pickle')\n",
    "sub_matrix=npmatrix[30:41,30:41]\n",
    "matrix_rp=standarize_matrix(sub_matrix)\n",
    "\n",
    "npmatrix=np.load('sim_matrix_lda.pickle')\n",
    "sub_matrix=npmatrix[30:41,30:41]\n",
    "matrix_lda=standarize_matrix(sub_matrix)\n",
    "\n",
    "npmatrix=np.load('sim_matrix_hdp.pickle')\n",
    "sub_matrix=npmatrix[30:41,30:41]\n",
    "matrix_hdp=standarize_matrix(sub_matrix)"
   ]
  },
  {
   "cell_type": "code",
   "execution_count": 12,
   "metadata": {},
   "outputs": [
    {
     "data": {
      "text/plain": [
       "<matplotlib.figure.Figure at 0x11cb32ef0>"
      ]
     },
     "metadata": {},
     "output_type": "display_data"
    }
   ],
   "source": [
    "# Matplotlib for additional customization\n",
    "from matplotlib import pyplot as plt\n",
    "from matplotlib import gridspec\n",
    "\n",
    "%matplotlib inline\n",
    "\n",
    "plt.rcParams['text.usetex'] = True\n",
    "plt.rcParams['text.latex.unicode'] = True\n",
    "\n",
    "plt.rcParams.update({'font.size': 10})\n",
    "\n",
    "fig=plt.figure(figsize=(2,3))\n",
    "fig.set_size_inches(6.6,3.3)\n",
    "gs = gridspec.GridSpec(2, 2)\n",
    "plt.subplots_adjust(left=0.1,right=1.0,bottom=0.17,top=0.9,hspace=0.2)\n",
    "\n",
    "#plt.suptitle('Statistics on layered materials')\n",
    "#fig.text(0.04,0.5,'Normal distribution',va='center',rotation='vertical')"
   ]
  },
  {
   "cell_type": "code",
   "execution_count": 15,
   "metadata": {},
   "outputs": [
    {
     "data": {
      "image/png": "[encoded data removed]",
      "text/plain": [
       "<matplotlib.figure.Figure at 0x11c435fd0>"
      ]
     },
     "metadata": {},
     "output_type": "display_data"
    }
   ],
   "source": [
    "import seaborn as sns;\n",
    "\n",
    "# Panel 1\n",
    "ax1=plt.subplot(gs[0])\n",
    "plt.title('LSI')\n",
    "ax_lsi = sns.heatmap(matrix_lsi,cmap=\"YlGnBu\",vmax=1.0,vmin=0.0)\n",
    "\n",
    "# Panel 2\n",
    "ax2=plt.subplot(gs[1])\n",
    "plt.title('RP')\n",
    "ax_rp = sns.heatmap(matrix_rp,cmap=\"YlGnBu\",vmax=1.0,vmin=0.0)\n",
    "\n",
    "#Panel 3\n",
    "ax3=plt.subplot(gs[2])\n",
    "plt.title('LDA')\n",
    "ax_lda = sns.heatmap(matrix_lda,cmap=\"YlGnBu\",vmax=1.0,vmin=0.0)\n",
    "\n",
    "#Panel 4\n",
    "ax3=plt.subplot(gs[3])\n",
    "plt.title('HDP')\n",
    "ax_hdp = sns.heatmap(matrix_hdp,cmap=\"YlGnBu\",vmax=1.0,vmin=0.0)\n",
    "\n",
    "plt.tight_layout()\n",
    "plt.show()"
   ]
  },
  {
   "cell_type": "code",
   "execution_count": null,
   "metadata": {
    "collapsed": true
   },
   "outputs": [],
   "source": []
  }
 ],
 "metadata": {
  "kernelspec": {
   "display_name": "Python 3",
   "language": "python",
   "name": "python3"
  },
  "language_info": {
   "codemirror_mode": {
    "name": "ipython",
    "version": 3
   },
   "file_extension": ".py",
   "mimetype": "text/x-python",
   "name": "python",
   "nbconvert_exporter": "python",
   "pygments_lexer": "ipython3",
   "version": "3.6.1"
  }
 },
 "nbformat": 4,
 "nbformat_minor": 2
}
