{
 "cells": [
  {
   "cell_type": "markdown",
   "metadata": {},
   "source": [
    "Merge Wikipedia-dog.xml and Wikipedia-fish.xml into csv and db files with columns (title, url) for webpage"
   ]
  },
  {
   "cell_type": "code",
   "execution_count": 1,
   "metadata": {
    "collapsed": true
   },
   "outputs": [],
   "source": [
    "import sys, os\n",
    "from xml.dom import minidom\n",
    "import pandas as pd"
   ]
  },
  {
   "cell_type": "code",
   "execution_count": 2,
   "metadata": {
    "collapsed": true
   },
   "outputs": [],
   "source": [
    "os.chdir('..\\data')\n",
    "xmlfile = 'Wikipedia-dog.xml'"
   ]
  },
  {
   "cell_type": "code",
   "execution_count": 3,
   "metadata": {
    "collapsed": true
   },
   "outputs": [],
   "source": [
    "def get_page_type(title):\n",
    "    \"\"\"\n",
    "    from WikiPage.py: extract page type from article title\n",
    "    \"\"\"\n",
    "    if 'Category:' in title:\n",
    "        return 'category'\n",
    "    elif 'Portal:' in title:\n",
    "        return 'portal'\n",
    "    elif 'List of' in title:\n",
    "        return 'list'\n",
    "    elif 'File:' in title:\n",
    "        return 'file'\n",
    "    else:\n",
    "        return 'article'\n",
    "\n",
    "def xml_to_df(xmlfile):\n",
    "    \"\"\"\n",
    "    input: xml filename\n",
    "    output: data frame with columns: title, url\n",
    "    \n",
    "    filter out pages that are not articles\n",
    "    \"\"\"\n",
    "    xmldoc = minidom.parse(xmlfile)\n",
    "    titlelist = xmldoc.getElementsByTagName('title')\n",
    "    \n",
    "    titles = [title.childNodes[0].data for title in titlelist]\n",
    "    urllist = ['https://en.wikipedia.org/wiki/%s' % (title.replace(' ', '_'))\n",
    "              for title in titles]\n",
    "    typelist = [get_page_type(title) for title in titles]\n",
    "    \n",
    "    data = [(title, url) for title, url, page_type in zip(titles, urllist, typelist) if page_type == 'article']\n",
    "    \n",
    "    data_df = pd.DataFrame(data, columns=['title', 'url'])\n",
    "    return(data_df)"
   ]
  },
  {
   "cell_type": "code",
   "execution_count": 4,
   "metadata": {},
   "outputs": [
    {
     "data": {
      "text/html": [
       "<div>\n",
       "<style>\n",
       "    .dataframe thead tr:only-child th {\n",
       "        text-align: right;\n",
       "    }\n",
       "\n",
       "    .dataframe thead th {\n",
       "        text-align: left;\n",
       "    }\n",
       "\n",
       "    .dataframe tbody tr th {\n",
       "        vertical-align: top;\n",
       "    }\n",
       "</style>\n",
       "<table border=\"1\" class=\"dataframe\">\n",
       "  <thead>\n",
       "    <tr style=\"text-align: right;\">\n",
       "      <th></th>\n",
       "      <th>title</th>\n",
       "      <th>url</th>\n",
       "    </tr>\n",
       "  </thead>\n",
       "  <tbody>\n",
       "    <tr>\n",
       "      <th>89</th>\n",
       "      <td>Cat</td>\n",
       "      <td>https://en.wikipedia.org/wiki/Cat</td>\n",
       "    </tr>\n",
       "    <tr>\n",
       "      <th>90</th>\n",
       "      <td>Cat bite</td>\n",
       "      <td>https://en.wikipedia.org/wiki/Cat_bite</td>\n",
       "    </tr>\n",
       "    <tr>\n",
       "      <th>91</th>\n",
       "      <td>Ancylostoma tubaeforme</td>\n",
       "      <td>https://en.wikipedia.org/wiki/Ancylostoma_tuba...</td>\n",
       "    </tr>\n",
       "    <tr>\n",
       "      <th>92</th>\n",
       "      <td>Feline diseases</td>\n",
       "      <td>https://en.wikipedia.org/wiki/Feline_diseases</td>\n",
       "    </tr>\n",
       "    <tr>\n",
       "      <th>93</th>\n",
       "      <td>International Cat Day</td>\n",
       "      <td>https://en.wikipedia.org/wiki/International_Ca...</td>\n",
       "    </tr>\n",
       "  </tbody>\n",
       "</table>\n",
       "</div>"
      ],
      "text/plain": [
       "                     title                                                url\n",
       "89                     Cat                  https://en.wikipedia.org/wiki/Cat\n",
       "90                Cat bite             https://en.wikipedia.org/wiki/Cat_bite\n",
       "91  Ancylostoma tubaeforme  https://en.wikipedia.org/wiki/Ancylostoma_tuba...\n",
       "92         Feline diseases      https://en.wikipedia.org/wiki/Feline_diseases\n",
       "93   International Cat Day  https://en.wikipedia.org/wiki/International_Ca..."
      ]
     },
     "execution_count": 4,
     "metadata": {},
     "output_type": "execute_result"
    }
   ],
   "source": [
    "df1 = xml_to_df(xmlfile)\n",
    "df1.tail()"
   ]
  },
  {
   "cell_type": "code",
   "execution_count": 5,
   "metadata": {},
   "outputs": [
    {
     "data": {
      "text/html": [
       "<div>\n",
       "<style>\n",
       "    .dataframe thead tr:only-child th {\n",
       "        text-align: right;\n",
       "    }\n",
       "\n",
       "    .dataframe thead th {\n",
       "        text-align: left;\n",
       "    }\n",
       "\n",
       "    .dataframe tbody tr th {\n",
       "        vertical-align: top;\n",
       "    }\n",
       "</style>\n",
       "<table border=\"1\" class=\"dataframe\">\n",
       "  <thead>\n",
       "    <tr style=\"text-align: right;\">\n",
       "      <th></th>\n",
       "      <th>title</th>\n",
       "      <th>url</th>\n",
       "    </tr>\n",
       "  </thead>\n",
       "  <tbody>\n",
       "    <tr>\n",
       "      <th>14</th>\n",
       "      <td>Whale feces</td>\n",
       "      <td>https://en.wikipedia.org/wiki/Whale_feces</td>\n",
       "    </tr>\n",
       "    <tr>\n",
       "      <th>15</th>\n",
       "      <td>Whale watching in New Zealand</td>\n",
       "      <td>https://en.wikipedia.org/wiki/Whale_watching_i...</td>\n",
       "    </tr>\n",
       "    <tr>\n",
       "      <th>16</th>\n",
       "      <td>Tail sailing</td>\n",
       "      <td>https://en.wikipedia.org/wiki/Tail_sailing</td>\n",
       "    </tr>\n",
       "    <tr>\n",
       "      <th>17</th>\n",
       "      <td>Bubble net feeding</td>\n",
       "      <td>https://en.wikipedia.org/wiki/Bubble_net_feeding</td>\n",
       "    </tr>\n",
       "    <tr>\n",
       "      <th>18</th>\n",
       "      <td>Ethelbert (whale)</td>\n",
       "      <td>https://en.wikipedia.org/wiki/Ethelbert_(whale)</td>\n",
       "    </tr>\n",
       "  </tbody>\n",
       "</table>\n",
       "</div>"
      ],
      "text/plain": [
       "                            title  \\\n",
       "14                    Whale feces   \n",
       "15  Whale watching in New Zealand   \n",
       "16                   Tail sailing   \n",
       "17             Bubble net feeding   \n",
       "18              Ethelbert (whale)   \n",
       "\n",
       "                                                  url  \n",
       "14          https://en.wikipedia.org/wiki/Whale_feces  \n",
       "15  https://en.wikipedia.org/wiki/Whale_watching_i...  \n",
       "16         https://en.wikipedia.org/wiki/Tail_sailing  \n",
       "17   https://en.wikipedia.org/wiki/Bubble_net_feeding  \n",
       "18    https://en.wikipedia.org/wiki/Ethelbert_(whale)  "
      ]
     },
     "execution_count": 5,
     "metadata": {},
     "output_type": "execute_result"
    }
   ],
   "source": [
    "xmlfile = 'Wikipedia-fish.xml'\n",
    "df2 = xml_to_df(xmlfile)\n",
    "df2.tail()"
   ]
  },
  {
   "cell_type": "code",
   "execution_count": 6,
   "metadata": {
    "collapsed": true
   },
   "outputs": [],
   "source": [
    "df = df1.append(df2)"
   ]
  },
  {
   "cell_type": "code",
   "execution_count": 7,
   "metadata": {
    "collapsed": true
   },
   "outputs": [],
   "source": [
    "df.to_csv('wikisearch.csv', index=False)"
   ]
  },
  {
   "cell_type": "code",
   "execution_count": 8,
   "metadata": {
    "collapsed": true
   },
   "outputs": [],
   "source": [
    "import csv\n",
    "import sqlite3\n",
    "\n",
    "conn = sqlite3.connect('wikisearch.db')\n",
    "cur = conn.cursor()\n",
    "cur.execute(\"\"\"DROP TABLE IF EXISTS wikisearch\"\"\")\n",
    "cur.execute(\"\"\"CREATE TABLE wikisearch\n",
    "            (title text, url text)\"\"\")\n",
    "\n",
    "with open('wikisearch.csv', 'r') as f:\n",
    "    reader = csv.reader(f.readlines()[1:])  # exclude header line\n",
    "    cur.executemany(\"\"\"INSERT INTO wikisearch VALUES (?,?)\"\"\",\n",
    "                    (row for row in reader))\n",
    "conn.commit()\n",
    "conn.close()"
   ]
  },
  {
   "cell_type": "code",
   "execution_count": null,
   "metadata": {
    "collapsed": true
   },
   "outputs": [],
   "source": []
  }
 ],
 "metadata": {
  "kernelspec": {
   "display_name": "Python 3",
   "language": "python",
   "name": "python3"
  },
  "language_info": {
   "codemirror_mode": {
    "name": "ipython",
    "version": 3
   },
   "file_extension": ".py",
   "mimetype": "text/x-python",
   "name": "python",
   "nbconvert_exporter": "python",
   "pygments_lexer": "ipython3",
   "version": "3.6.1"
  }
 },
 "nbformat": 4,
 "nbformat_minor": 2
}
