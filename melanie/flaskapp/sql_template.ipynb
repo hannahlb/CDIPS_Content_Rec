{
 "cells": [
  {
   "cell_type": "code",
   "execution_count": 1,
   "metadata": {
    "collapsed": true
   },
   "outputs": [],
   "source": [
    "import sqlite3\n",
    "from flask import Flask, request, g\n",
    "from flask import render_template\n",
    "\n",
    "conn = sqlite3.connect('Wikipedia-lsi.db')\n",
    "c = conn.cursor()"
   ]
  },
  {
   "cell_type": "code",
   "execution_count": 2,
   "metadata": {},
   "outputs": [
    {
     "data": {
      "text/plain": [
       "\"['Cattery', 'Indian National Kennel Club', 'Breed type (dog)', 'Dog World (newspaper)', 'Lists of dogs']\""
      ]
     },
     "execution_count": 2,
     "metadata": {},
     "output_type": "execute_result"
    }
   ],
   "source": [
    "c.row_factory = sqlite3.Row\n",
    "title = 'Kennel'\n",
    "rows = c.execute('SELECT * FROM Wikipedia WHERE title=?',[title]).fetchall()\n",
    "titles = rows[0][3] # a string that needs to be parsed\n",
    "titles"
   ]
  },
  {
   "cell_type": "code",
   "execution_count": 3,
   "metadata": {},
   "outputs": [
    {
     "data": {
      "text/plain": [
       "['Cattery',\n",
       " ' Indian National Kennel Club',\n",
       " ' Breed type (dog)',\n",
       " ' Dog World (newspaper)',\n",
       " ' Lists of dogs']"
      ]
     },
     "execution_count": 3,
     "metadata": {},
     "output_type": "execute_result"
    }
   ],
   "source": [
    "titles = titles.replace('[','').replace(']','').replace('\\'','').split(',')\n",
    "titles"
   ]
  },
  {
   "cell_type": "code",
   "execution_count": 4,
   "metadata": {},
   "outputs": [
    {
     "data": {
      "text/plain": [
       "\"['https://en.wikipedia.org/wiki/Cattery', 'https://en.wikipedia.org/wiki/Indian_National_Kennel_Club', 'https://en.wikipedia.org/wiki/Breed_type_(dog)', 'https://en.wikipedia.org/wiki/Dog_World_(newspaper)', 'https://en.wikipedia.org/wiki/Lists_of_dogs']\""
      ]
     },
     "execution_count": 4,
     "metadata": {},
     "output_type": "execute_result"
    }
   ],
   "source": [
    "urls = rows[0][4]   \n",
    "urls"
   ]
  },
  {
   "cell_type": "code",
   "execution_count": 5,
   "metadata": {},
   "outputs": [
    {
     "data": {
      "text/plain": [
       "['https://en.wikipedia.org/wiki/Cattery',\n",
       " ' https://en.wikipedia.org/wiki/Indian_National_Kennel_Club',\n",
       " ' https://en.wikipedia.org/wiki/Breed_type_(dog)',\n",
       " ' https://en.wikipedia.org/wiki/Dog_World_(newspaper)',\n",
       " ' https://en.wikipedia.org/wiki/Lists_of_dogs']"
      ]
     },
     "execution_count": 5,
     "metadata": {},
     "output_type": "execute_result"
    }
   ],
   "source": [
    "urls = urls.replace('[','').replace(']','').replace('\\'','').split(',')\n",
    "urls"
   ]
  },
  {
   "cell_type": "code",
   "execution_count": 6,
   "metadata": {},
   "outputs": [
    {
     "data": {
      "text/plain": [
       "'[0.34, 0.3, 0.19, 0.15, 0.14]'"
      ]
     },
     "execution_count": 6,
     "metadata": {},
     "output_type": "execute_result"
    }
   ],
   "source": [
    "scores = rows[0][5] \n",
    "scores"
   ]
  },
  {
   "cell_type": "code",
   "execution_count": 7,
   "metadata": {},
   "outputs": [
    {
     "data": {
      "text/plain": [
       "['0.34', '0.3', '0.19', '0.15', '0.14']"
      ]
     },
     "execution_count": 7,
     "metadata": {},
     "output_type": "execute_result"
    }
   ],
   "source": [
    "scores = scores.replace('[','').replace(']','').replace(' ','').split(',')\n",
    "scores"
   ]
  },
  {
   "cell_type": "code",
   "execution_count": 8,
   "metadata": {},
   "outputs": [
    {
     "data": {
      "text/plain": [
       "('Cattery', 'https://en.wikipedia.org/wiki/Cattery', '0.34')"
      ]
     },
     "execution_count": 8,
     "metadata": {},
     "output_type": "execute_result"
    }
   ],
   "source": [
    "new_rows = [(title,url,score) for title,url,score in zip(titles,urls,scores)]\n",
    "new_rows[0]"
   ]
  },
  {
   "cell_type": "code",
   "execution_count": 14,
   "metadata": {},
   "outputs": [
    {
     "name": "stdout",
     "output_type": "stream",
     "text": [
      "Error: title is not in database\n"
     ]
    }
   ],
   "source": [
    "title = 'ethelbert'\n",
    "rows = c.execute('SELECT * FROM Wikipedia WHERE title=?',[title]).fetchall()\n",
    "if not rows:\n",
    "    print('Error: title is not in database') "
   ]
  },
  {
   "cell_type": "code",
   "execution_count": null,
   "metadata": {},
   "outputs": [],
   "source": []
  },
  {
   "cell_type": "code",
   "execution_count": null,
   "metadata": {
    "collapsed": true
   },
   "outputs": [],
   "source": []
  }
 ],
 "metadata": {
  "anaconda-cloud": {},
  "kernelspec": {
   "display_name": "Python 3",
   "language": "python",
   "name": "python3"
  },
  "language_info": {
   "codemirror_mode": {
    "name": "ipython",
    "version": 3
   },
   "file_extension": ".py",
   "mimetype": "text/x-python",
   "name": "python",
   "nbconvert_exporter": "python",
   "pygments_lexer": "ipython3",
   "version": "3.6.1"
  }
 },
 "nbformat": 4,
 "nbformat_minor": 1
}
