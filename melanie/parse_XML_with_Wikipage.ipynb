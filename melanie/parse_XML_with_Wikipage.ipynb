{
 "cells": [
  {
   "cell_type": "markdown",
   "metadata": {},
   "source": [
    "Clean up parser script"
   ]
  },
  {
   "cell_type": "code",
   "execution_count": 1,
   "metadata": {
    "collapsed": true,
    "scrolled": true
   },
   "outputs": [],
   "source": [
    "import os, sys\n",
    "import pandas as pd\n",
    "import numpy as np\n",
    "import xml.etree.ElementTree as ET\n",
    "\n",
    "os.chdir('..\\scripts')\n",
    "from WikiPage import WikiPage"
   ]
  },
  {
   "cell_type": "code",
   "execution_count": 2,
   "metadata": {
    "collapsed": true
   },
   "outputs": [],
   "source": [
    "os.chdir('..\\data')\n",
    "xmlfile = 'Wikipedia-dog.xml'"
   ]
  },
  {
   "cell_type": "code",
   "execution_count": 3,
   "metadata": {
    "collapsed": true
   },
   "outputs": [],
   "source": [
    "def xml_to_csv(xmlfile):\n",
    "    outfile = xmlfile.replace(\"xml\",\"csv\")\n",
    "    tree = ET.parse(xmlfile)\n",
    "    root = tree.getroot()\n",
    "    from tools import merge_Wiki_pages\n",
    "    df = merge_Wiki_pages(root)\n",
    "    return(df)\n",
    "    #df.to_csv(outfile) # write DF to outfile"
   ]
  },
  {
   "cell_type": "code",
   "execution_count": 4,
   "metadata": {},
   "outputs": [
    {
     "data": {
      "text/html": [
       "<div>\n",
       "<style>\n",
       "    .dataframe thead tr:only-child th {\n",
       "        text-align: right;\n",
       "    }\n",
       "\n",
       "    .dataframe thead th {\n",
       "        text-align: left;\n",
       "    }\n",
       "\n",
       "    .dataframe tbody tr th {\n",
       "        vertical-align: top;\n",
       "    }\n",
       "</style>\n",
       "<table border=\"1\" class=\"dataframe\">\n",
       "  <thead>\n",
       "    <tr style=\"text-align: right;\">\n",
       "      <th></th>\n",
       "      <th>website</th>\n",
       "      <th>title</th>\n",
       "      <th>page_type</th>\n",
       "      <th>text_raw</th>\n",
       "    </tr>\n",
       "  </thead>\n",
       "  <tbody>\n",
       "    <tr>\n",
       "      <th>970284</th>\n",
       "      <td>https://en.wikipedia.org/wiki/Category:Dog_sho...</td>\n",
       "      <td>Category:Dog shows and showing</td>\n",
       "      <td>category</td>\n",
       "      <td>{{Cat main|Conformation show|Show dog}}\\n{{por...</td>\n",
       "    </tr>\n",
       "    <tr>\n",
       "      <th>972913</th>\n",
       "      <td>https://en.wikipedia.org/wiki/Category:Dog_health</td>\n",
       "      <td>Category:Dog health</td>\n",
       "      <td>category</td>\n",
       "      <td>This is a collection of articles about the hea...</td>\n",
       "    </tr>\n",
       "    <tr>\n",
       "      <th>970251</th>\n",
       "      <td>https://en.wikipedia.org/wiki/Category:Dog_org...</td>\n",
       "      <td>Category:Dog organizations</td>\n",
       "      <td>category</td>\n",
       "      <td>This is an automatically collected list of art...</td>\n",
       "    </tr>\n",
       "    <tr>\n",
       "      <th>729436</th>\n",
       "      <td>https://en.wikipedia.org/wiki/Category:Dog_sports</td>\n",
       "      <td>Category:Dog sports</td>\n",
       "      <td>category</td>\n",
       "      <td>This is an automatically accumulated list of a...</td>\n",
       "    </tr>\n",
       "    <tr>\n",
       "      <th>978163</th>\n",
       "      <td>https://en.wikipedia.org/wiki/Category:Dogs_as...</td>\n",
       "      <td>Category:Dogs as pets</td>\n",
       "      <td>category</td>\n",
       "      <td>[[Category:Dogs|Pets]]\\n[[Category:Mammals as ...</td>\n",
       "    </tr>\n",
       "  </tbody>\n",
       "</table>\n",
       "</div>"
      ],
      "text/plain": [
       "                                                  website  \\\n",
       "970284  https://en.wikipedia.org/wiki/Category:Dog_sho...   \n",
       "972913  https://en.wikipedia.org/wiki/Category:Dog_health   \n",
       "970251  https://en.wikipedia.org/wiki/Category:Dog_org...   \n",
       "729436  https://en.wikipedia.org/wiki/Category:Dog_sports   \n",
       "978163  https://en.wikipedia.org/wiki/Category:Dogs_as...   \n",
       "\n",
       "                                 title page_type  \\\n",
       "970284  Category:Dog shows and showing  category   \n",
       "972913             Category:Dog health  category   \n",
       "970251      Category:Dog organizations  category   \n",
       "729436             Category:Dog sports  category   \n",
       "978163           Category:Dogs as pets  category   \n",
       "\n",
       "                                                 text_raw  \n",
       "970284  {{Cat main|Conformation show|Show dog}}\\n{{por...  \n",
       "972913  This is a collection of articles about the hea...  \n",
       "970251  This is an automatically collected list of art...  \n",
       "729436  This is an automatically accumulated list of a...  \n",
       "978163  [[Category:Dogs|Pets]]\\n[[Category:Mammals as ...  "
      ]
     },
     "execution_count": 4,
     "metadata": {},
     "output_type": "execute_result"
    }
   ],
   "source": [
    "df=xml_to_csv(xmlfile)\n",
    "df.head()"
   ]
  },
  {
   "cell_type": "code",
   "execution_count": 7,
   "metadata": {},
   "outputs": [
    {
     "data": {
      "text/plain": [
       "970284    Category:Dog shows and showing\n",
       "972913               Category:Dog health\n",
       "970251        Category:Dog organizations\n",
       "729436               Category:Dog sports\n",
       "978163             Category:Dogs as pets\n",
       "Name: title, dtype: object"
      ]
     },
     "execution_count": 7,
     "metadata": {},
     "output_type": "execute_result"
    }
   ],
   "source": [
    "df['title'][:5]"
   ]
  },
  {
   "cell_type": "code",
   "execution_count": null,
   "metadata": {},
   "outputs": [],
   "source": []
  },
  {
   "cell_type": "code",
   "execution_count": null,
   "metadata": {
    "collapsed": true
   },
   "outputs": [],
   "source": []
  }
 ],
 "metadata": {
  "kernelspec": {
   "display_name": "Python 3",
   "language": "python",
   "name": "python3"
  },
  "language_info": {
   "codemirror_mode": {
    "name": "ipython",
    "version": 3
   },
   "file_extension": ".py",
   "mimetype": "text/x-python",
   "name": "python",
   "nbconvert_exporter": "python",
   "pygments_lexer": "ipython3",
   "version": "3.6.1"
  }
 },
 "nbformat": 4,
 "nbformat_minor": 2
}
