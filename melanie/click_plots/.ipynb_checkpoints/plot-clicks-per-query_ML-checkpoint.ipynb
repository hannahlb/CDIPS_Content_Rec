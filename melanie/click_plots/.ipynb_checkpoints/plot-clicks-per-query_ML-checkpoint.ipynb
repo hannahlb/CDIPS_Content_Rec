{
 "cells": [
  {
   "cell_type": "markdown",
   "metadata": {},
   "source": [
    "Modified from plot-clicks-per-query.ipynb \n",
    "\n",
    "Count number of clicks per individual query (CPQ), then plot histograms of CPQ for each model.\n",
    "\n",
    "need to fix: this is skipping lines so missing half the data"
   ]
  },
  {
   "cell_type": "code",
   "execution_count": 1,
   "metadata": {},
   "outputs": [
    {
     "name": "stderr",
     "output_type": "stream",
     "text": [
      "C:\\Users\\melanie\\Anaconda3\\envs\\cdips2017\\lib\\site-packages\\ipykernel_launcher.py:26: DeprecationWarning: parsing timezone aware datetimes is deprecated; this will raise an error in the future\n",
      "C:\\Users\\melanie\\Anaconda3\\envs\\cdips2017\\lib\\site-packages\\ipykernel_launcher.py:35: DeprecationWarning: parsing timezone aware datetimes is deprecated; this will raise an error in the future\n"
     ]
    }
   ],
   "source": [
    "from matplotlib import pyplot as plt\n",
    "from matplotlib import dates\n",
    "from datetime import datetime\n",
    "import numpy as np\n",
    "import sys\n",
    "import itertools \n",
    "\n",
    "cpq_lsi = [] # clicks per query\n",
    "cpq_lda = []\n",
    "\n",
    "# read 2 lines at a time\n",
    "with open('all_clicks.txt') as f:\n",
    "    for line1,line2 in itertools.zip_longest(*[f]*2):\n",
    "        tokens1 = line1.split(' ')\n",
    "        model = tokens1[0]\n",
    "        query_start = np.datetime64(tokens1[1]+\" \"+tokens1[2])\n",
    "        \n",
    "        tokens2 = line2.split(' ')\n",
    "        query_end = np.datetime64(tokens2[1]+\" \"+tokens2[2])\n",
    "        \n",
    "        if( model == 'LSI'):\n",
    "            curr_num_clicks = 0\n",
    "            with open(\"lsi_clicks.txt\") as fm:\n",
    "                for line in fm.readlines():\n",
    "                    if '2017' in line:\n",
    "                        if np.datetime64(line) >= query_start and np.datetime64(line) < query_end:\n",
    "                            curr_num_clicks += 1\n",
    "            cpq_lsi.append(curr_num_clicks)                \n",
    "                    \n",
    "        if( model == 'LDA'):\n",
    "            curr_num_clicks = 0\n",
    "            with open(\"lda_clicks.txt\") as fm:\n",
    "                for line in fm.readlines():\n",
    "                    if '2017' in line:\n",
    "                        if np.datetime64(line) >= query_start and np.datetime64(line) < query_end:\n",
    "                            curr_num_clicks += 1\n",
    "            cpq_lda.append(curr_num_clicks) \n",
    "        "
   ]
  },
  {
   "cell_type": "code",
   "execution_count": 2,
   "metadata": {},
   "outputs": [
    {
     "data": {
      "text/plain": [
       "[4, 4, 4, 5, 2, 4, 4, 5]"
      ]
     },
     "execution_count": 2,
     "metadata": {},
     "output_type": "execute_result"
    }
   ],
   "source": [
    "cpq_lsi"
   ]
  },
  {
   "cell_type": "code",
   "execution_count": 3,
   "metadata": {},
   "outputs": [
    {
     "data": {
      "text/plain": [
       "[3, 3, 0]"
      ]
     },
     "execution_count": 3,
     "metadata": {},
     "output_type": "execute_result"
    }
   ],
   "source": [
    "cpq_lda"
   ]
  },
  {
   "cell_type": "code",
   "execution_count": 4,
   "metadata": {},
   "outputs": [
    {
     "data": {
      "text/plain": [
       "<matplotlib.legend.Legend at 0x1f0b7b92390>"
      ]
     },
     "execution_count": 4,
     "metadata": {},
     "output_type": "execute_result"
    },
    {
     "data": {
      "image/png": "[encoded data removed]",
      "text/plain": [
       "<matplotlib.figure.Figure at 0x1f0b7b92320>"
      ]
     },
     "metadata": {},
     "output_type": "display_data"
    }
   ],
   "source": [
    "import matplotlib.pyplot as plt\n",
    "% matplotlib inline\n",
    "\n",
    "plt.hist(cpq_lsi, bins=[0,1,2,3,4,5,6], color='g', alpha=0.5, label='LSI');\n",
    "plt.hist(cpq_lda, bins=[0,1,2,3,4,5,6], color='r', alpha=0.5, label='LDA');\n",
    "plt.xlabel('clicks per query', fontsize=14)\n",
    "plt.ylabel('frequency', fontsize=14)\n",
    "plt.legend(fontsize=14)"
   ]
  },
  {
   "cell_type": "code",
   "execution_count": null,
   "metadata": {
    "collapsed": true
   },
   "outputs": [],
   "source": []
  }
 ],
 "metadata": {
  "kernelspec": {
   "display_name": "Python 3",
   "language": "python",
   "name": "python3"
  },
  "language_info": {
   "codemirror_mode": {
    "name": "ipython",
    "version": 3
   },
   "file_extension": ".py",
   "mimetype": "text/x-python",
   "name": "python",
   "nbconvert_exporter": "python",
   "pygments_lexer": "ipython3",
   "version": "3.6.1"
  }
 },
 "nbformat": 4,
 "nbformat_minor": 2
}
