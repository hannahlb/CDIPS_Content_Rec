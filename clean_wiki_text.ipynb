{
 "cells": [
  {
   "cell_type": "code",
   "execution_count": 1,
   "metadata": {
    "collapsed": true
   },
   "outputs": [],
   "source": [
    "import sys, os\n",
    "import re\n",
    "import nltk\n",
    "import pandas as pd\n",
    "import numpy as np\n",
    "import xml.etree.ElementTree as ET\n",
    "sys.path.insert(0, 'scripts')\n",
    "from WikiPage import WikiPage"
   ]
  },
  {
   "cell_type": "code",
   "execution_count": 2,
   "metadata": {
    "collapsed": true
   },
   "outputs": [],
   "source": [
    "os.chdir('data')\n",
    "xmlfile = 'Wikipedia-20170717213140.xml'"
   ]
  },
  {
   "cell_type": "code",
   "execution_count": 3,
   "metadata": {
    "collapsed": true
   },
   "outputs": [],
   "source": [
    "tree = ET.parse(xmlfile)\n",
    "root = tree.getroot()"
   ]
  },
  {
   "cell_type": "code",
   "execution_count": 4,
   "metadata": {
    "collapsed": true
   },
   "outputs": [],
   "source": [
    "wikidat = WikiPage(root[20])"
   ]
  },
  {
   "cell_type": "code",
   "execution_count": 5,
   "metadata": {},
   "outputs": [
    {
     "data": {
      "text/plain": [
       "'{{refimprove|date=December 2008}}\\n{{originalresearch|date=December 2008}}\\n\\n\\'\\'\\'Dogs\\'\\'\\' (\\'\\'Canis lupus familiaris\\'\\'), known in [[Classical Chinese]] as \\'\\'quan\\'\\' ({{zh|c=犬|p=quǎn|w=\\'\\'ch\\'üan\\'\\'}}), played an important role in ancient Chinese society.\\n\\n== Domestication ==\\n\\nAn examination of the genetic evidence by Carles Vila and others confirms that the progenitor of the domestic dog is the wolf (\\'\\'Canis lupus\\'\\').<ref>J. A. Leonard, R. K. Wayne, J. Wheeler, R. Valadez, S. Guillén, C Vilà, (2002) \"Anc'"
      ]
     },
     "execution_count": 5,
     "metadata": {},
     "output_type": "execute_result"
    }
   ],
   "source": [
    "wikidat.text_raw[:500]"
   ]
  },
  {
   "cell_type": "code",
   "execution_count": 6,
   "metadata": {},
   "outputs": [
    {
     "name": "stdout",
     "output_type": "stream",
     "text": [
      "hello goodbye\n"
     ]
    }
   ],
   "source": [
    "# Example using re.search() to find a pattern and string.replace() to remove it\n",
    "#tmp = '{{hello}} goodbye'\n",
    "tmp = 'hello goodbye'\n",
    "m = re.search('{{.+}}', tmp)\n",
    "if m:\n",
    "    print(m.group())\n",
    "    clean_tmp = tmp.replace(m.group(), '')\n",
    "    print(clean_tmp)\n",
    "else:\n",
    "    print(tmp)"
   ]
  },
  {
   "cell_type": "code",
   "execution_count": 7,
   "metadata": {
    "collapsed": true
   },
   "outputs": [],
   "source": [
    "def clean_raw_text(text_raw, searchstr='{{.+}}'):\n",
    "    m = re.search(searchstr, text_raw)\n",
    "    if m:\n",
    "        text_raw = text_raw.replace(m.group(), '')\n",
    "        text_raw = clean_raw_text(text_raw)\n",
    "    return text_raw"
   ]
  },
  {
   "cell_type": "code",
   "execution_count": 8,
   "metadata": {},
   "outputs": [
    {
     "data": {
      "text/plain": [
       "'\\n\\n\\n\\'\\'\\'Dogs\\'\\'\\' (\\'\\'Canis lupus familiaris\\'\\'), known in [[Classical Chinese]] as \\'\\'quan\\'\\' (), played an important role in ancient Chinese society.\\n\\n== Domestication ==\\n\\nAn examination of the genetic evidence by Carles Vila and others confirms that the progenitor of the domestic dog is the wolf (\\'\\'Canis lupus\\'\\').<ref>J. A. Leonard, R. K. Wayne, J. Wheeler, R. Valadez, S. Guillén, C Vilà, (2002) \"Ancient DNA evidence for Old World origin of New World dogs\" \\'\\'Science\\'\\' 298: 1613-1616.</ref> The sugges'"
      ]
     },
     "execution_count": 8,
     "metadata": {},
     "output_type": "execute_result"
    }
   ],
   "source": [
    "text_clean = clean_raw_text(wikidat.text_raw)\n",
    "text_clean[:500]"
   ]
  },
  {
   "cell_type": "code",
   "execution_count": null,
   "metadata": {
    "collapsed": true
   },
   "outputs": [],
   "source": []
  },
  {
   "cell_type": "code",
   "execution_count": null,
   "metadata": {
    "collapsed": true
   },
   "outputs": [],
   "source": []
  }
 ],
 "metadata": {
  "kernelspec": {
   "display_name": "Python 3",
   "language": "python",
   "name": "python3"
  },
  "language_info": {
   "codemirror_mode": {
    "name": "ipython",
    "version": 3
   },
   "file_extension": ".py",
   "mimetype": "text/x-python",
   "name": "python",
   "nbconvert_exporter": "python",
   "pygments_lexer": "ipython3",
   "version": "3.6.1"
  }
 },
 "nbformat": 4,
 "nbformat_minor": 2
}
