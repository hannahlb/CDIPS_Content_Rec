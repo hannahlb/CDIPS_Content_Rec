{
 "cells": [
  {
   "cell_type": "markdown",
   "metadata": {},
   "source": [
    "# Getting article urls using the Wikipedia API\n",
    "\n",
    "* The article urls are not found in the \"Wikipedia.xml\" file.\n",
    "* This notebook cycles over article ids and queries Wikipedia to get the url for each article id.\n",
    "* This is done using the Wikipedia API."
   ]
  },
  {
   "cell_type": "code",
   "execution_count": 4,
   "metadata": {},
   "outputs": [
    {
     "data": {
      "text/html": [
       "<div>\n",
       "<style>\n",
       "    .dataframe thead tr:only-child th {\n",
       "        text-align: right;\n",
       "    }\n",
       "\n",
       "    .dataframe thead th {\n",
       "        text-align: left;\n",
       "    }\n",
       "\n",
       "    .dataframe tbody tr th {\n",
       "        vertical-align: top;\n",
       "    }\n",
       "</style>\n",
       "<table border=\"1\" class=\"dataframe\">\n",
       "  <thead>\n",
       "    <tr style=\"text-align: right;\">\n",
       "      <th></th>\n",
       "      <th>Unnamed: 0</th>\n",
       "      <th>id</th>\n",
       "      <th>text</th>\n",
       "      <th>title</th>\n",
       "    </tr>\n",
       "  </thead>\n",
       "  <tbody>\n",
       "    <tr>\n",
       "      <th>0</th>\n",
       "      <td>0</td>\n",
       "      <td>970284</td>\n",
       "      <td>{{Cat main|Conformation show|Show dog}}{{porta...</td>\n",
       "      <td>Category:Dog shows and showing</td>\n",
       "    </tr>\n",
       "    <tr>\n",
       "      <th>1</th>\n",
       "      <td>1</td>\n",
       "      <td>972913</td>\n",
       "      <td>This is a collection of articles about the hea...</td>\n",
       "      <td>Category:Dog health</td>\n",
       "    </tr>\n",
       "    <tr>\n",
       "      <th>2</th>\n",
       "      <td>2</td>\n",
       "      <td>970251</td>\n",
       "      <td>This is an automatically collected list of art...</td>\n",
       "      <td>Category:Dog organizations</td>\n",
       "    </tr>\n",
       "    <tr>\n",
       "      <th>3</th>\n",
       "      <td>3</td>\n",
       "      <td>729436</td>\n",
       "      <td>This is an automatically accumulated list of a...</td>\n",
       "      <td>Category:Dog sports</td>\n",
       "    </tr>\n",
       "    <tr>\n",
       "      <th>4</th>\n",
       "      <td>4</td>\n",
       "      <td>978163</td>\n",
       "      <td>[[Category:Dogs|Pets]][[Category:Mammals as pe...</td>\n",
       "      <td>Category:Dogs as pets</td>\n",
       "    </tr>\n",
       "  </tbody>\n",
       "</table>\n",
       "</div>"
      ],
      "text/plain": [
       "   Unnamed: 0      id                                               text  \\\n",
       "0           0  970284  {{Cat main|Conformation show|Show dog}}{{porta...   \n",
       "1           1  972913  This is a collection of articles about the hea...   \n",
       "2           2  970251  This is an automatically collected list of art...   \n",
       "3           3  729436  This is an automatically accumulated list of a...   \n",
       "4           4  978163  [[Category:Dogs|Pets]][[Category:Mammals as pe...   \n",
       "\n",
       "                            title  \n",
       "0  Category:Dog shows and showing  \n",
       "1             Category:Dog health  \n",
       "2      Category:Dog organizations  \n",
       "3             Category:Dog sports  \n",
       "4           Category:Dogs as pets  "
      ]
     },
     "execution_count": 4,
     "metadata": {},
     "output_type": "execute_result"
    }
   ],
   "source": [
    "import pandas as pd\n",
    "\n",
    "#Read database:\n",
    "dbfile='data/Wikipedia-20170717213140.csv'\n",
    "outfile=dbfile.replace(\".csv\",\"-url.csv\")\n",
    "\n",
    "df=pd.read_csv(dbfile)\n",
    "df.head()"
   ]
  },
  {
   "cell_type": "markdown",
   "metadata": {},
   "source": [
    "# Get urls\n",
    "\n",
    "For each article entry, use *article id* to get the url's.\n",
    "This is done with the wikipedia API\n",
    "\n",
    "https://en.wikipedia.org/w/api.php?action=query&prop=info&pageids=18630637&inprop=url\n",
    "\n",
    "where pageids= *article id*\n"
   ]
  },
  {
   "cell_type": "code",
   "execution_count": 12,
   "metadata": {},
   "outputs": [
    {
     "name": "stdout",
     "output_type": "stream",
     "text": [
      "147\n"
     ]
    },
    {
     "data": {
      "text/html": [
       "<div>\n",
       "<style>\n",
       "    .dataframe thead tr:only-child th {\n",
       "        text-align: right;\n",
       "    }\n",
       "\n",
       "    .dataframe thead th {\n",
       "        text-align: left;\n",
       "    }\n",
       "\n",
       "    .dataframe tbody tr th {\n",
       "        vertical-align: top;\n",
       "    }\n",
       "</style>\n",
       "<table border=\"1\" class=\"dataframe\">\n",
       "  <thead>\n",
       "    <tr style=\"text-align: right;\">\n",
       "      <th></th>\n",
       "      <th>fullurl</th>\n",
       "      <th>id</th>\n",
       "    </tr>\n",
       "  </thead>\n",
       "  <tbody>\n",
       "    <tr>\n",
       "      <th>0</th>\n",
       "      <td>https://en.wikipedia.org/wiki/Category:Dog_sho...</td>\n",
       "      <td>970284</td>\n",
       "    </tr>\n",
       "    <tr>\n",
       "      <th>1</th>\n",
       "      <td>https://en.wikipedia.org/wiki/Category:Dog_health</td>\n",
       "      <td>972913</td>\n",
       "    </tr>\n",
       "    <tr>\n",
       "      <th>2</th>\n",
       "      <td>https://en.wikipedia.org/wiki/Category:Dog_org...</td>\n",
       "      <td>970251</td>\n",
       "    </tr>\n",
       "    <tr>\n",
       "      <th>3</th>\n",
       "      <td>https://en.wikipedia.org/wiki/Category:Dog_sports</td>\n",
       "      <td>729436</td>\n",
       "    </tr>\n",
       "    <tr>\n",
       "      <th>4</th>\n",
       "      <td>https://en.wikipedia.org/wiki/Category:Dogs_as...</td>\n",
       "      <td>978163</td>\n",
       "    </tr>\n",
       "  </tbody>\n",
       "</table>\n",
       "</div>"
      ],
      "text/plain": [
       "                                             fullurl      id\n",
       "0  https://en.wikipedia.org/wiki/Category:Dog_sho...  970284\n",
       "1  https://en.wikipedia.org/wiki/Category:Dog_health  972913\n",
       "2  https://en.wikipedia.org/wiki/Category:Dog_org...  970251\n",
       "3  https://en.wikipedia.org/wiki/Category:Dog_sports  729436\n",
       "4  https://en.wikipedia.org/wiki/Category:Dogs_as...  978163"
      ]
     },
     "execution_count": 12,
     "metadata": {},
     "output_type": "execute_result"
    }
   ],
   "source": [
    "import urllib.request\n",
    "import json\n",
    "\n",
    "index_list=df['id']\n",
    "\n",
    "request0=\"https://en.wikipedia.org/w/api.php?action=query&prop=info&pageids=__pageids__&inprop=url&format=json\"\n",
    "\n",
    "url_list=[]\n",
    "for index_i in index_list:\n",
    "    aid=str(index_i)\n",
    "    request=request0.replace(\"__pageids__\",aid)\n",
    "    s=urllib.request.urlopen(request).read()\n",
    "    article_dict=json.loads(s)\n",
    "    fullurl=str(article_dict['query']['pages'][aid]['fullurl'])\n",
    "    newline={'id':aid,'fullurl':fullurl}\n",
    "    #print(newline)\n",
    "    url_list.append(newline)\n",
    "   \n",
    "print(len(url_list))\n",
    "df2=pd.DataFrame(url_list)\n",
    "df2.to_csv(outfile)\n",
    "df2.head()"
   ]
  },
  {
   "cell_type": "code",
   "execution_count": null,
   "metadata": {
    "collapsed": true
   },
   "outputs": [],
   "source": []
  }
 ],
 "metadata": {
  "kernelspec": {
   "display_name": "Python 3",
   "language": "python",
   "name": "python3"
  },
  "language_info": {
   "codemirror_mode": {
    "name": "ipython",
    "version": 3
   },
   "file_extension": ".py",
   "mimetype": "text/x-python",
   "name": "python",
   "nbconvert_exporter": "python",
   "pygments_lexer": "ipython3",
   "version": "3.6.1"
  }
 },
 "nbformat": 4,
 "nbformat_minor": 2
}
