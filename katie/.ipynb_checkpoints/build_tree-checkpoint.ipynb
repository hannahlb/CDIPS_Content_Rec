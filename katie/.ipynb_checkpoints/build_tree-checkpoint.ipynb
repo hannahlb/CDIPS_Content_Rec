{
 "cells": [
  {
   "cell_type": "code",
   "execution_count": 39,
   "metadata": {},
   "outputs": [],
   "source": [
    "import sys\n",
    "import re\n",
    "import json\n",
    "import urllib.request\n",
    "import pandas as pd\n",
    "import xml.etree.ElementTree as ET\n",
    "sys.path.insert(0, '../scripts')\n",
    "from WikiPage import WikiPage"
   ]
  },
  {
   "cell_type": "code",
   "execution_count": 21,
   "metadata": {},
   "outputs": [
    {
     "data": {
      "text/html": [
       "<div>\n",
       "<style>\n",
       "    .dataframe thead tr:only-child th {\n",
       "        text-align: right;\n",
       "    }\n",
       "\n",
       "    .dataframe thead th {\n",
       "        text-align: left;\n",
       "    }\n",
       "\n",
       "    .dataframe tbody tr th {\n",
       "        vertical-align: top;\n",
       "    }\n",
       "</style>\n",
       "<table border=\"1\" class=\"dataframe\">\n",
       "  <thead>\n",
       "    <tr style=\"text-align: right;\">\n",
       "      <th></th>\n",
       "      <th>website</th>\n",
       "      <th>title</th>\n",
       "      <th>page_type</th>\n",
       "      <th>text_raw</th>\n",
       "    </tr>\n",
       "  </thead>\n",
       "  <tbody>\n",
       "    <tr>\n",
       "      <th>970284</th>\n",
       "      <td>https://en.wikipedia.org/wiki/Category:Dog_sho...</td>\n",
       "      <td>Category:Dog shows and showing</td>\n",
       "      <td>category</td>\n",
       "      <td>{{Cat main|Conformation show|Show dog}}\\n{{por...</td>\n",
       "    </tr>\n",
       "    <tr>\n",
       "      <th>972913</th>\n",
       "      <td>https://en.wikipedia.org/wiki/Category:Dog_health</td>\n",
       "      <td>Category:Dog health</td>\n",
       "      <td>category</td>\n",
       "      <td>This is a collection of articles about the hea...</td>\n",
       "    </tr>\n",
       "    <tr>\n",
       "      <th>970251</th>\n",
       "      <td>https://en.wikipedia.org/wiki/Category:Dog_org...</td>\n",
       "      <td>Category:Dog organizations</td>\n",
       "      <td>category</td>\n",
       "      <td>This is an automatically collected list of art...</td>\n",
       "    </tr>\n",
       "    <tr>\n",
       "      <th>729436</th>\n",
       "      <td>https://en.wikipedia.org/wiki/Category:Dog_sports</td>\n",
       "      <td>Category:Dog sports</td>\n",
       "      <td>category</td>\n",
       "      <td>This is an automatically accumulated list of a...</td>\n",
       "    </tr>\n",
       "    <tr>\n",
       "      <th>978163</th>\n",
       "      <td>https://en.wikipedia.org/wiki/Category:Dogs_as...</td>\n",
       "      <td>Category:Dogs as pets</td>\n",
       "      <td>category</td>\n",
       "      <td>[[Category:Dogs|Pets]]\\n[[Category:Mammals as ...</td>\n",
       "    </tr>\n",
       "  </tbody>\n",
       "</table>\n",
       "</div>"
      ],
      "text/plain": [
       "                                                  website  \\\n",
       "970284  https://en.wikipedia.org/wiki/Category:Dog_sho...   \n",
       "972913  https://en.wikipedia.org/wiki/Category:Dog_health   \n",
       "970251  https://en.wikipedia.org/wiki/Category:Dog_org...   \n",
       "729436  https://en.wikipedia.org/wiki/Category:Dog_sports   \n",
       "978163  https://en.wikipedia.org/wiki/Category:Dogs_as...   \n",
       "\n",
       "                                 title page_type  \\\n",
       "970284  Category:Dog shows and showing  category   \n",
       "972913             Category:Dog health  category   \n",
       "970251      Category:Dog organizations  category   \n",
       "729436             Category:Dog sports  category   \n",
       "978163           Category:Dogs as pets  category   \n",
       "\n",
       "                                                 text_raw  \n",
       "970284  {{Cat main|Conformation show|Show dog}}\\n{{por...  \n",
       "972913  This is a collection of articles about the hea...  \n",
       "970251  This is an automatically collected list of art...  \n",
       "729436  This is an automatically accumulated list of a...  \n",
       "978163  [[Category:Dogs|Pets]]\\n[[Category:Mammals as ...  "
      ]
     },
     "execution_count": 21,
     "metadata": {},
     "output_type": "execute_result"
    }
   ],
   "source": [
    "dog_dat = pd.read_csv('../data/Wikipedia-dog.csv', index_col=0)\n",
    "fish_dat = pd.read_csv('../data/Wikipedia-fish.csv', index_col=0)\n",
    "dat = pd.concat([dog_dat, fish_dat])\n",
    "dat.head()"
   ]
  },
  {
   "cell_type": "code",
   "execution_count": 13,
   "metadata": {},
   "outputs": [],
   "source": [
    "dog_xmlfile = '../data/Wikipedia-dog.xml'\n",
    "dog_tree = ET.parse(dog_xmlfile)\n",
    "dog_root = dog_tree.getroot()\n",
    "\n",
    "fish_xmlfile = '../data/Wikipedia-fish.xml'\n",
    "fish_tree = ET.parse(fish_xmlfile)\n",
    "fish_root = fish_tree.getroot()"
   ]
  },
  {
   "cell_type": "code",
   "execution_count": 34,
   "metadata": {},
   "outputs": [
    {
     "name": "stdout",
     "output_type": "stream",
     "text": [
      "685069728\n"
     ]
    }
   ],
   "source": [
    "wp = WikiPage(dog_root[30])\n",
    "print(wp.text_parentid)\n",
    "#dat.loc[wp.text_parentid]"
   ]
  },
  {
   "cell_type": "code",
   "execution_count": 35,
   "metadata": {},
   "outputs": [],
   "source": [
    "wiki_id = str(wp.text_parentid)\n",
    "request = \"https://en.wikipedia.org/w/api.php?action=query&prop=info&pageids=__pageids__&inprop=url&format=json\"\n",
    "id_request = request.replace(\"__pageids__\", wiki_id)\n",
    "s = urllib.request.urlopen(id_request).read()\n",
    "article_dict = json.loads(s)\n",
    "#print(str(article_dict['query']['pages'][wiki_id]['fullurl']))"
   ]
  },
  {
   "cell_type": "code",
   "execution_count": 36,
   "metadata": {},
   "outputs": [
    {
     "data": {
      "text/plain": [
       "{'batchcomplete': '',\n",
       " 'query': {'pages': {'685069728': {'missing': '', 'pageid': 685069728}}}}"
      ]
     },
     "execution_count": 36,
     "metadata": {},
     "output_type": "execute_result"
    }
   ],
   "source": [
    "article_dict"
   ]
  },
  {
   "cell_type": "code",
   "execution_count": 37,
   "metadata": {},
   "outputs": [],
   "source": [
    "def get_url_from_wiki_id(wiki_id):\n",
    "    wiki_id = str(wiki_id)\n",
    "    request = \"https://en.wikipedia.org/w/api.php?action=query&prop=info&pageids=__pageids__&inprop=url&format=json\"\n",
    "    id_request = request.replace(\"__pageids__\", wiki_id)\n",
    "    s = urllib.request.urlopen(id_request).read()\n",
    "    article_dict = json.loads(s)\n",
    "    return str(article_dict['query']['pages'][wiki_id]['fullurl'])"
   ]
  },
  {
   "cell_type": "code",
   "execution_count": 38,
   "metadata": {},
   "outputs": [
    {
     "ename": "KeyError",
     "evalue": "'fullurl'",
     "output_type": "error",
     "traceback": [
      "\u001b[0;31m---------------------------------------------------------------------------\u001b[0m",
      "\u001b[0;31mKeyError\u001b[0m                                  Traceback (most recent call last)",
      "\u001b[0;32m<ipython-input-38-101a99f8b982>\u001b[0m in \u001b[0;36m<module>\u001b[0;34m()\u001b[0m\n\u001b[0;32m----> 1\u001b[0;31m \u001b[0mget_url_from_wiki_id\u001b[0m\u001b[0;34m(\u001b[0m\u001b[0mwp\u001b[0m\u001b[0;34m.\u001b[0m\u001b[0mtext_parentid\u001b[0m\u001b[0;34m)\u001b[0m\u001b[0;34m\u001b[0m\u001b[0m\n\u001b[0m",
      "\u001b[0;32m<ipython-input-37-2c7183da157a>\u001b[0m in \u001b[0;36mget_url_from_wiki_id\u001b[0;34m(wiki_id)\u001b[0m\n\u001b[1;32m      5\u001b[0m     \u001b[0ms\u001b[0m \u001b[0;34m=\u001b[0m \u001b[0murllib\u001b[0m\u001b[0;34m.\u001b[0m\u001b[0mrequest\u001b[0m\u001b[0;34m.\u001b[0m\u001b[0murlopen\u001b[0m\u001b[0;34m(\u001b[0m\u001b[0mid_request\u001b[0m\u001b[0;34m)\u001b[0m\u001b[0;34m.\u001b[0m\u001b[0mread\u001b[0m\u001b[0;34m(\u001b[0m\u001b[0;34m)\u001b[0m\u001b[0;34m\u001b[0m\u001b[0m\n\u001b[1;32m      6\u001b[0m     \u001b[0marticle_dict\u001b[0m \u001b[0;34m=\u001b[0m \u001b[0mjson\u001b[0m\u001b[0;34m.\u001b[0m\u001b[0mloads\u001b[0m\u001b[0;34m(\u001b[0m\u001b[0ms\u001b[0m\u001b[0;34m)\u001b[0m\u001b[0;34m\u001b[0m\u001b[0m\n\u001b[0;32m----> 7\u001b[0;31m     \u001b[0;32mreturn\u001b[0m \u001b[0mstr\u001b[0m\u001b[0;34m(\u001b[0m\u001b[0marticle_dict\u001b[0m\u001b[0;34m[\u001b[0m\u001b[0;34m'query'\u001b[0m\u001b[0;34m]\u001b[0m\u001b[0;34m[\u001b[0m\u001b[0;34m'pages'\u001b[0m\u001b[0;34m]\u001b[0m\u001b[0;34m[\u001b[0m\u001b[0mwiki_id\u001b[0m\u001b[0;34m]\u001b[0m\u001b[0;34m[\u001b[0m\u001b[0;34m'fullurl'\u001b[0m\u001b[0;34m]\u001b[0m\u001b[0;34m)\u001b[0m\u001b[0;34m\u001b[0m\u001b[0m\n\u001b[0m",
      "\u001b[0;31mKeyError\u001b[0m: 'fullurl'"
     ]
    }
   ],
   "source": [
    "get_url_from_wiki_id(wp.text_parentid)"
   ]
  },
  {
   "cell_type": "code",
   "execution_count": 42,
   "metadata": {},
   "outputs": [
    {
     "name": "stdout",
     "output_type": "stream",
     "text": [
      "https://en.wikipedia.org/wiki/PDSA_Certificate_for_Animal_Bravery_or_Devotion\n"
     ]
    }
   ],
   "source": [
    "print(wp.website)"
   ]
  },
  {
   "cell_type": "code",
   "execution_count": 74,
   "metadata": {},
   "outputs": [],
   "source": [
    "def find_wiki_links(text):\n",
    "    searchstr = '(\\[[^\\[\\]]*\\[.*?\\][^\\]\\[]*\\])'\n",
    "    link_urls = []\n",
    "    link_titles_raw = re.findall(searchstr, text)\n",
    "    for link_title_raw in link_titles_raw:\n",
    "        link_title = re.sub(' ', '_',  link_title_raw[2:-2])\n",
    "        link_url = 'https://en.wikipedia.org/wiki/%s' % (link_title)\n",
    "        link_urls.append(link_url)\n",
    "    return list(set(link_urls))"
   ]
  },
  {
   "cell_type": "code",
   "execution_count": 75,
   "metadata": {},
   "outputs": [
    {
     "data": {
      "text/plain": [
       "['https://en.wikipedia.org/wiki/Yorkshire_Terrier',\n",
       " 'https://en.wikipedia.org/wiki/guide_dog',\n",
       " 'https://en.wikipedia.org/wiki/German_Shepherd_Dog|German_Shepherd',\n",
       " 'https://en.wikipedia.org/wiki/Category:Dogs',\n",
       " 'https://en.wikipedia.org/wiki/Category:Domesticated_animals',\n",
       " 'https://en.wikipedia.org/wiki/Category:Awards_established_in_2001',\n",
       " 'https://en.wikipedia.org/wiki/Piper_(dog)|Piper',\n",
       " 'https://en.wikipedia.org/wiki/Miniature_Schnauzer',\n",
       " 'https://en.wikipedia.org/wiki/therapy_dog',\n",
       " 'https://en.wikipedia.org/wiki/Labrador_Retriever',\n",
       " 'https://en.wikipedia.org/wiki/donkey',\n",
       " 'https://en.wikipedia.org/wiki/Wicker_(dog)|Wicker',\n",
       " 'https://en.wikipedia.org/wiki/Maria_Dickin',\n",
       " 'https://en.wikipedia.org/wiki/Helmand_Province',\n",
       " 'https://en.wikipedia.org/wiki/burglar',\n",
       " 'https://en.wikipedia.org/wiki/Category:Awards_to_animals',\n",
       " 'https://en.wikipedia.org/wiki/dog',\n",
       " 'https://en.wikipedia.org/wiki/Afghanistan',\n",
       " 'https://en.wikipedia.org/wiki/Peggy_(dog)|Peggy',\n",
       " 'https://en.wikipedia.org/wiki/sheep',\n",
       " 'https://en.wikipedia.org/wiki/Pit_Bull',\n",
       " 'https://en.wikipedia.org/wiki/World_War_II',\n",
       " 'https://en.wikipedia.org/wiki/Orlando_(dog)|Orlando',\n",
       " 'https://en.wikipedia.org/wiki/BBC_Radio_4',\n",
       " 'https://en.wikipedia.org/wiki/Dotty_(donkey)|Dotty',\n",
       " 'https://en.wikipedia.org/wiki/Brin_(dog)|Brin',\n",
       " 'https://en.wikipedia.org/wiki/United_Kingdom|British',\n",
       " 'https://en.wikipedia.org/wiki/Improvised_explosive_device|IED',\n",
       " 'https://en.wikipedia.org/wiki/Lancashire',\n",
       " 'https://en.wikipedia.org/wiki/Victoria_Cross',\n",
       " 'https://en.wikipedia.org/wiki/Epilepsy|epileptic',\n",
       " 'https://en.wikipedia.org/wiki/Toby_(dog)|Toby',\n",
       " 'https://en.wikipedia.org/wiki/Stray_Dog',\n",
       " \"https://en.wikipedia.org/wiki/People's_Dispensary_for_Sick_Animals\",\n",
       " 'https://en.wikipedia.org/wiki/Smoky_(dog)|Smoky',\n",
       " 'https://en.wikipedia.org/wiki/Dickin_Medal']"
      ]
     },
     "execution_count": 75,
     "metadata": {},
     "output_type": "execute_result"
    }
   ],
   "source": [
    "find_wiki_links(text)"
   ]
  },
  {
   "cell_type": "code",
   "execution_count": 71,
   "metadata": {},
   "outputs": [
    {
     "data": {
      "text/plain": [
       "[\"[[People's Dispensary for Sick Animals]]\",\n",
       " \"[[People's Dispensary for Sick Animals]]\",\n",
       " '[[dog]]',\n",
       " '[[donkey]]',\n",
       " '[[Toby (dog)|Toby]]',\n",
       " '[[Labrador Retriever]]',\n",
       " '[[Lancashire]]',\n",
       " '[[burglar]]',\n",
       " '[[Wicker (dog)|Wicker]]',\n",
       " '[[German Shepherd Dog|German Shepherd]]',\n",
       " '[[Epilepsy|epileptic]]',\n",
       " '[[Orlando (dog)|Orlando]]',\n",
       " '[[Miniature Schnauzer]]',\n",
       " '[[Dotty (donkey)|Dotty]]',\n",
       " '[[donkey]]',\n",
       " '[[sheep]]',\n",
       " '[[Pit Bull]]',\n",
       " '[[Smoky (dog)|Smoky]]',\n",
       " '[[Yorkshire Terrier]]',\n",
       " '[[World War II]]',\n",
       " '[[therapy dog]]',\n",
       " '[[Brin (dog)|Brin]]',\n",
       " '[[Stray Dog]]',\n",
       " '[[Helmand Province]]',\n",
       " '[[Afghanistan]]',\n",
       " '[[United Kingdom|British]]',\n",
       " '[[Improvised explosive device|IED]]',\n",
       " '[[Piper (dog)|Piper]]',\n",
       " '[[Labrador Retriever]]',\n",
       " '[[guide dog]]',\n",
       " '[[Peggy (dog)|Peggy]]',\n",
       " '[[Dickin Medal]]',\n",
       " '[[Maria Dickin]]',\n",
       " '[[Victoria Cross]]',\n",
       " \"[[People's Dispensary for Sick Animals]]\",\n",
       " '[[BBC Radio 4]]',\n",
       " \"[[People's Dispensary for Sick Animals]]\",\n",
       " '[[Category:Dogs]]',\n",
       " '[[Category:Domesticated animals]]',\n",
       " '[[Category:Awards established in 2001]]',\n",
       " '[[Category:Awards to animals]]']"
      ]
     },
     "execution_count": 71,
     "metadata": {},
     "output_type": "execute_result"
    }
   ],
   "source": [
    "searchstr = '(\\[[^\\[\\]]*\\[.*?\\][^\\]\\[]*\\])'\n",
    "re.findall(searchstr, text)"
   ]
  },
  {
   "cell_type": "code",
   "execution_count": 70,
   "metadata": {},
   "outputs": [
    {
     "data": {
      "text/plain": [
       "[\"https://en.wikipedia.org/wiki/People's_Dispensary_for_Sick_Animals\"]"
      ]
     },
     "execution_count": 70,
     "metadata": {},
     "output_type": "execute_result"
    }
   ],
   "source": [
    "find_wiki_links(text)"
   ]
  },
  {
   "cell_type": "code",
   "execution_count": 50,
   "metadata": {},
   "outputs": [
    {
     "name": "stdout",
     "output_type": "stream",
     "text": [
      "['{{Infobox award', '| name           = PDSA Certificate for Animal Bravery or Devotion', '| current_awards =', '| image          =', '| imagesize      = 150px', '| alt            =', '| caption        = The PDSA Certificate for Animal Bravery or Devotion', '| description    = Animal gallantry and devotion to duty', \"| presenter      = [[People's Dispensary for Sick Animals\", '| country        =  United Kingdom', '| location       =', '| year           = 2001', '| year2          =', '| holder         =', '| website        =', '}}', \"The '''PDSA Certificate for Animal Bravery or Devotion''' is an animal bravery award that acknowledges the extraordinary bravery and devotion to duty of animals.<ref>{{cite web|title=PDSA Report and Accounts 2009|url=http://www.charity-commission.gov.uk/ScannedAccounts/Ends17/0000208217_ac_20091231_e_c.pdf|publisher=Charity Commission|accessdate=8 April 2011|format=PDF}}</ref>   It was created by the [[People's Dispensary for Sick Animals]] (PDSA) in 2001.<ref name=dottypdsa/> So far all of the recipients have been [[dog]]s except for Dotty, a [[donkey]].<ref name=dottypdsa/>\", '==Recipients==', '{| class=\"wikitable\"', '|-', '|style=\"background:#FFDDCC;\"|*', '|Awarded posthumously', '|}', '{| class=\"sortable wikitable\"', '! Date<br />of award', '! Recipient', '! class=\"unsortable\"| Notes', '! Date<br />of incident', '! class=\"unsortable\" align=center |Ref(s)', '|-', '| {{sort|200904|April 2009}}', '| [[Toby (dog)|Toby', '| A black [[Labrador Retriever]] from [[Lancashire]] who was stabbed four times in the chest and legs by an armed [[burglar]], but still successfully chased him from the property.', '| {{sort|200706|June 2007}}', '| align=center |<ref name=tobybbc>{{cite news|title=Dog honoured for tackling burglar|url=http://news.bbc.co.uk/1/hi/england/lancashire/8005669.stm|newspaper=BBC News|date=18 April 2009}}</ref>', '|-', '| {{sort|200905|May 2009}}', '| [[Wicker (dog)|Wicker', \"| A pet [[German Shepherd Dog|German Shepherd]]-cross who aided his owner's son when he had an [[Epilepsy|epileptic]] fit and fetched help.\", '| {{sort|200602|February 2006}}', '| align=center |<ref name=wickerpdsa>{{cite news|title=Brave dog Wicker receives a PDSA Certificate for her life-saving action|url=http://www.pdsa.org.uk/about-us/media-pr-centre/news/1050_brave-dog-wicker-receives-a-pdsa-certificate-for-her-life_saving-action|newspaper=PDSA|date=20 May 2009}}</ref>', '|-', '| {{sort|201011|November 2010}}', '| [[Orlando (dog)|Orlando', '| A [[Miniature Schnauzer]] who attracted attention to his elderly owner when she slipped and fell in her garden late one evening.', '| {{sort|200801|October 2007}}', '| align=center |<ref name=orlandopdsa>{{cite news|title=Hero dog Orlando is honoured for his life-saving devotion|url=http://www.pdsa.org.uk/about-us/media-pr-centre/news/1209_hero-dog-orlando-is-honoured-for-his-life_saving-devotion|newspaper=PDSA|date=18 November 2010}}</ref>', '|-', '| {{sort|201104|April 2011}}', '| [[Dotty (donkey)|Dotty', \"| A [[donkey]] that came to her stablemate's aid, a [[sheep]], when it was attacked by a [[Pit Bull]].\", '| {{sort|200904|April 2009}}', '| align=center |<ref name=dottypdsa>{{cite news|title=Brave donkey honoured for saving sheep from dog attack|url=http://www.pdsa.org.uk/about-us/media-pr-centre/news/1233_brave-donkey-honoured-for-saving-sheep-from-dog-attack|newspaper=PDSA|date=18 November 2010}}</ref><ref name=donkeydailymail>{{cite news|title=Kick ass! How Dotty the donkey saved her friend Stanley the sheep from mauling by a pitbull|url=http://www.dailymail.co.uk/news/article-1373683/How-Dotty-Donkey-saved-Stanley-Sheep-mauling-pitbull.html|newspaper=Daily Mail|date=6 April 2011}}</ref>', '|-', '| style=\"background:#FFDDCC;\"|{{sort|201104|April 2011*}}', '| [[Smoky (dog)|Smoky', '| A [[Yorkshire Terrier]] army mascot from [[World War II]] that was the first [[therapy dog]] on record, and pulled communication cables through a seventy foot long drainage culvert under a recently captured airstrip.', '| {{sort|194501|January 1945}}', '| align=center |<ref name=smoky>{{cite web|title=Bill Wynne & Smoky|url=http://www.yorkshireterrier.no/Bill_Wynne_Smoky.html|work=PDSA|publisher=YorkshireTerrier.no|accessdate=8 May 2011}}</ref>', '|-', '| {{sort|201011|June 2011}}', '| [[Brin (dog)|Brin', '| A [[Stray Dog]] from [[Helmand Province]] [[Afghanistan]] who accompanied [[United Kingdom|British]] troops on patrol for [[Improvised explosive device|IED]] devices.', '| {{sort|200801|May 2010}}', '| align=center |<ref name=brinmetro>{{cite news|title=Brin the Afghanistan Bomb Dog Gets New Life|url=http://www.metro.co.uk/news/842435-afghanistan-bomb-dogs-new-life|newspaper=PDSA|date=18 May 2011}}</ref>', '|-', '| {{sort|201105|May 2011}}', '| [[Piper (dog)|Piper', '| A [[Labrador Retriever]] [[guide dog]] that defended his blind owner when she was attacked, before walking her home while injured.', '| {{sort|200801|June 2010}}', '| align=center |<ref>{{cite news|title=Hero dog Orlando is honoured for his life-saving devotion|url=http://www.metro.co.uk/news/842435-afghanistan-bomb-dogs-new-life|newspaper=PDSA|date=29 September 2010}}</ref>', '|-', '| {{sort|201112|December 2011}}', '| [[Peggy (dog)|Peggy', '| A Border Collie cross who barked to wake up her owner to alert her to a house fire.', '| March 2011', '| align=center |<ref name=Peggypdsa>{{cite news|title=Faithful dog Peggy is honoured by PDSA for her bravery in a house fire|url=http://www.pdsa.org.uk/about-us/media-pr-centre/news/1257_faithful-dog-peggy-is-honoured-by-pdsa-for-her-bravery-in-a-house-fire|newspaper=PDSA|date=8 December 2011}}</ref>', '|-', '|}', '==See also==', '*The [[Dickin Medal]], a separate award also administered by the PDSA, which was established by [[Maria Dickin]], founder of the PDSA, in 1943, to acknowledge acts of outstanding bravery by animals serving with military forces in theatres of war, and is considered the animal equivalent of the [[Victoria Cross]].<ref name=\"pdsa\">{{Cite web | url = http://www.pdsa.org.uk/about-us/animal-bravery-awards/pdsa-dickin-medal|title = PDSA Dickin Medal|publisher = [[People\\'s Dispensary for Sick Animals]]|accessdate=7 October 2010}}</ref><ref>{{Cite web | url = http://www.bbc.co.uk/radio4/history/animals_vc.shtml |publisher = [[BBC Radio 4]] | title = The Animals\\' VC | accessdate=7 October 2010}}</ref>', '==References==', '{{reflist|2}}', '==External links==', \"*{{cite web|url=http://www.pdsa.org.uk|title=PDSA &ndash; Home Page| publisher=[[People's Dispensary for Sick Animals]]|accessdate=8 April 2011}}\", '{{DEFAULTSORT:Pdsa Certificate for Animal Bravery or Devotion}}', 'Category:Dogs', 'Category:Domesticated animals', 'Category:Awards established in 2001', 'Category:Awards to animals']\n"
     ]
    }
   ],
   "source": [
    "text = wp.text_raw\n",
    "tmp = [line.strip().strip(\"[\").strip(\"]\") for line in text.splitlines() if line]\n",
    "print(tmp)"
   ]
  },
  {
   "cell_type": "code",
   "execution_count": 45,
   "metadata": {},
   "outputs": [
    {
     "data": {
      "text/plain": [
       "'{{Infobox award'"
      ]
     },
     "execution_count": 45,
     "metadata": {},
     "output_type": "execute_result"
    }
   ],
   "source": [
    "tmp[0]"
   ]
  },
  {
   "cell_type": "code",
   "execution_count": null,
   "metadata": {
    "collapsed": true
   },
   "outputs": [],
   "source": [
    "def get_url_links_from_text(text):\n",
    "    searchstr = 'http.*?'\n",
    "    links = re.search(searchstr, text)"
   ]
  }
 ],
 "metadata": {
  "kernelspec": {
   "display_name": "Python 3",
   "language": "python",
   "name": "python3"
  },
  "language_info": {
   "codemirror_mode": {
    "name": "ipython",
    "version": 3
   },
   "file_extension": ".py",
   "mimetype": "text/x-python",
   "name": "python",
   "nbconvert_exporter": "python",
   "pygments_lexer": "ipython3",
   "version": "3.6.1"
  }
 },
 "nbformat": 4,
 "nbformat_minor": 2
}
