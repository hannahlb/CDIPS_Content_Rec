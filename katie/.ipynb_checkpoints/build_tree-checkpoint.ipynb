{
 "cells": [
  {
   "cell_type": "code",
   "execution_count": 1,
   "metadata": {
    "collapsed": true
   },
   "outputs": [],
   "source": [
    "import sys\n",
    "import re\n",
    "import json\n",
    "import urllib.request\n",
    "import pandas as pd\n",
    "import xml.etree.ElementTree as ET\n",
    "sys.path.insert(0, '../scripts')\n",
    "from WikiPage import WikiPage"
   ]
  },
  {
   "cell_type": "code",
   "execution_count": 2,
   "metadata": {},
   "outputs": [
    {
     "data": {
      "text/html": [
       "<div>\n",
       "<style>\n",
       "    .dataframe thead tr:only-child th {\n",
       "        text-align: right;\n",
       "    }\n",
       "\n",
       "    .dataframe thead th {\n",
       "        text-align: left;\n",
       "    }\n",
       "\n",
       "    .dataframe tbody tr th {\n",
       "        vertical-align: top;\n",
       "    }\n",
       "</style>\n",
       "<table border=\"1\" class=\"dataframe\">\n",
       "  <thead>\n",
       "    <tr style=\"text-align: right;\">\n",
       "      <th></th>\n",
       "      <th>website</th>\n",
       "      <th>title</th>\n",
       "      <th>page_type</th>\n",
       "      <th>text_raw</th>\n",
       "    </tr>\n",
       "  </thead>\n",
       "  <tbody>\n",
       "    <tr>\n",
       "      <th>970284</th>\n",
       "      <td>https://en.wikipedia.org/wiki/Category:Dog_sho...</td>\n",
       "      <td>Category:Dog shows and showing</td>\n",
       "      <td>category</td>\n",
       "      <td>{{Cat main|Conformation show|Show dog}}\\n{{por...</td>\n",
       "    </tr>\n",
       "    <tr>\n",
       "      <th>972913</th>\n",
       "      <td>https://en.wikipedia.org/wiki/Category:Dog_health</td>\n",
       "      <td>Category:Dog health</td>\n",
       "      <td>category</td>\n",
       "      <td>This is a collection of articles about the hea...</td>\n",
       "    </tr>\n",
       "    <tr>\n",
       "      <th>970251</th>\n",
       "      <td>https://en.wikipedia.org/wiki/Category:Dog_org...</td>\n",
       "      <td>Category:Dog organizations</td>\n",
       "      <td>category</td>\n",
       "      <td>This is an automatically collected list of art...</td>\n",
       "    </tr>\n",
       "    <tr>\n",
       "      <th>729436</th>\n",
       "      <td>https://en.wikipedia.org/wiki/Category:Dog_sports</td>\n",
       "      <td>Category:Dog sports</td>\n",
       "      <td>category</td>\n",
       "      <td>This is an automatically accumulated list of a...</td>\n",
       "    </tr>\n",
       "    <tr>\n",
       "      <th>978163</th>\n",
       "      <td>https://en.wikipedia.org/wiki/Category:Dogs_as...</td>\n",
       "      <td>Category:Dogs as pets</td>\n",
       "      <td>category</td>\n",
       "      <td>[[Category:Dogs|Pets]]\\n[[Category:Mammals as ...</td>\n",
       "    </tr>\n",
       "  </tbody>\n",
       "</table>\n",
       "</div>"
      ],
      "text/plain": [
       "                                                  website  \\\n",
       "970284  https://en.wikipedia.org/wiki/Category:Dog_sho...   \n",
       "972913  https://en.wikipedia.org/wiki/Category:Dog_health   \n",
       "970251  https://en.wikipedia.org/wiki/Category:Dog_org...   \n",
       "729436  https://en.wikipedia.org/wiki/Category:Dog_sports   \n",
       "978163  https://en.wikipedia.org/wiki/Category:Dogs_as...   \n",
       "\n",
       "                                 title page_type  \\\n",
       "970284  Category:Dog shows and showing  category   \n",
       "972913             Category:Dog health  category   \n",
       "970251      Category:Dog organizations  category   \n",
       "729436             Category:Dog sports  category   \n",
       "978163           Category:Dogs as pets  category   \n",
       "\n",
       "                                                 text_raw  \n",
       "970284  {{Cat main|Conformation show|Show dog}}\\n{{por...  \n",
       "972913  This is a collection of articles about the hea...  \n",
       "970251  This is an automatically collected list of art...  \n",
       "729436  This is an automatically accumulated list of a...  \n",
       "978163  [[Category:Dogs|Pets]]\\n[[Category:Mammals as ...  "
      ]
     },
     "execution_count": 2,
     "metadata": {},
     "output_type": "execute_result"
    }
   ],
   "source": [
    "dog_dat = pd.read_csv('../data/Wikipedia-dog.csv', index_col=0)\n",
    "fish_dat = pd.read_csv('../data/Wikipedia-fish.csv', index_col=0)\n",
    "dat = pd.concat([dog_dat, fish_dat])\n",
    "dat.head()"
   ]
  },
  {
   "cell_type": "code",
   "execution_count": 3,
   "metadata": {
    "collapsed": true
   },
   "outputs": [],
   "source": [
    "dog_xmlfile = '../data/Wikipedia-dog.xml'\n",
    "dog_tree = ET.parse(dog_xmlfile)\n",
    "dog_root = dog_tree.getroot()\n",
    "\n",
    "fish_xmlfile = '../data/Wikipedia-fish.xml'\n",
    "fish_tree = ET.parse(fish_xmlfile)\n",
    "fish_root = fish_tree.getroot()"
   ]
  },
  {
   "cell_type": "code",
   "execution_count": 4,
   "metadata": {},
   "outputs": [
    {
     "name": "stdout",
     "output_type": "stream",
     "text": [
      "685069728\n"
     ]
    }
   ],
   "source": [
    "wp = WikiPage(dog_root[30])\n",
    "print(wp.text_parentid)\n",
    "#dat.loc[wp.text_parentid]"
   ]
  },
  {
   "cell_type": "code",
   "execution_count": 5,
   "metadata": {
    "collapsed": true
   },
   "outputs": [],
   "source": [
    "wiki_id = str(wp.text_parentid)\n",
    "request = \"https://en.wikipedia.org/w/api.php?action=query&prop=info&pageids=__pageids__&inprop=url&format=json\"\n",
    "id_request = request.replace(\"__pageids__\", wiki_id)\n",
    "s = urllib.request.urlopen(id_request).read()\n",
    "article_dict = json.loads(s)\n",
    "#print(str(article_dict['query']['pages'][wiki_id]['fullurl']))"
   ]
  },
  {
   "cell_type": "code",
   "execution_count": 6,
   "metadata": {},
   "outputs": [
    {
     "data": {
      "text/plain": [
       "{'batchcomplete': '',\n",
       " 'query': {'pages': {'685069728': {'missing': '', 'pageid': 685069728}}}}"
      ]
     },
     "execution_count": 6,
     "metadata": {},
     "output_type": "execute_result"
    }
   ],
   "source": [
    "article_dict"
   ]
  },
  {
   "cell_type": "code",
   "execution_count": 7,
   "metadata": {
    "collapsed": true
   },
   "outputs": [],
   "source": [
    "def get_url_from_wiki_id(wiki_id):\n",
    "    wiki_id = str(wiki_id)\n",
    "    request = \"https://en.wikipedia.org/w/api.php?action=query&prop=info&pageids=__pageids__&inprop=url&format=json\"\n",
    "    id_request = request.replace(\"__pageids__\", wiki_id)\n",
    "    s = urllib.request.urlopen(id_request).read()\n",
    "    article_dict = json.loads(s)\n",
    "    return str(article_dict['query']['pages'][wiki_id]['fullurl'])"
   ]
  },
  {
   "cell_type": "code",
   "execution_count": 8,
   "metadata": {},
   "outputs": [
    {
     "name": "stdout",
     "output_type": "stream",
     "text": [
      "https://en.wikipedia.org/wiki/PDSA_Certificate_for_Animal_Bravery_or_Devotion\n"
     ]
    }
   ],
   "source": [
    "print(wp.website)"
   ]
  },
  {
   "cell_type": "code",
   "execution_count": 9,
   "metadata": {},
   "outputs": [
    {
     "name": "stdout",
     "output_type": "stream",
     "text": [
      "{{Infobox award\n",
      "| name           = PDSA Certificate for Animal Bravery or Devotion\n",
      "| current_awards = \n",
      "| image          = \n",
      "| imagesize      = 150px\n",
      "| alt            = \n",
      "| caption        = The PDSA Certificate for Animal Bravery or Devotion\n",
      "| description    = Animal gallantry and devotion to duty\n",
      "| presenter      = [[People's Dispensary for Sick Animals]]\n",
      "| country        =  United Kingdom\n",
      "| location       = \n",
      "| year           = 2001\n",
      "| year2          = \n",
      "| holder         = \n",
      "| website        = \n",
      "}}\n",
      "\n",
      "The '''PDSA Certificate for Animal Bravery or Devotion''' is an animal bravery award that acknowledges the extraordinary bravery and devotion to duty of animals.<ref>{{cite web|title=PDSA Report and Accounts 2009|url=http://www.charity-commission.gov.uk/ScannedAccounts/Ends17/0000208217_ac_20091231_e_c.pdf|publisher=Charity Commission|accessdate=8 April 2011|format=PDF}}</ref>   It was created by the [[People's Dispensary for Sick Animals]] (PDSA) in 2001.<ref name=dottypdsa/> So far all of the recipients have been [[dog]]s except for Dotty, a [[donkey]].<ref name=dottypdsa/>\n",
      "\n",
      "==Recipients==\n",
      "{| class=\"wikitable\"\n",
      "|-\n",
      "|style=\"background:#FFDDCC;\"|*\n",
      "|Awarded posthumously\n",
      "|}\n",
      "\n",
      "{| class=\"sortable wikitable\"\n",
      "! Date<br />of award\n",
      "! Recipient\n",
      "! class=\"unsortable\"| Notes\n",
      "! Date<br />of incident\n",
      "! class=\"unsortable\" align=center |Ref(s)\n",
      "|-\n",
      "| {{sort|200904|April 2009}}\n",
      "| [[Toby (dog)|Toby]]\n",
      "| A black [[Labrador Retriever]] from [[Lancashire]] who was stabbed four times in the chest and legs by an armed [[burglar]], but still successfully chased him from the property. \n",
      "| {{sort|200706|June 2007}}\n",
      "| align=center |<ref name=tobybbc>{{cite news|title=Dog honoured for tackling burglar|url=http://news.bbc.co.uk/1/hi/england/lancashire/8005669.stm|newspaper=BBC News|date=18 April 2009}}</ref> \n",
      "|-\n",
      "| {{sort|200905|May 2009}}\n",
      "| [[Wicker (dog)|Wicker]]\n",
      "| A pet [[German Shepherd Dog|German Shepherd]]-cross who aided his owner's son when he had an [[Epilepsy|epileptic]] fit and fetched help.\n",
      "| {{sort|200602|February 2006}}\n",
      "| align=center |<ref name=wickerpdsa>{{cite news|title=Brave dog Wicker receives a PDSA Certificate for her life-saving action|url=http://www.pdsa.org.uk/about-us/media-pr-centre/news/1050_brave-dog-wicker-receives-a-pdsa-certificate-for-her-life_saving-action|newspaper=PDSA|date=20 May 2009}}</ref> \n",
      "|-\n",
      "| {{sort|201011|November 2010}}\n",
      "| [[Orlando (dog)|Orlando]]\n",
      "| A [[Miniature Schnauzer]] who attracted attention to his elderly owner when she slipped and fell in her garden late one evening.\n",
      "| {{sort|200801|October 2007}}\n",
      "| align=center |<ref name=orlandopdsa>{{cite news|title=Hero dog Orlando is honoured for his life-saving devotion|url=http://www.pdsa.org.uk/about-us/media-pr-centre/news/1209_hero-dog-orlando-is-honoured-for-his-life_saving-devotion|newspaper=PDSA|date=18 November 2010}}</ref> \n",
      "|-\n",
      "| {{sort|201104|April 2011}}\n",
      "| [[Dotty (donkey)|Dotty]]\n",
      "| A [[donkey]] that came to her stablemate's aid, a [[sheep]], when it was attacked by a [[Pit Bull]].\n",
      "| {{sort|200904|April 2009}}\n",
      "| align=center |<ref name=dottypdsa>{{cite news|title=Brave donkey honoured for saving sheep from dog attack|url=http://www.pdsa.org.uk/about-us/media-pr-centre/news/1233_brave-donkey-honoured-for-saving-sheep-from-dog-attack|newspaper=PDSA|date=18 November 2010}}</ref><ref name=donkeydailymail>{{cite news|title=Kick ass! How Dotty the donkey saved her friend Stanley the sheep from mauling by a pitbull|url=http://www.dailymail.co.uk/news/article-1373683/How-Dotty-Donkey-saved-Stanley-Sheep-mauling-pitbull.html|newspaper=Daily Mail|date=6 April 2011}}</ref>\n",
      "|-\n",
      "| style=\"background:#FFDDCC;\"|{{sort|201104|April 2011*}}\n",
      "| [[Smoky (dog)|Smoky]]\n",
      "| A [[Yorkshire Terrier]] army mascot from [[World War II]] that was the first [[therapy dog]] on record, and pulled communication cables through a seventy foot long drainage culvert under a recently captured airstrip.\n",
      "| {{sort|194501|January 1945}}\n",
      "| align=center |<ref name=smoky>{{cite web|title=Bill Wynne & Smoky|url=http://www.yorkshireterrier.no/Bill_Wynne_Smoky.html|work=PDSA|publisher=YorkshireTerrier.no|accessdate=8 May 2011}}</ref>\n",
      "|-\n",
      "| {{sort|201011|June 2011}}\n",
      "| [[Brin (dog)|Brin]]\n",
      "| A [[Stray Dog]] from [[Helmand Province]] [[Afghanistan]] who accompanied [[United Kingdom|British]] troops on patrol for [[Improvised explosive device|IED]] devices.\n",
      "| {{sort|200801|May 2010}}\n",
      "| align=center |<ref name=brinmetro>{{cite news|title=Brin the Afghanistan Bomb Dog Gets New Life|url=http://www.metro.co.uk/news/842435-afghanistan-bomb-dogs-new-life|newspaper=PDSA|date=18 May 2011}}</ref> \n",
      "|-\n",
      "| {{sort|201105|May 2011}}\n",
      "| [[Piper (dog)|Piper]]\n",
      "| A [[Labrador Retriever]] [[guide dog]] that defended his blind owner when she was attacked, before walking her home while injured.\n",
      "| {{sort|200801|June 2010}}\n",
      "| align=center |<ref>{{cite news|title=Hero dog Orlando is honoured for his life-saving devotion|url=http://www.metro.co.uk/news/842435-afghanistan-bomb-dogs-new-life|newspaper=PDSA|date=29 September 2010}}</ref> \n",
      "|-\n",
      "| {{sort|201112|December 2011}}\n",
      "| [[Peggy (dog)|Peggy]]\n",
      "| A Border Collie cross who barked to wake up her owner to alert her to a house fire.\n",
      "| March 2011\n",
      "| align=center |<ref name=Peggypdsa>{{cite news|title=Faithful dog Peggy is honoured by PDSA for her bravery in a house fire|url=http://www.pdsa.org.uk/about-us/media-pr-centre/news/1257_faithful-dog-peggy-is-honoured-by-pdsa-for-her-bravery-in-a-house-fire|newspaper=PDSA|date=8 December 2011}}</ref>\n",
      "|-\n",
      "|}\n",
      "\n",
      "==See also==\n",
      "*The [[Dickin Medal]], a separate award also administered by the PDSA, which was established by [[Maria Dickin]], founder of the PDSA, in 1943, to acknowledge acts of outstanding bravery by animals serving with military forces in theatres of war, and is considered the animal equivalent of the [[Victoria Cross]].<ref name=\"pdsa\">{{Cite web | url = http://www.pdsa.org.uk/about-us/animal-bravery-awards/pdsa-dickin-medal|title = PDSA Dickin Medal|publisher = [[People's Dispensary for Sick Animals]]|accessdate=7 October 2010}}</ref><ref>{{Cite web | url = http://www.bbc.co.uk/radio4/history/animals_vc.shtml |publisher = [[BBC Radio 4]] | title = The Animals' VC | accessdate=7 October 2010}}</ref>\n",
      "\n",
      "==References==\n",
      "{{reflist|2}}\n",
      "\n",
      "==External links==\n",
      "*{{cite web|url=http://www.pdsa.org.uk|title=PDSA &ndash; Home Page| publisher=[[People's Dispensary for Sick Animals]]|accessdate=8 April 2011}}\n",
      "\n",
      "{{DEFAULTSORT:Pdsa Certificate for Animal Bravery or Devotion}}\n",
      "[[Category:Dogs]]\n",
      "[[Category:Domesticated animals]]\n",
      "[[Category:Awards established in 2001]]\n",
      "[[Category:Awards to animals]]\n"
     ]
    }
   ],
   "source": [
    "text = wp.text_raw\n",
    "print(text)"
   ]
  },
  {
   "cell_type": "code",
   "execution_count": 10,
   "metadata": {},
   "outputs": [
    {
     "data": {
      "text/plain": [
       "'test]]'"
      ]
     },
     "execution_count": 10,
     "metadata": {},
     "output_type": "execute_result"
    }
   ],
   "source": [
    "re.sub('\\[\\[', '', '[[test]]')"
   ]
  },
  {
   "cell_type": "code",
   "execution_count": 11,
   "metadata": {},
   "outputs": [
    {
     "name": "stdout",
     "output_type": "stream",
     "text": [
      "|remove bar\n",
      "test\n"
     ]
    }
   ],
   "source": [
    "print(re.search('\\|.+', 'test|remove bar').group())\n",
    "print(re.sub('\\|.+', '', 'test|remove bar'))"
   ]
  },
  {
   "cell_type": "code",
   "execution_count": 12,
   "metadata": {
    "collapsed": true
   },
   "outputs": [],
   "source": [
    "def find_wiki_links(text):\n",
    "    searchstr = '(\\[[^\\[\\]]*\\[.*?\\][^\\]\\[]*\\])'\n",
    "    link_urls = []\n",
    "    link_titles = []\n",
    "    link_titles_raw = re.findall(searchstr, text)\n",
    "    for link_title_raw in link_titles_raw:\n",
    "        link_title = re.sub('\\|.+', '', link_title_raw)#remove junk at end\n",
    "        link_title = re.sub('\\[\\[', '', link_title)#remove brackets\n",
    "        link_title = re.sub('\\]\\]', '', link_title)#remove brackets\n",
    "        link_titles.append(link_title)\n",
    "        link_title = re.sub(' ', '_',  link_title)\n",
    "        link_url = 'https://en.wikipedia.org/wiki/%s' % (link_title)\n",
    "        link_urls.append(link_url)\n",
    "    return list(set(zip(link_titles, link_urls)))"
   ]
  },
  {
   "cell_type": "code",
   "execution_count": 13,
   "metadata": {},
   "outputs": [
    {
     "name": "stdout",
     "output_type": "stream",
     "text": [
      "[('therapy dog', 'https://en.wikipedia.org/wiki/therapy_dog'), ('Dickin Medal', 'https://en.wikipedia.org/wiki/Dickin_Medal'), (\"People's Dispensary for Sick Animals\", \"https://en.wikipedia.org/wiki/People's_Dispensary_for_Sick_Animals\"), ('Category:Domesticated animals', 'https://en.wikipedia.org/wiki/Category:Domesticated_animals'), ('Yorkshire Terrier', 'https://en.wikipedia.org/wiki/Yorkshire_Terrier'), ('guide dog', 'https://en.wikipedia.org/wiki/guide_dog'), ('Dotty (donkey)', 'https://en.wikipedia.org/wiki/Dotty_(donkey)'), ('Labrador Retriever', 'https://en.wikipedia.org/wiki/Labrador_Retriever'), ('Category:Awards to animals', 'https://en.wikipedia.org/wiki/Category:Awards_to_animals'), ('Pit Bull', 'https://en.wikipedia.org/wiki/Pit_Bull'), ('Category:Dogs', 'https://en.wikipedia.org/wiki/Category:Dogs'), ('World War II', 'https://en.wikipedia.org/wiki/World_War_II'), ('Orlando (dog)', 'https://en.wikipedia.org/wiki/Orlando_(dog)'), ('Piper (dog)', 'https://en.wikipedia.org/wiki/Piper_(dog)'), ('Category:Awards established in 2001', 'https://en.wikipedia.org/wiki/Category:Awards_established_in_2001'), ('Maria Dickin', 'https://en.wikipedia.org/wiki/Maria_Dickin'), ('Lancashire', 'https://en.wikipedia.org/wiki/Lancashire'), ('Brin (dog)', 'https://en.wikipedia.org/wiki/Brin_(dog)'), ('sheep', 'https://en.wikipedia.org/wiki/sheep'), ('BBC Radio 4', 'https://en.wikipedia.org/wiki/BBC_Radio_4'), ('burglar', 'https://en.wikipedia.org/wiki/burglar'), ('Miniature Schnauzer', 'https://en.wikipedia.org/wiki/Miniature_Schnauzer'), ('Wicker (dog)', 'https://en.wikipedia.org/wiki/Wicker_(dog)'), ('German Shepherd Dog', 'https://en.wikipedia.org/wiki/German_Shepherd_Dog'), ('Victoria Cross', 'https://en.wikipedia.org/wiki/Victoria_Cross'), ('Toby (dog)', 'https://en.wikipedia.org/wiki/Toby_(dog)'), ('Stray Dog', 'https://en.wikipedia.org/wiki/Stray_Dog'), ('Smoky (dog)', 'https://en.wikipedia.org/wiki/Smoky_(dog)'), ('Epilepsy', 'https://en.wikipedia.org/wiki/Epilepsy'), ('Helmand Province', 'https://en.wikipedia.org/wiki/Helmand_Province'), ('Peggy (dog)', 'https://en.wikipedia.org/wiki/Peggy_(dog)'), ('Afghanistan', 'https://en.wikipedia.org/wiki/Afghanistan'), ('donkey', 'https://en.wikipedia.org/wiki/donkey'), ('United Kingdom', 'https://en.wikipedia.org/wiki/United_Kingdom'), ('Improvised explosive device', 'https://en.wikipedia.org/wiki/Improvised_explosive_device'), ('dog', 'https://en.wikipedia.org/wiki/dog')]\n"
     ]
    }
   ],
   "source": [
    "print(find_wiki_links(text))"
   ]
  },
  {
   "cell_type": "code",
   "execution_count": 14,
   "metadata": {
    "collapsed": true
   },
   "outputs": [],
   "source": [
    "def query_wiki_api(title):\n",
    "    base_query = 'https://en.wikipedia.org/w/api.php?action=query&titles= &prop=revisions&rvprop=content&format=json'\n",
    "    query = re.sub(' ', title, base_query)\n",
    "    query = re.sub(' ', '%20', query)\n",
    "    result = urllib.request.urlopen(query).read()\n",
    "    article_dict = json.loads(result)\n",
    "    return article_dict\n",
    "\n",
    "def get_text_from_wiki_api(title):\n",
    "    article_dict = query_wiki_api(title)\n",
    "    wiki_id = list(article_dict['query']['pages'].keys())[0]\n",
    "    return article_dict['query']['pages'][wiki_id]['revisions'][0]['*']"
   ]
  },
  {
   "cell_type": "code",
   "execution_count": 15,
   "metadata": {},
   "outputs": [
    {
     "name": "stdout",
     "output_type": "stream",
     "text": [
      "therapy dog\n",
      "{{medref|date=December 2015}}\n",
      "[[Image:Golden Retrievers dark and light.jpg|thumb|right|280px|[[Golden Retriever]]s are often used as therapy dogs due to their calm demeanor, gentle disposition, and friendliness to strangers.]]\n",
      "\n",
      "A '''therapy dog''' is a [[canine]] that might be trained to provide affection and comfort to people in [[hospital]]s, [[retirement home]]s, [[nursing home]]s, [[school]]s, [[hospice]]s, [[disaster area]]s, and to people with mental disorders, such as [[anxiety disorder]] or [[autism]]\n",
      "\n",
      "Therapy dogs are usually not [[assistance dog|assistance]] or [[service dog|service]] dogs, but can be one or both with some organizations.<ref>{{cite web|title=Frequently Asked Questions about Service Animals and the ADA|url=https://www.ada.gov/regs2010/service_animal_qa.pdf|website=ADA|accessdate=17 January 2017}}</ref>\n",
      "\n",
      "In the U.S., therapy dogs are not service animals and are not afforded the same privileges as service animals are.<ref>https://adata.org/publication/service-animals-booklet</ref>\n",
      "\n",
      "==History==\n",
      "The systematic use of therapy dogs is attributed to Elaine Smith,<ref>http://www.tdi-dog.org/About.aspx?Page=Mission+Statement+and+History</ref><ref>http://www.oes.org/page2/37268~Founder_of_therapy_dogs_in_the_US_died.html</ref> who worked as a [[Registered Nurse|registered nurse]].  Smith noticed how well patients responded to visits by a chaplain and his [[Golden Retriever]].  In 1976, Smith started a program for training dogs to visit institutions,  and the demand for therapy dogs continued to grow.  In recent years, therapy dogs have been enlisted to help children overcome speech and emotional disorders.\n",
      "\n",
      "==Classification==\n",
      "Therapy dogs are usually not [[assistance dog|assistance]] or [[service dog|service]] dogs, but can be one or both with some organizations. Therapy dogs are not trained to assist specific individuals and do not qualify as service dogs under the Americans with Disabilities Act.<ref name=\"federal\">{{cite web|url=http://www.nal.usda.gov/awic/companimals/assist.htm |title=Information Resource on Assistance Animals for the Disabled |publisher=Nal.usda.gov |date=2011-09-19 |accessdate=2012-04-28 |deadurl=yes |archiveurl=https://web.archive.org/web/20120423142820/http://www.nal.usda.gov:80/awic/companimals/assist.htm |archivedate=2012-04-23 |df= }}</ref>  Institutions may invite, limit, or prohibit access by therapy dogs.  If allowed, many institutions have rigorous requirements for therapy dogs. United States-based Therapy Dogs International (TDI) bans the use of service dogs in their therapy dog program.<ref>http://www.tdi-dog.org/HowToJoin.aspx?Page=Testing+Requirements</ref><ref>http://www.ada.gov/service_animals_2010.htm</ref>  Service dogs perform tasks for persons with disabilities and have a legal right to accompany their owners in most areas.<ref>Revised ADA Requirements: Service Animals. (2011). Retrieved July 23, 2013, from http://www.ada.gov/service_animals_2010.pdf</ref>  In the United States, service dogs are legally protected at the federal level by the [[Americans with Disabilities Act of 1990]].\n",
      "\n",
      "Many organizations provide evaluation and registration for therapy dogs.  In the United States, some organizations require that a dog pass the equivalent of the [[American Kennel Club]]'s [[Canine Good Citizen]] test and then add further requirements specific to the environments in which the dogs will be working.  Other organizations have their own testing requirements.  Typical tests might ensure that a dog can handle sudden loud or strange noises; can walk on assorted unfamiliar surfaces comfortably; are not frightened by people with canes, wheelchairs, or unusual styles of walking or moving; get along well with children and with the elderly; and so on.\n",
      "\n",
      "In Canada, [[St. John Ambulance Canada#Therapy Dog|St John Ambulance]] provides therapy dog certification.\n",
      "\n",
      "In the UK [[Pets As Therapy]] (PAT) provides visiting dogs and cats to establishments where pets are otherwise not available.\n",
      "Also in the UK  [[Therapy Dogs Nationwide ]] (TDN) provide visiting dogs to establishments.\n",
      "\n",
      "==At colleges and universities==\n",
      "[[File:Therapy Fluffies Event at UC San Diego with Founder Torrey Trust.jpg|thumb|right|Therapy Fluffies at UC San Diego]]\n",
      "Some colleges and universities in the US bring therapy dogs to campus to help students de-stress. These campus events are often referred to as \"Therapy Fluffies\", a term coined by Torrey Trust, the original founder of the UC San Diego therapy dog de-stress event.<ref>{{cite web|url=http://www.sandiegouniontribune.com/photos/galleries/2015/dec/08/therapy-fluffies-ucsd|title=Therapy Fluffies at UCSD| year=2015 | accessdate=2015-12-11}}]</ref> In 2009, Sharon Franks, shared the idea of bringing therapy dogs to campus with the UC San Diego Office of Student Wellness.<ref>{{cite web|url=http://www.kpbs.org/news/2015/dec/09/san-diego-colleges-use-dogs-take-bite-out-exam-str |title=San Diego Colleges Use Dogs To Take Bite Out Of Exam Stress | year=2015 |accessdate=2015-12-11}}</ref>  Similar events have been held worldwide.{{citation needed|date=February 2014}}\n",
      "\n",
      "Since the autumn of 2010, “Therapy Fluffies” has visited the UC Davis, UC Santa Cruz, and UC Riverside campuses during the week before mid-term and final exams.<ref>{{cite web|title=Therapy Fluffies at UC Davis|url=https://shcs.ucdavis.edu/blog/general-shcs-info/therapy-animals|accessdate=22 March 2015}}</ref><ref>{{cite web|author=Keckeisen, K.|title=RIVERSIDE: Therapy dogs help UCR students relieve stress|url=http://www.pe.com/articles/dogs-663137-student-year.html|publisher=The Press Enterprise|accessdate=March 22, 2015}}</ref><ref>{{cite web|title=UC Davis \"Therapy Fluffies\" welcomed on campus|url=http://www.theaggie.org/2012/03/01/uc-davis-therapy-fluffies-welcomed-on-campus/|accessdate=March 22, 2015}}</ref>  These events give students and staff the opportunity to pet and relax with therapy-certified dogs.<ref>{{cite web|title=The mind spa|url=https://shcs.ucdavis.edu/services/mindspa.html|accessdate=22 March 2015}}</ref>  The university also works with the Inland Empire Pet Partners, a service of the [[Humane Society]], to bring therapy-certified dogs to the campus’ Mental Health Day Spa, held quarterly.<ref>{{cite web|author=Lane, K.|title=Therapy dogs provide relief to stressed out students|url=http://newsroom.ucr.edu/news_item.html?action=page&id=2350|accessdate=March 22, 2015}}</ref><ref>{{cite web|title=Students at UC Riverside get some pet therapy as they cram for exams|url=http://losangeles.cbslocal.com/2014/06/04/students-at-uc-riverside-get-some-pet-therapy-as-they-cram-for-exams/|accessdate=March 22, 2015}}</ref>\n",
      "\n",
      "In 2014, [[Concordia University, Wisconsin]] became the first university in the US to adopt a full-time therapy dog to its campus in Mequon, WI. The golden retriever, Zoey, is a Lutheran church Charities K-9 Comfort Dog, trained to interact with people at churches, schools, nursing homes, hospitals, events, and in disaster response situations.<ref>{{cite web|author=McCarthy, C. |title=K-9 comfort dog drives on CUW’s campus |url=https://www.cuw.edu/About/pressreleases/index.cfm?p=1418 |work=cuw.edu |publisher=Concordia University Wisconsin |accessdate=May 28, 2014 |deadurl=yes |archiveurl=https://web.archive.org/web/20140331070214/https://www.cuw.edu/About/pressreleases/index.cfm?p=1418 |archivedate=March 31, 2014 }}</ref>\n",
      "\n",
      "==See also==\n",
      "{{Commons category|Therapy dogs}}\n",
      "* [[Animal-assisted therapy]]\n",
      "* [[Service animal]]\n",
      "* [[Service dog]]\n",
      "* [[Therapy cat]]\n",
      "\n",
      "==References==\n",
      "{{Reflist|30em}}\n",
      "\n",
      "==External links==\n",
      "* [https://www.animallaw.info/topic/table-state-assistance-animal-laws Assistance Animal State Laws] - Michigan State University\n",
      "* [https://www.tsa.gov/travel/special-procedures Disabilities and Medical Conditions] - TSA (Transport Security Administration)\n",
      "* [http://news.nationalgeographic.com/news/2002/08/0808_020808_therapydogs.html National Geographic News article]\n",
      "* [http://www.openthesis.org/documents/Development-Validation-Research-Instrument-to-601029.html Development & Validation of a Research Instrument to Assess the Effectiveness of Animal-Assisted Therapy]\n",
      "\n",
      "{{Domestic dog}}\n",
      "\n",
      "[[Category:Working dogs]]\n",
      "[[Category:Therapy]]\n"
     ]
    }
   ],
   "source": [
    "test_title = find_wiki_links(text)[0][0]\n",
    "print(test_title)\n",
    "test_text = get_text_from_wiki_api(test_title)\n",
    "print(test_text)"
   ]
  },
  {
   "cell_type": "code",
   "execution_count": 16,
   "metadata": {},
   "outputs": [
    {
     "data": {
      "text/plain": [
       "[('school', 'https://en.wikipedia.org/wiki/school'),\n",
       " ('service dog', 'https://en.wikipedia.org/wiki/service_dog'),\n",
       " ('canine', 'https://en.wikipedia.org/wiki/canine'),\n",
       " ('assistance dog', 'https://en.wikipedia.org/wiki/assistance_dog'),\n",
       " ('nursing home', 'https://en.wikipedia.org/wiki/nursing_home'),\n",
       " ('American Kennel Club',\n",
       "  'https://en.wikipedia.org/wiki/American_Kennel_Club'),\n",
       " ('anxiety disorder', 'https://en.wikipedia.org/wiki/anxiety_disorder'),\n",
       " ('Category:Therapy', 'https://en.wikipedia.org/wiki/Category:Therapy'),\n",
       " ('Service dog', 'https://en.wikipedia.org/wiki/Service_dog'),\n",
       " ('disaster area', 'https://en.wikipedia.org/wiki/disaster_area'),\n",
       " ('hospice', 'https://en.wikipedia.org/wiki/hospice'),\n",
       " ('Registered Nurse', 'https://en.wikipedia.org/wiki/Registered_Nurse'),\n",
       " ('St. John Ambulance Canada#Therapy Dog',\n",
       "  'https://en.wikipedia.org/wiki/St._John_Ambulance_Canada#Therapy_Dog'),\n",
       " ('hospital', 'https://en.wikipedia.org/wiki/hospital'),\n",
       " ('Pets As Therapy', 'https://en.wikipedia.org/wiki/Pets_As_Therapy'),\n",
       " ('Americans with Disabilities Act of 1990',\n",
       "  'https://en.wikipedia.org/wiki/Americans_with_Disabilities_Act_of_1990'),\n",
       " ('autism', 'https://en.wikipedia.org/wiki/autism'),\n",
       " ('Image:Golden Retrievers dark and light.jpg',\n",
       "  'https://en.wikipedia.org/wiki/Image:Golden_Retrievers_dark_and_light.jpg'),\n",
       " ('Concordia University, Wisconsin',\n",
       "  'https://en.wikipedia.org/wiki/Concordia_University,_Wisconsin'),\n",
       " ('Golden Retriever', 'https://en.wikipedia.org/wiki/Golden_Retriever'),\n",
       " ('Humane Society', 'https://en.wikipedia.org/wiki/Humane_Society'),\n",
       " ('Therapy cat', 'https://en.wikipedia.org/wiki/Therapy_cat'),\n",
       " ('retirement home', 'https://en.wikipedia.org/wiki/retirement_home'),\n",
       " ('Therapy Dogs Nationwide ',\n",
       "  'https://en.wikipedia.org/wiki/Therapy_Dogs_Nationwide_'),\n",
       " ('Animal-assisted therapy',\n",
       "  'https://en.wikipedia.org/wiki/Animal-assisted_therapy'),\n",
       " ('Service animal', 'https://en.wikipedia.org/wiki/Service_animal'),\n",
       " ('Canine Good Citizen', 'https://en.wikipedia.org/wiki/Canine_Good_Citizen'),\n",
       " ('Category:Working dogs',\n",
       "  'https://en.wikipedia.org/wiki/Category:Working_dogs'),\n",
       " ('File:Therapy Fluffies Event at UC San Diego with Founder Torrey Trust.jpg',\n",
       "  'https://en.wikipedia.org/wiki/File:Therapy_Fluffies_Event_at_UC_San_Diego_with_Founder_Torrey_Trust.jpg')]"
      ]
     },
     "execution_count": 16,
     "metadata": {},
     "output_type": "execute_result"
    }
   ],
   "source": [
    "find_wiki_links(test_text)"
   ]
  },
  {
   "cell_type": "code",
   "execution_count": null,
   "metadata": {
    "collapsed": true
   },
   "outputs": [],
   "source": []
  },
  {
   "cell_type": "code",
   "execution_count": null,
   "metadata": {
    "collapsed": true
   },
   "outputs": [],
   "source": []
  }
 ],
 "metadata": {
  "kernelspec": {
   "display_name": "Python 3",
   "language": "python",
   "name": "python3"
  },
  "language_info": {
   "codemirror_mode": {
    "name": "ipython",
    "version": 3
   },
   "file_extension": ".py",
   "mimetype": "text/x-python",
   "name": "python",
   "nbconvert_exporter": "python",
   "pygments_lexer": "ipython3",
   "version": "3.6.1"
  }
 },
 "nbformat": 4,
 "nbformat_minor": 2
}
