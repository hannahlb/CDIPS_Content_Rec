{
 "cells": [
  {
   "cell_type": "code",
   "execution_count": 1,
   "metadata": {
    "collapsed": true
   },
   "outputs": [],
   "source": [
    "import re\n",
    "import pandas as pd\n",
    "import numpy as np\n",
    "import matplotlib.pyplot as plt\n",
    "from matplotlib_venn import *\n",
    "% matplotlib inline"
   ]
  },
  {
   "cell_type": "code",
   "execution_count": 2,
   "metadata": {},
   "outputs": [
    {
     "data": {
      "text/html": [
       "<div>\n",
       "<style>\n",
       "    .dataframe thead tr:only-child th {\n",
       "        text-align: right;\n",
       "    }\n",
       "\n",
       "    .dataframe thead th {\n",
       "        text-align: left;\n",
       "    }\n",
       "\n",
       "    .dataframe tbody tr th {\n",
       "        vertical-align: top;\n",
       "    }\n",
       "</style>\n",
       "<table border=\"1\" class=\"dataframe\">\n",
       "  <thead>\n",
       "    <tr style=\"text-align: right;\">\n",
       "      <th></th>\n",
       "      <th>url</th>\n",
       "      <th>title</th>\n",
       "      <th>other titles</th>\n",
       "      <th>other urls</th>\n",
       "      <th>scores</th>\n",
       "    </tr>\n",
       "  </thead>\n",
       "  <tbody>\n",
       "    <tr>\n",
       "      <th>1467938</th>\n",
       "      <td>https://en.wikipedia.org/wiki/Kennel</td>\n",
       "      <td>Kennel</td>\n",
       "      <td>['Pet Fed India', 'Dog food', 'Cropping (anima...</td>\n",
       "      <td>['https://en.wikipedia.org/wiki/Pet_Fed_India'...</td>\n",
       "      <td>[0.99, 0.33, 0.33, 0.33, 0.33]</td>\n",
       "    </tr>\n",
       "    <tr>\n",
       "      <th>275388</th>\n",
       "      <td>https://en.wikipedia.org/wiki/Cynology</td>\n",
       "      <td>Cynology</td>\n",
       "      <td>['Dog Parker', 'Big Miracle (book)', 'Indian N...</td>\n",
       "      <td>['https://en.wikipedia.org/wiki/Dog_Parker', '...</td>\n",
       "      <td>[0.95, 0.95, 0.95, 0.95, 0.95]</td>\n",
       "    </tr>\n",
       "    <tr>\n",
       "      <th>2352562</th>\n",
       "      <td>https://en.wikipedia.org/wiki/Pack_(canine)</td>\n",
       "      <td>Pack (canine)</td>\n",
       "      <td>['Dog', 'Service dog', 'Cat senses', 'Dogs in ...</td>\n",
       "      <td>['https://en.wikipedia.org/wiki/Dog', 'https:/...</td>\n",
       "      <td>[1.0, 0.99, 0.98, 0.98, 0.98]</td>\n",
       "    </tr>\n",
       "    <tr>\n",
       "      <th>17021807</th>\n",
       "      <td>https://en.wikipedia.org/wiki/Rare_breed_(dog)</td>\n",
       "      <td>Rare breed (dog)</td>\n",
       "      <td>[]</td>\n",
       "      <td>[]</td>\n",
       "      <td>[]</td>\n",
       "    </tr>\n",
       "    <tr>\n",
       "      <th>20777185</th>\n",
       "      <td>https://en.wikipedia.org/wiki/Dogs_in_ancient_...</td>\n",
       "      <td>Dogs in ancient China</td>\n",
       "      <td>['Becerrillo', 'Puppy', 'Body language of dogs...</td>\n",
       "      <td>['https://en.wikipedia.org/wiki/Becerrillo', '...</td>\n",
       "      <td>[0.83, 0.8, 0.61, 0.6, 0.6]</td>\n",
       "    </tr>\n",
       "    <tr>\n",
       "      <th>4020758</th>\n",
       "      <td>https://en.wikipedia.org/wiki/Dog_biscuit</td>\n",
       "      <td>Dog biscuit</td>\n",
       "      <td>['Kitten', 'Lychee and Dog Meat Festival', 'Cr...</td>\n",
       "      <td>['https://en.wikipedia.org/wiki/Kitten', 'http...</td>\n",
       "      <td>[0.99, 0.99, 0.99, 0.99, 0.99]</td>\n",
       "    </tr>\n",
       "    <tr>\n",
       "      <th>17430047</th>\n",
       "      <td>https://en.wikipedia.org/wiki/Breed_type_(dog)</td>\n",
       "      <td>Breed type (dog)</td>\n",
       "      <td>['Therapy cat', 'Human interaction with cats',...</td>\n",
       "      <td>['https://en.wikipedia.org/wiki/Therapy_cat', ...</td>\n",
       "      <td>[0.92, 0.91, 0.91, 0.9, 0.9]</td>\n",
       "    </tr>\n",
       "    <tr>\n",
       "      <th>2676271</th>\n",
       "      <td>https://en.wikipedia.org/wiki/Canid_hybrid</td>\n",
       "      <td>Canid hybrid</td>\n",
       "      <td>['Canine reproduction', 'Dog World (newspaper)...</td>\n",
       "      <td>['https://en.wikipedia.org/wiki/Canine_reprodu...</td>\n",
       "      <td>[1.0, 0.99, 0.96, 0.96, 0.96]</td>\n",
       "    </tr>\n",
       "    <tr>\n",
       "      <th>22044074</th>\n",
       "      <td>https://en.wikipedia.org/wiki/Canine_physical_...</td>\n",
       "      <td>Canine physical therapy</td>\n",
       "      <td>['Cat gap', 'Dog food', 'Cropping (animal)', '...</td>\n",
       "      <td>['https://en.wikipedia.org/wiki/Cat_gap', 'htt...</td>\n",
       "      <td>[0.91, 0.82, 0.82, 0.82, 0.82]</td>\n",
       "    </tr>\n",
       "    <tr>\n",
       "      <th>19282291</th>\n",
       "      <td>https://en.wikipedia.org/wiki/Dogs_in_Mesoamerica</td>\n",
       "      <td>Dogs in Mesoamerica</td>\n",
       "      <td>['Becerrillo']</td>\n",
       "      <td>['https://en.wikipedia.org/wiki/Becerrillo']</td>\n",
       "      <td>[0.09]</td>\n",
       "    </tr>\n",
       "  </tbody>\n",
       "</table>\n",
       "</div>"
      ],
      "text/plain": [
       "                                                        url  \\\n",
       "1467938                https://en.wikipedia.org/wiki/Kennel   \n",
       "275388               https://en.wikipedia.org/wiki/Cynology   \n",
       "2352562         https://en.wikipedia.org/wiki/Pack_(canine)   \n",
       "17021807     https://en.wikipedia.org/wiki/Rare_breed_(dog)   \n",
       "20777185  https://en.wikipedia.org/wiki/Dogs_in_ancient_...   \n",
       "4020758           https://en.wikipedia.org/wiki/Dog_biscuit   \n",
       "17430047     https://en.wikipedia.org/wiki/Breed_type_(dog)   \n",
       "2676271          https://en.wikipedia.org/wiki/Canid_hybrid   \n",
       "22044074  https://en.wikipedia.org/wiki/Canine_physical_...   \n",
       "19282291  https://en.wikipedia.org/wiki/Dogs_in_Mesoamerica   \n",
       "\n",
       "                            title  \\\n",
       "1467938                    Kennel   \n",
       "275388                   Cynology   \n",
       "2352562             Pack (canine)   \n",
       "17021807         Rare breed (dog)   \n",
       "20777185    Dogs in ancient China   \n",
       "4020758               Dog biscuit   \n",
       "17430047         Breed type (dog)   \n",
       "2676271              Canid hybrid   \n",
       "22044074  Canine physical therapy   \n",
       "19282291      Dogs in Mesoamerica   \n",
       "\n",
       "                                               other titles  \\\n",
       "1467938   ['Pet Fed India', 'Dog food', 'Cropping (anima...   \n",
       "275388    ['Dog Parker', 'Big Miracle (book)', 'Indian N...   \n",
       "2352562   ['Dog', 'Service dog', 'Cat senses', 'Dogs in ...   \n",
       "17021807                                                 []   \n",
       "20777185  ['Becerrillo', 'Puppy', 'Body language of dogs...   \n",
       "4020758   ['Kitten', 'Lychee and Dog Meat Festival', 'Cr...   \n",
       "17430047  ['Therapy cat', 'Human interaction with cats',...   \n",
       "2676271   ['Canine reproduction', 'Dog World (newspaper)...   \n",
       "22044074  ['Cat gap', 'Dog food', 'Cropping (animal)', '...   \n",
       "19282291                                     ['Becerrillo']   \n",
       "\n",
       "                                                 other urls  \\\n",
       "1467938   ['https://en.wikipedia.org/wiki/Pet_Fed_India'...   \n",
       "275388    ['https://en.wikipedia.org/wiki/Dog_Parker', '...   \n",
       "2352562   ['https://en.wikipedia.org/wiki/Dog', 'https:/...   \n",
       "17021807                                                 []   \n",
       "20777185  ['https://en.wikipedia.org/wiki/Becerrillo', '...   \n",
       "4020758   ['https://en.wikipedia.org/wiki/Kitten', 'http...   \n",
       "17430047  ['https://en.wikipedia.org/wiki/Therapy_cat', ...   \n",
       "2676271   ['https://en.wikipedia.org/wiki/Canine_reprodu...   \n",
       "22044074  ['https://en.wikipedia.org/wiki/Cat_gap', 'htt...   \n",
       "19282291       ['https://en.wikipedia.org/wiki/Becerrillo']   \n",
       "\n",
       "                                  scores  \n",
       "1467938   [0.99, 0.33, 0.33, 0.33, 0.33]  \n",
       "275388    [0.95, 0.95, 0.95, 0.95, 0.95]  \n",
       "2352562    [1.0, 0.99, 0.98, 0.98, 0.98]  \n",
       "17021807                              []  \n",
       "20777185     [0.83, 0.8, 0.61, 0.6, 0.6]  \n",
       "4020758   [0.99, 0.99, 0.99, 0.99, 0.99]  \n",
       "17430047    [0.92, 0.91, 0.91, 0.9, 0.9]  \n",
       "2676271    [1.0, 0.99, 0.96, 0.96, 0.96]  \n",
       "22044074  [0.91, 0.82, 0.82, 0.82, 0.82]  \n",
       "19282291                          [0.09]  "
      ]
     },
     "execution_count": 2,
     "metadata": {},
     "output_type": "execute_result"
    }
   ],
   "source": [
    "# load moddel results\n",
    "lda_df = pd.read_csv('../data/Wikipedia-lda.csv', index_col=0)\n",
    "lsi_df = pd.read_csv('../data/Wikipedia-lsi.csv', index_col=0)\n",
    "\n",
    "# preview\n",
    "lda_df.head(10)"
   ]
  },
  {
   "cell_type": "code",
   "execution_count": 3,
   "metadata": {},
   "outputs": [
    {
     "data": {
      "text/html": [
       "<div>\n",
       "<style>\n",
       "    .dataframe thead tr:only-child th {\n",
       "        text-align: right;\n",
       "    }\n",
       "\n",
       "    .dataframe thead th {\n",
       "        text-align: left;\n",
       "    }\n",
       "\n",
       "    .dataframe tbody tr th {\n",
       "        vertical-align: top;\n",
       "    }\n",
       "</style>\n",
       "<table border=\"1\" class=\"dataframe\">\n",
       "  <thead>\n",
       "    <tr style=\"text-align: right;\">\n",
       "      <th></th>\n",
       "      <th>title</th>\n",
       "      <th>dist1_titles</th>\n",
       "      <th>dist2_titles</th>\n",
       "    </tr>\n",
       "  </thead>\n",
       "  <tbody>\n",
       "    <tr>\n",
       "      <th>970284</th>\n",
       "      <td>Category:Dog shows and showing</td>\n",
       "      <td>['conformation show']</td>\n",
       "      <td>['Pointer (dog breed)', 'Westminster Kennel Cl...</td>\n",
       "    </tr>\n",
       "    <tr>\n",
       "      <th>972913</th>\n",
       "      <td>Category:Dog health</td>\n",
       "      <td>NaN</td>\n",
       "      <td>NaN</td>\n",
       "    </tr>\n",
       "    <tr>\n",
       "      <th>970251</th>\n",
       "      <td>Category:Dog organizations</td>\n",
       "      <td>['dog']</td>\n",
       "      <td>['carnivore', 'guard hair', 'begonia', 'Bluey ...</td>\n",
       "    </tr>\n",
       "    <tr>\n",
       "      <th>729436</th>\n",
       "      <td>Category:Dog sports</td>\n",
       "      <td>NaN</td>\n",
       "      <td>NaN</td>\n",
       "    </tr>\n",
       "    <tr>\n",
       "      <th>978163</th>\n",
       "      <td>Category:Dogs as pets</td>\n",
       "      <td>NaN</td>\n",
       "      <td>NaN</td>\n",
       "    </tr>\n",
       "    <tr>\n",
       "      <th>1764821</th>\n",
       "      <td>Category:Dog equipment</td>\n",
       "      <td>NaN</td>\n",
       "      <td>NaN</td>\n",
       "    </tr>\n",
       "    <tr>\n",
       "      <th>1765233</th>\n",
       "      <td>Category:Dog breeding</td>\n",
       "      <td>['Domestication', 'Artificial selection']</td>\n",
       "      <td>['Agaricus bisporus', 'tuberculosis', 'Mollusc...</td>\n",
       "    </tr>\n",
       "    <tr>\n",
       "      <th>1765458</th>\n",
       "      <td>Category:Dog monuments</td>\n",
       "      <td>['monument', 'dog']</td>\n",
       "      <td>['Atomic bombings of Hiroshima and Nagasaki', ...</td>\n",
       "    </tr>\n",
       "    <tr>\n",
       "      <th>1467938</th>\n",
       "      <td>Kennel</td>\n",
       "      <td>['dog', 'Breed club (dog)', 'breed registry', ...</td>\n",
       "      <td>['carnivore', 'guard hair', 'begonia', 'Bluey ...</td>\n",
       "    </tr>\n",
       "    <tr>\n",
       "      <th>275388</th>\n",
       "      <td>Cynology</td>\n",
       "      <td>['Professional handler', '-logy', 'Police dog'...</td>\n",
       "      <td>['championship', 'Best of Breed', 'apprentices...</td>\n",
       "    </tr>\n",
       "  </tbody>\n",
       "</table>\n",
       "</div>"
      ],
      "text/plain": [
       "                                  title  \\\n",
       "970284   Category:Dog shows and showing   \n",
       "972913              Category:Dog health   \n",
       "970251       Category:Dog organizations   \n",
       "729436              Category:Dog sports   \n",
       "978163            Category:Dogs as pets   \n",
       "1764821          Category:Dog equipment   \n",
       "1765233           Category:Dog breeding   \n",
       "1765458          Category:Dog monuments   \n",
       "1467938                          Kennel   \n",
       "275388                         Cynology   \n",
       "\n",
       "                                              dist1_titles  \\\n",
       "970284                               ['conformation show']   \n",
       "972913                                                 NaN   \n",
       "970251                                             ['dog']   \n",
       "729436                                                 NaN   \n",
       "978163                                                 NaN   \n",
       "1764821                                                NaN   \n",
       "1765233          ['Domestication', 'Artificial selection']   \n",
       "1765458                                ['monument', 'dog']   \n",
       "1467938  ['dog', 'Breed club (dog)', 'breed registry', ...   \n",
       "275388   ['Professional handler', '-logy', 'Police dog'...   \n",
       "\n",
       "                                              dist2_titles  \n",
       "970284   ['Pointer (dog breed)', 'Westminster Kennel Cl...  \n",
       "972913                                                 NaN  \n",
       "970251   ['carnivore', 'guard hair', 'begonia', 'Bluey ...  \n",
       "729436                                                 NaN  \n",
       "978163                                                 NaN  \n",
       "1764821                                                NaN  \n",
       "1765233  ['Agaricus bisporus', 'tuberculosis', 'Mollusc...  \n",
       "1765458  ['Atomic bombings of Hiroshima and Nagasaki', ...  \n",
       "1467938  ['carnivore', 'guard hair', 'begonia', 'Bluey ...  \n",
       "275388   ['championship', 'Best of Breed', 'apprentices...  "
      ]
     },
     "execution_count": 3,
     "metadata": {},
     "output_type": "execute_result"
    }
   ],
   "source": [
    "# load link info\n",
    "dog_link_df = pd.read_csv('../data/Wikipedia-dog-links.csv', index_col=0)\n",
    "fish_link_df = pd.read_csv('../data/Wikipedia-fish-links.csv', index_col=0)\n",
    "link_df = pd.concat([dog_link_df, fish_link_df])\n",
    "\n",
    "# preview\n",
    "link_df.head(10)"
   ]
  },
  {
   "cell_type": "code",
   "execution_count": 4,
   "metadata": {
    "collapsed": true
   },
   "outputs": [],
   "source": [
    "def list_from_string(input_str):\n",
    "    try:\n",
    "        out_list = re.sub(\"\\'\", '', input_str)[1:-1].split(', ')\n",
    "        out_list = [x.lower() for x in out_list]\n",
    "        return out_list\n",
    "    except:\n",
    "        return []"
   ]
  },
  {
   "cell_type": "code",
   "execution_count": 5,
   "metadata": {
    "collapsed": true
   },
   "outputs": [],
   "source": [
    "test_ind = 4020758"
   ]
  },
  {
   "cell_type": "code",
   "execution_count": 6,
   "metadata": {},
   "outputs": [
    {
     "data": {
      "text/plain": [
       "'Dog biscuit'"
      ]
     },
     "execution_count": 6,
     "metadata": {},
     "output_type": "execute_result"
    }
   ],
   "source": [
    "link_df.loc[test_ind, 'title']"
   ]
  },
  {
   "cell_type": "code",
   "execution_count": 7,
   "metadata": {},
   "outputs": [
    {
     "name": "stdout",
     "output_type": "stream",
     "text": [
      "['dog', 'lope de vega', 'nabisco', 'john stuart skinner', 'dietary supplement', 'biscuit', 'snack food', 'dog food', 'milk-bone', 'canidae', 'bran', 'juvenal']\n"
     ]
    }
   ],
   "source": [
    "test_links = list_from_string(link_df.loc[test_ind, 'dist1_titles'])\n",
    "print(test_links)"
   ]
  },
  {
   "cell_type": "code",
   "execution_count": 8,
   "metadata": {},
   "outputs": [
    {
     "name": "stdout",
     "output_type": "stream",
     "text": [
      "['dog food', 'dog meat', 'dog daycare', 'cat meat', 'dog']\n"
     ]
    }
   ],
   "source": [
    "test_lsi_recs = list_from_string(lsi_df.loc[test_ind, 'other titles'])\n",
    "print(test_lsi_recs)"
   ]
  },
  {
   "cell_type": "code",
   "execution_count": 9,
   "metadata": {},
   "outputs": [
    {
     "name": "stdout",
     "output_type": "stream",
     "text": [
      "['kitten', 'lychee and dog meat festival', 'cropping (animal)', 'dog food', 'cat meat']\n"
     ]
    }
   ],
   "source": [
    "test_lda_recs = list_from_string(lda_df.loc[test_ind, 'other titles'])\n",
    "print(test_lda_recs)"
   ]
  },
  {
   "cell_type": "code",
   "execution_count": 10,
   "metadata": {},
   "outputs": [
    {
     "name": "stdout",
     "output_type": "stream",
     "text": [
      "113\n"
     ]
    },
    {
     "data": {
      "text/plain": [
       "['kennel',\n",
       " 'cynology',\n",
       " 'pack (canine)',\n",
       " 'rare breed (dog)',\n",
       " 'dogs in ancient china',\n",
       " 'dog biscuit',\n",
       " 'breed type (dog)',\n",
       " 'canid hybrid',\n",
       " 'canine physical therapy',\n",
       " 'dogs in mesoamerica']"
      ]
     },
     "execution_count": 10,
     "metadata": {},
     "output_type": "execute_result"
    }
   ],
   "source": [
    "all_titles = lda_df.title.values\n",
    "all_titles = [x.lower() for x in all_titles]\n",
    "print(len(all_titles))\n",
    "all_titles[:10]"
   ]
  },
  {
   "cell_type": "code",
   "execution_count": 11,
   "metadata": {},
   "outputs": [
    {
     "data": {
      "text/plain": [
       "['dog food', 'dog']"
      ]
     },
     "execution_count": 11,
     "metadata": {},
     "output_type": "execute_result"
    }
   ],
   "source": [
    "list(set.intersection(set(test_links), set(test_lsi_recs)))"
   ]
  },
  {
   "cell_type": "code",
   "execution_count": 12,
   "metadata": {},
   "outputs": [
    {
     "name": "stdout",
     "output_type": "stream",
     "text": [
      "Kennel\n",
      "   ['cattery', 'dog', 'cat']\n",
      "   ['pet fed india', 'dog food', 'cropping (animal)', 'kitten', 'lychee and dog meat festival']\n",
      "   ['cattery', 'indian national kennel club', 'breed type (dog)', 'dog world (newspaper)', 'lists of dogs']\n",
      "Cynology\n",
      "   ['dog']\n",
      "   ['dog parker', 'big miracle (book)', 'indian national kennel club', 'walter the farting dog', 'dogs in the american revolutionary war']\n",
      "   ['dog', 'breed type (dog)', 'dog world (newspaper)', 'cat training', 'dog bite']\n",
      "Pack (canine)\n",
      "   []\n",
      "   ['dog', 'service dog', 'cat senses', 'dogs in religion', 'cynophobia']\n",
      "   ['canid hybrid', 'dog', 'origin of the domestic dog', 'canine reproduction', 'dog bite']\n",
      "Rare breed (dog)\n",
      "   ['dog']\n",
      "   ['']\n",
      "   ['breed type (dog)', 'lists of dogs', 'dog', 'dog bite', 'origin of the domestic dog']\n",
      "Dogs in ancient China\n",
      "   ['dog meat']\n",
      "   ['becerrillo', 'puppy', 'body language of dogs', 'dogs in religion', 'tail wagging by dogs']\n",
      "   ['dog', 'dogs in mesoamerica', 'origin of the domestic dog', 'dog meat', 'dogs in religion']\n"
     ]
    }
   ],
   "source": [
    "for wiki_id in lda_df.index[:5]:\n",
    "    links = list_from_string(link_df.loc[wiki_id, 'dist1_titles'])\n",
    "    possible_links = list(set.intersection(set(links), set(all_titles)))\n",
    "    lda_recs = list_from_string(lda_df.loc[wiki_id, 'other titles'])\n",
    "    lsi_recs = list_from_string(lsi_df.loc[wiki_id, 'other titles'])\n",
    "    print(link_df.loc[wiki_id, 'title'])\n",
    "    print('  ', possible_links)\n",
    "    print('  ', lda_recs)\n",
    "    print('  ', lsi_recs)"
   ]
  },
  {
   "cell_type": "code",
   "execution_count": 13,
   "metadata": {
    "collapsed": true
   },
   "outputs": [],
   "source": [
    "def get_percent_overlap(num, denom):\n",
    "    try:\n",
    "        if denom < 5:\n",
    "            return num / float(denom)\n",
    "        else:\n",
    "            return num / 5.\n",
    "    except:\n",
    "        return np.nan\n",
    "\n",
    "def get_n_overlap_of_results_and_links(wiki_id):\n",
    "    # Get list of all links of distance=1, >=2 that are also in database\n",
    "    d1_links = list_from_string(link_df.loc[wiki_id, 'dist1_titles'])\n",
    "    d2_links = list_from_string(link_df.loc[wiki_id, 'dist2_titles'])\n",
    "    d2_links.extend(d1_links)\n",
    "    d1_links = list(set.intersection(set(d1_links), set(all_titles)))\n",
    "    d2_links = list(set.intersection(set(d2_links), set(all_titles)))\n",
    "    # Get recommendations from each model\n",
    "    lda_recs = list_from_string(lda_df.loc[wiki_id, 'other titles'])    \n",
    "    lsi_recs = list_from_string(lsi_df.loc[wiki_id, 'other titles'])\n",
    "    # Find overlap between links and recommendations\n",
    "    d1_lda_overlap = list(set.intersection(set(d1_links), set(lda_recs)))\n",
    "    d2_lda_overlap = list(set.intersection(set(d2_links), set(lda_recs)))\n",
    "    d1_lsi_overlap = list(set.intersection(set(d1_links), set(lsi_recs)))\n",
    "    d2_lsi_overlap = list(set.intersection(set(d2_links), set(lsi_recs)))\n",
    "    # Quantify\n",
    "    out_dict = {}\n",
    "    out_dict['d1'] = len(d1_links)\n",
    "    out_dict['d2'] = len(d1_links) + len(d2_links)\n",
    "    out_dict['d1_lda_overlap'] = len(d1_lda_overlap)\n",
    "    out_dict['d2_lda_overlap'] = len(d2_lda_overlap)\n",
    "    out_dict['d1_lsi_overlap'] = len(d1_lsi_overlap)\n",
    "    out_dict['d2_lsi_overlap'] = len(d2_lsi_overlap)\n",
    "    return out_dict\n",
    "\n",
    "def get_percent_overlap_of_results_and_links(wiki_id):\n",
    "    in_dict = get_n_overlap_of_results_and_links(wiki_id)\n",
    "    out_dict = {}\n",
    "    out_dict['d1_lda_pct_overlap'] = get_percent_overlap(in_dict['d1_lda_overlap'], \\\n",
    "                                                         in_dict['d1'])\n",
    "    out_dict['d2_lda_pct_overlap'] = get_percent_overlap(in_dict['d2_lda_overlap'], \\\n",
    "                                                         in_dict['d2'])\n",
    "    out_dict['d1_lsi_pct_overlap'] = get_percent_overlap(in_dict['d1_lsi_overlap'], \\\n",
    "                                                         in_dict['d1'])\n",
    "    out_dict['d2_lsi_pct_overlap'] = get_percent_overlap(in_dict['d2_lsi_overlap'], \\\n",
    "                                                         in_dict['d2'])\n",
    "    return out_dict"
   ]
  },
  {
   "cell_type": "code",
   "execution_count": 14,
   "metadata": {
    "collapsed": true
   },
   "outputs": [],
   "source": [
    "test_pct_dict = get_percent_overlap_of_results_and_links(test_ind)"
   ]
  },
  {
   "cell_type": "code",
   "execution_count": 15,
   "metadata": {
    "collapsed": true
   },
   "outputs": [],
   "source": [
    "test_n_dict = get_n_overlap_of_results_and_links(test_ind)"
   ]
  },
  {
   "cell_type": "code",
   "execution_count": 16,
   "metadata": {},
   "outputs": [
    {
     "data": {
      "text/html": [
       "<div>\n",
       "<style>\n",
       "    .dataframe thead tr:only-child th {\n",
       "        text-align: right;\n",
       "    }\n",
       "\n",
       "    .dataframe thead th {\n",
       "        text-align: left;\n",
       "    }\n",
       "\n",
       "    .dataframe tbody tr th {\n",
       "        vertical-align: top;\n",
       "    }\n",
       "</style>\n",
       "<table border=\"1\" class=\"dataframe\">\n",
       "  <thead>\n",
       "    <tr style=\"text-align: right;\">\n",
       "      <th></th>\n",
       "      <th>d1</th>\n",
       "      <th>d2</th>\n",
       "      <th>d1_lda_overlap</th>\n",
       "      <th>d1_lsi_overlap</th>\n",
       "      <th>d2_lda_overlap</th>\n",
       "      <th>d2_lsi_overlap</th>\n",
       "    </tr>\n",
       "  </thead>\n",
       "  <tbody>\n",
       "    <tr>\n",
       "      <th>1467938</th>\n",
       "      <td>3</td>\n",
       "      <td>16</td>\n",
       "      <td>0</td>\n",
       "      <td>1</td>\n",
       "      <td>1</td>\n",
       "      <td>1</td>\n",
       "    </tr>\n",
       "    <tr>\n",
       "      <th>275388</th>\n",
       "      <td>1</td>\n",
       "      <td>10</td>\n",
       "      <td>0</td>\n",
       "      <td>1</td>\n",
       "      <td>0</td>\n",
       "      <td>1</td>\n",
       "    </tr>\n",
       "    <tr>\n",
       "      <th>2352562</th>\n",
       "      <td>0</td>\n",
       "      <td>9</td>\n",
       "      <td>0</td>\n",
       "      <td>0</td>\n",
       "      <td>2</td>\n",
       "      <td>2</td>\n",
       "    </tr>\n",
       "    <tr>\n",
       "      <th>17021807</th>\n",
       "      <td>1</td>\n",
       "      <td>11</td>\n",
       "      <td>0</td>\n",
       "      <td>1</td>\n",
       "      <td>0</td>\n",
       "      <td>3</td>\n",
       "    </tr>\n",
       "    <tr>\n",
       "      <th>20777185</th>\n",
       "      <td>1</td>\n",
       "      <td>9</td>\n",
       "      <td>0</td>\n",
       "      <td>1</td>\n",
       "      <td>0</td>\n",
       "      <td>3</td>\n",
       "    </tr>\n",
       "  </tbody>\n",
       "</table>\n",
       "</div>"
      ],
      "text/plain": [
       "         d1  d2 d1_lda_overlap d1_lsi_overlap d2_lda_overlap d2_lsi_overlap\n",
       "1467938   3  16              0              1              1              1\n",
       "275388    1  10              0              1              0              1\n",
       "2352562   0   9              0              0              2              2\n",
       "17021807  1  11              0              1              0              3\n",
       "20777185  1   9              0              1              0              3"
      ]
     },
     "execution_count": 16,
     "metadata": {},
     "output_type": "execute_result"
    }
   ],
   "source": [
    "results_n_df = pd.DataFrame(index=lsi_df.index, columns=['d1', 'd2', 'd1_lda_overlap', 'd1_lsi_overlap',\\\n",
    "                                                   'd2_lda_overlap', 'd2_lsi_overlap'])\n",
    "for wiki_id in lda_df.index:\n",
    "    results_dict = get_n_overlap_of_results_and_links(wiki_id)\n",
    "    for key in results_dict.keys():\n",
    "        results_n_df.loc[wiki_id, key] = results_dict[key]\n",
    "\n",
    "results_n_df.head()"
   ]
  },
  {
   "cell_type": "code",
   "execution_count": 17,
   "metadata": {},
   "outputs": [
    {
     "data": {
      "image/png": "[encoded data removed]",
      "text/plain": [
       "<matplotlib.figure.Figure at 0x115563b70>"
      ]
     },
     "metadata": {},
     "output_type": "display_data"
    }
   ],
   "source": [
    "plt.hist(results_n_df['d1_lda_overlap'].dropna(), bins=[0,1,2,3,4,5], color='b', alpha=0.5, label='LDA');\n",
    "plt.hist(results_n_df['d1_lsi_overlap'].dropna(), bins=[0,1,2,3,4,5], color='g', alpha=0.5, label='LSI');\n",
    "plt.xlabel('# Recommendations\\n1-Internal Link from Article', fontsize=14)\n",
    "plt.ylabel('# Articles in Database', fontsize=14)\n",
    "plt.ylim(0,100)\n",
    "plt.legend(fontsize=14)\n",
    "#plt.savefig('../figures/number_recs_1-link_from_title.png')"
   ]
  },
  {
   "cell_type": "code",
   "execution_count": 18,
   "metadata": {},
   "outputs": [
    {
     "data": {
      "image/png": "[encoded data removed]",
      "text/plain": [
       "<matplotlib.figure.Figure at 0x1155889b0>"
      ]
     },
     "metadata": {},
     "output_type": "display_data"
    }
   ],
   "source": [
    "plt.hist(results_n_df['d2_lda_overlap'].dropna(), bins=[0,1,2,3,4,5], color='b', alpha=0.5, label='LDA');\n",
    "plt.hist(results_n_df['d2_lsi_overlap'].dropna(), bins=[0,1,2,3,4,5], color='g', alpha=0.5, label='LSI');\n",
    "plt.xlabel('# Recommendations\\nat least 2-Internal Links from Article', fontsize=14)\n",
    "plt.ylabel('# Articles in Database', fontsize=14)\n",
    "plt.ylim(0,100)\n",
    "plt.legend(fontsize=14)\n",
    "#plt.savefig('../figures/number_recs_2-links_from_title.png')"
   ]
  },
  {
   "cell_type": "code",
   "execution_count": 19,
   "metadata": {},
   "outputs": [
    {
     "data": {
      "text/html": [
       "<div>\n",
       "<style>\n",
       "    .dataframe thead tr:only-child th {\n",
       "        text-align: right;\n",
       "    }\n",
       "\n",
       "    .dataframe thead th {\n",
       "        text-align: left;\n",
       "    }\n",
       "\n",
       "    .dataframe tbody tr th {\n",
       "        vertical-align: top;\n",
       "    }\n",
       "</style>\n",
       "<table border=\"1\" class=\"dataframe\">\n",
       "  <thead>\n",
       "    <tr style=\"text-align: right;\">\n",
       "      <th></th>\n",
       "      <th>d1_lda_pct_overlap</th>\n",
       "      <th>d1_lsi_pct_overlap</th>\n",
       "      <th>d2_lda_pct_overlap</th>\n",
       "      <th>d2_lsi_pct_overlap</th>\n",
       "    </tr>\n",
       "  </thead>\n",
       "  <tbody>\n",
       "    <tr>\n",
       "      <th>1467938</th>\n",
       "      <td>0</td>\n",
       "      <td>0.333333</td>\n",
       "      <td>0.2</td>\n",
       "      <td>0.2</td>\n",
       "    </tr>\n",
       "    <tr>\n",
       "      <th>275388</th>\n",
       "      <td>0</td>\n",
       "      <td>1</td>\n",
       "      <td>0</td>\n",
       "      <td>0.2</td>\n",
       "    </tr>\n",
       "    <tr>\n",
       "      <th>2352562</th>\n",
       "      <td>NaN</td>\n",
       "      <td>NaN</td>\n",
       "      <td>0.4</td>\n",
       "      <td>0.4</td>\n",
       "    </tr>\n",
       "    <tr>\n",
       "      <th>17021807</th>\n",
       "      <td>0</td>\n",
       "      <td>1</td>\n",
       "      <td>0</td>\n",
       "      <td>0.6</td>\n",
       "    </tr>\n",
       "    <tr>\n",
       "      <th>20777185</th>\n",
       "      <td>0</td>\n",
       "      <td>1</td>\n",
       "      <td>0</td>\n",
       "      <td>0.6</td>\n",
       "    </tr>\n",
       "    <tr>\n",
       "      <th>4020758</th>\n",
       "      <td>0.5</td>\n",
       "      <td>1</td>\n",
       "      <td>0.2</td>\n",
       "      <td>0.4</td>\n",
       "    </tr>\n",
       "    <tr>\n",
       "      <th>17430047</th>\n",
       "      <td>0</td>\n",
       "      <td>0.5</td>\n",
       "      <td>0.2</td>\n",
       "      <td>0.2</td>\n",
       "    </tr>\n",
       "    <tr>\n",
       "      <th>2676271</th>\n",
       "      <td>0</td>\n",
       "      <td>1</td>\n",
       "      <td>0.2</td>\n",
       "      <td>0.6</td>\n",
       "    </tr>\n",
       "    <tr>\n",
       "      <th>22044074</th>\n",
       "      <td>NaN</td>\n",
       "      <td>NaN</td>\n",
       "      <td>0</td>\n",
       "      <td>0.5</td>\n",
       "    </tr>\n",
       "    <tr>\n",
       "      <th>19282291</th>\n",
       "      <td>0</td>\n",
       "      <td>1</td>\n",
       "      <td>0</td>\n",
       "      <td>0.2</td>\n",
       "    </tr>\n",
       "    <tr>\n",
       "      <th>23416702</th>\n",
       "      <td>1</td>\n",
       "      <td>1</td>\n",
       "      <td>0.4</td>\n",
       "      <td>0.8</td>\n",
       "    </tr>\n",
       "    <tr>\n",
       "      <th>5740890</th>\n",
       "      <td>0</td>\n",
       "      <td>0</td>\n",
       "      <td>0.4</td>\n",
       "      <td>0.8</td>\n",
       "    </tr>\n",
       "    <tr>\n",
       "      <th>31752133</th>\n",
       "      <td>0</td>\n",
       "      <td>1</td>\n",
       "      <td>0</td>\n",
       "      <td>0.2</td>\n",
       "    </tr>\n",
       "    <tr>\n",
       "      <th>33069847</th>\n",
       "      <td>NaN</td>\n",
       "      <td>NaN</td>\n",
       "      <td>0</td>\n",
       "      <td>0.6</td>\n",
       "    </tr>\n",
       "    <tr>\n",
       "      <th>32912733</th>\n",
       "      <td>NaN</td>\n",
       "      <td>NaN</td>\n",
       "      <td>0</td>\n",
       "      <td>1</td>\n",
       "    </tr>\n",
       "    <tr>\n",
       "      <th>24243398</th>\n",
       "      <td>0</td>\n",
       "      <td>0</td>\n",
       "      <td>0</td>\n",
       "      <td>0.2</td>\n",
       "    </tr>\n",
       "    <tr>\n",
       "      <th>17862013</th>\n",
       "      <td>0</td>\n",
       "      <td>0.5</td>\n",
       "      <td>0.2</td>\n",
       "      <td>0.8</td>\n",
       "    </tr>\n",
       "    <tr>\n",
       "      <th>34442389</th>\n",
       "      <td>NaN</td>\n",
       "      <td>NaN</td>\n",
       "      <td>0</td>\n",
       "      <td>0</td>\n",
       "    </tr>\n",
       "    <tr>\n",
       "      <th>178449</th>\n",
       "      <td>0</td>\n",
       "      <td>1</td>\n",
       "      <td>0</td>\n",
       "      <td>0.5</td>\n",
       "    </tr>\n",
       "    <tr>\n",
       "      <th>36477294</th>\n",
       "      <td>NaN</td>\n",
       "      <td>NaN</td>\n",
       "      <td>0</td>\n",
       "      <td>0</td>\n",
       "    </tr>\n",
       "  </tbody>\n",
       "</table>\n",
       "</div>"
      ],
      "text/plain": [
       "         d1_lda_pct_overlap d1_lsi_pct_overlap d2_lda_pct_overlap  \\\n",
       "1467938                   0           0.333333                0.2   \n",
       "275388                    0                  1                  0   \n",
       "2352562                 NaN                NaN                0.4   \n",
       "17021807                  0                  1                  0   \n",
       "20777185                  0                  1                  0   \n",
       "4020758                 0.5                  1                0.2   \n",
       "17430047                  0                0.5                0.2   \n",
       "2676271                   0                  1                0.2   \n",
       "22044074                NaN                NaN                  0   \n",
       "19282291                  0                  1                  0   \n",
       "23416702                  1                  1                0.4   \n",
       "5740890                   0                  0                0.4   \n",
       "31752133                  0                  1                  0   \n",
       "33069847                NaN                NaN                  0   \n",
       "32912733                NaN                NaN                  0   \n",
       "24243398                  0                  0                  0   \n",
       "17862013                  0                0.5                0.2   \n",
       "34442389                NaN                NaN                  0   \n",
       "178449                    0                  1                  0   \n",
       "36477294                NaN                NaN                  0   \n",
       "\n",
       "         d2_lsi_pct_overlap  \n",
       "1467938                 0.2  \n",
       "275388                  0.2  \n",
       "2352562                 0.4  \n",
       "17021807                0.6  \n",
       "20777185                0.6  \n",
       "4020758                 0.4  \n",
       "17430047                0.2  \n",
       "2676271                 0.6  \n",
       "22044074                0.5  \n",
       "19282291                0.2  \n",
       "23416702                0.8  \n",
       "5740890                 0.8  \n",
       "31752133                0.2  \n",
       "33069847                0.6  \n",
       "32912733                  1  \n",
       "24243398                0.2  \n",
       "17862013                0.8  \n",
       "34442389                  0  \n",
       "178449                  0.5  \n",
       "36477294                  0  "
      ]
     },
     "execution_count": 19,
     "metadata": {},
     "output_type": "execute_result"
    }
   ],
   "source": [
    "results_pct_df = pd.DataFrame(index=lsi_df.index, columns=['d1_lda_pct_overlap', 'd1_lsi_pct_overlap',\\\n",
    "                                                   'd2_lda_pct_overlap', 'd2_lsi_pct_overlap'])\n",
    "for wiki_id in lda_df.index:\n",
    "    results_dict = get_percent_overlap_of_results_and_links(wiki_id)\n",
    "    for key in results_dict.keys():\n",
    "        results_pct_df.loc[wiki_id, key] = results_dict[key]\n",
    "\n",
    "results_pct_df.head(20)"
   ]
  },
  {
   "cell_type": "code",
   "execution_count": 20,
   "metadata": {},
   "outputs": [
    {
     "data": {
      "image/png": "[encoded data removed]",
      "text/plain": [
       "<matplotlib.figure.Figure at 0x1161f6400>"
      ]
     },
     "metadata": {},
     "output_type": "display_data"
    }
   ],
   "source": [
    "plt.hist(results_pct_df['d1_lda_pct_overlap'].dropna()*100, color='b', alpha=0.5, label='LDA');\n",
    "plt.hist(results_pct_df['d1_lsi_pct_overlap'].dropna()*100, color='g', alpha=0.5, label='LSI');\n",
    "plt.ylim(0,60)\n",
    "plt.xlabel('% Recommendations\\n1-Internal Link from Article', fontsize=14)\n",
    "plt.ylabel('# Articles in Database', fontsize=14)\n",
    "plt.legend(fontsize=14)\n",
    "#plt.savefig('../figures/pct_recs_1-link_from_title.png')"
   ]
  },
  {
   "cell_type": "code",
   "execution_count": 21,
   "metadata": {},
   "outputs": [
    {
     "data": {
      "image/png": "[encoded data removed]",
      "text/plain": [
       "<matplotlib.figure.Figure at 0x115d27908>"
      ]
     },
     "metadata": {},
     "output_type": "display_data"
    }
   ],
   "source": [
    "plt.hist(results_pct_df['d2_lda_pct_overlap'].dropna()*100, \\\n",
    "         color='b', alpha=0.5, label='LDA');\n",
    "plt.hist(results_pct_df['d2_lsi_pct_overlap'].dropna()*100, \\\n",
    "         color='g', alpha=0.5, label='LSI');\n",
    "plt.ylim(0,60)\n",
    "plt.xlabel('% Recommendations\\nat least 2-Internal Links from Article', fontsize=14)\n",
    "plt.ylabel('# Articles in Database', fontsize=14)\n",
    "plt.legend(fontsize=14)\n",
    "#plt.savefig('../figures/pct_recs_2-links_from_title.png')"
   ]
  },
  {
   "cell_type": "code",
   "execution_count": 22,
   "metadata": {
    "collapsed": true
   },
   "outputs": [],
   "source": [
    "all_d1_links = []\n",
    "all_d2_links = []\n",
    "for wiki_id in lda_df.index:\n",
    "    all_d1_links.extend(list_from_string(link_df.loc[wiki_id, 'dist1_titles']))\n",
    "    all_d2_links.extend(list_from_string(link_df.loc[wiki_id, 'dist2_titles']))\n",
    "all_d1_links = list(set(all_d1_links))\n",
    "all_d2_links = list(set(all_d2_links))"
   ]
  },
  {
   "cell_type": "code",
   "execution_count": 23,
   "metadata": {},
   "outputs": [
    {
     "data": {
      "image/png": "[encoded data removed]",
      "text/plain": [
       "<matplotlib.figure.Figure at 0x1163c37f0>"
      ]
     },
     "metadata": {},
     "output_type": "display_data"
    }
   ],
   "source": [
    "fig = plt.figure(figsize=(6,6))\n",
    "venn3([set(all_d1_links), set(all_d2_links), set(all_titles)],\\\n",
    "      ('Linked Articles\\n(Distance=1)', 'Linked Articles\\n(Distance<=2)', 'All Articles'));\n",
    "#plt.savefig('../figures/venn_diagram_linked_articles.png')"
   ]
  },
  {
   "cell_type": "code",
   "execution_count": 24,
   "metadata": {
    "collapsed": true
   },
   "outputs": [],
   "source": [
    "all_d1_links = []\n",
    "all_d2_links = []\n",
    "for wiki_id in lda_df.index:\n",
    "    all_d1_links.extend(list_from_string(link_df.loc[wiki_id, 'dist1_titles']))\n",
    "    all_d2_links.extend(list_from_string(link_df.loc[wiki_id, 'dist2_titles']))\n",
    "all_d2_links.extend(all_d1_links)\n",
    "all_d1_links = list(set.intersection(set(all_d1_links), set(all_titles)))\n",
    "all_d2_links = list(set.intersection(set(all_d2_links), set(all_titles)))"
   ]
  },
  {
   "cell_type": "code",
   "execution_count": 25,
   "metadata": {
    "scrolled": true
   },
   "outputs": [
    {
     "data": {
      "image/png": "[encoded data removed]",
      "text/plain": [
       "<matplotlib.figure.Figure at 0x116455438>"
      ]
     },
     "metadata": {},
     "output_type": "display_data"
    }
   ],
   "source": [
    "fig = plt.figure(figsize=(6,6))\n",
    "venn3([set(all_d1_links), set(all_d2_links), set(all_titles)],\\\n",
    "      ('Linked Articles\\n(Distance=1)', 'Linked Articles\\n(Distance<=2)', 'All Articles'));\n",
    "#plt.savefig('../figures/subset_venn_diagram_linked_articles.png')"
   ]
  },
  {
   "cell_type": "code",
   "execution_count": 26,
   "metadata": {},
   "outputs": [
    {
     "data": {
      "text/plain": [
       "<matplotlib.text.Text at 0x116442978>"
      ]
     },
     "execution_count": 26,
     "metadata": {},
     "output_type": "execute_result"
    },
    {
     "data": {
      "image/png": "[encoded data removed]",
      "text/plain": [
       "<matplotlib.figure.Figure at 0x1158c1eb8>"
      ]
     },
     "metadata": {},
     "output_type": "display_data"
    }
   ],
   "source": [
    "fig = plt.figure(figsize=(6,6))\n",
    "venn3([set.intersection(set(test_links), set(all_titles)), set(test_lsi_recs), set(test_lda_recs)],\\\n",
    "      ('Linked Articles', 'LSI', 'LDA'));\n",
    "plt.title('Example: %s' % (link_df.loc[test_ind, 'title']), fontsize=14)\n",
    "#plt.savefig('../figures/dog_biscuit_model_comparison.png')"
   ]
  },
  {
   "cell_type": "code",
   "execution_count": 27,
   "metadata": {},
   "outputs": [
    {
     "data": {
      "text/plain": [
       "<matplotlib.text.Text at 0x11605f320>"
      ]
     },
     "execution_count": 27,
     "metadata": {},
     "output_type": "execute_result"
    },
    {
     "data": {
      "image/png": "[encoded data removed]",
      "text/plain": [
       "<matplotlib.figure.Figure at 0x11637d6d8>"
      ]
     },
     "metadata": {},
     "output_type": "display_data"
    }
   ],
   "source": [
    "fig = plt.figure(figsize=(6,6))\n",
    "venn3([set(test_links), set(test_lsi_recs), set(test_lda_recs)],\\\n",
    "      ('Linked Articles', 'LSI', 'LDA'));\n",
    "plt.title('Example: %s' % (link_df.loc[test_ind, 'title']), fontsize=14)\n",
    "#plt.savefig('../figures/dog_biscuit_model_comparison_all.png')"
   ]
  },
  {
   "cell_type": "code",
   "execution_count": null,
   "metadata": {
    "collapsed": true
   },
   "outputs": [],
   "source": []
  }
 ],
 "metadata": {
  "kernelspec": {
   "display_name": "Python 3",
   "language": "python",
   "name": "python3"
  },
  "language_info": {
   "codemirror_mode": {
    "name": "ipython",
    "version": 3
   },
   "file_extension": ".py",
   "mimetype": "text/x-python",
   "name": "python",
   "nbconvert_exporter": "python",
   "pygments_lexer": "ipython3",
   "version": "3.6.1"
  }
 },
 "nbformat": 4,
 "nbformat_minor": 2
}
