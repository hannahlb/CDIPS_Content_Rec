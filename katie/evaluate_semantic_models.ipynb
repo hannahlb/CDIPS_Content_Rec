{
 "cells": [
  {
   "cell_type": "code",
   "execution_count": 1,
   "metadata": {
    "collapsed": true
   },
   "outputs": [],
   "source": [
    "import re\n",
    "import pandas as pd\n",
    "import numpy as np\n",
    "import matplotlib.pyplot as plt\n",
    "from matplotlib_venn import *\n",
    "% matplotlib inline"
   ]
  },
  {
   "cell_type": "code",
   "execution_count": 2,
   "metadata": {},
   "outputs": [
    {
     "data": {
      "text/html": [
       "<div>\n",
       "<style>\n",
       "    .dataframe thead tr:only-child th {\n",
       "        text-align: right;\n",
       "    }\n",
       "\n",
       "    .dataframe thead th {\n",
       "        text-align: left;\n",
       "    }\n",
       "\n",
       "    .dataframe tbody tr th {\n",
       "        vertical-align: top;\n",
       "    }\n",
       "</style>\n",
       "<table border=\"1\" class=\"dataframe\">\n",
       "  <thead>\n",
       "    <tr style=\"text-align: right;\">\n",
       "      <th></th>\n",
       "      <th>url</th>\n",
       "      <th>title</th>\n",
       "      <th>other titles</th>\n",
       "      <th>other urls</th>\n",
       "      <th>scores</th>\n",
       "    </tr>\n",
       "  </thead>\n",
       "  <tbody>\n",
       "    <tr>\n",
       "      <th>1467938</th>\n",
       "      <td>https://en.wikipedia.org/wiki/Kennel</td>\n",
       "      <td>Kennel</td>\n",
       "      <td>['Pet Fed India', 'Dog food', 'Cropping (anima...</td>\n",
       "      <td>['https://en.wikipedia.org/wiki/Pet_Fed_India'...</td>\n",
       "      <td>[0.99, 0.33, 0.33, 0.33, 0.33]</td>\n",
       "    </tr>\n",
       "    <tr>\n",
       "      <th>275388</th>\n",
       "      <td>https://en.wikipedia.org/wiki/Cynology</td>\n",
       "      <td>Cynology</td>\n",
       "      <td>['Dog Parker', 'Big Miracle (book)', 'Indian N...</td>\n",
       "      <td>['https://en.wikipedia.org/wiki/Dog_Parker', '...</td>\n",
       "      <td>[0.95, 0.95, 0.95, 0.95, 0.95]</td>\n",
       "    </tr>\n",
       "    <tr>\n",
       "      <th>2352562</th>\n",
       "      <td>https://en.wikipedia.org/wiki/Pack_(canine)</td>\n",
       "      <td>Pack (canine)</td>\n",
       "      <td>['Dog', 'Service dog', 'Cat senses', 'Dogs in ...</td>\n",
       "      <td>['https://en.wikipedia.org/wiki/Dog', 'https:/...</td>\n",
       "      <td>[1.0, 0.99, 0.98, 0.98, 0.98]</td>\n",
       "    </tr>\n",
       "    <tr>\n",
       "      <th>17021807</th>\n",
       "      <td>https://en.wikipedia.org/wiki/Rare_breed_(dog)</td>\n",
       "      <td>Rare breed (dog)</td>\n",
       "      <td>[]</td>\n",
       "      <td>[]</td>\n",
       "      <td>[]</td>\n",
       "    </tr>\n",
       "    <tr>\n",
       "      <th>20777185</th>\n",
       "      <td>https://en.wikipedia.org/wiki/Dogs_in_ancient_...</td>\n",
       "      <td>Dogs in ancient China</td>\n",
       "      <td>['Becerrillo', 'Puppy', 'Body language of dogs...</td>\n",
       "      <td>['https://en.wikipedia.org/wiki/Becerrillo', '...</td>\n",
       "      <td>[0.83, 0.8, 0.61, 0.6, 0.6]</td>\n",
       "    </tr>\n",
       "    <tr>\n",
       "      <th>4020758</th>\n",
       "      <td>https://en.wikipedia.org/wiki/Dog_biscuit</td>\n",
       "      <td>Dog biscuit</td>\n",
       "      <td>['Kitten', 'Lychee and Dog Meat Festival', 'Cr...</td>\n",
       "      <td>['https://en.wikipedia.org/wiki/Kitten', 'http...</td>\n",
       "      <td>[0.99, 0.99, 0.99, 0.99, 0.99]</td>\n",
       "    </tr>\n",
       "    <tr>\n",
       "      <th>17430047</th>\n",
       "      <td>https://en.wikipedia.org/wiki/Breed_type_(dog)</td>\n",
       "      <td>Breed type (dog)</td>\n",
       "      <td>['Therapy cat', 'Human interaction with cats',...</td>\n",
       "      <td>['https://en.wikipedia.org/wiki/Therapy_cat', ...</td>\n",
       "      <td>[0.92, 0.91, 0.91, 0.9, 0.9]</td>\n",
       "    </tr>\n",
       "    <tr>\n",
       "      <th>2676271</th>\n",
       "      <td>https://en.wikipedia.org/wiki/Canid_hybrid</td>\n",
       "      <td>Canid hybrid</td>\n",
       "      <td>['Canine reproduction', 'Dog World (newspaper)...</td>\n",
       "      <td>['https://en.wikipedia.org/wiki/Canine_reprodu...</td>\n",
       "      <td>[1.0, 0.99, 0.96, 0.96, 0.96]</td>\n",
       "    </tr>\n",
       "    <tr>\n",
       "      <th>22044074</th>\n",
       "      <td>https://en.wikipedia.org/wiki/Canine_physical_...</td>\n",
       "      <td>Canine physical therapy</td>\n",
       "      <td>['Cat gap', 'Dog food', 'Cropping (animal)', '...</td>\n",
       "      <td>['https://en.wikipedia.org/wiki/Cat_gap', 'htt...</td>\n",
       "      <td>[0.91, 0.82, 0.82, 0.82, 0.82]</td>\n",
       "    </tr>\n",
       "    <tr>\n",
       "      <th>19282291</th>\n",
       "      <td>https://en.wikipedia.org/wiki/Dogs_in_Mesoamerica</td>\n",
       "      <td>Dogs in Mesoamerica</td>\n",
       "      <td>['Becerrillo']</td>\n",
       "      <td>['https://en.wikipedia.org/wiki/Becerrillo']</td>\n",
       "      <td>[0.09]</td>\n",
       "    </tr>\n",
       "  </tbody>\n",
       "</table>\n",
       "</div>"
      ],
      "text/plain": [
       "                                                        url  \\\n",
       "1467938                https://en.wikipedia.org/wiki/Kennel   \n",
       "275388               https://en.wikipedia.org/wiki/Cynology   \n",
       "2352562         https://en.wikipedia.org/wiki/Pack_(canine)   \n",
       "17021807     https://en.wikipedia.org/wiki/Rare_breed_(dog)   \n",
       "20777185  https://en.wikipedia.org/wiki/Dogs_in_ancient_...   \n",
       "4020758           https://en.wikipedia.org/wiki/Dog_biscuit   \n",
       "17430047     https://en.wikipedia.org/wiki/Breed_type_(dog)   \n",
       "2676271          https://en.wikipedia.org/wiki/Canid_hybrid   \n",
       "22044074  https://en.wikipedia.org/wiki/Canine_physical_...   \n",
       "19282291  https://en.wikipedia.org/wiki/Dogs_in_Mesoamerica   \n",
       "\n",
       "                            title  \\\n",
       "1467938                    Kennel   \n",
       "275388                   Cynology   \n",
       "2352562             Pack (canine)   \n",
       "17021807         Rare breed (dog)   \n",
       "20777185    Dogs in ancient China   \n",
       "4020758               Dog biscuit   \n",
       "17430047         Breed type (dog)   \n",
       "2676271              Canid hybrid   \n",
       "22044074  Canine physical therapy   \n",
       "19282291      Dogs in Mesoamerica   \n",
       "\n",
       "                                               other titles  \\\n",
       "1467938   ['Pet Fed India', 'Dog food', 'Cropping (anima...   \n",
       "275388    ['Dog Parker', 'Big Miracle (book)', 'Indian N...   \n",
       "2352562   ['Dog', 'Service dog', 'Cat senses', 'Dogs in ...   \n",
       "17021807                                                 []   \n",
       "20777185  ['Becerrillo', 'Puppy', 'Body language of dogs...   \n",
       "4020758   ['Kitten', 'Lychee and Dog Meat Festival', 'Cr...   \n",
       "17430047  ['Therapy cat', 'Human interaction with cats',...   \n",
       "2676271   ['Canine reproduction', 'Dog World (newspaper)...   \n",
       "22044074  ['Cat gap', 'Dog food', 'Cropping (animal)', '...   \n",
       "19282291                                     ['Becerrillo']   \n",
       "\n",
       "                                                 other urls  \\\n",
       "1467938   ['https://en.wikipedia.org/wiki/Pet_Fed_India'...   \n",
       "275388    ['https://en.wikipedia.org/wiki/Dog_Parker', '...   \n",
       "2352562   ['https://en.wikipedia.org/wiki/Dog', 'https:/...   \n",
       "17021807                                                 []   \n",
       "20777185  ['https://en.wikipedia.org/wiki/Becerrillo', '...   \n",
       "4020758   ['https://en.wikipedia.org/wiki/Kitten', 'http...   \n",
       "17430047  ['https://en.wikipedia.org/wiki/Therapy_cat', ...   \n",
       "2676271   ['https://en.wikipedia.org/wiki/Canine_reprodu...   \n",
       "22044074  ['https://en.wikipedia.org/wiki/Cat_gap', 'htt...   \n",
       "19282291       ['https://en.wikipedia.org/wiki/Becerrillo']   \n",
       "\n",
       "                                  scores  \n",
       "1467938   [0.99, 0.33, 0.33, 0.33, 0.33]  \n",
       "275388    [0.95, 0.95, 0.95, 0.95, 0.95]  \n",
       "2352562    [1.0, 0.99, 0.98, 0.98, 0.98]  \n",
       "17021807                              []  \n",
       "20777185     [0.83, 0.8, 0.61, 0.6, 0.6]  \n",
       "4020758   [0.99, 0.99, 0.99, 0.99, 0.99]  \n",
       "17430047    [0.92, 0.91, 0.91, 0.9, 0.9]  \n",
       "2676271    [1.0, 0.99, 0.96, 0.96, 0.96]  \n",
       "22044074  [0.91, 0.82, 0.82, 0.82, 0.82]  \n",
       "19282291                          [0.09]  "
      ]
     },
     "execution_count": 2,
     "metadata": {},
     "output_type": "execute_result"
    }
   ],
   "source": [
    "# load moddel results\n",
    "lda_df = pd.read_csv('../data/Wikipedia-lda.csv', index_col=0)\n",
    "lsi_df = pd.read_csv('../data/Wikipedia-lsi.csv', index_col=0)\n",
    "\n",
    "# preview\n",
    "lda_df.head(10)"
   ]
  },
  {
   "cell_type": "code",
   "execution_count": 3,
   "metadata": {},
   "outputs": [
    {
     "data": {
      "text/html": [
       "<div>\n",
       "<style>\n",
       "    .dataframe thead tr:only-child th {\n",
       "        text-align: right;\n",
       "    }\n",
       "\n",
       "    .dataframe thead th {\n",
       "        text-align: left;\n",
       "    }\n",
       "\n",
       "    .dataframe tbody tr th {\n",
       "        vertical-align: top;\n",
       "    }\n",
       "</style>\n",
       "<table border=\"1\" class=\"dataframe\">\n",
       "  <thead>\n",
       "    <tr style=\"text-align: right;\">\n",
       "      <th></th>\n",
       "      <th>title</th>\n",
       "      <th>dist1_titles</th>\n",
       "      <th>dist2_titles</th>\n",
       "    </tr>\n",
       "  </thead>\n",
       "  <tbody>\n",
       "    <tr>\n",
       "      <th>970284</th>\n",
       "      <td>Category:Dog shows and showing</td>\n",
       "      <td>['conformation show']</td>\n",
       "      <td>['Pointer (dog breed)', 'Westminster Kennel Cl...</td>\n",
       "    </tr>\n",
       "    <tr>\n",
       "      <th>972913</th>\n",
       "      <td>Category:Dog health</td>\n",
       "      <td>NaN</td>\n",
       "      <td>NaN</td>\n",
       "    </tr>\n",
       "    <tr>\n",
       "      <th>970251</th>\n",
       "      <td>Category:Dog organizations</td>\n",
       "      <td>['dog']</td>\n",
       "      <td>['carnivore', 'guard hair', 'begonia', 'Bluey ...</td>\n",
       "    </tr>\n",
       "    <tr>\n",
       "      <th>729436</th>\n",
       "      <td>Category:Dog sports</td>\n",
       "      <td>NaN</td>\n",
       "      <td>NaN</td>\n",
       "    </tr>\n",
       "    <tr>\n",
       "      <th>978163</th>\n",
       "      <td>Category:Dogs as pets</td>\n",
       "      <td>NaN</td>\n",
       "      <td>NaN</td>\n",
       "    </tr>\n",
       "    <tr>\n",
       "      <th>1764821</th>\n",
       "      <td>Category:Dog equipment</td>\n",
       "      <td>NaN</td>\n",
       "      <td>NaN</td>\n",
       "    </tr>\n",
       "    <tr>\n",
       "      <th>1765233</th>\n",
       "      <td>Category:Dog breeding</td>\n",
       "      <td>['Domestication', 'Artificial selection']</td>\n",
       "      <td>['Agaricus bisporus', 'tuberculosis', 'Mollusc...</td>\n",
       "    </tr>\n",
       "    <tr>\n",
       "      <th>1765458</th>\n",
       "      <td>Category:Dog monuments</td>\n",
       "      <td>['monument', 'dog']</td>\n",
       "      <td>['Atomic bombings of Hiroshima and Nagasaki', ...</td>\n",
       "    </tr>\n",
       "    <tr>\n",
       "      <th>1467938</th>\n",
       "      <td>Kennel</td>\n",
       "      <td>['dog', 'Breed club (dog)', 'breed registry', ...</td>\n",
       "      <td>['carnivore', 'guard hair', 'begonia', 'Bluey ...</td>\n",
       "    </tr>\n",
       "    <tr>\n",
       "      <th>275388</th>\n",
       "      <td>Cynology</td>\n",
       "      <td>['Professional handler', '-logy', 'Police dog'...</td>\n",
       "      <td>['championship', 'Best of Breed', 'apprentices...</td>\n",
       "    </tr>\n",
       "  </tbody>\n",
       "</table>\n",
       "</div>"
      ],
      "text/plain": [
       "                                  title  \\\n",
       "970284   Category:Dog shows and showing   \n",
       "972913              Category:Dog health   \n",
       "970251       Category:Dog organizations   \n",
       "729436              Category:Dog sports   \n",
       "978163            Category:Dogs as pets   \n",
       "1764821          Category:Dog equipment   \n",
       "1765233           Category:Dog breeding   \n",
       "1765458          Category:Dog monuments   \n",
       "1467938                          Kennel   \n",
       "275388                         Cynology   \n",
       "\n",
       "                                              dist1_titles  \\\n",
       "970284                               ['conformation show']   \n",
       "972913                                                 NaN   \n",
       "970251                                             ['dog']   \n",
       "729436                                                 NaN   \n",
       "978163                                                 NaN   \n",
       "1764821                                                NaN   \n",
       "1765233          ['Domestication', 'Artificial selection']   \n",
       "1765458                                ['monument', 'dog']   \n",
       "1467938  ['dog', 'Breed club (dog)', 'breed registry', ...   \n",
       "275388   ['Professional handler', '-logy', 'Police dog'...   \n",
       "\n",
       "                                              dist2_titles  \n",
       "970284   ['Pointer (dog breed)', 'Westminster Kennel Cl...  \n",
       "972913                                                 NaN  \n",
       "970251   ['carnivore', 'guard hair', 'begonia', 'Bluey ...  \n",
       "729436                                                 NaN  \n",
       "978163                                                 NaN  \n",
       "1764821                                                NaN  \n",
       "1765233  ['Agaricus bisporus', 'tuberculosis', 'Mollusc...  \n",
       "1765458  ['Atomic bombings of Hiroshima and Nagasaki', ...  \n",
       "1467938  ['carnivore', 'guard hair', 'begonia', 'Bluey ...  \n",
       "275388   ['championship', 'Best of Breed', 'apprentices...  "
      ]
     },
     "execution_count": 3,
     "metadata": {},
     "output_type": "execute_result"
    }
   ],
   "source": [
    "# load link info\n",
    "dog_link_df = pd.read_csv('../data/Wikipedia-dog-links.csv', index_col=0)\n",
    "fish_link_df = pd.read_csv('../data/Wikipedia-fish-links.csv', index_col=0)\n",
    "link_df = pd.concat([dog_link_df, fish_link_df])\n",
    "\n",
    "# preview\n",
    "link_df.head(10)"
   ]
  },
  {
   "cell_type": "code",
   "execution_count": 4,
   "metadata": {
    "collapsed": true
   },
   "outputs": [],
   "source": [
    "def list_from_string(input_str):\n",
    "    try:\n",
    "        out_list = re.sub(\"\\'\", '', input_str)[1:-1].split(', ')\n",
    "        out_list = [x.lower() for x in out_list]\n",
    "        return out_list\n",
    "    except:\n",
    "        return []"
   ]
  },
  {
   "cell_type": "code",
   "execution_count": 5,
   "metadata": {
    "collapsed": true
   },
   "outputs": [],
   "source": [
    "test_ind = 4020758"
   ]
  },
  {
   "cell_type": "code",
   "execution_count": 6,
   "metadata": {},
   "outputs": [
    {
     "data": {
      "text/plain": [
       "'Dog biscuit'"
      ]
     },
     "execution_count": 6,
     "metadata": {},
     "output_type": "execute_result"
    }
   ],
   "source": [
    "link_df.loc[test_ind, 'title']"
   ]
  },
  {
   "cell_type": "code",
   "execution_count": 7,
   "metadata": {},
   "outputs": [
    {
     "name": "stdout",
     "output_type": "stream",
     "text": [
      "['dog', 'lope de vega', 'nabisco', 'john stuart skinner', 'dietary supplement', 'biscuit', 'snack food', 'dog food', 'milk-bone', 'canidae', 'bran', 'juvenal']\n"
     ]
    }
   ],
   "source": [
    "test_links = list_from_string(link_df.loc[test_ind, 'dist1_titles'])\n",
    "print(test_links)"
   ]
  },
  {
   "cell_type": "code",
   "execution_count": 8,
   "metadata": {},
   "outputs": [
    {
     "name": "stdout",
     "output_type": "stream",
     "text": [
      "['dog', 'lope de vega', 'nabisco', 'john stuart skinner', 'dietary supplement', 'biscuit', 'snack food', 'dog food', 'milk-bone', 'canidae', 'bran', 'juvenal', 'carnivore', 'guard hair', 'begonia', 'bluey (dog)', 'auditory bulla', 'dachshund', 'euthanasia', 'natural selection', 'earth', 'north malabar', 'feral', 'dog attack', 'hunting', 'cŵn annwn', 'guard dog', 'helheim', 'aleria', 'roundworm', 'cutaneous larva migrans', 'toy group', 'tibetan spaniel', 'litter (animal)', 'bull terrier (miniature)', 'artificial insemination', 'greek mythology', 'disulfide', 'thibet', 'sled dogs', 'norse mythology', 'tapeworms', 'electrophoresis', 'tiger', 'opinion 2027', 'sulfoxide', 'israel', 'dominance (ethology)', 'naraka', 'muthappan temple', 'pet', 'coat (dog)', 'pack animal', 'hookworm', 'leopard', 'philippine mythology', 'catecholamine', 'wikt:docga', 'pregnancy', 'ovum', 'canis', 'wolf', 'scavenger', 'american pet products manufacturers association', 'nureongi', 'hypersociability', 'india', 'hachikō', 'border terrier', 'flea', 'bloodhound', 'anim. reprod. sci.', 'animal track', 'cleft lip and palate', 'animal shelter', 'manchuria', 'conserved name', 'centers for disease control and prevention', 'rhyton', 'aloe vera', 'brygos', 'canine tying', 'ensembl', 'pack hunter', 'macadamia nut', 'estrus', 'bite inhibition', 'irish wolfhound', 'pyometra', 'braque du bourbonnais', 'old english', 'animal protection organizations', 'working group (dogs)', 'muthappan', 'overpopulation in companion animals', 'police dog', 'richard h. tedford', 'caucasus', 'luxating patella', 'mixed-breed dog', 'gray wolf', 'siberia', 'horse', 'moult', 'great dane', 'taxonomic synonym', 'toy poodles', 'leonberger', 'toy dog', 'free-ranging dog', 'walter de gruyter', 'ethnocynology', 'service dog', 'coyote', 'hunter-gatherers', 'chihuahua (dog)', 'dog behavior', 'border collie', 'epic poetry', 'starch', 'persian mythology', 'dewclaws', 'dog breed', 'hypersexuality', 'dog (zodiac)', 'domesticated', 'sobriquet', 'raisin', 'polynesia', 'genetic divergence', 'dirofilaria immitis', 'phosphatase', 'morphology (biology)', 'carnivora', 'magnetic resonance imaging', 'pulmonary valve stenosis', 'neutering', 'homer', 'dogue de bordeaux', 'microsatellite', 'temporalis muscle', 'elbow dysplasia', 'puberty', 'genus', 'human–canine bond', 'juliet clutton-brock', 'predation', 'xiaoming wang', 'guide dog', 'down hair', 'indochina', 'shar pei', 'bosintang', 'mountain dog', 'dingo', 'pre-caudal gland', 'renaissance', 'apache', 'animal euthanasia', 'artificial selection', 'wikt:extant', 'taxa', 'inuit', 'sympatry', 'pet adoption', 'mammal species of the world', 'cerberus', 'poinsettia', 'thiosulphate', 'english mastiff', 'basset hound', 'garmr', 'musical canine freestyle', 'american society for the prevention of cruelty to animals', 'dictionary.com', 'toxocara canis', 'castration', 'french bulldog', 'dogs in art', 'evolutionary developmental biology', 'odysseus', 'dog training', 'pre-columbian mexico', 'brittany (breed)', 'bernese mountain dog', 'purebred (dog)', 'neutering', 'german shepherd', 'spraying (animal behavior)', '\"mans best friend (phrase)\"', '', 'colorado', 'sex drive', '10th edition of systema naturae', 'laika', 'hades', 'hygiene hypothesis', 'yama', 'guinness book of world records', 'qi', 'pusuke', 'clade', 'dogs in warfare', 'puppy', 'withers', 'dog tail', 'chinvat bridge', 'tadaklan', 'striped hyena', 'list of dog sports', 'indonesia', 'proto-indo-european language', 'odyssey', 'xylitol', 'dog in chinese mythology', 'japanese spitz', 'middle ages', 'korea', 'alaskan malamute', 'wikt:reconstruction:proto-indo-european/ḱwṓ', 'who', 'grape', 'blue cross (animal charity)', 'blindness', 'cairn terrier', 'obligate carnivore', 'kennel club', 'ancient greece', 'inbreeding depression', 'clades', 'herding dog', 'docking (dog)', 'prostate cancer', 'east asian', 'rico (border collie)', 'garlic', 'before_present', 'diminutive', 'evolution of the wolf', 'reuters', 'hookworms', '1925 serum run to nome', 'uterus', 'athabaskan languages', 'theory of mind', 'biological species concept', 'puppy', 'hindu mythology', 'mite', 'west highland white terrier', 'natufian culture', 'roundworms', 'estrous cycle', 'labrador retriever', 'countershading', 'dog whisperer', 'service dog', 'pelage', 'dog breed', 'center for disease control', 'deafness', 'theobromine poisoning', 'wolfdog', 'hound', 'dognapping', 'navajo people', 'vietnam', 'aging in dogs', 'chocolate', 'malaysia', 'late pleistocene', 'middle english', 'colin groves', 'toxocariasis', 'domestication', 'beringia', 'balto', 'hunting dog', 'selective breeding', 'tick', 'fertilization', 'control of fire', 'gastric dilatation volvulus', 'scallion', 'lost pet services', 'omnivore', 'cat', 'argos (dog)', 'carl linnaeus', 'annwn', 'scientific names', 'dogs in the united states', 'diabetes in dogs', 'agriculturists', 'hip dysplasia (canine)', 'detection dog', 'ovary', 'humane society of the united states', 'yorkshire terrier', 'taboo food and drink', 'gheorghe benga', 'dog anatomy', 'welsh mythology', 'dog odor', 'urinary incontinence', 'dog in chinese mythology', 'turkmenistan', 'china', 'jewish law', 'williams-beuren syndrome', 'doga (dog yoga)', 'kerala', 'gestation period', 'synonym (taxonomy)', 'sled dog', 'ain mallaha', 'inbreeding coefficient', 'international commission on zoological nomenclature', 'petty nobility', 'duke of gandía', 'cantabria', 'classical unities', 'ray keck', 'punishment without revenge', 'samuel pepys', 'patron saint', 'ruled britannia', 'fuenteovejuna', 'álvaro de bazán', '1st marquis of santa cruz', 'venezuela', 'harry turtledove', 'peribáñez y el comendador de ocaña', 'western literature', 'defamation', 'postpartum', 'exile', 'calderón de la barca', 'bible', 'antonio álvarez de toledo', '5th duke of alba', 'epic poem', 'pelagius of asturias', 'valladolid', 'castilian language', 'the outlaw (2010 film)', 'cristóbal calderón', 'francisco agustín tárrega', 'guillén de castro y bellvis', 'valencia', 'spain', 'operetta', 'play (theatre)', 'canon (priest)', 'francisco de quevedo', 'novel', 'the widow from valencia', 'lyric poetry', 'the dog in the manger', 'mythology', 'juan del encina', ':es:las bizarrías de belisa', 'spain', 'isidore the laborer', 'pastoral', 'the steel of madrid', 'juan ruiz de alarcón', 'the stupid lady', 'spanish language', 'carlos boil', 'saint', 'miguel de cervantes', 'philip ii of spain', 'tertulia', 'bishop of ávila', 'castile (historical region)', 'university of alcalá', 'novella', '\"fenisas hook\"', 'azores', 'scarlet fever', 'history of spain', '[https://books.google.com/books?id=n2i4aaaaiaaj&pg=pa215 melveena mckendrick', 'comedia (spanish play)', 'spanish navy', 'siglo de oro', 'cloak and dagger', 'spanish armada', 'anagram', 'william shakespeare', 'diego de urbina', 'tirso de molina', 'la dama boba', 'primogeniture', 'muse', 'madness in valencia', 'england', 'gentleman of the bedchamber', ':template:infobox writer/doc', 'francis drake', 'vicente espinel', 'luis de góngora', 'goethe', 'zarzuela', 'battle of ponta delgada', 'ricardo de turia', 'portugal', 'the best mayor', 'the king', 'luis de góngora y argote', 'gaspar de aguilar', 'madrid', 'toledo', 'spain', 'the lady-fool', 'spanish baroque literature', 'the dog in the manger (play)', 'colegio imperial de madrid', 'sonnet', 'house of alba', 'ludovico ariosto', 'society of jesus', 'justice without revenge', 'el ministerio del tiempo', ':es:valles_de_cantabria', 'imbroglio', 'cookies', 'r. j. reynolds tobacco company', 'potato chips', 'nutritional facts', 'kraft foods', 'south fork fishing and hunting club', 'american english', 'barrel', 'william henry \"judge\" moore', 'oreo', 'ritz crackers', 'robert gair', 'chicago loop', 'in a biskit', 'belvita', 'dale earnhardt', 'national advertising division', 'zu zu ginger snaps', 'venezuela', 'south america', 'tony stewart', 'east hanover', 'new jersey', 'teddy grahams', 'winnowing', 'east hanover township', 'new jersey', 'milk-bone', 'paper bag', 'barbarians at the gate (film)', 'roush racing', 'baby ruth', 'gerard huerta', 'biscuit', 'united kingdom', 'subsidiary', 'altria group', 'mondelēz international', 'milk bar', 'boston', 'bristol-myers squibb', 'toronto', 'triscuit', 'saltine cracker', 'toaster pastry', 'life savers', 'ad campaign', 'subway jalapeño 250', 'cold cereal', 'new jersey', 'butterfinger', 'jason keller', 'adolphus green', 'illinois', 'mexico', 'popcorn', 'cheese nips', 'nilla', 'mallomars', 'pilot bread', 'john andretti', 'philip morris companies inc.', 'cheddar cheese', 'food processing', 'f. a. kennedy steam bakery', 'f. ross johnson', 'barbarians at the gate: the fall of rjr nabisco', 'proof of purchase', 'kohlberg kravis roberts', 'dubuque', 'iowa', 'logo', 'william mellis christie', 'post cereals', 'post holdings', 'lunch room', 'television advertisement', 'k-ration', 'chips ahoy!', 'fig newtons', 'the new york times', 'news stands', 'johnstown flood', 'subsidiary', 'nutter butter', 'cardboard (paper product)', 'lorna doone (cookie)', 'rice thins', 'premium plus', 'home insurance building', 'soda fountain', 'leveraged buyout', 'animal cracker', 'planters', 'kedzie avenue', 'wax paper', 'daytona international speedway', 'snack', 'standard brands', 'food and drug administration (united states)', '\"farleys & sathers candy company\"', 'cracker (food)', 'shredded wheat', 'wafer', 'cereal', 'drive4copd 300', 'bolivia', 'british english', 'chicago', 'g. h. bent company', 'dale earnhardt jr.', 'wheat thins', 'bakery', 'cookie', 'william beanes', 'andrew jackson', 'joshua barney', 'james madison', 'mary pickersgill', '\"hms surprise (1812)\"', 'fort mchenry', 'american farmer', 'william youatt', 'chesapeake bay', 'timothy pickering', 'gilbert du motier', 'marquis de lafayette', 'lawyer', 'united states patent and trademark office', 'baltimore', 'maryland', 'publisher', 'hms tonnant (1798)', 'thomas jefferson', 'robert ross (british army officer)', '[robert ross being a general in the british army would not have \"had\" a ship.  the \\\\\\\\tonnant\\\\\\\\ was the flagship of the british admiral in command', 'sir alexander cochrane', 'francis scott key', 'carroll county', 'maryland', 'editing', 'the star spangled banner', 'agricultural museum (periodical)', 'theodorick bland (judge)', 'american turf register and sporting magazine', 'the star-spangled banner', 'battle of baltimore', 'united states national library of medicine', 'food additives', 'metabolite', 'dietary element', 'oxygen', 'amino acid', 'hydrogen', 'canadian broadcasting corporation', 'chemical element', 'dietary mineral', 'dietary supplements', 'risk–benefit analysis', 'nutrition labeling and education act of 1990', 'target corporation', 'dietary supplements (database)', 'antioxidants', 'plant-based diet', 'pharmaceutical drugs', 'institute of medicine', 'amine', 'bodybuilding', 'consumer reports', 'medicinal plant', 'athletics (u.s.)', 'bodybuilding supplement', 'natural standard', 'united kingdom', 'new york attorney general', 'essential nutrient', 'fraud', 'nutritional genomics', 'extract', 'superfood', 'united states national agricultural library', 'vitamin deficiencies', 'food additive', 'organic compound', 'haarlemmerolie', 'health claim', 'spices', 'glutamine', 'testosterone', 'european court of justice', 'carboxylic acid', 'oral administration', 'acid', 'u.s. food and drug administration', 'food and drug administration', 'healthy eating', 'organism', 'packaging and labeling', 'organic chemistry', 'preservatives', 'nutraceutical', 'concentrate', 'substituent', 'alliance for natural health', 'vitamins', 'consumerlab.com', 'health', 'public health', 'functional group', 'united states', 'weight loss', 'nitrogen', 'nutrient', 'herbalism', 'nordic countries', 'preventive healthcare', 'walmart', 'national center for complementary and integrative health', 'national institutes of health', 'examine.com', 'university of helsinki', 'walgreens', 'dna barcoding', 'megavitamin therapy', 'cbc news', 'biology', 'united states congress', 'neural tube defects', 'vitamin', 'multivitamin', 'health claims', 'dietary fiber', 'federal food', 'drug', 'and cosmetic act', 'western pattern diet', 'new york times', 'branched-chain amino acids', 'fatty acid', 'food fortification', 'the times online', 'abim foundation', 'biosynthesis', 'creatine', 'biosynthesis', 'essential fatty acids', 'ingredient', 'randomized clinical trials', 'dietary supplement health and education act of 1994', 'choosing wisely', 'ascorbic acid', 'marina heinonen', 'carbon', 'food', 'european union', 'gnc (store)', 'folic acid', 'foraging', 'country gravy', 'cook (profession)', 'samuel pepys', 'huntley & palmer', 'american english', 'sorghum syrup', 'dictionary', 'scotland', 'oxford university press', 'molasses', 'buttermilk', 'baking', 'beaten biscuit', 'spice trade', 'jam', 'english-speaking canada', 'hobnobs', 'cyclopaedia', 'or an universal dictionary of arts and sciences', 'biscotto', 'republic of ireland', 'ginger biscuit', 'queen victoria', 'united kingdom', 'cream cracker', 'rusk', 'cracker (food)', 'breakfast sandwich', 'elizabeth david', 'cooking', 'dunking (biscuit)', 'gosport', 'cream', 'dog biscuit', 'merriam-webster', 'bourbon biscuit', 'the maritimes', 'canned food', 'crusades', 'pithiviers', 'rye', 'armenians', 'barley', 'mediaeval', 'isle of man', 'american and british english differences', 'bean', 'biscuit rose de reims', 'member states of the commonwealth of nations', 'scone', 'sponge cake', 'ancient rome', 'denmark', 'rich tea', 'canada', 'biscuit tin', 'hiberno-english', 'jelly (fruit preserves)', 'nun', 'quick bread', 'rich tea', 'umami', 'vadstena monastery', 'jammie dodgers', 'ground biscuit', 'egypt', 'flour', 'butter', 'millet', 'brine', 'oxford companion to food', 'digestive biscuit', 'chocolate digestive', 'nabisco', 'yeast', 'dutch language', 'snack food', 'oatcake', 'william mellis christie', '\"carrs\"', 'guernsey', 'baking soda', 'gingerbread', 'bondaroy', 'oxford english dictionary', 'british culture', 'honey', 'third crusade', 'europe', 'middle ages', 'spanish armada', 'ginger nuts', 'william shakespeare', 'nicopolis', 'penguin books', '\"mcvities\"', 'latin language', 'scone (bread)', 'persian empire', 'crisp bread', 'chocolate digestive', 'ginger biscuits', 'chocolate', 'united biscuits', 'north american english', 'middle english', 'old french', 'sandwich', 'biscuit (bread)', 'custard cream', 'al-andalus', 'biscuits and gravy', 'apicius', 'digestion', 'bread', 'english in the commonwealth of nations', 'icing (food)', 'sourdough starter', 'sodium bicarbonate', 'baking', 'leavening agent', 'baking powder', '\"loves labours lost\"', 'lesser armenia', 'king richard i', 'hovis biscuit', 'hardtack', 'royal navy', 'craft guild', 'water biscuit', 'royal navy museum', 'poppy seed', 'digestive biscuit', 'cookie', 'hobnobs', 'snack', 'carnivore', 'avesta', 'aflatoxin b1', 'milk', 'pure food and drug act', 'puppy nutrition', 'dental health diets for dogs', 'food and drug administration (united states)', 'sugar', 'fillers', 'freshpet', 'leftovers', 'domestic dog', 'kidney failure', 'theobromine poisoning', 'gluten', 'tallow', 'animal digest', 'nutmeg', 'domestic cat', '\"spratts\"', 'chocolate', 'onion', 'disulfide', 'renal failure', 'pascalization', 'dog biscuit', 'plastic film', 'sulfoxide', 'meat inspection act', 'aafco', 'ken-l ration', 'salmonella', 'neurotoxic', 'dog biscuit', 'raisin', 'pasteurization', 'poison', 'melamine', 'nature (journal)', 'pork rind', 'animal by-products', 'thiosulfate', 'steel can', 'product recall', 'government regulation', '\"peoples republic of china\"', 'menu foods', 'grape', 'paper bag', 'generally recognized as safe', 'food and drug administration', 'virgil', 'aluminum can', 'mycotoxin', 'dog', 'offal', 'animal by-products', 'canada', 'food drying', 'meat and bone meal', 'united states department of agriculture', 'garlic', 'macadamia nut', 'lamb meal', 'columella', 'bovine spongiform encephalopathy', 'association of american feed control officials', 'wal-mart', 'new york city', '\"cows milk\"', 'nabisco', 'san francisco', 'california', 'california', 'new york (state)', 'the j.m. smucker company', 'del monte foods', 'lower east side', 'manhattan', 'kraft foods', 'del monte pacific limited', 'big heart pet brands', 'akron beacon journal', 'buffalo', 'new york', 'the tomboy', 'cheers', 'george wendt', 'wgrz', 'dog biscuit', 'business wire', 'cynarctoides', 'ungulates', 'african golden wolf', 'deserts', 'arboreal locomotion', 'auditory bulla', 'breeding pair', 'baculum', 'paracynarctus', 'hesperocyoninae', 'vulpes lagopus', 'isthmus of panama', 'caniformia', 'canine tooth', 'canis aureus', 'cynarctina', 'speothos', 'carpocyon', 'dentition', 'systematics', 'canis rufus floridanus', 'urocyon cinereoargenteus', 'mya (unit)', 'pleistocene', 'molars', 'corsac fox', 'cenozoic', 'cranium', 'red fox', 'phlaocyon achoros', 'social animals', 'eucyon', 'archaeocyon', 'cynarctoides lemur', 'carnivoramorpha', 'subfamily', 'fennec fox', 'tephrocyon', 'cynotherium', 'vulpes corsac', 'feliformia', 'borophagus hilli', 'south america', 'canis', 'raccoon dog', 'johann fischer von waldheim', 'trigonid', 'eocene', 'culpeo', 'protomarctus', 'hypercarnivorous', 'talonid', 'antarctica', 'raised-leg urination', 'crab-eating fox', 'estrous cycle', 'aelurodontina', 'mandible', '\"ruppells fox\"', 'cerdocyon avius', 'lycalopex sechurae', 'borophaginae', 'south american gray fox', 'vulpes vulpes', 'red fox', 'culpeo', 'canis ambrusteri', 'digitigrade', 'dentition', 'maned wolf', 'lycalopex griseus', 'monophyly', 'protocyon', 'enhydrocyon basilatus', 'mesocyon', 'cuon', 'natural history museum of los angeles county', 'red wolf', 'jackal', 'golden jackal', 'carnivores', 'phlaocyon', 'mountains', 'eastern wolf', 'aelurodon', 'leptocyon', 'bengal fox', 'holocene', 'theriodictis', 'cormocyon', 'borophagus littoralis', 'fennec fox', 'falkland island wolf', 'richard h. tedford', 'canis apolloniensis', 'short-eared dog', 'urocyon littoralis', 'gray wolf', 'ethiopian wolf', 'sagittal crest', 'urocyon', 'lycaon pictus', 'black-backed jackal', 'fox', 'molar (tooth)', 'speothos pacivorus', 'lycalopex', 'otocyon megalotis', 'philotrox', 'raccoon dog', 'dire wolf', 'extinction', 'swift fox', 'corsac fox', 'paratomarctus', 'coyote', 'otarocyon', 'hunter-gatherers', 'carnivora', 'canis ferox', 'pale fox', 'lycaon (genus)', 'feliforms', 'canis rufus', 'hypercarnivore', 'canis dirus', 'dingo', 'dog breed', 'zygomatic arch', 'vulpes macrotis', 'premolars', 'vulpes cana', 'metatomarctus', 'cape fox', 'vulpes', 'domesticated silver fox', 'incisors', 'genetic divergence', 'kit fox', 'hybrid zone', 'canis edwardii', 'canis falconeri', 'cynarctoides gawnae', 'photoperiod', 'endangered species', 'golden jackal', 'plos genetics', 'dhole', 'caninae', 'lycalopex fulvipes', 'prohesperocyon wilsoni', 'oestradiol', 'borophagus parvus', 'origin of the domestic dog', 'phlaocyonini', 'canis etruscus', 'family (biology)', 'xiaoming wang', 'lycalopex culpaeus', 'short-eared dog', 'nuchal ligament', 'coyote attacks on humans', 'pliocene', 'miacoid', 'false pregnancy', 'dog', 'dingo', 'paleocene', 'island fox', 'bone marrow', 'borophagus secundus', 'rancholabrean', 'gray wolf', 'sunkahetanka', 'vulpes zerda', 'canis anthus', 'cynarctoides harlowi', 'borophagini', 'side-striped jackal', 'allozyme', 'black-backed jackal', 'crab-eating fox', '\"blanfords fox\"', 'cynarctus', 'morphology (biology)', 'gestation', 'subspecies of canis lupus', 'domestic dog', 'cladistics', 'borophagus orc', 'osbornodon iamonensis', 'maned wolf', 'phlaocyon annectens', 'xenocyon', 'copulatory tie', 'extinction', 'canis adustus', 'atelocynus microtis', 'sambar (deer)', 'microtomarctus', 'arctic fox', '\"rüppells fox\"', 'canis cedazoensis', 'gray fox', 'tooth', 'evolutionary radiation', 'cuon alpinus', 'north america', 'annum', 'borophagina', 'glossary of mammalian dental topography', 'canis lepophagus', 'clade', 'carnassials', 'grassland', 'african wild dog', 'canis arnensis', 'red wolf', 'carnivoran', 'coyote', 'canis familiaris', 'canis mesomelas', 'canids', 'rhinarium', 'anal gland', 'late miocene', 'borophagus dudleyi', 'lycalopex vetulus', 'bulbus glandis', 'oligocene', 'nyctereutes donnezani', 'cerdocyon thous', 'civet', 'enhydrocyon', '\"copes rule\"', 'nurocyon', 'cynarctoides acridens', 'paraenhydrocyon josephi', 'lycalopex gymnocercus', 'lambdoidal', 'basal (phylogenetics)', 'placental', 'cerdocyon', 'mastication', 'bush dog', 'gray fox', 'canis nehringi', 'hesperocyon', 'bat-eared fox', 'pack (canine)', 'xenocyon lycaonoides', 'dewclaw', 'hoary fox', 'phlaocyon mariae', 'omnivore', 'scent marking', 'canis latrans', 'canis armbrusteri', 'oxetocyon', 'cynarctoides roii', 'phlaocyon latidens', 'eulopocyon', 'prohesperocyon', 'monophyletic', 'great american interchange', 'monogamy', 'nyctereutes procyonoides', 'cynarctoides emryi', 'chrysocyon brachyurus', 'pampas fox', 'tibetan sand fox', 'pampas fox', 'borophagus diversidens', 'alloparenting', 'side-striped jackal', 'bicuspid', 'hoary fox', 'bat-eared fox', 'desmocyon', 'sechura fox', 'beringia', 'caniforms', 'rhizocyon', 'vulpes ferrilata', 'wolves mating', 'chromosome', '\"darwins fox\"', 'tomarctus', 'canids', 'otocyon', 'forests', 'conspecific', 'cynodesmus', 'carnassial', 'south american fox', 'caedocyon', 'bandipur national park', 'protepicyon', 'psalidocyon', 'borophagus pugnator', 'extant taxon', 'agriculturists', 'canine penis', 'vulpes chama', 'cynarctoides luskensis', 'chrysocyon', 'phylogenetics', 'canis simensis', 'paraenhydrocyon', 'canis variabilis', 'epicyon', 'sechuran fox', 'bush dog', 'newton (unit)', 'borophagus', 'monotypic taxon', 'ectopocynus', 'bulletin of the american museum of natural history', 'vulpes riffautae', 'dna', 'progesterone', 'kit fox', 'vulpes rueppellii', 'nyctereutes', 'island fox', 'gene flow', 'dhole', 'sardinian dhole', 'cozumel fox', 'osbornodon', 'canis lupus', 'speothos venaticus', 'rice bran oil', 'pericarp', 'wheat', 'hops', 'phytic acid', 'water', 'fat', 'dietary fiber', 'moldova', 'dietary mineral', '\"gardeners world\"', 'phytic acid', 'millet', 'small beer', 'japan', 'tocotrienol', 'cereal germ', 'maize', 'beta-glucan', 'cooking oil', 'protein', 'whole grain', 'chaff', 'essential fatty acids', 'starch', 'oat', 'byproduct', 'bamboo shoot', 'nutrition', 'borș (bran)', 'molasses', 'alkylresorcinols', 'arsenic', 'bread', 'george washington', 'rye', 'refined grains', 'unsaponifiable', 'ferulic acid', 'nukazuke', 'rice bran solubles', 'kitakyushu', 'fukuoka', 'barley', 'cereal', 'dish washing', 'rancidification', 'antioxidant', 'white rice', 'muffin', 'pickling', 'antinutrient', 'plant cell', 'tsukemono', 'mealworms', 'romania', 'vitamin', 'waxworms', 'breakfast cereal', 'aleurone', 'rice', 'sardine', 'brown rice', 'vitamin e', 'pectin', 'chaff', 'cereal germ', 'beta-sitosterol', 'boiling', 'histeridae', 'poet', 'book frontispiece', 'judaism', '\"[http://www.thelatinlibrary.com/juvenal.html latin text of the satires of juvenal at the latin library\"', 's:juvenal satires', 'imperial cult (ancient rome)', 'quintilian', 'the vanity of human wishes', 'satires of juvenal', 'ancient rome', 'mens sana in corpore sano', 'satires (juvenal)', 'roman empire', 'wiktionary:rara avis', 'roman republic', 'julio-claudian dynasty', 'amy richlin', 'nerva', 'anno domini', 'niall rudd', 'domitian', 'aquinum', 'martial', 'john dryden', 'black swan theory', 'scroll', 'duovir', 'mens sana in corpore sano', 'petronius', 'persius', 'peter green (historian)', 'gaius lucilius', 'horace', 'roman empire', 'suetonius', 'dr johnson', 'quis custodiet ipsos custodes', 'junia (gens)', 'bread and circuses', 'poet', 'cicero', 'dactylic hexameter', 'hadrian', 'freedman', 'family patrimony', 'london (samuel johnson poem)', 'hipponax', 'statius', 'vespasian', 'catullus', 'aulus persius flaccus', 'latin', 'scriptorium', 'ceres (roman mythology)', 'satire', 'trajan', 'deucalion', 'niall_rudd', 'terminus post quem', ':template:infobox writer/doc', 'gilbert highet', 'tacitus']\n"
     ]
    }
   ],
   "source": [
    "test_2d_links = list_from_string(link_df.loc[test_ind, 'dist1_titles']) + list_from_string(link_df.loc[test_ind, 'dist2_titles'])\n",
    "print(test_2d_links)"
   ]
  },
  {
   "cell_type": "code",
   "execution_count": 9,
   "metadata": {},
   "outputs": [
    {
     "name": "stdout",
     "output_type": "stream",
     "text": [
      "['dog food', 'dog meat', 'dog daycare', 'cat meat', 'dog']\n"
     ]
    }
   ],
   "source": [
    "test_lsi_recs = list_from_string(lsi_df.loc[test_ind, 'other titles'])\n",
    "print(test_lsi_recs)"
   ]
  },
  {
   "cell_type": "code",
   "execution_count": 10,
   "metadata": {},
   "outputs": [
    {
     "name": "stdout",
     "output_type": "stream",
     "text": [
      "['kitten', 'lychee and dog meat festival', 'cropping (animal)', 'dog food', 'cat meat']\n"
     ]
    }
   ],
   "source": [
    "test_lda_recs = list_from_string(lda_df.loc[test_ind, 'other titles'])\n",
    "print(test_lda_recs)"
   ]
  },
  {
   "cell_type": "code",
   "execution_count": 11,
   "metadata": {},
   "outputs": [
    {
     "name": "stdout",
     "output_type": "stream",
     "text": [
      "113\n"
     ]
    },
    {
     "data": {
      "text/plain": [
       "['kennel',\n",
       " 'cynology',\n",
       " 'pack (canine)',\n",
       " 'rare breed (dog)',\n",
       " 'dogs in ancient china',\n",
       " 'dog biscuit',\n",
       " 'breed type (dog)',\n",
       " 'canid hybrid',\n",
       " 'canine physical therapy',\n",
       " 'dogs in mesoamerica']"
      ]
     },
     "execution_count": 11,
     "metadata": {},
     "output_type": "execute_result"
    }
   ],
   "source": [
    "all_titles = lda_df.title.values\n",
    "all_titles = [x.lower() for x in all_titles]\n",
    "print(len(all_titles))\n",
    "all_titles[:10]"
   ]
  },
  {
   "cell_type": "code",
   "execution_count": 12,
   "metadata": {},
   "outputs": [
    {
     "data": {
      "text/plain": [
       "['dog', 'dog food']"
      ]
     },
     "execution_count": 12,
     "metadata": {},
     "output_type": "execute_result"
    }
   ],
   "source": [
    "list(set.intersection(set(test_links), set(test_lsi_recs)))"
   ]
  },
  {
   "cell_type": "code",
   "execution_count": 13,
   "metadata": {},
   "outputs": [
    {
     "name": "stdout",
     "output_type": "stream",
     "text": [
      "Kennel\n",
      "   ['dog', 'cattery', 'cat']\n",
      "   ['pet fed india', 'dog food', 'cropping (animal)', 'kitten', 'lychee and dog meat festival']\n",
      "   ['cattery', 'indian national kennel club', 'breed type (dog)', 'dog world (newspaper)', 'lists of dogs']\n",
      "Cynology\n",
      "   ['dog']\n",
      "   ['dog parker', 'big miracle (book)', 'indian national kennel club', 'walter the farting dog', 'dogs in the american revolutionary war']\n",
      "   ['dog', 'breed type (dog)', 'dog world (newspaper)', 'cat training', 'dog bite']\n",
      "Pack (canine)\n",
      "   []\n",
      "   ['dog', 'service dog', 'cat senses', 'dogs in religion', 'cynophobia']\n",
      "   ['canid hybrid', 'dog', 'origin of the domestic dog', 'canine reproduction', 'dog bite']\n",
      "Rare breed (dog)\n",
      "   ['dog']\n",
      "   ['']\n",
      "   ['breed type (dog)', 'lists of dogs', 'dog', 'dog bite', 'origin of the domestic dog']\n",
      "Dogs in ancient China\n",
      "   ['dog meat']\n",
      "   ['becerrillo', 'puppy', 'body language of dogs', 'dogs in religion', 'tail wagging by dogs']\n",
      "   ['dog', 'dogs in mesoamerica', 'origin of the domestic dog', 'dog meat', 'dogs in religion']\n"
     ]
    }
   ],
   "source": [
    "for wiki_id in lda_df.index[:5]:\n",
    "    links = list_from_string(link_df.loc[wiki_id, 'dist1_titles'])\n",
    "    possible_links = list(set.intersection(set(links), set(all_titles)))\n",
    "    lda_recs = list_from_string(lda_df.loc[wiki_id, 'other titles'])\n",
    "    lsi_recs = list_from_string(lsi_df.loc[wiki_id, 'other titles'])\n",
    "    print(link_df.loc[wiki_id, 'title'])\n",
    "    print('  ', possible_links)\n",
    "    print('  ', lda_recs)\n",
    "    print('  ', lsi_recs)"
   ]
  },
  {
   "cell_type": "code",
   "execution_count": 14,
   "metadata": {
    "collapsed": true
   },
   "outputs": [],
   "source": [
    "def get_percent_overlap(num, denom):\n",
    "    try:\n",
    "        if denom < 5:\n",
    "            return num / float(denom)\n",
    "        else:\n",
    "            return num / 5.\n",
    "    except:\n",
    "        return np.nan\n",
    "\n",
    "def get_n_overlap_of_results_and_links(wiki_id):\n",
    "    # Get list of all links of distance=1, >=2 that are also in database\n",
    "    d1_links = list_from_string(link_df.loc[wiki_id, 'dist1_titles'])\n",
    "    d2_links = list_from_string(link_df.loc[wiki_id, 'dist2_titles'])\n",
    "    d2_links.extend(d1_links)\n",
    "    d1_links = list(set.intersection(set(d1_links), set(all_titles)))\n",
    "    d2_links = list(set.intersection(set(d2_links), set(all_titles)))\n",
    "    # Get recommendations from each model\n",
    "    lda_recs = list_from_string(lda_df.loc[wiki_id, 'other titles'])    \n",
    "    lsi_recs = list_from_string(lsi_df.loc[wiki_id, 'other titles'])\n",
    "    # Find overlap between links and recommendations\n",
    "    d1_lda_overlap = list(set.intersection(set(d1_links), set(lda_recs)))\n",
    "    d2_lda_overlap = list(set.intersection(set(d2_links), set(lda_recs)))\n",
    "    d1_lsi_overlap = list(set.intersection(set(d1_links), set(lsi_recs)))\n",
    "    d2_lsi_overlap = list(set.intersection(set(d2_links), set(lsi_recs)))\n",
    "    # Quantify\n",
    "    out_dict = {}\n",
    "    out_dict['d1'] = len(d1_links)\n",
    "    out_dict['d2'] = len(d1_links) + len(d2_links)\n",
    "    out_dict['d1_lda_overlap'] = len(d1_lda_overlap)\n",
    "    out_dict['d2_lda_overlap'] = len(d2_lda_overlap)\n",
    "    out_dict['d1_lsi_overlap'] = len(d1_lsi_overlap)\n",
    "    out_dict['d2_lsi_overlap'] = len(d2_lsi_overlap)\n",
    "    return out_dict\n",
    "\n",
    "def get_percent_overlap_of_results_and_links(wiki_id):\n",
    "    in_dict = get_n_overlap_of_results_and_links(wiki_id)\n",
    "    out_dict = {}\n",
    "    out_dict['d1_lda_pct_overlap'] = get_percent_overlap(in_dict['d1_lda_overlap'], \\\n",
    "                                                         in_dict['d1'])\n",
    "    out_dict['d2_lda_pct_overlap'] = get_percent_overlap(in_dict['d2_lda_overlap'], \\\n",
    "                                                         in_dict['d2'])\n",
    "    out_dict['d1_lsi_pct_overlap'] = get_percent_overlap(in_dict['d1_lsi_overlap'], \\\n",
    "                                                         in_dict['d1'])\n",
    "    out_dict['d2_lsi_pct_overlap'] = get_percent_overlap(in_dict['d2_lsi_overlap'], \\\n",
    "                                                         in_dict['d2'])\n",
    "    return out_dict"
   ]
  },
  {
   "cell_type": "code",
   "execution_count": 15,
   "metadata": {
    "collapsed": true
   },
   "outputs": [],
   "source": [
    "test_pct_dict = get_percent_overlap_of_results_and_links(test_ind)"
   ]
  },
  {
   "cell_type": "code",
   "execution_count": 16,
   "metadata": {
    "collapsed": true
   },
   "outputs": [],
   "source": [
    "test_n_dict = get_n_overlap_of_results_and_links(test_ind)"
   ]
  },
  {
   "cell_type": "code",
   "execution_count": 17,
   "metadata": {},
   "outputs": [
    {
     "data": {
      "text/html": [
       "<div>\n",
       "<style>\n",
       "    .dataframe thead tr:only-child th {\n",
       "        text-align: right;\n",
       "    }\n",
       "\n",
       "    .dataframe thead th {\n",
       "        text-align: left;\n",
       "    }\n",
       "\n",
       "    .dataframe tbody tr th {\n",
       "        vertical-align: top;\n",
       "    }\n",
       "</style>\n",
       "<table border=\"1\" class=\"dataframe\">\n",
       "  <thead>\n",
       "    <tr style=\"text-align: right;\">\n",
       "      <th></th>\n",
       "      <th>d1</th>\n",
       "      <th>d2</th>\n",
       "      <th>d1_lda_overlap</th>\n",
       "      <th>d1_lsi_overlap</th>\n",
       "      <th>d2_lda_overlap</th>\n",
       "      <th>d2_lsi_overlap</th>\n",
       "    </tr>\n",
       "  </thead>\n",
       "  <tbody>\n",
       "    <tr>\n",
       "      <th>1467938</th>\n",
       "      <td>3</td>\n",
       "      <td>16</td>\n",
       "      <td>0</td>\n",
       "      <td>1</td>\n",
       "      <td>1</td>\n",
       "      <td>1</td>\n",
       "    </tr>\n",
       "    <tr>\n",
       "      <th>275388</th>\n",
       "      <td>1</td>\n",
       "      <td>10</td>\n",
       "      <td>0</td>\n",
       "      <td>1</td>\n",
       "      <td>0</td>\n",
       "      <td>1</td>\n",
       "    </tr>\n",
       "    <tr>\n",
       "      <th>2352562</th>\n",
       "      <td>0</td>\n",
       "      <td>9</td>\n",
       "      <td>0</td>\n",
       "      <td>0</td>\n",
       "      <td>2</td>\n",
       "      <td>2</td>\n",
       "    </tr>\n",
       "    <tr>\n",
       "      <th>17021807</th>\n",
       "      <td>1</td>\n",
       "      <td>11</td>\n",
       "      <td>0</td>\n",
       "      <td>1</td>\n",
       "      <td>0</td>\n",
       "      <td>3</td>\n",
       "    </tr>\n",
       "    <tr>\n",
       "      <th>20777185</th>\n",
       "      <td>1</td>\n",
       "      <td>9</td>\n",
       "      <td>0</td>\n",
       "      <td>1</td>\n",
       "      <td>0</td>\n",
       "      <td>3</td>\n",
       "    </tr>\n",
       "  </tbody>\n",
       "</table>\n",
       "</div>"
      ],
      "text/plain": [
       "         d1  d2 d1_lda_overlap d1_lsi_overlap d2_lda_overlap d2_lsi_overlap\n",
       "1467938   3  16              0              1              1              1\n",
       "275388    1  10              0              1              0              1\n",
       "2352562   0   9              0              0              2              2\n",
       "17021807  1  11              0              1              0              3\n",
       "20777185  1   9              0              1              0              3"
      ]
     },
     "execution_count": 17,
     "metadata": {},
     "output_type": "execute_result"
    }
   ],
   "source": [
    "results_n_df = pd.DataFrame(index=lsi_df.index, columns=['d1', 'd2', 'd1_lda_overlap', 'd1_lsi_overlap',\\\n",
    "                                                   'd2_lda_overlap', 'd2_lsi_overlap'])\n",
    "for wiki_id in lda_df.index:\n",
    "    results_dict = get_n_overlap_of_results_and_links(wiki_id)\n",
    "    for key in results_dict.keys():\n",
    "        results_n_df.loc[wiki_id, key] = results_dict[key]\n",
    "\n",
    "results_n_df.head()"
   ]
  },
  {
   "cell_type": "code",
   "execution_count": 18,
   "metadata": {},
   "outputs": [
    {
     "data": {
      "image/png": "[encoded data removed]",
      "text/plain": [
       "<matplotlib.figure.Figure at 0x10fd57438>"
      ]
     },
     "metadata": {},
     "output_type": "display_data"
    }
   ],
   "source": [
    "plt.hist(results_n_df['d1_lda_overlap'].dropna(), bins=[0,1,2,3,4,5], color='b', alpha=0.5, label='LDA');\n",
    "plt.hist(results_n_df['d1_lsi_overlap'].dropna(), bins=[0,1,2,3,4,5], color='g', alpha=0.5, label='LSI');\n",
    "plt.xlabel('# Recommendations 1-internal link from article', fontsize=14)\n",
    "plt.ylabel('# Articles', fontsize=14)\n",
    "plt.ylim(0,100)\n",
    "plt.legend(fontsize=14)\n",
    "plt.tight_layout\n",
    "plt.savefig('../figures/number_recs_1-link_from_title.png', transparent=True)"
   ]
  },
  {
   "cell_type": "code",
   "execution_count": 19,
   "metadata": {},
   "outputs": [
    {
     "data": {
      "image/png": "[encoded data removed]",
      "text/plain": [
       "<matplotlib.figure.Figure at 0x10fdb1978>"
      ]
     },
     "metadata": {},
     "output_type": "display_data"
    }
   ],
   "source": [
    "plt.hist(results_n_df['d2_lda_overlap'].dropna(), bins=[0,1,2,3,4,5], color='b', alpha=0.5, label='LDA');\n",
    "plt.hist(results_n_df['d2_lsi_overlap'].dropna(), bins=[0,1,2,3,4,5], color='g', alpha=0.5, label='LSI');\n",
    "plt.xlabel('# Recommendations at least 2-internal links from article', fontsize=14)\n",
    "plt.ylabel('# Articles', fontsize=14)\n",
    "plt.ylim(0,100)\n",
    "plt.legend(fontsize=14)\n",
    "plt.tight_layout\n",
    "plt.savefig('../figures/number_recs_2-links_from_title.png', transparent=True)"
   ]
  },
  {
   "cell_type": "code",
   "execution_count": 20,
   "metadata": {},
   "outputs": [
    {
     "data": {
      "text/html": [
       "<div>\n",
       "<style>\n",
       "    .dataframe thead tr:only-child th {\n",
       "        text-align: right;\n",
       "    }\n",
       "\n",
       "    .dataframe thead th {\n",
       "        text-align: left;\n",
       "    }\n",
       "\n",
       "    .dataframe tbody tr th {\n",
       "        vertical-align: top;\n",
       "    }\n",
       "</style>\n",
       "<table border=\"1\" class=\"dataframe\">\n",
       "  <thead>\n",
       "    <tr style=\"text-align: right;\">\n",
       "      <th></th>\n",
       "      <th>d1_lda_pct_overlap</th>\n",
       "      <th>d1_lsi_pct_overlap</th>\n",
       "      <th>d2_lda_pct_overlap</th>\n",
       "      <th>d2_lsi_pct_overlap</th>\n",
       "    </tr>\n",
       "  </thead>\n",
       "  <tbody>\n",
       "    <tr>\n",
       "      <th>1467938</th>\n",
       "      <td>0</td>\n",
       "      <td>0.333333</td>\n",
       "      <td>0.2</td>\n",
       "      <td>0.2</td>\n",
       "    </tr>\n",
       "    <tr>\n",
       "      <th>275388</th>\n",
       "      <td>0</td>\n",
       "      <td>1</td>\n",
       "      <td>0</td>\n",
       "      <td>0.2</td>\n",
       "    </tr>\n",
       "    <tr>\n",
       "      <th>2352562</th>\n",
       "      <td>NaN</td>\n",
       "      <td>NaN</td>\n",
       "      <td>0.4</td>\n",
       "      <td>0.4</td>\n",
       "    </tr>\n",
       "    <tr>\n",
       "      <th>17021807</th>\n",
       "      <td>0</td>\n",
       "      <td>1</td>\n",
       "      <td>0</td>\n",
       "      <td>0.6</td>\n",
       "    </tr>\n",
       "    <tr>\n",
       "      <th>20777185</th>\n",
       "      <td>0</td>\n",
       "      <td>1</td>\n",
       "      <td>0</td>\n",
       "      <td>0.6</td>\n",
       "    </tr>\n",
       "    <tr>\n",
       "      <th>4020758</th>\n",
       "      <td>0.5</td>\n",
       "      <td>1</td>\n",
       "      <td>0.2</td>\n",
       "      <td>0.4</td>\n",
       "    </tr>\n",
       "    <tr>\n",
       "      <th>17430047</th>\n",
       "      <td>0</td>\n",
       "      <td>0.5</td>\n",
       "      <td>0.2</td>\n",
       "      <td>0.2</td>\n",
       "    </tr>\n",
       "    <tr>\n",
       "      <th>2676271</th>\n",
       "      <td>0</td>\n",
       "      <td>1</td>\n",
       "      <td>0.2</td>\n",
       "      <td>0.6</td>\n",
       "    </tr>\n",
       "    <tr>\n",
       "      <th>22044074</th>\n",
       "      <td>NaN</td>\n",
       "      <td>NaN</td>\n",
       "      <td>0</td>\n",
       "      <td>0.5</td>\n",
       "    </tr>\n",
       "    <tr>\n",
       "      <th>19282291</th>\n",
       "      <td>0</td>\n",
       "      <td>1</td>\n",
       "      <td>0</td>\n",
       "      <td>0.2</td>\n",
       "    </tr>\n",
       "    <tr>\n",
       "      <th>23416702</th>\n",
       "      <td>1</td>\n",
       "      <td>1</td>\n",
       "      <td>0.4</td>\n",
       "      <td>0.8</td>\n",
       "    </tr>\n",
       "    <tr>\n",
       "      <th>5740890</th>\n",
       "      <td>0</td>\n",
       "      <td>0</td>\n",
       "      <td>0.4</td>\n",
       "      <td>0.8</td>\n",
       "    </tr>\n",
       "    <tr>\n",
       "      <th>31752133</th>\n",
       "      <td>0</td>\n",
       "      <td>1</td>\n",
       "      <td>0</td>\n",
       "      <td>0.2</td>\n",
       "    </tr>\n",
       "    <tr>\n",
       "      <th>33069847</th>\n",
       "      <td>NaN</td>\n",
       "      <td>NaN</td>\n",
       "      <td>0</td>\n",
       "      <td>0.6</td>\n",
       "    </tr>\n",
       "    <tr>\n",
       "      <th>32912733</th>\n",
       "      <td>NaN</td>\n",
       "      <td>NaN</td>\n",
       "      <td>0</td>\n",
       "      <td>1</td>\n",
       "    </tr>\n",
       "    <tr>\n",
       "      <th>24243398</th>\n",
       "      <td>0</td>\n",
       "      <td>0</td>\n",
       "      <td>0</td>\n",
       "      <td>0.2</td>\n",
       "    </tr>\n",
       "    <tr>\n",
       "      <th>17862013</th>\n",
       "      <td>0</td>\n",
       "      <td>0.5</td>\n",
       "      <td>0.2</td>\n",
       "      <td>0.8</td>\n",
       "    </tr>\n",
       "    <tr>\n",
       "      <th>34442389</th>\n",
       "      <td>NaN</td>\n",
       "      <td>NaN</td>\n",
       "      <td>0</td>\n",
       "      <td>0</td>\n",
       "    </tr>\n",
       "    <tr>\n",
       "      <th>178449</th>\n",
       "      <td>0</td>\n",
       "      <td>1</td>\n",
       "      <td>0</td>\n",
       "      <td>0.5</td>\n",
       "    </tr>\n",
       "    <tr>\n",
       "      <th>36477294</th>\n",
       "      <td>NaN</td>\n",
       "      <td>NaN</td>\n",
       "      <td>0</td>\n",
       "      <td>0</td>\n",
       "    </tr>\n",
       "  </tbody>\n",
       "</table>\n",
       "</div>"
      ],
      "text/plain": [
       "         d1_lda_pct_overlap d1_lsi_pct_overlap d2_lda_pct_overlap  \\\n",
       "1467938                   0           0.333333                0.2   \n",
       "275388                    0                  1                  0   \n",
       "2352562                 NaN                NaN                0.4   \n",
       "17021807                  0                  1                  0   \n",
       "20777185                  0                  1                  0   \n",
       "4020758                 0.5                  1                0.2   \n",
       "17430047                  0                0.5                0.2   \n",
       "2676271                   0                  1                0.2   \n",
       "22044074                NaN                NaN                  0   \n",
       "19282291                  0                  1                  0   \n",
       "23416702                  1                  1                0.4   \n",
       "5740890                   0                  0                0.4   \n",
       "31752133                  0                  1                  0   \n",
       "33069847                NaN                NaN                  0   \n",
       "32912733                NaN                NaN                  0   \n",
       "24243398                  0                  0                  0   \n",
       "17862013                  0                0.5                0.2   \n",
       "34442389                NaN                NaN                  0   \n",
       "178449                    0                  1                  0   \n",
       "36477294                NaN                NaN                  0   \n",
       "\n",
       "         d2_lsi_pct_overlap  \n",
       "1467938                 0.2  \n",
       "275388                  0.2  \n",
       "2352562                 0.4  \n",
       "17021807                0.6  \n",
       "20777185                0.6  \n",
       "4020758                 0.4  \n",
       "17430047                0.2  \n",
       "2676271                 0.6  \n",
       "22044074                0.5  \n",
       "19282291                0.2  \n",
       "23416702                0.8  \n",
       "5740890                 0.8  \n",
       "31752133                0.2  \n",
       "33069847                0.6  \n",
       "32912733                  1  \n",
       "24243398                0.2  \n",
       "17862013                0.8  \n",
       "34442389                  0  \n",
       "178449                  0.5  \n",
       "36477294                  0  "
      ]
     },
     "execution_count": 20,
     "metadata": {},
     "output_type": "execute_result"
    }
   ],
   "source": [
    "results_pct_df = pd.DataFrame(index=lsi_df.index, columns=['d1_lda_pct_overlap', 'd1_lsi_pct_overlap',\\\n",
    "                                                   'd2_lda_pct_overlap', 'd2_lsi_pct_overlap'])\n",
    "for wiki_id in lda_df.index:\n",
    "    results_dict = get_percent_overlap_of_results_and_links(wiki_id)\n",
    "    for key in results_dict.keys():\n",
    "        results_pct_df.loc[wiki_id, key] = results_dict[key]\n",
    "\n",
    "results_pct_df.head(20)"
   ]
  },
  {
   "cell_type": "code",
   "execution_count": 21,
   "metadata": {},
   "outputs": [
    {
     "data": {
      "image/png": "[encoded data removed]",
      "text/plain": [
       "<matplotlib.figure.Figure at 0x10fcd2550>"
      ]
     },
     "metadata": {},
     "output_type": "display_data"
    }
   ],
   "source": [
    "plt.hist(results_pct_df['d1_lda_pct_overlap'].dropna()*100, color='b', alpha=0.5, label='LDA');\n",
    "plt.hist(results_pct_df['d1_lsi_pct_overlap'].dropna()*100, color='g', alpha=0.5, label='LSI');\n",
    "plt.ylim(0,60)\n",
    "plt.xlabel('% Recommendations 1-internal link from article', fontsize=14)\n",
    "plt.ylabel('# Articles', fontsize=14)\n",
    "plt.legend(fontsize=14)\n",
    "plt.tight_layout\n",
    "plt.savefig('../figures/pct_recs_1-link_from_title.png', transparent=True)"
   ]
  },
  {
   "cell_type": "code",
   "execution_count": 22,
   "metadata": {},
   "outputs": [
    {
     "data": {
      "image/png": "[encoded data removed]",
      "text/plain": [
       "<matplotlib.figure.Figure at 0x11007f320>"
      ]
     },
     "metadata": {},
     "output_type": "display_data"
    }
   ],
   "source": [
    "plt.hist(results_pct_df['d2_lda_pct_overlap'].dropna()*100, \\\n",
    "         color='b', alpha=0.5, label='LDA');\n",
    "plt.hist(results_pct_df['d2_lsi_pct_overlap'].dropna()*100, \\\n",
    "         color='g', alpha=0.5, label='LSI');\n",
    "plt.ylim(0,60)\n",
    "plt.xlabel('% Recommendations at least 2-internal links from article', fontsize=14)\n",
    "plt.ylabel('# Articles', fontsize=14)\n",
    "plt.legend(fontsize=14)\n",
    "plt.tight_layout\n",
    "plt.savefig('../figures/pct_recs_2-links_from_title.png', transparent=True)"
   ]
  },
  {
   "cell_type": "code",
   "execution_count": 23,
   "metadata": {
    "collapsed": true
   },
   "outputs": [],
   "source": [
    "all_d1_links = []\n",
    "all_d2_links = []\n",
    "for wiki_id in lda_df.index:\n",
    "    all_d1_links.extend(list_from_string(link_df.loc[wiki_id, 'dist1_titles']))\n",
    "    all_d2_links.extend(list_from_string(link_df.loc[wiki_id, 'dist2_titles']))\n",
    "all_d1_links = list(set(all_d1_links))\n",
    "all_d2_links = list(set(all_d2_links))"
   ]
  },
  {
   "cell_type": "code",
   "execution_count": 24,
   "metadata": {},
   "outputs": [
    {
     "data": {
      "image/png": "[encoded data removed]",
      "text/plain": [
       "<matplotlib.figure.Figure at 0x1109a6748>"
      ]
     },
     "metadata": {},
     "output_type": "display_data"
    }
   ],
   "source": [
    "fig = plt.figure(figsize=(6,6))\n",
    "venn3([set(all_d1_links), set(all_d2_links), set(all_titles)],\\\n",
    "      ('Linked Articles\\n(Distance=1)', 'Linked Articles\\n(Distance<=2)', 'All Articles'));\n",
    "plt.savefig('../figures/venn_diagram_linked_articles.png', transparent=True)"
   ]
  },
  {
   "cell_type": "code",
   "execution_count": 25,
   "metadata": {
    "collapsed": true
   },
   "outputs": [],
   "source": [
    "all_d1_links = []\n",
    "all_d2_links = []\n",
    "for wiki_id in lda_df.index:\n",
    "    all_d1_links.extend(list_from_string(link_df.loc[wiki_id, 'dist1_titles']))\n",
    "    all_d2_links.extend(list_from_string(link_df.loc[wiki_id, 'dist2_titles']))\n",
    "all_d2_links.extend(all_d1_links)\n",
    "all_d1_links = list(set.intersection(set(all_d1_links), set(all_titles)))\n",
    "all_d2_links = list(set.intersection(set(all_d2_links), set(all_titles)))"
   ]
  },
  {
   "cell_type": "code",
   "execution_count": 26,
   "metadata": {
    "scrolled": true
   },
   "outputs": [
    {
     "data": {
      "image/png": "[encoded data removed]",
      "text/plain": [
       "<matplotlib.figure.Figure at 0x11012a860>"
      ]
     },
     "metadata": {},
     "output_type": "display_data"
    }
   ],
   "source": [
    "fig = plt.figure(figsize=(6,6))\n",
    "venn3([set(all_d1_links), set(all_d2_links), set(all_titles)],\\\n",
    "      ('Linked Articles\\n(Distance=1)', 'Linked Articles\\n(Distance<=2)', 'All Articles'));\n",
    "plt.savefig('../figures/subset_venn_diagram_linked_articles.png', transparent=True)"
   ]
  },
  {
   "cell_type": "code",
   "execution_count": 27,
   "metadata": {},
   "outputs": [
    {
     "data": {
      "image/png": "[encoded data removed]",
      "text/plain": [
       "<matplotlib.figure.Figure at 0x1103fc908>"
      ]
     },
     "metadata": {},
     "output_type": "display_data"
    }
   ],
   "source": [
    "fig = plt.figure(figsize=(6,6))\n",
    "venn3([set.intersection(set(test_links), set(all_titles)), set(test_lsi_recs), set(test_lda_recs)],\\\n",
    "      ('Linked Articles', 'LSI', 'LDA'));\n",
    "plt.title('Example: %s' % (link_df.loc[test_ind, 'title']), fontsize=14)\n",
    "plt.savefig('../figures/dog_biscuit_model_comparison.png', transparent=True)"
   ]
  },
  {
   "cell_type": "code",
   "execution_count": 28,
   "metadata": {},
   "outputs": [
    {
     "data": {
      "image/png": "[encoded data removed]",
      "text/plain": [
       "<matplotlib.figure.Figure at 0x1108110b8>"
      ]
     },
     "metadata": {},
     "output_type": "display_data"
    }
   ],
   "source": [
    "fig = plt.figure(figsize=(6,6))\n",
    "venn3([set(test_links), set(test_lsi_recs), set(test_lda_recs)],\\\n",
    "      ('Linked Articles', 'LSI', 'LDA'));\n",
    "plt.title('Example: %s' % (link_df.loc[test_ind, 'title']), fontsize=14)\n",
    "plt.savefig('../figures/dog_biscuit_model_comparison_all.png', transparent=True)"
   ]
  },
  {
   "cell_type": "code",
   "execution_count": 29,
   "metadata": {},
   "outputs": [
    {
     "data": {
      "image/png": "[encoded data removed]",
      "text/plain": [
       "<matplotlib.figure.Figure at 0x110a9f128>"
      ]
     },
     "metadata": {},
     "output_type": "display_data"
    }
   ],
   "source": [
    "fig = plt.figure(figsize=(6,6))\n",
    "venn3([set.intersection(set(test_links), set(all_titles)), set(test_lsi_recs), set(test_lda_recs)],\\\n",
    "      ('Linked Articles', 'LSI', 'LDA'));\n",
    "plt.title('Example: %s' % (link_df.loc[test_ind, 'title']), fontsize=14)\n",
    "plt.savefig('../figures/dog_biscuit_model_comparison_2linkdist.png', transparent=True)"
   ]
  },
  {
   "cell_type": "code",
   "execution_count": 30,
   "metadata": {},
   "outputs": [
    {
     "data": {
      "image/png": "[encoded data removed]",
      "text/plain": [
       "<matplotlib.figure.Figure at 0x110a9f6d8>"
      ]
     },
     "metadata": {},
     "output_type": "display_data"
    }
   ],
   "source": [
    "fig = plt.figure(figsize=(6,6))\n",
    "venn3([set(test_2d_links), set(test_lsi_recs), set(test_lda_recs)],\\\n",
    "      ('Linked Articles', 'LSI', 'LDA'));\n",
    "plt.title('Example: %s' % (link_df.loc[test_ind, 'title']), fontsize=14)\n",
    "plt.savefig('../figures/dog_biscuit_model_comparison_all_2_link_dist.png', transparent=True)"
   ]
  },
  {
   "cell_type": "code",
   "execution_count": null,
   "metadata": {
    "collapsed": true
   },
   "outputs": [],
   "source": []
  }
 ],
 "metadata": {
  "kernelspec": {
   "display_name": "Python 3",
   "language": "python",
   "name": "python3"
  },
  "language_info": {
   "codemirror_mode": {
    "name": "ipython",
    "version": 3
   },
   "file_extension": ".py",
   "mimetype": "text/x-python",
   "name": "python",
   "nbconvert_exporter": "python",
   "pygments_lexer": "ipython3",
   "version": "3.6.1"
  }
 },
 "nbformat": 4,
 "nbformat_minor": 2
}
