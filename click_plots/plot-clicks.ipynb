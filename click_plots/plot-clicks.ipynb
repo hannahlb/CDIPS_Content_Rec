{
 "cells": [
  {
   "cell_type": "code",
   "execution_count": 1,
   "metadata": {
    "collapsed": true
   },
   "outputs": [],
   "source": [
    "\n",
    "from datetime import datetime\n",
    "import numpy as np\n",
    "import sys\n",
    "\n",
    "start_time=np.datetime64('2017-08-02 02:37:34')\n",
    "\n",
    "# Read lsi:\n",
    "f=open(\"lsi_clicks.txt\",\"r\")\n",
    "\n",
    "lsi_clicks=[]\n",
    "for line in f.readlines():\n",
    "    line=line.strip()\n",
    "    if '2017' in line:\n",
    "        if np.datetime64(line) >= start_time:\n",
    "            lsi_clicks.append(line)\n",
    "f.close()\n",
    "\n",
    "lsi_clicks=np.array(lsi_clicks,dtype='datetime64')\n",
    "\n",
    "# Read lda:\n",
    "f=open(\"lda_clicks.txt\",\"r\")\n",
    "\n",
    "lda_clicks=[]\n",
    "for line in f.readlines():\n",
    "    line=line.strip()\n",
    "    if '2017' in line:\n",
    "        if np.datetime64(line) >= start_time:\n",
    "            lda_clicks.append(line)\n",
    "f.close()\n",
    "\n",
    "lda_clicks=np.array(lda_clicks,dtype='datetime64')"
   ]
  },
  {
   "cell_type": "code",
   "execution_count": 2,
   "metadata": {
    "collapsed": true
   },
   "outputs": [],
   "source": [
    "#Get time relative to first in hours:\n",
    "s2h=1./60\n",
    "\n",
    "#Get first timestamp:\n",
    "min_timestamp=np.min(np.append(lsi_clicks,lda_clicks))\n",
    "lsi_rel_clicks=lsi_clicks-min_timestamp\n",
    "lda_rel_clicks=lda_clicks-min_timestamp\n",
    "\n",
    "\n",
    "#Convert to hours:\n",
    "lsi_clicks_h=np.array(lsi_rel_clicks,dtype=np.float)/60.0/60.0\n",
    "lda_clicks_h=np.array(lda_rel_clicks,dtype=np.float)/60.0/60.0\n"
   ]
  },
  {
   "cell_type": "code",
   "execution_count": 3,
   "metadata": {
    "collapsed": true
   },
   "outputs": [],
   "source": [
    "# Y axix is just counts:\n",
    "counts_lsi=[]\n",
    "for i in range(len(lsi_clicks_h)):\n",
    "    counts_lsi.append(i+1)\n",
    "counts_lsi=np.array(counts_lsi)\n",
    "\n",
    "counts_lda=[]\n",
    "for i in range(len(lda_clicks_h)):\n",
    "    counts_lda.append(i+1)\n",
    "counts_lda=np.array(counts_lda)"
   ]
  },
  {
   "cell_type": "code",
   "execution_count": 4,
   "metadata": {
    "collapsed": true
   },
   "outputs": [],
   "source": [
    "from matplotlib import pyplot as plt\n",
    "from matplotlib import dates, rc\n",
    "fig = plt.figure(facecolor='grey')\n",
    "\n",
    "font = {'family' : 'serif',\n",
    "        'weight' : 'medium',\n",
    "        'size'   : 18}\n",
    "\n",
    "rc('font', **font)\n",
    "\n",
    "fig.set_size_inches(4.25,8.34)\n",
    "\n",
    "\n",
    "fig.patch.set_facecolor('grey')\n",
    "\n",
    "ax = fig.add_subplot(111)\n",
    "ax.set_ylabel('Clicks count')\n",
    "ax.set_xlabel('Time (hours)')\n",
    "ax.grid(True)\n",
    "ax.plot(lsi_clicks_h,counts_lsi, linewidth=4, label='LSI', color=\"black\")\n",
    "ax.plot(lda_clicks_h,counts_lda, linewidth=4, label='LDA', color=\"purple\")\n",
    "\n",
    "handles, labels = ax.get_legend_handles_labels()\n",
    "ax.legend(handles, labels)\n",
    "ax.set_facecolor('grey')\n",
    "\n",
    "\n",
    "fig.set_size_inches(8, 4)\n",
    "plt.tight_layout()\n",
    "\n",
    "#plt.show()\n",
    "\n",
    "\n",
    "plt.savefig('ab-testing.png', format='png',dpi=300)"
   ]
  },
  {
   "cell_type": "code",
   "execution_count": null,
   "metadata": {
    "collapsed": true
   },
   "outputs": [],
   "source": []
  },
  {
   "cell_type": "code",
   "execution_count": null,
   "metadata": {
    "collapsed": true
   },
   "outputs": [],
   "source": []
  }
 ],
 "metadata": {
  "kernelspec": {
   "display_name": "Python 3",
   "language": "python",
   "name": "python3"
  },
  "language_info": {
   "codemirror_mode": {
    "name": "ipython",
    "version": 3
   },
   "file_extension": ".py",
   "mimetype": "text/x-python",
   "name": "python",
   "nbconvert_exporter": "python",
   "pygments_lexer": "ipython3",
   "version": "3.6.1"
  }
 },
 "nbformat": 4,
 "nbformat_minor": 2
}
