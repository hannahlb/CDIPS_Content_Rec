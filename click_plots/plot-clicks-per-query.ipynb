{
 "cells": [
  {
   "cell_type": "code",
   "execution_count": 1,
   "metadata": {},
   "outputs": [
    {
     "name": "stdout",
     "output_type": "stream",
     "text": [
      "2017-08-02T16:33:39\n"
     ]
    }
   ],
   "source": [
    "from matplotlib import pyplot as plt\n",
    "from matplotlib import dates\n",
    "from datetime import datetime\n",
    "import numpy as np\n",
    "import sys\n",
    "\n",
    "# Read queries data:\n",
    "f=open(\"all_clicks.txt\",\"r\")\n",
    "\n",
    "query_clicks_lsi=[]\n",
    "query_clicks_lda=[]\n",
    "for line in f.readlines():\n",
    "    tokens=line.split(' ')\n",
    "    model=tokens[0]\n",
    "    query_timestamp=tokens[1]+\" \"+tokens[2]\n",
    "\n",
    "    if ( model == 'LSI'):\n",
    "        query_clicks_lsi.append(query_timestamp)\n",
    "    if ( model == 'LDA'):\n",
    "        query_clicks_lda.append(query_timestamp)\n",
    "f.close()\n",
    "\n",
    "query_clicks_lsi=np.array(query_clicks_lsi,dtype='datetime64')\n",
    "query_clicks_lda=np.array(query_clicks_lda,dtype='datetime64')\n",
    "\n",
    "start_time=min(query_clicks_lsi[0],query_clicks_lda[0])\n",
    "print(start_time)"
   ]
  },
  {
   "cell_type": "code",
   "execution_count": 2,
   "metadata": {
    "collapsed": true
   },
   "outputs": [],
   "source": [
    "# Read lsi:\n",
    "f=open(\"lsi_clicks.txt\",\"r\")\n",
    "\n",
    "lsi_clicks=[]\n",
    "for line in f.readlines():\n",
    "    line=line.strip()\n",
    "    if '2017' in line:\n",
    "        if np.datetime64(line) >= start_time:\n",
    "            lsi_clicks.append(line)\n",
    "f.close()\n",
    "\n",
    "lsi_clicks=np.array(lsi_clicks,dtype='datetime64')\n",
    "\n",
    "# Read lda:\n",
    "f=open(\"lda_clicks.txt\",\"r\")\n",
    "\n",
    "lda_clicks=[]\n",
    "for line in f.readlines():\n",
    "    line=line.strip()\n",
    "    if '2017' in line:\n",
    "        if np.datetime64(line) >= start_time:\n",
    "            lda_clicks.append(line)\n",
    "f.close()\n",
    "\n",
    "lda_clicks=np.array(lda_clicks,dtype='datetime64')\n",
    "\n"
   ]
  },
  {
   "cell_type": "code",
   "execution_count": 3,
   "metadata": {},
   "outputs": [
    {
     "name": "stdout",
     "output_type": "stream",
     "text": [
      "Counts queries LDA: 9\n",
      "Counts clicks LDA : 21\n",
      "Counts queries LSI: 13\n",
      "Counts clicks LDA: 52\n"
     ]
    }
   ],
   "source": [
    "# Count clicks\n",
    "count_query_lda=len(query_clicks_lda)\n",
    "count_query_lsi=len(query_clicks_lsi)\n",
    "count_lda_clicks=len(lda_clicks)\n",
    "count_lsi_clicks=len(lsi_clicks)\n",
    "\n",
    "# Get clicks per query\n",
    "clicks_per_query_lda=count_lda_clicks/count_query_lda\n",
    "clicks_per_query_lsi=count_lsi_clicks/count_query_lsi\n",
    "\n",
    "print(\"Counts queries LDA: {}\".format(count_query_lda))\n",
    "print(\"Counts clicks LDA : {}\".format(count_lda_clicks))\n",
    "print(\"Counts queries LSI: {}\".format(count_query_lsi))\n",
    "print(\"Counts clicks LDA: {}\".format(count_lsi_clicks))"
   ]
  },
  {
   "cell_type": "code",
   "execution_count": 4,
   "metadata": {},
   "outputs": [
    {
     "data": {
      "image/png": "[encoded data removed]",
      "text/plain": [
       "<matplotlib.figure.Figure at 0x1133499b0>"
      ]
     },
     "metadata": {},
     "output_type": "display_data"
    }
   ],
   "source": [
    "import seaborn as sns\n",
    "\n",
    "plt.rcParams['text.usetex'] = True\n",
    "plt.rcParams['text.latex.unicode'] = True\n",
    "\n",
    "plt.rcParams.update({'font.size': 24})\n",
    "\n",
    "fig, ax = plt.subplots()\n",
    "#plt.subplots_adjust(left=0.2,right=1.0,bottom=0.2,top=0.9)\n",
    "#fig.set_size_inches(3.3,2.6)\n",
    "\n",
    "\n",
    "ind = np.arange(1, 3)\n",
    "clicks_per_query=[clicks_per_query_lda,clicks_per_query_lsi]\n",
    "models=[\"LDA\",\"LSI\"]\n",
    "\n",
    "f1,f2 = plt.bar(ind, clicks_per_query,color=sns.color_palette(\"cubehelix\", len(ind)))\n",
    "ax.set_xticks(ind)\n",
    "ax.set_xticklabels(models,rotation=0)\n",
    "ax.set_ylabel('Clicks per query')\n",
    "\n",
    "fig.facecolor=\"white\"\n",
    "plt.show()\n",
    "#fig.savefig('FIG3.pdf', dpi=300)\n",
    "\n"
   ]
  },
  {
   "cell_type": "code",
   "execution_count": null,
   "metadata": {
    "collapsed": true
   },
   "outputs": [],
   "source": []
  }
 ],
 "metadata": {
  "kernelspec": {
   "display_name": "Python 3",
   "language": "python",
   "name": "python3"
  },
  "language_info": {
   "codemirror_mode": {
    "name": "ipython",
    "version": 3
   },
   "file_extension": ".py",
   "mimetype": "text/x-python",
   "name": "python",
   "nbconvert_exporter": "python",
   "pygments_lexer": "ipython3",
   "version": "3.6.1"
  }
 },
 "nbformat": 4,
 "nbformat_minor": 2
}
