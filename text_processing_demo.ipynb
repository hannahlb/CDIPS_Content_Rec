{
 "cells": [
  {
   "cell_type": "code",
   "execution_count": 12,
   "metadata": {
    "collapsed": true
   },
   "outputs": [],
   "source": [
    "import os, sys\n",
    "import re\n",
    "import nltk\n",
    "import xml.etree.ElementTree as ET\n",
    "sys.path.insert(0, 'scripts')\n",
    "from WikiPage import WikiPage"
   ]
  },
  {
   "cell_type": "code",
   "execution_count": 2,
   "metadata": {
    "collapsed": true
   },
   "outputs": [],
   "source": [
    "os.chdir('data')\n",
    "xmlfile = 'Wikipedia-20170717213140.xml'"
   ]
  },
  {
   "cell_type": "code",
   "execution_count": 3,
   "metadata": {
    "collapsed": true
   },
   "outputs": [],
   "source": [
    "tree = ET.parse(xmlfile)\n",
    "root = tree.getroot()"
   ]
  },
  {
   "cell_type": "code",
   "execution_count": 4,
   "metadata": {
    "collapsed": true
   },
   "outputs": [],
   "source": [
    "test_index = 85\n",
    "test = WikiPage(root[test_index])"
   ]
  },
  {
   "cell_type": "code",
   "execution_count": 5,
   "metadata": {},
   "outputs": [
    {
     "data": {
      "text/html": [
       "<div>\n",
       "<style>\n",
       "    .dataframe thead tr:only-child th {\n",
       "        text-align: right;\n",
       "    }\n",
       "\n",
       "    .dataframe thead th {\n",
       "        text-align: left;\n",
       "    }\n",
       "\n",
       "    .dataframe tbody tr th {\n",
       "        vertical-align: top;\n",
       "    }\n",
       "</style>\n",
       "<table border=\"1\" class=\"dataframe\">\n",
       "  <thead>\n",
       "    <tr style=\"text-align: right;\">\n",
       "      <th></th>\n",
       "      <th>website</th>\n",
       "      <th>page_type</th>\n",
       "      <th>text_raw</th>\n",
       "    </tr>\n",
       "  </thead>\n",
       "  <tbody>\n",
       "    <tr>\n",
       "      <th>53486800</th>\n",
       "      <td>https://en.wikipedia.org/wiki/File:Hawaiian_Po...</td>\n",
       "      <td>file</td>\n",
       "      <td>== Summary ==\\n{{Non-free use rationale \\n| Ar...</td>\n",
       "    </tr>\n",
       "  </tbody>\n",
       "</table>\n",
       "</div>"
      ],
      "text/plain": [
       "                                                    website page_type  \\\n",
       "53486800  https://en.wikipedia.org/wiki/File:Hawaiian_Po...      file   \n",
       "\n",
       "                                                   text_raw  \n",
       "53486800  == Summary ==\\n{{Non-free use rationale \\n| Ar...  "
      ]
     },
     "execution_count": 5,
     "metadata": {},
     "output_type": "execute_result"
    }
   ],
   "source": [
    "test.data"
   ]
  },
  {
   "cell_type": "code",
   "execution_count": 10,
   "metadata": {
    "collapsed": true
   },
   "outputs": [],
   "source": [
    "def clean_raw_text(text_raw, searchstr='{{.+}}'):\n",
    "    m = re.search(searchstr, text_raw)\n",
    "    if m:\n",
    "        text_raw = text_raw.replace(m.group(), '')\n",
    "        text_raw = clean_raw_text(text_raw)\n",
    "    return text_raw"
   ]
  },
  {
   "cell_type": "code",
   "execution_count": 18,
   "metadata": {},
   "outputs": [
    {
     "data": {
      "text/plain": [
       "'== summary ==\\n{{non-free use rationale \\n| article           = hawaiian poi dog\\n| description       =female bred in jack l. throp\\'s program at the honolulu zoo to reconstitute the early hawaiian breed. photo courtesy of \\'\\'the honolulu advertiser\\'\\'. \\n| source            ={{cite journal|last1=titcomb|first1=margaret|last2=pukui|first2=mary kawena|title=dog and man in the ancient pacific, with special attention to hawaii|volume=59|year=1969|publisher=bernice p. bishop museum special publications|location=honolulu|oclc=925631874|page=23}}\\n| portion           = entire\\n| low resolution    = yes  \\n| purpose           = the photo is only being used for informational purposes. its inclusion in the article adds significantly to the article because the photo and its historical significance are the object of discussion in the article.\\n| replaceability    = \\nas the subject is deceased, and the program has discontinued, no free equivalent could reasonably be obtained or created to replace this media. \\n| other information = \\n*the use of this image on wikipedia is contended to be a fair use, since it is used solely for educational purposes in a not-for-profit encyclopedia, is necessary for cultural and historical purposes, and the material value of the possible copyright is not believed to be lessened by its use here\\n*it is believed that the use of this image on the english-language wikipedia to illustrate an article on the person in question falls under the \"non-profit educational\" clause of the fair use doctrine currently upheld by united states law. ([http://www.law.cornell.edu/uscode/html/uscode17/usc_sec_17_00000107----000-.html 17 u.s.c. § 107])\\n*it is a low resolution copy\\n*it is only being used to illustrate the article in question\\n*the image is irreplaceable; a free analogue is impossible to produce as the original will be covered by copyright for the foreseeable future\\n*owing to the limited web-resolution of the image, only a small portion of a copyrighted work is used\\n*it does not limit the copyright owner\\'s rights to sell the image in any way\\n*for the same reasons, the portion of the copyrighted work used is of inherently lower quality than the original, reducing the risk of competitiveness and therefore the effects of this copy on the market for or value of versions held by the owner of the copyright\\n}}\\n\\n== licensing ==\\n{{non-free historic image|image has rationale=yes}}\\n\\n[[category:hawaii]]\\n[[category:dogs]]'"
      ]
     },
     "execution_count": 18,
     "metadata": {},
     "output_type": "execute_result"
    }
   ],
   "source": [
    "text = test.text_raw.lower()\n",
    "text"
   ]
  },
  {
   "cell_type": "code",
   "execution_count": 25,
   "metadata": {},
   "outputs": [
    {
     "data": {
      "text/plain": [
       "'\\n{{non-free use rationale \\n| article           = hawaiian poi dog\\n| description       =female bred in jack l. throp\\'s program at the honolulu zoo to reconstitute the early hawaiian breed. photo courtesy of \\'\\'the honolulu advertiser\\'\\'. \\n| source            =\\n| portion           = entire\\n| low resolution    = yes  \\n| purpose           = the photo is only being used for informational purposes. its inclusion in the article adds significantly to the article because the photo and its historical significance are the object of discussion in the article.\\n| replaceability    = \\nas the subject is deceased, and the program has discontinued, no free equivalent could reasonably be obtained or created to replace this media. \\n| other information = \\n*the use of this image on wikipedia is contended to be a fair use, since it is used solely for educational purposes in a not-for-profit encyclopedia, is necessary for cultural and historical purposes, and the material value of the possible copyright is not believed to be lessened by its use here\\n*it is believed that the use of this image on the english-language wikipedia to illustrate an article on the person in question falls under the \"non-profit educational\" clause of the fair use doctrine currently upheld by united states law. ([http://www.law.cornell.edu/uscode/html/uscode17/usc_sec_17_00000107----000-.html 17 u.s.c. § 107])\\n*it is a low resolution copy\\n*it is only being used to illustrate the article in question\\n*the image is irreplaceable; a free analogue is impossible to produce as the original will be covered by copyright for the foreseeable future\\n*owing to the limited web-resolution of the image, only a small portion of a copyrighted work is used\\n*it does not limit the copyright owner\\'s rights to sell the image in any way\\n*for the same reasons, the portion of the copyrighted work used is of inherently lower quality than the original, reducing the risk of competitiveness and therefore the effects of this copy on the market for or value of versions held by the owner of the copyright\\n}}\\n\\n== licensing ==\\n\\n\\n[[category:hawaii]]\\n[[category:dogs]]'"
      ]
     },
     "execution_count": 25,
     "metadata": {},
     "output_type": "execute_result"
    }
   ],
   "source": [
    "clean_text = clean_raw_text(text)\n",
    "clean_text = clean_raw_text(clean_text, searchstr='== .+ ==')\n",
    "clean_text = clean_raw_text(clean_text, searchstr='[[category.+]]')\n",
    "clean_text"
   ]
  },
  {
   "cell_type": "code",
   "execution_count": 22,
   "metadata": {},
   "outputs": [
    {
     "name": "stdout",
     "output_type": "stream",
     "text": [
      "['summary', 'non', 'free', 'use', 'rationale', 'article', 'hawaiian', 'poi', 'dog', 'description', 'female', 'bred', 'in', 'jack', 'l', 'throp', 's', 'program', 'at', 'the', 'honolulu', 'zoo', 'to', 'reconstitute', 'the', 'early', 'hawaiian', 'breed', 'photo', 'courtesy', 'of', 'the', 'honolulu', 'advertiser', 'source', 'portion', 'entire', 'low', 'resolution', 'yes', 'purpose', 'the', 'photo', 'is', 'only', 'being', 'used', 'for', 'informational', 'purposes', 'its', 'inclusion', 'in', 'the', 'article', 'adds', 'significantly', 'to', 'the', 'article', 'because', 'the', 'photo', 'and', 'its', 'historical', 'significance', 'are', 'the', 'object', 'of', 'discussion', 'in', 'the', 'article', 'replaceability', 'as', 'the', 'subject', 'is', 'deceased', 'and', 'the', 'program', 'has', 'discontinued', 'no', 'free', 'equivalent', 'could', 'reasonably', 'be', 'obtained', 'or', 'created', 'to', 'replace', 'this', 'media', 'other', 'information', 'the', 'use', 'of', 'this', 'image', 'on', 'wikipedia', 'is', 'contended', 'to', 'be', 'a', 'fair', 'use', 'since', 'it', 'is', 'used', 'solely', 'for', 'educational', 'purposes', 'in', 'a', 'not', 'for', 'profit', 'encyclopedia', 'is', 'necessary', 'for', 'cultural', 'and', 'historical', 'purposes', 'and', 'the', 'material', 'value', 'of', 'the', 'possible', 'copyright', 'is', 'not', 'believed', 'to', 'be', 'lessened', 'by', 'its', 'use', 'here', 'it', 'is', 'believed', 'that', 'the', 'use', 'of', 'this', 'image', 'on', 'the', 'english', 'language', 'wikipedia', 'to', 'illustrate', 'an', 'article', 'on', 'the', 'person', 'in', 'question', 'falls', 'under', 'the', 'non', 'profit', 'educational', 'clause', 'of', 'the', 'fair', 'use', 'doctrine', 'currently', 'upheld', 'by', 'united', 'states', 'law', 'http', 'www', 'law', 'cornell', 'edu', 'uscode', 'html', 'uscode17', 'usc_sec_17_00000107', '000', 'html', '17', 'u', 's', 'c', '107', 'it', 'is', 'a', 'low', 'resolution', 'copy', 'it', 'is', 'only', 'being', 'used', 'to', 'illustrate', 'the', 'article', 'in', 'question', 'the', 'image', 'is', 'irreplaceable', 'a', 'free', 'analogue', 'is', 'impossible', 'to', 'produce', 'as', 'the', 'original', 'will', 'be', 'covered', 'by', 'copyright', 'for', 'the', 'foreseeable', 'future', 'owing', 'to', 'the', 'limited', 'web', 'resolution', 'of', 'the', 'image', 'only', 'a', 'small', 'portion', 'of', 'a', 'copyrighted', 'work', 'is', 'used', 'it', 'does', 'not', 'limit', 'the', 'copyright', 'owner', 's', 'rights', 'to', 'sell', 'the', 'image', 'in', 'any', 'way', 'for', 'the', 'same', 'reasons', 'the', 'portion', 'of', 'the', 'copyrighted', 'work', 'used', 'is', 'of', 'inherently', 'lower', 'quality', 'than', 'the', 'original', 'reducing', 'the', 'risk', 'of', 'competitiveness', 'and', 'therefore', 'the', 'effects', 'of', 'this', 'copy', 'on', 'the', 'market', 'for', 'or', 'value', 'of', 'versions', 'held', 'by', 'the', 'owner', 'of', 'the', 'copyright', 'licensing', 'category', 'hawaii', 'category', 'dogs']\n"
     ]
    }
   ],
   "source": [
    "tokenizer = nltk.RegexpTokenizer(r'\\w+')\n",
    "ttext = tokenizer.tokenize(clean_text)\n",
    "print(ttext)"
   ]
  },
  {
   "cell_type": "code",
   "execution_count": null,
   "metadata": {
    "collapsed": true
   },
   "outputs": [],
   "source": []
  }
 ],
 "metadata": {
  "kernelspec": {
   "display_name": "Python 3",
   "language": "python",
   "name": "python3"
  },
  "language_info": {
   "codemirror_mode": {
    "name": "ipython",
    "version": 3
   },
   "file_extension": ".py",
   "mimetype": "text/x-python",
   "name": "python",
   "nbconvert_exporter": "python",
   "pygments_lexer": "ipython3",
   "version": "3.6.1"
  }
 },
 "nbformat": 4,
 "nbformat_minor": 2
}
